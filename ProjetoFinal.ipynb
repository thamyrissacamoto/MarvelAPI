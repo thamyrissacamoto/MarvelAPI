{
  "nbformat": 4,
  "nbformat_minor": 0,
  "metadata": {
    "colab": {
      "provenance": []
    },
    "kernelspec": {
      "name": "python3",
      "display_name": "Python 3"
    },
    "language_info": {
      "name": "python"
    }
  },
  "cells": [
    {
      "cell_type": "code",
      "source": [
        "import requests\n",
        "import hashlib\n",
        "import time\n",
        "import pandas as pd\n",
        "from pprint import pprint as pp\n",
        "\n",
        "PUBLIC_KEY = \"X\"\n",
        "PRIVATE_KEY = \"Y\"\n",
        "\n",
        "ts = str(time.time())\n",
        "to_hash = ts + PRIVATE_KEY + PUBLIC_KEY\n",
        "hash_md5 = hashlib.md5(to_hash.encode()).hexdigest()\n",
        "\n",
        "end1 = \"https://gateway.marvel.com/v1/public/characters\"\n",
        "end2 = \"https://gateway.marvel.com/v1/public/comics\"\n",
        "end3 = \"https://gateway.marvel.com/v1/public/books\"\n",
        "\n",
        "\n",
        "params = {\n",
        "    \"apikey\": PUBLIC_KEY,\n",
        "    \"ts\": ts,\n",
        "    \"hash\": hash_md5,\n",
        "    \"limit\": 10\n",
        "}\n",
        "\n",
        "response = requests.get(end1, params=params)\n",
        "\n",
        "data = response.json()\n",
        "pp(data)\n"
      ],
      "metadata": {
        "colab": {
          "base_uri": "https://localhost:8080/"
        },
        "id": "BdgMLv0tTi1S",
        "outputId": "57641d14-d77d-4e14-bd38-52a21cd7c7c2"
      },
      "execution_count": 41,
      "outputs": [
        {
          "output_type": "stream",
          "name": "stdout",
          "text": [
            "{'code': 'ImATeapotError',\n",
            " 'message': 'I am a teapot: Error: Server not available'}\n"
          ]
        }
      ]
    },
    {
      "cell_type": "code",
      "source": [],
      "metadata": {
        "id": "ulG12m04al-Z"
      },
      "execution_count": null,
      "outputs": []
    }
  ]
}