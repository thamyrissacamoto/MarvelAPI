{
  "cells": [
    {
      "cell_type": "code",
      "execution_count": 1,
      "metadata": {
        "collapsed": true,
        "id": "uwlN1rOzc824"
      },
      "outputs": [],
      "source": [
        "import os\n",
        "from google.colab import userdata\n",
        "import requests\n",
        "import hashlib\n",
        "import time\n",
        "import pandas as pd\n",
        "from tqdm import tqdm\n",
        "from pprint import pprint as pp\n",
        "\n",
        "public_key=userdata.get('public_key')\n",
        "private_key=userdata.get('private_key')\n",
        "\n",
        "\n",
        "ts = str(time.time())\n",
        "to_hash = ts + str(private_key) + str(public_key)\n",
        "hash_md5 = hashlib.md5(to_hash.encode('utf-8')).hexdigest()\n",
        "\n",
        "characters = \"https://gateway.marvel.com/v1/public/characters\"\n",
        "comics = \"https://gateway.marvel.com/v1/public/comics\"\n",
        "creators = \"https://gateway.marvel.com/v1/public/creators\"\n",
        "events = \"https://gateway.marvel.com/v1/public/events\"\n",
        "stories = \"https://gateway.marvel.com/v1/public/stories\"\n",
        "series = \"https://gateway.marvel.com/v1/public/series\"\n",
        "\n",
        "params = {\n",
        "    \"ts\": ts,\n",
        "    \"apikey\": public_key,\n",
        "    \"hash\": hash_md5,\n",
        "    \"limit\": 100\n",
        "}\n",
        "\n",
        "\n"
      ]
    },
    {
      "cell_type": "markdown",
      "metadata": {
        "id": "j0OOTThFCl8s"
      },
      "source": [
        "# FUNCTIONS"
      ]
    },
    {
      "cell_type": "code",
      "execution_count": 2,
      "metadata": {
        "id": "TtxEhxwcCoou"
      },
      "outputs": [],
      "source": [
        "def get_data(url, public_key, private_key, limit_num, offset_num):\n",
        "  '''\n",
        "  url: link de requisição da API\n",
        "  public_key: chave pública gerada pela API da marvel\n",
        "  private_key: chave privada gerada pela API da marvel\n",
        "  limit_num: quantidade de linhas que serão pegas ao realizar requisição\n",
        "  offset_num: disposição em relação a posição inicial\n",
        "\n",
        "  return: df_normalizado: Dataframe somente com dados necessários da API\n",
        "  '''\n",
        "\n",
        "\n",
        "  ts = str(time.time())\n",
        "  to_hash = ts + str(private_key) + str(public_key)\n",
        "  hash_md5 = hashlib.md5(to_hash.encode('utf-8')).hexdigest()\n",
        "\n",
        "  params = {\n",
        "    \"ts\": ts,\n",
        "    \"apikey\": public_key,\n",
        "    \"hash\": hash_md5,\n",
        "    \"limit\": limit_num,\n",
        "    \"offset\": offset_num\n",
        "  }\n",
        "\n",
        "  response = requests.get(url, params=params)\n",
        "  data = response.json()\n",
        "\n",
        "  df_normalizado = pd.json_normalize(data[\"data\"][\"results\"])\n",
        "\n",
        "\n",
        "\n",
        "  return df_normalizado"
      ]
    },
    {
      "cell_type": "code",
      "execution_count": 3,
      "metadata": {
        "id": "MKfJjmLrhdQ-"
      },
      "outputs": [],
      "source": [
        "def get_data_and_total(url, public_key, private_key, limit_num, offset_num):\n",
        "  '''\n",
        "  url: link de requisição da API\n",
        "  public_key: chave pública gerada pela API da marvel\n",
        "  private_key: chave privada gerada pela API da marvel\n",
        "  limit_num: quantidade de linhas que serão pegas ao realizar requisição\n",
        "  offset_num: disposição em relação a posição inicial\n",
        "\n",
        "  return: df_normalizado: Dataframe somente com dados necessários da API\n",
        "  df[\"data\"][\"total\"]: quantidade total de linhas na API\n",
        "  '''\n",
        "\n",
        "  ts = str(time.time())\n",
        "  to_hash = ts + str(private_key) + str(public_key)\n",
        "  hash_md5 = hashlib.md5(to_hash.encode('utf-8')).hexdigest()\n",
        "\n",
        "  params = {\n",
        "    \"ts\": ts,\n",
        "    \"apikey\": public_key,\n",
        "    \"hash\": hash_md5,\n",
        "    \"limit\": limit_num,\n",
        "    \"offset\": offset_num\n",
        "  }\n",
        "\n",
        "  response = requests.get(url, params=params)\n",
        "  data = response.json()\n",
        "  df = pd.DataFrame(data)\n",
        "  df_normalizado = pd.json_normalize(df[\"data\"][\"results\"])\n",
        "  return df_normalizado, df[\"data\"][\"total\"]"
      ]
    },
    {
      "cell_type": "code",
      "execution_count": 4,
      "metadata": {
        "id": "hgEYvHJcgifg"
      },
      "outputs": [],
      "source": [
        "def get_all_data(url):\n",
        "  '''\n",
        "  url: link de requisição da API\n",
        "  return: retorna todos os dados da API inserida\n",
        "  '''\n",
        "\n",
        "  partial_data, total_amount = get_data_and_total(url, public_key, private_key, 100, 0)\n",
        "  #Cria df de todos os dados com colunas\n",
        "  all_data = pd.DataFrame(columns=partial_data.columns)\n",
        "\n",
        "  step = 100\n",
        "  total_steps = (total_amount + step - 1) // step\n",
        "\n",
        "  offset_get_all = 0\n",
        "\n",
        "\n",
        "  for offset in tqdm(range(0, total_steps * step, step), desc=\"Baixando dados da Marvel\"):\n",
        "\n",
        "    try:\n",
        "      batch_data = get_data(url, public_key, private_key, step, offset)\n",
        "      all_data = pd.concat([all_data, batch_data], ignore_index=True)\n",
        "    except KeyError:\n",
        "      pass\n",
        "\n",
        "  return all_data\n"
      ]
    },
    {
      "cell_type": "code",
      "execution_count": 5,
      "metadata": {
        "id": "bnMiCY13RqHO"
      },
      "outputs": [],
      "source": [
        "def get_all_data_faster(url):\n",
        "  '''\n",
        "  url: link de requisição da API\n",
        "  return: retorna todos os dados da API inserida\n",
        "  '''\n",
        "\n",
        "  partial_data, total_amount = get_data_and_total(url, public_key, private_key, 100, 0)\n",
        "  #Cria df de todos os dados com colunas\n",
        "  all_data = pd.DataFrame(columns=partial_data.columns)\n",
        "\n",
        "  step = 100\n",
        "  total_steps = (total_amount + step - 1) // step\n",
        "\n",
        "  offset_get_all = 0\n",
        "\n",
        "  all_batch = []\n",
        "\n",
        "  for offset in tqdm(range(0, total_steps * step, step), desc=\"Baixando dados da Marvel\"):\n",
        "\n",
        "    try:\n",
        "      batch_data = get_data(url, public_key, private_key, step, offset)\n",
        "      all_batch.append(batch_data)\n",
        "    except (KeyError, TypeError, ValueError) as e:\n",
        "      print(f\"Erro no offset {offset}: {e}\")\n",
        "      all_batch.append(pd.DataFrame())\n",
        "\n",
        "  all_data = pd.concat(all_batch, ignore_index=True)\n",
        "  return all_data\n"
      ]
    },
    {
      "cell_type": "markdown",
      "metadata": {
        "id": "IQxWGHt27uDo"
      },
      "source": [
        "# CHARACTERS"
      ]
    },
    {
      "cell_type": "code",
      "execution_count": null,
      "metadata": {
        "id": "mfaKpNC1G8so"
      },
      "outputs": [],
      "source": [
        "limit_num = 100\n",
        "offset_num = 0\n",
        "\n",
        "personagens = get_data(characters, public_key, private_key, limit_num, offset_num)"
      ]
    },
    {
      "cell_type": "code",
      "execution_count": null,
      "metadata": {
        "colab": {
          "base_uri": "https://localhost:8080/"
        },
        "id": "GTsuoT5MHKBH",
        "outputId": "9de7c5f9-6497-4a05-8b6f-d2047a53bbc6"
      },
      "outputs": [
        {
          "data": {
            "text/plain": [
              "Index(['id', 'name', 'description', 'modified', 'resourceURI', 'urls',\n",
              "       'thumbnail.path', 'thumbnail.extension', 'comics.available',\n",
              "       'comics.collectionURI', 'comics.items', 'comics.returned',\n",
              "       'series.available', 'series.collectionURI', 'series.items',\n",
              "       'series.returned', 'stories.available', 'stories.collectionURI',\n",
              "       'stories.items', 'stories.returned', 'events.available',\n",
              "       'events.collectionURI', 'events.items', 'events.returned'],\n",
              "      dtype='object')"
            ]
          },
          "execution_count": 15,
          "metadata": {},
          "output_type": "execute_result"
        }
      ],
      "source": [
        "personagens.columns"
      ]
    },
    {
      "cell_type": "code",
      "execution_count": null,
      "metadata": {
        "colab": {
          "base_uri": "https://localhost:8080/",
          "height": 499
        },
        "id": "strqLCmlHLio",
        "outputId": "9bb7d5d6-2676-4916-cb57-74a0e1a9fc57"
      },
      "outputs": [
        {
          "data": {
            "application/vnd.google.colaboratory.intrinsic+json": {
              "type": "dataframe",
              "variable_name": "personagens"
            },
            "text/html": [
              "\n",
              "  <div id=\"df-86579482-3db3-4ac3-92a5-d371d8179d48\" class=\"colab-df-container\">\n",
              "    <div>\n",
              "<style scoped>\n",
              "    .dataframe tbody tr th:only-of-type {\n",
              "        vertical-align: middle;\n",
              "    }\n",
              "\n",
              "    .dataframe tbody tr th {\n",
              "        vertical-align: top;\n",
              "    }\n",
              "\n",
              "    .dataframe thead th {\n",
              "        text-align: right;\n",
              "    }\n",
              "</style>\n",
              "<table border=\"1\" class=\"dataframe\">\n",
              "  <thead>\n",
              "    <tr style=\"text-align: right;\">\n",
              "      <th></th>\n",
              "      <th>id</th>\n",
              "      <th>name</th>\n",
              "      <th>description</th>\n",
              "      <th>modified</th>\n",
              "      <th>resourceURI</th>\n",
              "      <th>urls</th>\n",
              "      <th>thumbnail.path</th>\n",
              "      <th>thumbnail.extension</th>\n",
              "      <th>comics.available</th>\n",
              "      <th>comics.collectionURI</th>\n",
              "      <th>...</th>\n",
              "      <th>series.items</th>\n",
              "      <th>series.returned</th>\n",
              "      <th>stories.available</th>\n",
              "      <th>stories.collectionURI</th>\n",
              "      <th>stories.items</th>\n",
              "      <th>stories.returned</th>\n",
              "      <th>events.available</th>\n",
              "      <th>events.collectionURI</th>\n",
              "      <th>events.items</th>\n",
              "      <th>events.returned</th>\n",
              "    </tr>\n",
              "  </thead>\n",
              "  <tbody>\n",
              "    <tr>\n",
              "      <th>0</th>\n",
              "      <td>1011334</td>\n",
              "      <td>3-D Man</td>\n",
              "      <td></td>\n",
              "      <td>2014-04-29T14:18:17+0000</td>\n",
              "      <td>https://gateway.marvel.com/v1/public/character...</td>\n",
              "      <td>[{'type': 'detail', 'url': 'http://marvel.com/...</td>\n",
              "      <td>http://i.annihil.us/u/prod/marvel/i/mg/c/e0/53...</td>\n",
              "      <td>jpg</td>\n",
              "      <td>12</td>\n",
              "      <td>https://gateway.marvel.com/v1/public/character...</td>\n",
              "      <td>...</td>\n",
              "      <td>[{'resourceURI': 'https://gateway.marvel.com/v...</td>\n",
              "      <td>3</td>\n",
              "      <td>21</td>\n",
              "      <td>https://gateway.marvel.com/v1/public/character...</td>\n",
              "      <td>[{'resourceURI': 'https://gateway.marvel.com/v...</td>\n",
              "      <td>20</td>\n",
              "      <td>1</td>\n",
              "      <td>https://gateway.marvel.com/v1/public/character...</td>\n",
              "      <td>[{'resourceURI': 'https://gateway.marvel.com/v...</td>\n",
              "      <td>1</td>\n",
              "    </tr>\n",
              "    <tr>\n",
              "      <th>1</th>\n",
              "      <td>1017100</td>\n",
              "      <td>A-Bomb (HAS)</td>\n",
              "      <td>Rick Jones has been Hulk's best bud since day ...</td>\n",
              "      <td>2013-09-18T15:54:04+0000</td>\n",
              "      <td>https://gateway.marvel.com/v1/public/character...</td>\n",
              "      <td>[{'type': 'detail', 'url': 'http://marvel.com/...</td>\n",
              "      <td>http://i.annihil.us/u/prod/marvel/i/mg/3/20/52...</td>\n",
              "      <td>jpg</td>\n",
              "      <td>4</td>\n",
              "      <td>https://gateway.marvel.com/v1/public/character...</td>\n",
              "      <td>...</td>\n",
              "      <td>[{'resourceURI': 'https://gateway.marvel.com/v...</td>\n",
              "      <td>2</td>\n",
              "      <td>7</td>\n",
              "      <td>https://gateway.marvel.com/v1/public/character...</td>\n",
              "      <td>[{'resourceURI': 'https://gateway.marvel.com/v...</td>\n",
              "      <td>7</td>\n",
              "      <td>0</td>\n",
              "      <td>https://gateway.marvel.com/v1/public/character...</td>\n",
              "      <td>[]</td>\n",
              "      <td>0</td>\n",
              "    </tr>\n",
              "    <tr>\n",
              "      <th>2</th>\n",
              "      <td>1009144</td>\n",
              "      <td>A.I.M.</td>\n",
              "      <td>AIM is a terrorist organization bent on destro...</td>\n",
              "      <td>2013-10-17T14:41:30+0000</td>\n",
              "      <td>https://gateway.marvel.com/v1/public/character...</td>\n",
              "      <td>[{'type': 'detail', 'url': 'http://marvel.com/...</td>\n",
              "      <td>http://i.annihil.us/u/prod/marvel/i/mg/6/20/52...</td>\n",
              "      <td>jpg</td>\n",
              "      <td>53</td>\n",
              "      <td>https://gateway.marvel.com/v1/public/character...</td>\n",
              "      <td>...</td>\n",
              "      <td>[{'resourceURI': 'https://gateway.marvel.com/v...</td>\n",
              "      <td>20</td>\n",
              "      <td>61</td>\n",
              "      <td>https://gateway.marvel.com/v1/public/character...</td>\n",
              "      <td>[{'resourceURI': 'https://gateway.marvel.com/v...</td>\n",
              "      <td>20</td>\n",
              "      <td>0</td>\n",
              "      <td>https://gateway.marvel.com/v1/public/character...</td>\n",
              "      <td>[]</td>\n",
              "      <td>0</td>\n",
              "    </tr>\n",
              "    <tr>\n",
              "      <th>3</th>\n",
              "      <td>1010699</td>\n",
              "      <td>Aaron Stack</td>\n",
              "      <td></td>\n",
              "      <td>1970-01-01T00:00:00+0000</td>\n",
              "      <td>https://gateway.marvel.com/v1/public/character...</td>\n",
              "      <td>[{'type': 'detail', 'url': 'http://marvel.com/...</td>\n",
              "      <td>http://i.annihil.us/u/prod/marvel/i/mg/b/40/im...</td>\n",
              "      <td>jpg</td>\n",
              "      <td>14</td>\n",
              "      <td>https://gateway.marvel.com/v1/public/character...</td>\n",
              "      <td>...</td>\n",
              "      <td>[{'resourceURI': 'https://gateway.marvel.com/v...</td>\n",
              "      <td>3</td>\n",
              "      <td>28</td>\n",
              "      <td>https://gateway.marvel.com/v1/public/character...</td>\n",
              "      <td>[{'resourceURI': 'https://gateway.marvel.com/v...</td>\n",
              "      <td>20</td>\n",
              "      <td>0</td>\n",
              "      <td>https://gateway.marvel.com/v1/public/character...</td>\n",
              "      <td>[]</td>\n",
              "      <td>0</td>\n",
              "    </tr>\n",
              "    <tr>\n",
              "      <th>4</th>\n",
              "      <td>1009146</td>\n",
              "      <td>Abomination (Emil Blonsky)</td>\n",
              "      <td>Formerly known as Emil Blonsky, a spy of Sovie...</td>\n",
              "      <td>2014-06-27T19:39:07+0000</td>\n",
              "      <td>https://gateway.marvel.com/v1/public/character...</td>\n",
              "      <td>[{'type': 'detail', 'url': 'http://marvel.com/...</td>\n",
              "      <td>http://i.annihil.us/u/prod/marvel/i/mg/9/50/4c...</td>\n",
              "      <td>jpg</td>\n",
              "      <td>55</td>\n",
              "      <td>https://gateway.marvel.com/v1/public/character...</td>\n",
              "      <td>...</td>\n",
              "      <td>[{'resourceURI': 'https://gateway.marvel.com/v...</td>\n",
              "      <td>20</td>\n",
              "      <td>68</td>\n",
              "      <td>https://gateway.marvel.com/v1/public/character...</td>\n",
              "      <td>[{'resourceURI': 'https://gateway.marvel.com/v...</td>\n",
              "      <td>20</td>\n",
              "      <td>1</td>\n",
              "      <td>https://gateway.marvel.com/v1/public/character...</td>\n",
              "      <td>[{'resourceURI': 'https://gateway.marvel.com/v...</td>\n",
              "      <td>1</td>\n",
              "    </tr>\n",
              "  </tbody>\n",
              "</table>\n",
              "<p>5 rows × 24 columns</p>\n",
              "</div>\n",
              "    <div class=\"colab-df-buttons\">\n",
              "\n",
              "  <div class=\"colab-df-container\">\n",
              "    <button class=\"colab-df-convert\" onclick=\"convertToInteractive('df-86579482-3db3-4ac3-92a5-d371d8179d48')\"\n",
              "            title=\"Convert this dataframe to an interactive table.\"\n",
              "            style=\"display:none;\">\n",
              "\n",
              "  <svg xmlns=\"http://www.w3.org/2000/svg\" height=\"24px\" viewBox=\"0 -960 960 960\">\n",
              "    <path d=\"M120-120v-720h720v720H120Zm60-500h600v-160H180v160Zm220 220h160v-160H400v160Zm0 220h160v-160H400v160ZM180-400h160v-160H180v160Zm440 0h160v-160H620v160ZM180-180h160v-160H180v160Zm440 0h160v-160H620v160Z\"/>\n",
              "  </svg>\n",
              "    </button>\n",
              "\n",
              "  <style>\n",
              "    .colab-df-container {\n",
              "      display:flex;\n",
              "      gap: 12px;\n",
              "    }\n",
              "\n",
              "    .colab-df-convert {\n",
              "      background-color: #E8F0FE;\n",
              "      border: none;\n",
              "      border-radius: 50%;\n",
              "      cursor: pointer;\n",
              "      display: none;\n",
              "      fill: #1967D2;\n",
              "      height: 32px;\n",
              "      padding: 0 0 0 0;\n",
              "      width: 32px;\n",
              "    }\n",
              "\n",
              "    .colab-df-convert:hover {\n",
              "      background-color: #E2EBFA;\n",
              "      box-shadow: 0px 1px 2px rgba(60, 64, 67, 0.3), 0px 1px 3px 1px rgba(60, 64, 67, 0.15);\n",
              "      fill: #174EA6;\n",
              "    }\n",
              "\n",
              "    .colab-df-buttons div {\n",
              "      margin-bottom: 4px;\n",
              "    }\n",
              "\n",
              "    [theme=dark] .colab-df-convert {\n",
              "      background-color: #3B4455;\n",
              "      fill: #D2E3FC;\n",
              "    }\n",
              "\n",
              "    [theme=dark] .colab-df-convert:hover {\n",
              "      background-color: #434B5C;\n",
              "      box-shadow: 0px 1px 3px 1px rgba(0, 0, 0, 0.15);\n",
              "      filter: drop-shadow(0px 1px 2px rgba(0, 0, 0, 0.3));\n",
              "      fill: #FFFFFF;\n",
              "    }\n",
              "  </style>\n",
              "\n",
              "    <script>\n",
              "      const buttonEl =\n",
              "        document.querySelector('#df-86579482-3db3-4ac3-92a5-d371d8179d48 button.colab-df-convert');\n",
              "      buttonEl.style.display =\n",
              "        google.colab.kernel.accessAllowed ? 'block' : 'none';\n",
              "\n",
              "      async function convertToInteractive(key) {\n",
              "        const element = document.querySelector('#df-86579482-3db3-4ac3-92a5-d371d8179d48');\n",
              "        const dataTable =\n",
              "          await google.colab.kernel.invokeFunction('convertToInteractive',\n",
              "                                                    [key], {});\n",
              "        if (!dataTable) return;\n",
              "\n",
              "        const docLinkHtml = 'Like what you see? Visit the ' +\n",
              "          '<a target=\"_blank\" href=https://colab.research.google.com/notebooks/data_table.ipynb>data table notebook</a>'\n",
              "          + ' to learn more about interactive tables.';\n",
              "        element.innerHTML = '';\n",
              "        dataTable['output_type'] = 'display_data';\n",
              "        await google.colab.output.renderOutput(dataTable, element);\n",
              "        const docLink = document.createElement('div');\n",
              "        docLink.innerHTML = docLinkHtml;\n",
              "        element.appendChild(docLink);\n",
              "      }\n",
              "    </script>\n",
              "  </div>\n",
              "\n",
              "\n",
              "    <div id=\"df-07ec8205-fd8e-4d6e-b2f6-358acd36bcf8\">\n",
              "      <button class=\"colab-df-quickchart\" onclick=\"quickchart('df-07ec8205-fd8e-4d6e-b2f6-358acd36bcf8')\"\n",
              "                title=\"Suggest charts\"\n",
              "                style=\"display:none;\">\n",
              "\n",
              "<svg xmlns=\"http://www.w3.org/2000/svg\" height=\"24px\"viewBox=\"0 0 24 24\"\n",
              "     width=\"24px\">\n",
              "    <g>\n",
              "        <path d=\"M19 3H5c-1.1 0-2 .9-2 2v14c0 1.1.9 2 2 2h14c1.1 0 2-.9 2-2V5c0-1.1-.9-2-2-2zM9 17H7v-7h2v7zm4 0h-2V7h2v10zm4 0h-2v-4h2v4z\"/>\n",
              "    </g>\n",
              "</svg>\n",
              "      </button>\n",
              "\n",
              "<style>\n",
              "  .colab-df-quickchart {\n",
              "      --bg-color: #E8F0FE;\n",
              "      --fill-color: #1967D2;\n",
              "      --hover-bg-color: #E2EBFA;\n",
              "      --hover-fill-color: #174EA6;\n",
              "      --disabled-fill-color: #AAA;\n",
              "      --disabled-bg-color: #DDD;\n",
              "  }\n",
              "\n",
              "  [theme=dark] .colab-df-quickchart {\n",
              "      --bg-color: #3B4455;\n",
              "      --fill-color: #D2E3FC;\n",
              "      --hover-bg-color: #434B5C;\n",
              "      --hover-fill-color: #FFFFFF;\n",
              "      --disabled-bg-color: #3B4455;\n",
              "      --disabled-fill-color: #666;\n",
              "  }\n",
              "\n",
              "  .colab-df-quickchart {\n",
              "    background-color: var(--bg-color);\n",
              "    border: none;\n",
              "    border-radius: 50%;\n",
              "    cursor: pointer;\n",
              "    display: none;\n",
              "    fill: var(--fill-color);\n",
              "    height: 32px;\n",
              "    padding: 0;\n",
              "    width: 32px;\n",
              "  }\n",
              "\n",
              "  .colab-df-quickchart:hover {\n",
              "    background-color: var(--hover-bg-color);\n",
              "    box-shadow: 0 1px 2px rgba(60, 64, 67, 0.3), 0 1px 3px 1px rgba(60, 64, 67, 0.15);\n",
              "    fill: var(--button-hover-fill-color);\n",
              "  }\n",
              "\n",
              "  .colab-df-quickchart-complete:disabled,\n",
              "  .colab-df-quickchart-complete:disabled:hover {\n",
              "    background-color: var(--disabled-bg-color);\n",
              "    fill: var(--disabled-fill-color);\n",
              "    box-shadow: none;\n",
              "  }\n",
              "\n",
              "  .colab-df-spinner {\n",
              "    border: 2px solid var(--fill-color);\n",
              "    border-color: transparent;\n",
              "    border-bottom-color: var(--fill-color);\n",
              "    animation:\n",
              "      spin 1s steps(1) infinite;\n",
              "  }\n",
              "\n",
              "  @keyframes spin {\n",
              "    0% {\n",
              "      border-color: transparent;\n",
              "      border-bottom-color: var(--fill-color);\n",
              "      border-left-color: var(--fill-color);\n",
              "    }\n",
              "    20% {\n",
              "      border-color: transparent;\n",
              "      border-left-color: var(--fill-color);\n",
              "      border-top-color: var(--fill-color);\n",
              "    }\n",
              "    30% {\n",
              "      border-color: transparent;\n",
              "      border-left-color: var(--fill-color);\n",
              "      border-top-color: var(--fill-color);\n",
              "      border-right-color: var(--fill-color);\n",
              "    }\n",
              "    40% {\n",
              "      border-color: transparent;\n",
              "      border-right-color: var(--fill-color);\n",
              "      border-top-color: var(--fill-color);\n",
              "    }\n",
              "    60% {\n",
              "      border-color: transparent;\n",
              "      border-right-color: var(--fill-color);\n",
              "    }\n",
              "    80% {\n",
              "      border-color: transparent;\n",
              "      border-right-color: var(--fill-color);\n",
              "      border-bottom-color: var(--fill-color);\n",
              "    }\n",
              "    90% {\n",
              "      border-color: transparent;\n",
              "      border-bottom-color: var(--fill-color);\n",
              "    }\n",
              "  }\n",
              "</style>\n",
              "\n",
              "      <script>\n",
              "        async function quickchart(key) {\n",
              "          const quickchartButtonEl =\n",
              "            document.querySelector('#' + key + ' button');\n",
              "          quickchartButtonEl.disabled = true;  // To prevent multiple clicks.\n",
              "          quickchartButtonEl.classList.add('colab-df-spinner');\n",
              "          try {\n",
              "            const charts = await google.colab.kernel.invokeFunction(\n",
              "                'suggestCharts', [key], {});\n",
              "          } catch (error) {\n",
              "            console.error('Error during call to suggestCharts:', error);\n",
              "          }\n",
              "          quickchartButtonEl.classList.remove('colab-df-spinner');\n",
              "          quickchartButtonEl.classList.add('colab-df-quickchart-complete');\n",
              "        }\n",
              "        (() => {\n",
              "          let quickchartButtonEl =\n",
              "            document.querySelector('#df-07ec8205-fd8e-4d6e-b2f6-358acd36bcf8 button');\n",
              "          quickchartButtonEl.style.display =\n",
              "            google.colab.kernel.accessAllowed ? 'block' : 'none';\n",
              "        })();\n",
              "      </script>\n",
              "    </div>\n",
              "\n",
              "    </div>\n",
              "  </div>\n"
            ],
            "text/plain": [
              "        id                        name  \\\n",
              "0  1011334                     3-D Man   \n",
              "1  1017100                A-Bomb (HAS)   \n",
              "2  1009144                      A.I.M.   \n",
              "3  1010699                 Aaron Stack   \n",
              "4  1009146  Abomination (Emil Blonsky)   \n",
              "\n",
              "                                         description  \\\n",
              "0                                                      \n",
              "1  Rick Jones has been Hulk's best bud since day ...   \n",
              "2  AIM is a terrorist organization bent on destro...   \n",
              "3                                                      \n",
              "4  Formerly known as Emil Blonsky, a spy of Sovie...   \n",
              "\n",
              "                   modified  \\\n",
              "0  2014-04-29T14:18:17+0000   \n",
              "1  2013-09-18T15:54:04+0000   \n",
              "2  2013-10-17T14:41:30+0000   \n",
              "3  1970-01-01T00:00:00+0000   \n",
              "4  2014-06-27T19:39:07+0000   \n",
              "\n",
              "                                         resourceURI  \\\n",
              "0  https://gateway.marvel.com/v1/public/character...   \n",
              "1  https://gateway.marvel.com/v1/public/character...   \n",
              "2  https://gateway.marvel.com/v1/public/character...   \n",
              "3  https://gateway.marvel.com/v1/public/character...   \n",
              "4  https://gateway.marvel.com/v1/public/character...   \n",
              "\n",
              "                                                urls  \\\n",
              "0  [{'type': 'detail', 'url': 'http://marvel.com/...   \n",
              "1  [{'type': 'detail', 'url': 'http://marvel.com/...   \n",
              "2  [{'type': 'detail', 'url': 'http://marvel.com/...   \n",
              "3  [{'type': 'detail', 'url': 'http://marvel.com/...   \n",
              "4  [{'type': 'detail', 'url': 'http://marvel.com/...   \n",
              "\n",
              "                                      thumbnail.path thumbnail.extension  \\\n",
              "0  http://i.annihil.us/u/prod/marvel/i/mg/c/e0/53...                 jpg   \n",
              "1  http://i.annihil.us/u/prod/marvel/i/mg/3/20/52...                 jpg   \n",
              "2  http://i.annihil.us/u/prod/marvel/i/mg/6/20/52...                 jpg   \n",
              "3  http://i.annihil.us/u/prod/marvel/i/mg/b/40/im...                 jpg   \n",
              "4  http://i.annihil.us/u/prod/marvel/i/mg/9/50/4c...                 jpg   \n",
              "\n",
              "   comics.available                               comics.collectionURI  ...  \\\n",
              "0                12  https://gateway.marvel.com/v1/public/character...  ...   \n",
              "1                 4  https://gateway.marvel.com/v1/public/character...  ...   \n",
              "2                53  https://gateway.marvel.com/v1/public/character...  ...   \n",
              "3                14  https://gateway.marvel.com/v1/public/character...  ...   \n",
              "4                55  https://gateway.marvel.com/v1/public/character...  ...   \n",
              "\n",
              "                                        series.items  series.returned  \\\n",
              "0  [{'resourceURI': 'https://gateway.marvel.com/v...                3   \n",
              "1  [{'resourceURI': 'https://gateway.marvel.com/v...                2   \n",
              "2  [{'resourceURI': 'https://gateway.marvel.com/v...               20   \n",
              "3  [{'resourceURI': 'https://gateway.marvel.com/v...                3   \n",
              "4  [{'resourceURI': 'https://gateway.marvel.com/v...               20   \n",
              "\n",
              "   stories.available                              stories.collectionURI  \\\n",
              "0                 21  https://gateway.marvel.com/v1/public/character...   \n",
              "1                  7  https://gateway.marvel.com/v1/public/character...   \n",
              "2                 61  https://gateway.marvel.com/v1/public/character...   \n",
              "3                 28  https://gateway.marvel.com/v1/public/character...   \n",
              "4                 68  https://gateway.marvel.com/v1/public/character...   \n",
              "\n",
              "                                       stories.items  stories.returned  \\\n",
              "0  [{'resourceURI': 'https://gateway.marvel.com/v...                20   \n",
              "1  [{'resourceURI': 'https://gateway.marvel.com/v...                 7   \n",
              "2  [{'resourceURI': 'https://gateway.marvel.com/v...                20   \n",
              "3  [{'resourceURI': 'https://gateway.marvel.com/v...                20   \n",
              "4  [{'resourceURI': 'https://gateway.marvel.com/v...                20   \n",
              "\n",
              "   events.available                               events.collectionURI  \\\n",
              "0                 1  https://gateway.marvel.com/v1/public/character...   \n",
              "1                 0  https://gateway.marvel.com/v1/public/character...   \n",
              "2                 0  https://gateway.marvel.com/v1/public/character...   \n",
              "3                 0  https://gateway.marvel.com/v1/public/character...   \n",
              "4                 1  https://gateway.marvel.com/v1/public/character...   \n",
              "\n",
              "                                        events.items  events.returned  \n",
              "0  [{'resourceURI': 'https://gateway.marvel.com/v...                1  \n",
              "1                                                 []                0  \n",
              "2                                                 []                0  \n",
              "3                                                 []                0  \n",
              "4  [{'resourceURI': 'https://gateway.marvel.com/v...                1  \n",
              "\n",
              "[5 rows x 24 columns]"
            ]
          },
          "execution_count": 61,
          "metadata": {},
          "output_type": "execute_result"
        }
      ],
      "source": [
        "personagens.head()"
      ]
    },
    {
      "cell_type": "markdown",
      "metadata": {
        "id": "RoLFYY8z7goM"
      },
      "source": [
        "# COMICS"
      ]
    },
    {
      "cell_type": "code",
      "execution_count": null,
      "metadata": {
        "id": "8d5kzL72HOzi"
      },
      "outputs": [],
      "source": [
        "limit_num = 100\n",
        "offset_num = 0\n",
        "\n",
        "quadrinhos = get_data(comics, public_key, private_key, limit_num, offset_num)"
      ]
    },
    {
      "cell_type": "code",
      "execution_count": null,
      "metadata": {
        "colab": {
          "base_uri": "https://localhost:8080/"
        },
        "id": "qE_7bD-yHXIR",
        "outputId": "f8e83598-01a0-42bc-e8aa-6443d561c484"
      },
      "outputs": [
        {
          "data": {
            "text/plain": [
              "Index(['id', 'digitalId', 'title', 'issueNumber', 'variantDescription',\n",
              "       'description', 'modified', 'isbn', 'upc', 'diamondCode', 'ean', 'issn',\n",
              "       'format', 'pageCount', 'textObjects', 'resourceURI', 'urls', 'variants',\n",
              "       'collections', 'collectedIssues', 'dates', 'prices', 'images',\n",
              "       'series.resourceURI', 'series.name', 'thumbnail.path',\n",
              "       'thumbnail.extension', 'creators.available', 'creators.collectionURI',\n",
              "       'creators.items', 'creators.returned', 'characters.available',\n",
              "       'characters.collectionURI', 'characters.items', 'characters.returned',\n",
              "       'stories.available', 'stories.collectionURI', 'stories.items',\n",
              "       'stories.returned', 'events.available', 'events.collectionURI',\n",
              "       'events.items', 'events.returned'],\n",
              "      dtype='object')"
            ]
          },
          "execution_count": 63,
          "metadata": {},
          "output_type": "execute_result"
        }
      ],
      "source": [
        "quadrinhos.columns"
      ]
    },
    {
      "cell_type": "code",
      "execution_count": null,
      "metadata": {
        "colab": {
          "base_uri": "https://localhost:8080/",
          "height": 446
        },
        "id": "tSDPCqL-HYnO",
        "outputId": "5e6c60ae-ebe7-4285-ca50-aa7e08a519ae"
      },
      "outputs": [
        {
          "data": {
            "application/vnd.google.colaboratory.intrinsic+json": {
              "type": "dataframe",
              "variable_name": "quadrinhos"
            },
            "text/html": [
              "\n",
              "  <div id=\"df-9a2c13a0-32a2-45a2-bfbe-bf7376df634f\" class=\"colab-df-container\">\n",
              "    <div>\n",
              "<style scoped>\n",
              "    .dataframe tbody tr th:only-of-type {\n",
              "        vertical-align: middle;\n",
              "    }\n",
              "\n",
              "    .dataframe tbody tr th {\n",
              "        vertical-align: top;\n",
              "    }\n",
              "\n",
              "    .dataframe thead th {\n",
              "        text-align: right;\n",
              "    }\n",
              "</style>\n",
              "<table border=\"1\" class=\"dataframe\">\n",
              "  <thead>\n",
              "    <tr style=\"text-align: right;\">\n",
              "      <th></th>\n",
              "      <th>id</th>\n",
              "      <th>digitalId</th>\n",
              "      <th>title</th>\n",
              "      <th>issueNumber</th>\n",
              "      <th>variantDescription</th>\n",
              "      <th>description</th>\n",
              "      <th>modified</th>\n",
              "      <th>isbn</th>\n",
              "      <th>upc</th>\n",
              "      <th>diamondCode</th>\n",
              "      <th>...</th>\n",
              "      <th>characters.items</th>\n",
              "      <th>characters.returned</th>\n",
              "      <th>stories.available</th>\n",
              "      <th>stories.collectionURI</th>\n",
              "      <th>stories.items</th>\n",
              "      <th>stories.returned</th>\n",
              "      <th>events.available</th>\n",
              "      <th>events.collectionURI</th>\n",
              "      <th>events.items</th>\n",
              "      <th>events.returned</th>\n",
              "    </tr>\n",
              "  </thead>\n",
              "  <tbody>\n",
              "    <tr>\n",
              "      <th>0</th>\n",
              "      <td>82967</td>\n",
              "      <td>0</td>\n",
              "      <td>Marvel Previews (2017)</td>\n",
              "      <td>0</td>\n",
              "      <td></td>\n",
              "      <td></td>\n",
              "      <td>2019-11-07T08:46:15+0000</td>\n",
              "      <td></td>\n",
              "      <td>75960608839302811</td>\n",
              "      <td></td>\n",
              "      <td>...</td>\n",
              "      <td>[]</td>\n",
              "      <td>0</td>\n",
              "      <td>2</td>\n",
              "      <td>https://gateway.marvel.com/v1/public/comics/82...</td>\n",
              "      <td>[{'resourceURI': 'https://gateway.marvel.com/v...</td>\n",
              "      <td>2</td>\n",
              "      <td>0</td>\n",
              "      <td>https://gateway.marvel.com/v1/public/comics/82...</td>\n",
              "      <td>[]</td>\n",
              "      <td>0</td>\n",
              "    </tr>\n",
              "    <tr>\n",
              "      <th>1</th>\n",
              "      <td>82965</td>\n",
              "      <td>0</td>\n",
              "      <td>Marvel Previews (2017)</td>\n",
              "      <td>0</td>\n",
              "      <td></td>\n",
              "      <td></td>\n",
              "      <td>2019-08-21T17:11:27+0000</td>\n",
              "      <td></td>\n",
              "      <td>75960608839302611</td>\n",
              "      <td>JUL190068</td>\n",
              "      <td>...</td>\n",
              "      <td>[]</td>\n",
              "      <td>0</td>\n",
              "      <td>2</td>\n",
              "      <td>https://gateway.marvel.com/v1/public/comics/82...</td>\n",
              "      <td>[{'resourceURI': 'https://gateway.marvel.com/v...</td>\n",
              "      <td>2</td>\n",
              "      <td>0</td>\n",
              "      <td>https://gateway.marvel.com/v1/public/comics/82...</td>\n",
              "      <td>[]</td>\n",
              "      <td>0</td>\n",
              "    </tr>\n",
              "    <tr>\n",
              "      <th>2</th>\n",
              "      <td>82970</td>\n",
              "      <td>52952</td>\n",
              "      <td>Marvel Previews (2017)</td>\n",
              "      <td>0</td>\n",
              "      <td></td>\n",
              "      <td></td>\n",
              "      <td>2020-02-07T09:35:32+0000</td>\n",
              "      <td></td>\n",
              "      <td>75960608839303111</td>\n",
              "      <td></td>\n",
              "      <td>...</td>\n",
              "      <td>[]</td>\n",
              "      <td>0</td>\n",
              "      <td>2</td>\n",
              "      <td>https://gateway.marvel.com/v1/public/comics/82...</td>\n",
              "      <td>[{'resourceURI': 'https://gateway.marvel.com/v...</td>\n",
              "      <td>2</td>\n",
              "      <td>0</td>\n",
              "      <td>https://gateway.marvel.com/v1/public/comics/82...</td>\n",
              "      <td>[]</td>\n",
              "      <td>0</td>\n",
              "    </tr>\n",
              "    <tr>\n",
              "      <th>3</th>\n",
              "      <td>61137</td>\n",
              "      <td>0</td>\n",
              "      <td>The Punisher (2016) #5 (Cosplay Variant)</td>\n",
              "      <td>5</td>\n",
              "      <td>Cosplay Variant</td>\n",
              "      <td>None</td>\n",
              "      <td>2016-09-01T12:40:16+0000</td>\n",
              "      <td></td>\n",
              "      <td>75960608413500521</td>\n",
              "      <td></td>\n",
              "      <td>...</td>\n",
              "      <td>[]</td>\n",
              "      <td>0</td>\n",
              "      <td>2</td>\n",
              "      <td>https://gateway.marvel.com/v1/public/comics/61...</td>\n",
              "      <td>[{'resourceURI': 'https://gateway.marvel.com/v...</td>\n",
              "      <td>2</td>\n",
              "      <td>0</td>\n",
              "      <td>https://gateway.marvel.com/v1/public/comics/61...</td>\n",
              "      <td>[]</td>\n",
              "      <td>0</td>\n",
              "    </tr>\n",
              "    <tr>\n",
              "      <th>4</th>\n",
              "      <td>37497</td>\n",
              "      <td>0</td>\n",
              "      <td>MARVELS (1994) #1</td>\n",
              "      <td>1</td>\n",
              "      <td></td>\n",
              "      <td>None</td>\n",
              "      <td>2014-05-08T12:18:55+0000</td>\n",
              "      <td></td>\n",
              "      <td></td>\n",
              "      <td></td>\n",
              "      <td>...</td>\n",
              "      <td>[]</td>\n",
              "      <td>0</td>\n",
              "      <td>0</td>\n",
              "      <td>https://gateway.marvel.com/v1/public/comics/37...</td>\n",
              "      <td>[]</td>\n",
              "      <td>0</td>\n",
              "      <td>0</td>\n",
              "      <td>https://gateway.marvel.com/v1/public/comics/37...</td>\n",
              "      <td>[]</td>\n",
              "      <td>0</td>\n",
              "    </tr>\n",
              "  </tbody>\n",
              "</table>\n",
              "<p>5 rows × 43 columns</p>\n",
              "</div>\n",
              "    <div class=\"colab-df-buttons\">\n",
              "\n",
              "  <div class=\"colab-df-container\">\n",
              "    <button class=\"colab-df-convert\" onclick=\"convertToInteractive('df-9a2c13a0-32a2-45a2-bfbe-bf7376df634f')\"\n",
              "            title=\"Convert this dataframe to an interactive table.\"\n",
              "            style=\"display:none;\">\n",
              "\n",
              "  <svg xmlns=\"http://www.w3.org/2000/svg\" height=\"24px\" viewBox=\"0 -960 960 960\">\n",
              "    <path d=\"M120-120v-720h720v720H120Zm60-500h600v-160H180v160Zm220 220h160v-160H400v160Zm0 220h160v-160H400v160ZM180-400h160v-160H180v160Zm440 0h160v-160H620v160ZM180-180h160v-160H180v160Zm440 0h160v-160H620v160Z\"/>\n",
              "  </svg>\n",
              "    </button>\n",
              "\n",
              "  <style>\n",
              "    .colab-df-container {\n",
              "      display:flex;\n",
              "      gap: 12px;\n",
              "    }\n",
              "\n",
              "    .colab-df-convert {\n",
              "      background-color: #E8F0FE;\n",
              "      border: none;\n",
              "      border-radius: 50%;\n",
              "      cursor: pointer;\n",
              "      display: none;\n",
              "      fill: #1967D2;\n",
              "      height: 32px;\n",
              "      padding: 0 0 0 0;\n",
              "      width: 32px;\n",
              "    }\n",
              "\n",
              "    .colab-df-convert:hover {\n",
              "      background-color: #E2EBFA;\n",
              "      box-shadow: 0px 1px 2px rgba(60, 64, 67, 0.3), 0px 1px 3px 1px rgba(60, 64, 67, 0.15);\n",
              "      fill: #174EA6;\n",
              "    }\n",
              "\n",
              "    .colab-df-buttons div {\n",
              "      margin-bottom: 4px;\n",
              "    }\n",
              "\n",
              "    [theme=dark] .colab-df-convert {\n",
              "      background-color: #3B4455;\n",
              "      fill: #D2E3FC;\n",
              "    }\n",
              "\n",
              "    [theme=dark] .colab-df-convert:hover {\n",
              "      background-color: #434B5C;\n",
              "      box-shadow: 0px 1px 3px 1px rgba(0, 0, 0, 0.15);\n",
              "      filter: drop-shadow(0px 1px 2px rgba(0, 0, 0, 0.3));\n",
              "      fill: #FFFFFF;\n",
              "    }\n",
              "  </style>\n",
              "\n",
              "    <script>\n",
              "      const buttonEl =\n",
              "        document.querySelector('#df-9a2c13a0-32a2-45a2-bfbe-bf7376df634f button.colab-df-convert');\n",
              "      buttonEl.style.display =\n",
              "        google.colab.kernel.accessAllowed ? 'block' : 'none';\n",
              "\n",
              "      async function convertToInteractive(key) {\n",
              "        const element = document.querySelector('#df-9a2c13a0-32a2-45a2-bfbe-bf7376df634f');\n",
              "        const dataTable =\n",
              "          await google.colab.kernel.invokeFunction('convertToInteractive',\n",
              "                                                    [key], {});\n",
              "        if (!dataTable) return;\n",
              "\n",
              "        const docLinkHtml = 'Like what you see? Visit the ' +\n",
              "          '<a target=\"_blank\" href=https://colab.research.google.com/notebooks/data_table.ipynb>data table notebook</a>'\n",
              "          + ' to learn more about interactive tables.';\n",
              "        element.innerHTML = '';\n",
              "        dataTable['output_type'] = 'display_data';\n",
              "        await google.colab.output.renderOutput(dataTable, element);\n",
              "        const docLink = document.createElement('div');\n",
              "        docLink.innerHTML = docLinkHtml;\n",
              "        element.appendChild(docLink);\n",
              "      }\n",
              "    </script>\n",
              "  </div>\n",
              "\n",
              "\n",
              "    <div id=\"df-8ac399a0-9936-4478-b7c7-2eb11744a545\">\n",
              "      <button class=\"colab-df-quickchart\" onclick=\"quickchart('df-8ac399a0-9936-4478-b7c7-2eb11744a545')\"\n",
              "                title=\"Suggest charts\"\n",
              "                style=\"display:none;\">\n",
              "\n",
              "<svg xmlns=\"http://www.w3.org/2000/svg\" height=\"24px\"viewBox=\"0 0 24 24\"\n",
              "     width=\"24px\">\n",
              "    <g>\n",
              "        <path d=\"M19 3H5c-1.1 0-2 .9-2 2v14c0 1.1.9 2 2 2h14c1.1 0 2-.9 2-2V5c0-1.1-.9-2-2-2zM9 17H7v-7h2v7zm4 0h-2V7h2v10zm4 0h-2v-4h2v4z\"/>\n",
              "    </g>\n",
              "</svg>\n",
              "      </button>\n",
              "\n",
              "<style>\n",
              "  .colab-df-quickchart {\n",
              "      --bg-color: #E8F0FE;\n",
              "      --fill-color: #1967D2;\n",
              "      --hover-bg-color: #E2EBFA;\n",
              "      --hover-fill-color: #174EA6;\n",
              "      --disabled-fill-color: #AAA;\n",
              "      --disabled-bg-color: #DDD;\n",
              "  }\n",
              "\n",
              "  [theme=dark] .colab-df-quickchart {\n",
              "      --bg-color: #3B4455;\n",
              "      --fill-color: #D2E3FC;\n",
              "      --hover-bg-color: #434B5C;\n",
              "      --hover-fill-color: #FFFFFF;\n",
              "      --disabled-bg-color: #3B4455;\n",
              "      --disabled-fill-color: #666;\n",
              "  }\n",
              "\n",
              "  .colab-df-quickchart {\n",
              "    background-color: var(--bg-color);\n",
              "    border: none;\n",
              "    border-radius: 50%;\n",
              "    cursor: pointer;\n",
              "    display: none;\n",
              "    fill: var(--fill-color);\n",
              "    height: 32px;\n",
              "    padding: 0;\n",
              "    width: 32px;\n",
              "  }\n",
              "\n",
              "  .colab-df-quickchart:hover {\n",
              "    background-color: var(--hover-bg-color);\n",
              "    box-shadow: 0 1px 2px rgba(60, 64, 67, 0.3), 0 1px 3px 1px rgba(60, 64, 67, 0.15);\n",
              "    fill: var(--button-hover-fill-color);\n",
              "  }\n",
              "\n",
              "  .colab-df-quickchart-complete:disabled,\n",
              "  .colab-df-quickchart-complete:disabled:hover {\n",
              "    background-color: var(--disabled-bg-color);\n",
              "    fill: var(--disabled-fill-color);\n",
              "    box-shadow: none;\n",
              "  }\n",
              "\n",
              "  .colab-df-spinner {\n",
              "    border: 2px solid var(--fill-color);\n",
              "    border-color: transparent;\n",
              "    border-bottom-color: var(--fill-color);\n",
              "    animation:\n",
              "      spin 1s steps(1) infinite;\n",
              "  }\n",
              "\n",
              "  @keyframes spin {\n",
              "    0% {\n",
              "      border-color: transparent;\n",
              "      border-bottom-color: var(--fill-color);\n",
              "      border-left-color: var(--fill-color);\n",
              "    }\n",
              "    20% {\n",
              "      border-color: transparent;\n",
              "      border-left-color: var(--fill-color);\n",
              "      border-top-color: var(--fill-color);\n",
              "    }\n",
              "    30% {\n",
              "      border-color: transparent;\n",
              "      border-left-color: var(--fill-color);\n",
              "      border-top-color: var(--fill-color);\n",
              "      border-right-color: var(--fill-color);\n",
              "    }\n",
              "    40% {\n",
              "      border-color: transparent;\n",
              "      border-right-color: var(--fill-color);\n",
              "      border-top-color: var(--fill-color);\n",
              "    }\n",
              "    60% {\n",
              "      border-color: transparent;\n",
              "      border-right-color: var(--fill-color);\n",
              "    }\n",
              "    80% {\n",
              "      border-color: transparent;\n",
              "      border-right-color: var(--fill-color);\n",
              "      border-bottom-color: var(--fill-color);\n",
              "    }\n",
              "    90% {\n",
              "      border-color: transparent;\n",
              "      border-bottom-color: var(--fill-color);\n",
              "    }\n",
              "  }\n",
              "</style>\n",
              "\n",
              "      <script>\n",
              "        async function quickchart(key) {\n",
              "          const quickchartButtonEl =\n",
              "            document.querySelector('#' + key + ' button');\n",
              "          quickchartButtonEl.disabled = true;  // To prevent multiple clicks.\n",
              "          quickchartButtonEl.classList.add('colab-df-spinner');\n",
              "          try {\n",
              "            const charts = await google.colab.kernel.invokeFunction(\n",
              "                'suggestCharts', [key], {});\n",
              "          } catch (error) {\n",
              "            console.error('Error during call to suggestCharts:', error);\n",
              "          }\n",
              "          quickchartButtonEl.classList.remove('colab-df-spinner');\n",
              "          quickchartButtonEl.classList.add('colab-df-quickchart-complete');\n",
              "        }\n",
              "        (() => {\n",
              "          let quickchartButtonEl =\n",
              "            document.querySelector('#df-8ac399a0-9936-4478-b7c7-2eb11744a545 button');\n",
              "          quickchartButtonEl.style.display =\n",
              "            google.colab.kernel.accessAllowed ? 'block' : 'none';\n",
              "        })();\n",
              "      </script>\n",
              "    </div>\n",
              "\n",
              "    </div>\n",
              "  </div>\n"
            ],
            "text/plain": [
              "      id  digitalId                                     title  issueNumber  \\\n",
              "0  82967          0                    Marvel Previews (2017)            0   \n",
              "1  82965          0                    Marvel Previews (2017)            0   \n",
              "2  82970      52952                    Marvel Previews (2017)            0   \n",
              "3  61137          0  The Punisher (2016) #5 (Cosplay Variant)            5   \n",
              "4  37497          0                         MARVELS (1994) #1            1   \n",
              "\n",
              "  variantDescription description                  modified isbn  \\\n",
              "0                                 2019-11-07T08:46:15+0000        \n",
              "1                                 2019-08-21T17:11:27+0000        \n",
              "2                                 2020-02-07T09:35:32+0000        \n",
              "3    Cosplay Variant        None  2016-09-01T12:40:16+0000        \n",
              "4                           None  2014-05-08T12:18:55+0000        \n",
              "\n",
              "                 upc diamondCode  ... characters.items characters.returned  \\\n",
              "0  75960608839302811              ...               []                   0   \n",
              "1  75960608839302611   JUL190068  ...               []                   0   \n",
              "2  75960608839303111              ...               []                   0   \n",
              "3  75960608413500521              ...               []                   0   \n",
              "4                                 ...               []                   0   \n",
              "\n",
              "  stories.available                              stories.collectionURI  \\\n",
              "0                 2  https://gateway.marvel.com/v1/public/comics/82...   \n",
              "1                 2  https://gateway.marvel.com/v1/public/comics/82...   \n",
              "2                 2  https://gateway.marvel.com/v1/public/comics/82...   \n",
              "3                 2  https://gateway.marvel.com/v1/public/comics/61...   \n",
              "4                 0  https://gateway.marvel.com/v1/public/comics/37...   \n",
              "\n",
              "                                       stories.items stories.returned  \\\n",
              "0  [{'resourceURI': 'https://gateway.marvel.com/v...                2   \n",
              "1  [{'resourceURI': 'https://gateway.marvel.com/v...                2   \n",
              "2  [{'resourceURI': 'https://gateway.marvel.com/v...                2   \n",
              "3  [{'resourceURI': 'https://gateway.marvel.com/v...                2   \n",
              "4                                                 []                0   \n",
              "\n",
              "  events.available                               events.collectionURI  \\\n",
              "0                0  https://gateway.marvel.com/v1/public/comics/82...   \n",
              "1                0  https://gateway.marvel.com/v1/public/comics/82...   \n",
              "2                0  https://gateway.marvel.com/v1/public/comics/82...   \n",
              "3                0  https://gateway.marvel.com/v1/public/comics/61...   \n",
              "4                0  https://gateway.marvel.com/v1/public/comics/37...   \n",
              "\n",
              "  events.items events.returned  \n",
              "0           []               0  \n",
              "1           []               0  \n",
              "2           []               0  \n",
              "3           []               0  \n",
              "4           []               0  \n",
              "\n",
              "[5 rows x 43 columns]"
            ]
          },
          "execution_count": 64,
          "metadata": {},
          "output_type": "execute_result"
        }
      ],
      "source": [
        "quadrinhos.head()"
      ]
    },
    {
      "cell_type": "markdown",
      "metadata": {
        "id": "Xrx5SSq7Gpq9"
      },
      "source": [
        "# GET ALL"
      ]
    },
    {
      "cell_type": "markdown",
      "metadata": {
        "id": "Sb-nvoQ1Gtoa"
      },
      "source": [
        "## GET ALL CHARACTERS"
      ]
    },
    {
      "cell_type": "code",
      "execution_count": null,
      "metadata": {
        "colab": {
          "base_uri": "https://localhost:8080/",
          "height": 1000
        },
        "id": "NVbK8zfimN0Z",
        "outputId": "7955a380-f682-4689-cc1a-cb64debdeaae"
      },
      "outputs": [
        {
          "name": "stderr",
          "output_type": "stream",
          "text": [
            "Baixando dados da Marvel: 100%|██████████| 16/16 [00:29<00:00,  1.83s/it]\n"
          ]
        },
        {
          "data": {
            "application/vnd.google.colaboratory.intrinsic+json": {
              "type": "dataframe",
              "variable_name": "todos_personagens"
            },
            "text/html": [
              "\n",
              "  <div id=\"df-16aa024f-f792-4597-8ed7-3e8346e86ab0\" class=\"colab-df-container\">\n",
              "    <div>\n",
              "<style scoped>\n",
              "    .dataframe tbody tr th:only-of-type {\n",
              "        vertical-align: middle;\n",
              "    }\n",
              "\n",
              "    .dataframe tbody tr th {\n",
              "        vertical-align: top;\n",
              "    }\n",
              "\n",
              "    .dataframe thead th {\n",
              "        text-align: right;\n",
              "    }\n",
              "</style>\n",
              "<table border=\"1\" class=\"dataframe\">\n",
              "  <thead>\n",
              "    <tr style=\"text-align: right;\">\n",
              "      <th></th>\n",
              "      <th>id</th>\n",
              "      <th>name</th>\n",
              "      <th>description</th>\n",
              "      <th>modified</th>\n",
              "      <th>resourceURI</th>\n",
              "      <th>urls</th>\n",
              "      <th>thumbnail.path</th>\n",
              "      <th>thumbnail.extension</th>\n",
              "      <th>comics.available</th>\n",
              "      <th>comics.collectionURI</th>\n",
              "      <th>...</th>\n",
              "      <th>series.items</th>\n",
              "      <th>series.returned</th>\n",
              "      <th>stories.available</th>\n",
              "      <th>stories.collectionURI</th>\n",
              "      <th>stories.items</th>\n",
              "      <th>stories.returned</th>\n",
              "      <th>events.available</th>\n",
              "      <th>events.collectionURI</th>\n",
              "      <th>events.items</th>\n",
              "      <th>events.returned</th>\n",
              "    </tr>\n",
              "  </thead>\n",
              "  <tbody>\n",
              "    <tr>\n",
              "      <th>0</th>\n",
              "      <td>1011334</td>\n",
              "      <td>3-D Man</td>\n",
              "      <td></td>\n",
              "      <td>2014-04-29T14:18:17+0000</td>\n",
              "      <td>https://gateway.marvel.com/v1/public/character...</td>\n",
              "      <td>[{'type': 'detail', 'url': 'http://marvel.com/...</td>\n",
              "      <td>http://i.annihil.us/u/prod/marvel/i/mg/c/e0/53...</td>\n",
              "      <td>jpg</td>\n",
              "      <td>12</td>\n",
              "      <td>https://gateway.marvel.com/v1/public/character...</td>\n",
              "      <td>...</td>\n",
              "      <td>[{'resourceURI': 'https://gateway.marvel.com/v...</td>\n",
              "      <td>3</td>\n",
              "      <td>21</td>\n",
              "      <td>https://gateway.marvel.com/v1/public/character...</td>\n",
              "      <td>[{'resourceURI': 'https://gateway.marvel.com/v...</td>\n",
              "      <td>20</td>\n",
              "      <td>1</td>\n",
              "      <td>https://gateway.marvel.com/v1/public/character...</td>\n",
              "      <td>[{'resourceURI': 'https://gateway.marvel.com/v...</td>\n",
              "      <td>1</td>\n",
              "    </tr>\n",
              "    <tr>\n",
              "      <th>1</th>\n",
              "      <td>1017100</td>\n",
              "      <td>A-Bomb (HAS)</td>\n",
              "      <td>Rick Jones has been Hulk's best bud since day ...</td>\n",
              "      <td>2013-09-18T15:54:04+0000</td>\n",
              "      <td>https://gateway.marvel.com/v1/public/character...</td>\n",
              "      <td>[{'type': 'detail', 'url': 'http://marvel.com/...</td>\n",
              "      <td>http://i.annihil.us/u/prod/marvel/i/mg/3/20/52...</td>\n",
              "      <td>jpg</td>\n",
              "      <td>4</td>\n",
              "      <td>https://gateway.marvel.com/v1/public/character...</td>\n",
              "      <td>...</td>\n",
              "      <td>[{'resourceURI': 'https://gateway.marvel.com/v...</td>\n",
              "      <td>2</td>\n",
              "      <td>7</td>\n",
              "      <td>https://gateway.marvel.com/v1/public/character...</td>\n",
              "      <td>[{'resourceURI': 'https://gateway.marvel.com/v...</td>\n",
              "      <td>7</td>\n",
              "      <td>0</td>\n",
              "      <td>https://gateway.marvel.com/v1/public/character...</td>\n",
              "      <td>[]</td>\n",
              "      <td>0</td>\n",
              "    </tr>\n",
              "    <tr>\n",
              "      <th>2</th>\n",
              "      <td>1009144</td>\n",
              "      <td>A.I.M.</td>\n",
              "      <td>AIM is a terrorist organization bent on destro...</td>\n",
              "      <td>2013-10-17T14:41:30+0000</td>\n",
              "      <td>https://gateway.marvel.com/v1/public/character...</td>\n",
              "      <td>[{'type': 'detail', 'url': 'http://marvel.com/...</td>\n",
              "      <td>http://i.annihil.us/u/prod/marvel/i/mg/6/20/52...</td>\n",
              "      <td>jpg</td>\n",
              "      <td>53</td>\n",
              "      <td>https://gateway.marvel.com/v1/public/character...</td>\n",
              "      <td>...</td>\n",
              "      <td>[{'resourceURI': 'https://gateway.marvel.com/v...</td>\n",
              "      <td>20</td>\n",
              "      <td>61</td>\n",
              "      <td>https://gateway.marvel.com/v1/public/character...</td>\n",
              "      <td>[{'resourceURI': 'https://gateway.marvel.com/v...</td>\n",
              "      <td>20</td>\n",
              "      <td>0</td>\n",
              "      <td>https://gateway.marvel.com/v1/public/character...</td>\n",
              "      <td>[]</td>\n",
              "      <td>0</td>\n",
              "    </tr>\n",
              "    <tr>\n",
              "      <th>3</th>\n",
              "      <td>1010699</td>\n",
              "      <td>Aaron Stack</td>\n",
              "      <td></td>\n",
              "      <td>1970-01-01T00:00:00+0000</td>\n",
              "      <td>https://gateway.marvel.com/v1/public/character...</td>\n",
              "      <td>[{'type': 'detail', 'url': 'http://marvel.com/...</td>\n",
              "      <td>http://i.annihil.us/u/prod/marvel/i/mg/b/40/im...</td>\n",
              "      <td>jpg</td>\n",
              "      <td>14</td>\n",
              "      <td>https://gateway.marvel.com/v1/public/character...</td>\n",
              "      <td>...</td>\n",
              "      <td>[{'resourceURI': 'https://gateway.marvel.com/v...</td>\n",
              "      <td>3</td>\n",
              "      <td>28</td>\n",
              "      <td>https://gateway.marvel.com/v1/public/character...</td>\n",
              "      <td>[{'resourceURI': 'https://gateway.marvel.com/v...</td>\n",
              "      <td>20</td>\n",
              "      <td>0</td>\n",
              "      <td>https://gateway.marvel.com/v1/public/character...</td>\n",
              "      <td>[]</td>\n",
              "      <td>0</td>\n",
              "    </tr>\n",
              "    <tr>\n",
              "      <th>4</th>\n",
              "      <td>1009146</td>\n",
              "      <td>Abomination (Emil Blonsky)</td>\n",
              "      <td>Formerly known as Emil Blonsky, a spy of Sovie...</td>\n",
              "      <td>2014-06-27T19:39:07+0000</td>\n",
              "      <td>https://gateway.marvel.com/v1/public/character...</td>\n",
              "      <td>[{'type': 'detail', 'url': 'http://marvel.com/...</td>\n",
              "      <td>http://i.annihil.us/u/prod/marvel/i/mg/9/50/4c...</td>\n",
              "      <td>jpg</td>\n",
              "      <td>55</td>\n",
              "      <td>https://gateway.marvel.com/v1/public/character...</td>\n",
              "      <td>...</td>\n",
              "      <td>[{'resourceURI': 'https://gateway.marvel.com/v...</td>\n",
              "      <td>20</td>\n",
              "      <td>68</td>\n",
              "      <td>https://gateway.marvel.com/v1/public/character...</td>\n",
              "      <td>[{'resourceURI': 'https://gateway.marvel.com/v...</td>\n",
              "      <td>20</td>\n",
              "      <td>1</td>\n",
              "      <td>https://gateway.marvel.com/v1/public/character...</td>\n",
              "      <td>[{'resourceURI': 'https://gateway.marvel.com/v...</td>\n",
              "      <td>1</td>\n",
              "    </tr>\n",
              "    <tr>\n",
              "      <th>...</th>\n",
              "      <td>...</td>\n",
              "      <td>...</td>\n",
              "      <td>...</td>\n",
              "      <td>...</td>\n",
              "      <td>...</td>\n",
              "      <td>...</td>\n",
              "      <td>...</td>\n",
              "      <td>...</td>\n",
              "      <td>...</td>\n",
              "      <td>...</td>\n",
              "      <td>...</td>\n",
              "      <td>...</td>\n",
              "      <td>...</td>\n",
              "      <td>...</td>\n",
              "      <td>...</td>\n",
              "      <td>...</td>\n",
              "      <td>...</td>\n",
              "      <td>...</td>\n",
              "      <td>...</td>\n",
              "      <td>...</td>\n",
              "      <td>...</td>\n",
              "    </tr>\n",
              "    <tr>\n",
              "      <th>1559</th>\n",
              "      <td>1011515</td>\n",
              "      <td>Zeus</td>\n",
              "      <td>Zeus ruled a peaceful Olympus for centuries wh...</td>\n",
              "      <td>2021-08-18T22:06:56+0000</td>\n",
              "      <td>https://gateway.marvel.com/v1/public/character...</td>\n",
              "      <td>[{'type': 'detail', 'url': 'http://marvel.com/...</td>\n",
              "      <td>http://i.annihil.us/u/prod/marvel/i/mg/f/60/4c...</td>\n",
              "      <td>png</td>\n",
              "      <td>36</td>\n",
              "      <td>https://gateway.marvel.com/v1/public/character...</td>\n",
              "      <td>...</td>\n",
              "      <td>[{'resourceURI': 'https://gateway.marvel.com/v...</td>\n",
              "      <td>13</td>\n",
              "      <td>43</td>\n",
              "      <td>https://gateway.marvel.com/v1/public/character...</td>\n",
              "      <td>[{'resourceURI': 'https://gateway.marvel.com/v...</td>\n",
              "      <td>20</td>\n",
              "      <td>0</td>\n",
              "      <td>https://gateway.marvel.com/v1/public/character...</td>\n",
              "      <td>[]</td>\n",
              "      <td>0</td>\n",
              "    </tr>\n",
              "    <tr>\n",
              "      <th>1560</th>\n",
              "      <td>1011127</td>\n",
              "      <td>Zodiak</td>\n",
              "      <td>Twelve demons merged with Norman Harrison, who...</td>\n",
              "      <td>1970-01-01T00:00:00+0000</td>\n",
              "      <td>https://gateway.marvel.com/v1/public/character...</td>\n",
              "      <td>[{'type': 'detail', 'url': 'http://marvel.com/...</td>\n",
              "      <td>http://i.annihil.us/u/prod/marvel/i/mg/b/40/im...</td>\n",
              "      <td>jpg</td>\n",
              "      <td>1</td>\n",
              "      <td>https://gateway.marvel.com/v1/public/character...</td>\n",
              "      <td>...</td>\n",
              "      <td>[{'resourceURI': 'https://gateway.marvel.com/v...</td>\n",
              "      <td>1</td>\n",
              "      <td>1</td>\n",
              "      <td>https://gateway.marvel.com/v1/public/character...</td>\n",
              "      <td>[{'resourceURI': 'https://gateway.marvel.com/v...</td>\n",
              "      <td>1</td>\n",
              "      <td>0</td>\n",
              "      <td>https://gateway.marvel.com/v1/public/character...</td>\n",
              "      <td>[]</td>\n",
              "      <td>0</td>\n",
              "    </tr>\n",
              "    <tr>\n",
              "      <th>1561</th>\n",
              "      <td>1009741</td>\n",
              "      <td>Zombie (Simon Garth)</td>\n",
              "      <td>War hero Simon Garth was turned into a zombie ...</td>\n",
              "      <td>2013-10-31T14:02:07+0000</td>\n",
              "      <td>https://gateway.marvel.com/v1/public/character...</td>\n",
              "      <td>[{'type': 'detail', 'url': 'http://marvel.com/...</td>\n",
              "      <td>http://i.annihil.us/u/prod/marvel/i/mg/6/10/4c...</td>\n",
              "      <td>jpg</td>\n",
              "      <td>1</td>\n",
              "      <td>https://gateway.marvel.com/v1/public/character...</td>\n",
              "      <td>...</td>\n",
              "      <td>[{'resourceURI': 'https://gateway.marvel.com/v...</td>\n",
              "      <td>1</td>\n",
              "      <td>1</td>\n",
              "      <td>https://gateway.marvel.com/v1/public/character...</td>\n",
              "      <td>[{'resourceURI': 'https://gateway.marvel.com/v...</td>\n",
              "      <td>1</td>\n",
              "      <td>0</td>\n",
              "      <td>https://gateway.marvel.com/v1/public/character...</td>\n",
              "      <td>[]</td>\n",
              "      <td>0</td>\n",
              "    </tr>\n",
              "    <tr>\n",
              "      <th>1562</th>\n",
              "      <td>1011183</td>\n",
              "      <td>Zuras</td>\n",
              "      <td>Zuras was once the leader of the Eternals.</td>\n",
              "      <td>1970-01-01T00:00:00+0000</td>\n",
              "      <td>https://gateway.marvel.com/v1/public/character...</td>\n",
              "      <td>[{'type': 'detail', 'url': 'http://marvel.com/...</td>\n",
              "      <td>http://i.annihil.us/u/prod/marvel/i/mg/b/40/im...</td>\n",
              "      <td>jpg</td>\n",
              "      <td>3</td>\n",
              "      <td>https://gateway.marvel.com/v1/public/character...</td>\n",
              "      <td>...</td>\n",
              "      <td>[{'resourceURI': 'https://gateway.marvel.com/v...</td>\n",
              "      <td>3</td>\n",
              "      <td>3</td>\n",
              "      <td>https://gateway.marvel.com/v1/public/character...</td>\n",
              "      <td>[{'resourceURI': 'https://gateway.marvel.com/v...</td>\n",
              "      <td>3</td>\n",
              "      <td>0</td>\n",
              "      <td>https://gateway.marvel.com/v1/public/character...</td>\n",
              "      <td>[]</td>\n",
              "      <td>0</td>\n",
              "    </tr>\n",
              "    <tr>\n",
              "      <th>1563</th>\n",
              "      <td>1009742</td>\n",
              "      <td>Zzzax</td>\n",
              "      <td>A chain reaction in an atomic reactor, a resul...</td>\n",
              "      <td>2013-12-17T18:35:54+0000</td>\n",
              "      <td>https://gateway.marvel.com/v1/public/character...</td>\n",
              "      <td>[{'type': 'detail', 'url': 'http://marvel.com/...</td>\n",
              "      <td>http://i.annihil.us/u/prod/marvel/i/mg/c/d0/4c...</td>\n",
              "      <td>jpg</td>\n",
              "      <td>5</td>\n",
              "      <td>https://gateway.marvel.com/v1/public/character...</td>\n",
              "      <td>...</td>\n",
              "      <td>[{'resourceURI': 'https://gateway.marvel.com/v...</td>\n",
              "      <td>4</td>\n",
              "      <td>6</td>\n",
              "      <td>https://gateway.marvel.com/v1/public/character...</td>\n",
              "      <td>[{'resourceURI': 'https://gateway.marvel.com/v...</td>\n",
              "      <td>6</td>\n",
              "      <td>0</td>\n",
              "      <td>https://gateway.marvel.com/v1/public/character...</td>\n",
              "      <td>[]</td>\n",
              "      <td>0</td>\n",
              "    </tr>\n",
              "  </tbody>\n",
              "</table>\n",
              "<p>1564 rows × 24 columns</p>\n",
              "</div>\n",
              "    <div class=\"colab-df-buttons\">\n",
              "\n",
              "  <div class=\"colab-df-container\">\n",
              "    <button class=\"colab-df-convert\" onclick=\"convertToInteractive('df-16aa024f-f792-4597-8ed7-3e8346e86ab0')\"\n",
              "            title=\"Convert this dataframe to an interactive table.\"\n",
              "            style=\"display:none;\">\n",
              "\n",
              "  <svg xmlns=\"http://www.w3.org/2000/svg\" height=\"24px\" viewBox=\"0 -960 960 960\">\n",
              "    <path d=\"M120-120v-720h720v720H120Zm60-500h600v-160H180v160Zm220 220h160v-160H400v160Zm0 220h160v-160H400v160ZM180-400h160v-160H180v160Zm440 0h160v-160H620v160ZM180-180h160v-160H180v160Zm440 0h160v-160H620v160Z\"/>\n",
              "  </svg>\n",
              "    </button>\n",
              "\n",
              "  <style>\n",
              "    .colab-df-container {\n",
              "      display:flex;\n",
              "      gap: 12px;\n",
              "    }\n",
              "\n",
              "    .colab-df-convert {\n",
              "      background-color: #E8F0FE;\n",
              "      border: none;\n",
              "      border-radius: 50%;\n",
              "      cursor: pointer;\n",
              "      display: none;\n",
              "      fill: #1967D2;\n",
              "      height: 32px;\n",
              "      padding: 0 0 0 0;\n",
              "      width: 32px;\n",
              "    }\n",
              "\n",
              "    .colab-df-convert:hover {\n",
              "      background-color: #E2EBFA;\n",
              "      box-shadow: 0px 1px 2px rgba(60, 64, 67, 0.3), 0px 1px 3px 1px rgba(60, 64, 67, 0.15);\n",
              "      fill: #174EA6;\n",
              "    }\n",
              "\n",
              "    .colab-df-buttons div {\n",
              "      margin-bottom: 4px;\n",
              "    }\n",
              "\n",
              "    [theme=dark] .colab-df-convert {\n",
              "      background-color: #3B4455;\n",
              "      fill: #D2E3FC;\n",
              "    }\n",
              "\n",
              "    [theme=dark] .colab-df-convert:hover {\n",
              "      background-color: #434B5C;\n",
              "      box-shadow: 0px 1px 3px 1px rgba(0, 0, 0, 0.15);\n",
              "      filter: drop-shadow(0px 1px 2px rgba(0, 0, 0, 0.3));\n",
              "      fill: #FFFFFF;\n",
              "    }\n",
              "  </style>\n",
              "\n",
              "    <script>\n",
              "      const buttonEl =\n",
              "        document.querySelector('#df-16aa024f-f792-4597-8ed7-3e8346e86ab0 button.colab-df-convert');\n",
              "      buttonEl.style.display =\n",
              "        google.colab.kernel.accessAllowed ? 'block' : 'none';\n",
              "\n",
              "      async function convertToInteractive(key) {\n",
              "        const element = document.querySelector('#df-16aa024f-f792-4597-8ed7-3e8346e86ab0');\n",
              "        const dataTable =\n",
              "          await google.colab.kernel.invokeFunction('convertToInteractive',\n",
              "                                                    [key], {});\n",
              "        if (!dataTable) return;\n",
              "\n",
              "        const docLinkHtml = 'Like what you see? Visit the ' +\n",
              "          '<a target=\"_blank\" href=https://colab.research.google.com/notebooks/data_table.ipynb>data table notebook</a>'\n",
              "          + ' to learn more about interactive tables.';\n",
              "        element.innerHTML = '';\n",
              "        dataTable['output_type'] = 'display_data';\n",
              "        await google.colab.output.renderOutput(dataTable, element);\n",
              "        const docLink = document.createElement('div');\n",
              "        docLink.innerHTML = docLinkHtml;\n",
              "        element.appendChild(docLink);\n",
              "      }\n",
              "    </script>\n",
              "  </div>\n",
              "\n",
              "\n",
              "    <div id=\"df-7a5dba5a-a46b-4149-8869-bfb35b1694d5\">\n",
              "      <button class=\"colab-df-quickchart\" onclick=\"quickchart('df-7a5dba5a-a46b-4149-8869-bfb35b1694d5')\"\n",
              "                title=\"Suggest charts\"\n",
              "                style=\"display:none;\">\n",
              "\n",
              "<svg xmlns=\"http://www.w3.org/2000/svg\" height=\"24px\"viewBox=\"0 0 24 24\"\n",
              "     width=\"24px\">\n",
              "    <g>\n",
              "        <path d=\"M19 3H5c-1.1 0-2 .9-2 2v14c0 1.1.9 2 2 2h14c1.1 0 2-.9 2-2V5c0-1.1-.9-2-2-2zM9 17H7v-7h2v7zm4 0h-2V7h2v10zm4 0h-2v-4h2v4z\"/>\n",
              "    </g>\n",
              "</svg>\n",
              "      </button>\n",
              "\n",
              "<style>\n",
              "  .colab-df-quickchart {\n",
              "      --bg-color: #E8F0FE;\n",
              "      --fill-color: #1967D2;\n",
              "      --hover-bg-color: #E2EBFA;\n",
              "      --hover-fill-color: #174EA6;\n",
              "      --disabled-fill-color: #AAA;\n",
              "      --disabled-bg-color: #DDD;\n",
              "  }\n",
              "\n",
              "  [theme=dark] .colab-df-quickchart {\n",
              "      --bg-color: #3B4455;\n",
              "      --fill-color: #D2E3FC;\n",
              "      --hover-bg-color: #434B5C;\n",
              "      --hover-fill-color: #FFFFFF;\n",
              "      --disabled-bg-color: #3B4455;\n",
              "      --disabled-fill-color: #666;\n",
              "  }\n",
              "\n",
              "  .colab-df-quickchart {\n",
              "    background-color: var(--bg-color);\n",
              "    border: none;\n",
              "    border-radius: 50%;\n",
              "    cursor: pointer;\n",
              "    display: none;\n",
              "    fill: var(--fill-color);\n",
              "    height: 32px;\n",
              "    padding: 0;\n",
              "    width: 32px;\n",
              "  }\n",
              "\n",
              "  .colab-df-quickchart:hover {\n",
              "    background-color: var(--hover-bg-color);\n",
              "    box-shadow: 0 1px 2px rgba(60, 64, 67, 0.3), 0 1px 3px 1px rgba(60, 64, 67, 0.15);\n",
              "    fill: var(--button-hover-fill-color);\n",
              "  }\n",
              "\n",
              "  .colab-df-quickchart-complete:disabled,\n",
              "  .colab-df-quickchart-complete:disabled:hover {\n",
              "    background-color: var(--disabled-bg-color);\n",
              "    fill: var(--disabled-fill-color);\n",
              "    box-shadow: none;\n",
              "  }\n",
              "\n",
              "  .colab-df-spinner {\n",
              "    border: 2px solid var(--fill-color);\n",
              "    border-color: transparent;\n",
              "    border-bottom-color: var(--fill-color);\n",
              "    animation:\n",
              "      spin 1s steps(1) infinite;\n",
              "  }\n",
              "\n",
              "  @keyframes spin {\n",
              "    0% {\n",
              "      border-color: transparent;\n",
              "      border-bottom-color: var(--fill-color);\n",
              "      border-left-color: var(--fill-color);\n",
              "    }\n",
              "    20% {\n",
              "      border-color: transparent;\n",
              "      border-left-color: var(--fill-color);\n",
              "      border-top-color: var(--fill-color);\n",
              "    }\n",
              "    30% {\n",
              "      border-color: transparent;\n",
              "      border-left-color: var(--fill-color);\n",
              "      border-top-color: var(--fill-color);\n",
              "      border-right-color: var(--fill-color);\n",
              "    }\n",
              "    40% {\n",
              "      border-color: transparent;\n",
              "      border-right-color: var(--fill-color);\n",
              "      border-top-color: var(--fill-color);\n",
              "    }\n",
              "    60% {\n",
              "      border-color: transparent;\n",
              "      border-right-color: var(--fill-color);\n",
              "    }\n",
              "    80% {\n",
              "      border-color: transparent;\n",
              "      border-right-color: var(--fill-color);\n",
              "      border-bottom-color: var(--fill-color);\n",
              "    }\n",
              "    90% {\n",
              "      border-color: transparent;\n",
              "      border-bottom-color: var(--fill-color);\n",
              "    }\n",
              "  }\n",
              "</style>\n",
              "\n",
              "      <script>\n",
              "        async function quickchart(key) {\n",
              "          const quickchartButtonEl =\n",
              "            document.querySelector('#' + key + ' button');\n",
              "          quickchartButtonEl.disabled = true;  // To prevent multiple clicks.\n",
              "          quickchartButtonEl.classList.add('colab-df-spinner');\n",
              "          try {\n",
              "            const charts = await google.colab.kernel.invokeFunction(\n",
              "                'suggestCharts', [key], {});\n",
              "          } catch (error) {\n",
              "            console.error('Error during call to suggestCharts:', error);\n",
              "          }\n",
              "          quickchartButtonEl.classList.remove('colab-df-spinner');\n",
              "          quickchartButtonEl.classList.add('colab-df-quickchart-complete');\n",
              "        }\n",
              "        (() => {\n",
              "          let quickchartButtonEl =\n",
              "            document.querySelector('#df-7a5dba5a-a46b-4149-8869-bfb35b1694d5 button');\n",
              "          quickchartButtonEl.style.display =\n",
              "            google.colab.kernel.accessAllowed ? 'block' : 'none';\n",
              "        })();\n",
              "      </script>\n",
              "    </div>\n",
              "\n",
              "  <div id=\"id_34169007-54dd-4c67-ad87-7696ad322d85\">\n",
              "    <style>\n",
              "      .colab-df-generate {\n",
              "        background-color: #E8F0FE;\n",
              "        border: none;\n",
              "        border-radius: 50%;\n",
              "        cursor: pointer;\n",
              "        display: none;\n",
              "        fill: #1967D2;\n",
              "        height: 32px;\n",
              "        padding: 0 0 0 0;\n",
              "        width: 32px;\n",
              "      }\n",
              "\n",
              "      .colab-df-generate:hover {\n",
              "        background-color: #E2EBFA;\n",
              "        box-shadow: 0px 1px 2px rgba(60, 64, 67, 0.3), 0px 1px 3px 1px rgba(60, 64, 67, 0.15);\n",
              "        fill: #174EA6;\n",
              "      }\n",
              "\n",
              "      [theme=dark] .colab-df-generate {\n",
              "        background-color: #3B4455;\n",
              "        fill: #D2E3FC;\n",
              "      }\n",
              "\n",
              "      [theme=dark] .colab-df-generate:hover {\n",
              "        background-color: #434B5C;\n",
              "        box-shadow: 0px 1px 3px 1px rgba(0, 0, 0, 0.15);\n",
              "        filter: drop-shadow(0px 1px 2px rgba(0, 0, 0, 0.3));\n",
              "        fill: #FFFFFF;\n",
              "      }\n",
              "    </style>\n",
              "    <button class=\"colab-df-generate\" onclick=\"generateWithVariable('todos_personagens')\"\n",
              "            title=\"Generate code using this dataframe.\"\n",
              "            style=\"display:none;\">\n",
              "\n",
              "  <svg xmlns=\"http://www.w3.org/2000/svg\" height=\"24px\"viewBox=\"0 0 24 24\"\n",
              "       width=\"24px\">\n",
              "    <path d=\"M7,19H8.4L18.45,9,17,7.55,7,17.6ZM5,21V16.75L18.45,3.32a2,2,0,0,1,2.83,0l1.4,1.43a1.91,1.91,0,0,1,.58,1.4,1.91,1.91,0,0,1-.58,1.4L9.25,21ZM18.45,9,17,7.55Zm-12,3A5.31,5.31,0,0,0,4.9,8.1,5.31,5.31,0,0,0,1,6.5,5.31,5.31,0,0,0,4.9,4.9,5.31,5.31,0,0,0,6.5,1,5.31,5.31,0,0,0,8.1,4.9,5.31,5.31,0,0,0,12,6.5,5.46,5.46,0,0,0,6.5,12Z\"/>\n",
              "  </svg>\n",
              "    </button>\n",
              "    <script>\n",
              "      (() => {\n",
              "      const buttonEl =\n",
              "        document.querySelector('#id_34169007-54dd-4c67-ad87-7696ad322d85 button.colab-df-generate');\n",
              "      buttonEl.style.display =\n",
              "        google.colab.kernel.accessAllowed ? 'block' : 'none';\n",
              "\n",
              "      buttonEl.onclick = () => {\n",
              "        google.colab.notebook.generateWithVariable('todos_personagens');\n",
              "      }\n",
              "      })();\n",
              "    </script>\n",
              "  </div>\n",
              "\n",
              "    </div>\n",
              "  </div>\n"
            ],
            "text/plain": [
              "           id                        name  \\\n",
              "0     1011334                     3-D Man   \n",
              "1     1017100                A-Bomb (HAS)   \n",
              "2     1009144                      A.I.M.   \n",
              "3     1010699                 Aaron Stack   \n",
              "4     1009146  Abomination (Emil Blonsky)   \n",
              "...       ...                         ...   \n",
              "1559  1011515                        Zeus   \n",
              "1560  1011127                      Zodiak   \n",
              "1561  1009741        Zombie (Simon Garth)   \n",
              "1562  1011183                       Zuras   \n",
              "1563  1009742                       Zzzax   \n",
              "\n",
              "                                            description  \\\n",
              "0                                                         \n",
              "1     Rick Jones has been Hulk's best bud since day ...   \n",
              "2     AIM is a terrorist organization bent on destro...   \n",
              "3                                                         \n",
              "4     Formerly known as Emil Blonsky, a spy of Sovie...   \n",
              "...                                                 ...   \n",
              "1559  Zeus ruled a peaceful Olympus for centuries wh...   \n",
              "1560  Twelve demons merged with Norman Harrison, who...   \n",
              "1561  War hero Simon Garth was turned into a zombie ...   \n",
              "1562         Zuras was once the leader of the Eternals.   \n",
              "1563  A chain reaction in an atomic reactor, a resul...   \n",
              "\n",
              "                      modified  \\\n",
              "0     2014-04-29T14:18:17+0000   \n",
              "1     2013-09-18T15:54:04+0000   \n",
              "2     2013-10-17T14:41:30+0000   \n",
              "3     1970-01-01T00:00:00+0000   \n",
              "4     2014-06-27T19:39:07+0000   \n",
              "...                        ...   \n",
              "1559  2021-08-18T22:06:56+0000   \n",
              "1560  1970-01-01T00:00:00+0000   \n",
              "1561  2013-10-31T14:02:07+0000   \n",
              "1562  1970-01-01T00:00:00+0000   \n",
              "1563  2013-12-17T18:35:54+0000   \n",
              "\n",
              "                                            resourceURI  \\\n",
              "0     https://gateway.marvel.com/v1/public/character...   \n",
              "1     https://gateway.marvel.com/v1/public/character...   \n",
              "2     https://gateway.marvel.com/v1/public/character...   \n",
              "3     https://gateway.marvel.com/v1/public/character...   \n",
              "4     https://gateway.marvel.com/v1/public/character...   \n",
              "...                                                 ...   \n",
              "1559  https://gateway.marvel.com/v1/public/character...   \n",
              "1560  https://gateway.marvel.com/v1/public/character...   \n",
              "1561  https://gateway.marvel.com/v1/public/character...   \n",
              "1562  https://gateway.marvel.com/v1/public/character...   \n",
              "1563  https://gateway.marvel.com/v1/public/character...   \n",
              "\n",
              "                                                   urls  \\\n",
              "0     [{'type': 'detail', 'url': 'http://marvel.com/...   \n",
              "1     [{'type': 'detail', 'url': 'http://marvel.com/...   \n",
              "2     [{'type': 'detail', 'url': 'http://marvel.com/...   \n",
              "3     [{'type': 'detail', 'url': 'http://marvel.com/...   \n",
              "4     [{'type': 'detail', 'url': 'http://marvel.com/...   \n",
              "...                                                 ...   \n",
              "1559  [{'type': 'detail', 'url': 'http://marvel.com/...   \n",
              "1560  [{'type': 'detail', 'url': 'http://marvel.com/...   \n",
              "1561  [{'type': 'detail', 'url': 'http://marvel.com/...   \n",
              "1562  [{'type': 'detail', 'url': 'http://marvel.com/...   \n",
              "1563  [{'type': 'detail', 'url': 'http://marvel.com/...   \n",
              "\n",
              "                                         thumbnail.path thumbnail.extension  \\\n",
              "0     http://i.annihil.us/u/prod/marvel/i/mg/c/e0/53...                 jpg   \n",
              "1     http://i.annihil.us/u/prod/marvel/i/mg/3/20/52...                 jpg   \n",
              "2     http://i.annihil.us/u/prod/marvel/i/mg/6/20/52...                 jpg   \n",
              "3     http://i.annihil.us/u/prod/marvel/i/mg/b/40/im...                 jpg   \n",
              "4     http://i.annihil.us/u/prod/marvel/i/mg/9/50/4c...                 jpg   \n",
              "...                                                 ...                 ...   \n",
              "1559  http://i.annihil.us/u/prod/marvel/i/mg/f/60/4c...                 png   \n",
              "1560  http://i.annihil.us/u/prod/marvel/i/mg/b/40/im...                 jpg   \n",
              "1561  http://i.annihil.us/u/prod/marvel/i/mg/6/10/4c...                 jpg   \n",
              "1562  http://i.annihil.us/u/prod/marvel/i/mg/b/40/im...                 jpg   \n",
              "1563  http://i.annihil.us/u/prod/marvel/i/mg/c/d0/4c...                 jpg   \n",
              "\n",
              "     comics.available                               comics.collectionURI  ...  \\\n",
              "0                  12  https://gateway.marvel.com/v1/public/character...  ...   \n",
              "1                   4  https://gateway.marvel.com/v1/public/character...  ...   \n",
              "2                  53  https://gateway.marvel.com/v1/public/character...  ...   \n",
              "3                  14  https://gateway.marvel.com/v1/public/character...  ...   \n",
              "4                  55  https://gateway.marvel.com/v1/public/character...  ...   \n",
              "...               ...                                                ...  ...   \n",
              "1559               36  https://gateway.marvel.com/v1/public/character...  ...   \n",
              "1560                1  https://gateway.marvel.com/v1/public/character...  ...   \n",
              "1561                1  https://gateway.marvel.com/v1/public/character...  ...   \n",
              "1562                3  https://gateway.marvel.com/v1/public/character...  ...   \n",
              "1563                5  https://gateway.marvel.com/v1/public/character...  ...   \n",
              "\n",
              "                                           series.items series.returned  \\\n",
              "0     [{'resourceURI': 'https://gateway.marvel.com/v...               3   \n",
              "1     [{'resourceURI': 'https://gateway.marvel.com/v...               2   \n",
              "2     [{'resourceURI': 'https://gateway.marvel.com/v...              20   \n",
              "3     [{'resourceURI': 'https://gateway.marvel.com/v...               3   \n",
              "4     [{'resourceURI': 'https://gateway.marvel.com/v...              20   \n",
              "...                                                 ...             ...   \n",
              "1559  [{'resourceURI': 'https://gateway.marvel.com/v...              13   \n",
              "1560  [{'resourceURI': 'https://gateway.marvel.com/v...               1   \n",
              "1561  [{'resourceURI': 'https://gateway.marvel.com/v...               1   \n",
              "1562  [{'resourceURI': 'https://gateway.marvel.com/v...               3   \n",
              "1563  [{'resourceURI': 'https://gateway.marvel.com/v...               4   \n",
              "\n",
              "     stories.available                              stories.collectionURI  \\\n",
              "0                   21  https://gateway.marvel.com/v1/public/character...   \n",
              "1                    7  https://gateway.marvel.com/v1/public/character...   \n",
              "2                   61  https://gateway.marvel.com/v1/public/character...   \n",
              "3                   28  https://gateway.marvel.com/v1/public/character...   \n",
              "4                   68  https://gateway.marvel.com/v1/public/character...   \n",
              "...                ...                                                ...   \n",
              "1559                43  https://gateway.marvel.com/v1/public/character...   \n",
              "1560                 1  https://gateway.marvel.com/v1/public/character...   \n",
              "1561                 1  https://gateway.marvel.com/v1/public/character...   \n",
              "1562                 3  https://gateway.marvel.com/v1/public/character...   \n",
              "1563                 6  https://gateway.marvel.com/v1/public/character...   \n",
              "\n",
              "                                          stories.items stories.returned  \\\n",
              "0     [{'resourceURI': 'https://gateway.marvel.com/v...               20   \n",
              "1     [{'resourceURI': 'https://gateway.marvel.com/v...                7   \n",
              "2     [{'resourceURI': 'https://gateway.marvel.com/v...               20   \n",
              "3     [{'resourceURI': 'https://gateway.marvel.com/v...               20   \n",
              "4     [{'resourceURI': 'https://gateway.marvel.com/v...               20   \n",
              "...                                                 ...              ...   \n",
              "1559  [{'resourceURI': 'https://gateway.marvel.com/v...               20   \n",
              "1560  [{'resourceURI': 'https://gateway.marvel.com/v...                1   \n",
              "1561  [{'resourceURI': 'https://gateway.marvel.com/v...                1   \n",
              "1562  [{'resourceURI': 'https://gateway.marvel.com/v...                3   \n",
              "1563  [{'resourceURI': 'https://gateway.marvel.com/v...                6   \n",
              "\n",
              "     events.available                               events.collectionURI  \\\n",
              "0                   1  https://gateway.marvel.com/v1/public/character...   \n",
              "1                   0  https://gateway.marvel.com/v1/public/character...   \n",
              "2                   0  https://gateway.marvel.com/v1/public/character...   \n",
              "3                   0  https://gateway.marvel.com/v1/public/character...   \n",
              "4                   1  https://gateway.marvel.com/v1/public/character...   \n",
              "...               ...                                                ...   \n",
              "1559                0  https://gateway.marvel.com/v1/public/character...   \n",
              "1560                0  https://gateway.marvel.com/v1/public/character...   \n",
              "1561                0  https://gateway.marvel.com/v1/public/character...   \n",
              "1562                0  https://gateway.marvel.com/v1/public/character...   \n",
              "1563                0  https://gateway.marvel.com/v1/public/character...   \n",
              "\n",
              "                                           events.items events.returned  \n",
              "0     [{'resourceURI': 'https://gateway.marvel.com/v...               1  \n",
              "1                                                    []               0  \n",
              "2                                                    []               0  \n",
              "3                                                    []               0  \n",
              "4     [{'resourceURI': 'https://gateway.marvel.com/v...               1  \n",
              "...                                                 ...             ...  \n",
              "1559                                                 []               0  \n",
              "1560                                                 []               0  \n",
              "1561                                                 []               0  \n",
              "1562                                                 []               0  \n",
              "1563                                                 []               0  \n",
              "\n",
              "[1564 rows x 24 columns]"
            ]
          },
          "execution_count": 24,
          "metadata": {},
          "output_type": "execute_result"
        }
      ],
      "source": [
        "todos_personagens = get_all_data(characters)\n",
        "todos_personagens"
      ]
    },
    {
      "cell_type": "code",
      "execution_count": null,
      "metadata": {
        "id": "sUlrvLOzoNkj"
      },
      "outputs": [],
      "source": [
        "#todos_personagens.to_csv(\"TodosPersonagens.csv\")"
      ]
    },
    {
      "cell_type": "markdown",
      "metadata": {
        "id": "u9fZTcg2rny2"
      },
      "source": [
        "## GET ALL COMICS"
      ]
    },
    {
      "cell_type": "code",
      "execution_count": null,
      "metadata": {
        "colab": {
          "base_uri": "https://localhost:8080/"
        },
        "id": "PdzfdvnsI0cR",
        "outputId": "5662daec-8527-43b8-fa46-f28755a9f937"
      },
      "outputs": [
        {
          "name": "stderr",
          "output_type": "stream",
          "text": [
            "Baixando dados da Marvel: 100%|██████████| 643/643 [42:20<00:00,  3.95s/it]\n"
          ]
        }
      ],
      "source": [
        "todos_comics = get_all_data(comics)\n"
      ]
    },
    {
      "cell_type": "code",
      "execution_count": null,
      "metadata": {
        "colab": {
          "base_uri": "https://localhost:8080/",
          "height": 446
        },
        "id": "Sf-o85HPr5__",
        "outputId": "6f92a8dd-338e-4cad-a3ef-db9c6b027a0c"
      },
      "outputs": [
        {
          "data": {
            "application/vnd.google.colaboratory.intrinsic+json": {
              "type": "dataframe",
              "variable_name": "todos_comics"
            },
            "text/html": [
              "\n",
              "  <div id=\"df-c2f3957d-9a1d-4f33-ad61-f4a8d1666dda\" class=\"colab-df-container\">\n",
              "    <div>\n",
              "<style scoped>\n",
              "    .dataframe tbody tr th:only-of-type {\n",
              "        vertical-align: middle;\n",
              "    }\n",
              "\n",
              "    .dataframe tbody tr th {\n",
              "        vertical-align: top;\n",
              "    }\n",
              "\n",
              "    .dataframe thead th {\n",
              "        text-align: right;\n",
              "    }\n",
              "</style>\n",
              "<table border=\"1\" class=\"dataframe\">\n",
              "  <thead>\n",
              "    <tr style=\"text-align: right;\">\n",
              "      <th></th>\n",
              "      <th>id</th>\n",
              "      <th>digitalId</th>\n",
              "      <th>title</th>\n",
              "      <th>issueNumber</th>\n",
              "      <th>variantDescription</th>\n",
              "      <th>description</th>\n",
              "      <th>modified</th>\n",
              "      <th>isbn</th>\n",
              "      <th>upc</th>\n",
              "      <th>diamondCode</th>\n",
              "      <th>...</th>\n",
              "      <th>characters.items</th>\n",
              "      <th>characters.returned</th>\n",
              "      <th>stories.available</th>\n",
              "      <th>stories.collectionURI</th>\n",
              "      <th>stories.items</th>\n",
              "      <th>stories.returned</th>\n",
              "      <th>events.available</th>\n",
              "      <th>events.collectionURI</th>\n",
              "      <th>events.items</th>\n",
              "      <th>events.returned</th>\n",
              "    </tr>\n",
              "  </thead>\n",
              "  <tbody>\n",
              "    <tr>\n",
              "      <th>0</th>\n",
              "      <td>82967</td>\n",
              "      <td>0</td>\n",
              "      <td>Marvel Previews (2017)</td>\n",
              "      <td>0</td>\n",
              "      <td></td>\n",
              "      <td></td>\n",
              "      <td>2019-11-07T08:46:15+0000</td>\n",
              "      <td></td>\n",
              "      <td>75960608839302811</td>\n",
              "      <td></td>\n",
              "      <td>...</td>\n",
              "      <td>[]</td>\n",
              "      <td>0</td>\n",
              "      <td>2</td>\n",
              "      <td>https://gateway.marvel.com/v1/public/comics/82...</td>\n",
              "      <td>[{'resourceURI': 'https://gateway.marvel.com/v...</td>\n",
              "      <td>2</td>\n",
              "      <td>0</td>\n",
              "      <td>https://gateway.marvel.com/v1/public/comics/82...</td>\n",
              "      <td>[]</td>\n",
              "      <td>0</td>\n",
              "    </tr>\n",
              "    <tr>\n",
              "      <th>1</th>\n",
              "      <td>82965</td>\n",
              "      <td>0</td>\n",
              "      <td>Marvel Previews (2017)</td>\n",
              "      <td>0</td>\n",
              "      <td></td>\n",
              "      <td></td>\n",
              "      <td>2019-08-21T17:11:27+0000</td>\n",
              "      <td></td>\n",
              "      <td>75960608839302611</td>\n",
              "      <td>JUL190068</td>\n",
              "      <td>...</td>\n",
              "      <td>[]</td>\n",
              "      <td>0</td>\n",
              "      <td>2</td>\n",
              "      <td>https://gateway.marvel.com/v1/public/comics/82...</td>\n",
              "      <td>[{'resourceURI': 'https://gateway.marvel.com/v...</td>\n",
              "      <td>2</td>\n",
              "      <td>0</td>\n",
              "      <td>https://gateway.marvel.com/v1/public/comics/82...</td>\n",
              "      <td>[]</td>\n",
              "      <td>0</td>\n",
              "    </tr>\n",
              "    <tr>\n",
              "      <th>2</th>\n",
              "      <td>82970</td>\n",
              "      <td>52952</td>\n",
              "      <td>Marvel Previews (2017)</td>\n",
              "      <td>0</td>\n",
              "      <td></td>\n",
              "      <td></td>\n",
              "      <td>2020-02-07T09:35:32+0000</td>\n",
              "      <td></td>\n",
              "      <td>75960608839303111</td>\n",
              "      <td></td>\n",
              "      <td>...</td>\n",
              "      <td>[]</td>\n",
              "      <td>0</td>\n",
              "      <td>2</td>\n",
              "      <td>https://gateway.marvel.com/v1/public/comics/82...</td>\n",
              "      <td>[{'resourceURI': 'https://gateway.marvel.com/v...</td>\n",
              "      <td>2</td>\n",
              "      <td>0</td>\n",
              "      <td>https://gateway.marvel.com/v1/public/comics/82...</td>\n",
              "      <td>[]</td>\n",
              "      <td>0</td>\n",
              "    </tr>\n",
              "    <tr>\n",
              "      <th>3</th>\n",
              "      <td>61137</td>\n",
              "      <td>0</td>\n",
              "      <td>The Punisher (2016) #5 (Cosplay Variant)</td>\n",
              "      <td>5</td>\n",
              "      <td>Cosplay Variant</td>\n",
              "      <td>None</td>\n",
              "      <td>2016-09-01T12:40:16+0000</td>\n",
              "      <td></td>\n",
              "      <td>75960608413500521</td>\n",
              "      <td></td>\n",
              "      <td>...</td>\n",
              "      <td>[]</td>\n",
              "      <td>0</td>\n",
              "      <td>2</td>\n",
              "      <td>https://gateway.marvel.com/v1/public/comics/61...</td>\n",
              "      <td>[{'resourceURI': 'https://gateway.marvel.com/v...</td>\n",
              "      <td>2</td>\n",
              "      <td>0</td>\n",
              "      <td>https://gateway.marvel.com/v1/public/comics/61...</td>\n",
              "      <td>[]</td>\n",
              "      <td>0</td>\n",
              "    </tr>\n",
              "    <tr>\n",
              "      <th>4</th>\n",
              "      <td>37497</td>\n",
              "      <td>0</td>\n",
              "      <td>MARVELS (1994) #1</td>\n",
              "      <td>1</td>\n",
              "      <td></td>\n",
              "      <td>None</td>\n",
              "      <td>2014-05-08T12:18:55+0000</td>\n",
              "      <td></td>\n",
              "      <td></td>\n",
              "      <td></td>\n",
              "      <td>...</td>\n",
              "      <td>[]</td>\n",
              "      <td>0</td>\n",
              "      <td>0</td>\n",
              "      <td>https://gateway.marvel.com/v1/public/comics/37...</td>\n",
              "      <td>[]</td>\n",
              "      <td>0</td>\n",
              "      <td>0</td>\n",
              "      <td>https://gateway.marvel.com/v1/public/comics/37...</td>\n",
              "      <td>[]</td>\n",
              "      <td>0</td>\n",
              "    </tr>\n",
              "  </tbody>\n",
              "</table>\n",
              "<p>5 rows × 43 columns</p>\n",
              "</div>\n",
              "    <div class=\"colab-df-buttons\">\n",
              "\n",
              "  <div class=\"colab-df-container\">\n",
              "    <button class=\"colab-df-convert\" onclick=\"convertToInteractive('df-c2f3957d-9a1d-4f33-ad61-f4a8d1666dda')\"\n",
              "            title=\"Convert this dataframe to an interactive table.\"\n",
              "            style=\"display:none;\">\n",
              "\n",
              "  <svg xmlns=\"http://www.w3.org/2000/svg\" height=\"24px\" viewBox=\"0 -960 960 960\">\n",
              "    <path d=\"M120-120v-720h720v720H120Zm60-500h600v-160H180v160Zm220 220h160v-160H400v160Zm0 220h160v-160H400v160ZM180-400h160v-160H180v160Zm440 0h160v-160H620v160ZM180-180h160v-160H180v160Zm440 0h160v-160H620v160Z\"/>\n",
              "  </svg>\n",
              "    </button>\n",
              "\n",
              "  <style>\n",
              "    .colab-df-container {\n",
              "      display:flex;\n",
              "      gap: 12px;\n",
              "    }\n",
              "\n",
              "    .colab-df-convert {\n",
              "      background-color: #E8F0FE;\n",
              "      border: none;\n",
              "      border-radius: 50%;\n",
              "      cursor: pointer;\n",
              "      display: none;\n",
              "      fill: #1967D2;\n",
              "      height: 32px;\n",
              "      padding: 0 0 0 0;\n",
              "      width: 32px;\n",
              "    }\n",
              "\n",
              "    .colab-df-convert:hover {\n",
              "      background-color: #E2EBFA;\n",
              "      box-shadow: 0px 1px 2px rgba(60, 64, 67, 0.3), 0px 1px 3px 1px rgba(60, 64, 67, 0.15);\n",
              "      fill: #174EA6;\n",
              "    }\n",
              "\n",
              "    .colab-df-buttons div {\n",
              "      margin-bottom: 4px;\n",
              "    }\n",
              "\n",
              "    [theme=dark] .colab-df-convert {\n",
              "      background-color: #3B4455;\n",
              "      fill: #D2E3FC;\n",
              "    }\n",
              "\n",
              "    [theme=dark] .colab-df-convert:hover {\n",
              "      background-color: #434B5C;\n",
              "      box-shadow: 0px 1px 3px 1px rgba(0, 0, 0, 0.15);\n",
              "      filter: drop-shadow(0px 1px 2px rgba(0, 0, 0, 0.3));\n",
              "      fill: #FFFFFF;\n",
              "    }\n",
              "  </style>\n",
              "\n",
              "    <script>\n",
              "      const buttonEl =\n",
              "        document.querySelector('#df-c2f3957d-9a1d-4f33-ad61-f4a8d1666dda button.colab-df-convert');\n",
              "      buttonEl.style.display =\n",
              "        google.colab.kernel.accessAllowed ? 'block' : 'none';\n",
              "\n",
              "      async function convertToInteractive(key) {\n",
              "        const element = document.querySelector('#df-c2f3957d-9a1d-4f33-ad61-f4a8d1666dda');\n",
              "        const dataTable =\n",
              "          await google.colab.kernel.invokeFunction('convertToInteractive',\n",
              "                                                    [key], {});\n",
              "        if (!dataTable) return;\n",
              "\n",
              "        const docLinkHtml = 'Like what you see? Visit the ' +\n",
              "          '<a target=\"_blank\" href=https://colab.research.google.com/notebooks/data_table.ipynb>data table notebook</a>'\n",
              "          + ' to learn more about interactive tables.';\n",
              "        element.innerHTML = '';\n",
              "        dataTable['output_type'] = 'display_data';\n",
              "        await google.colab.output.renderOutput(dataTable, element);\n",
              "        const docLink = document.createElement('div');\n",
              "        docLink.innerHTML = docLinkHtml;\n",
              "        element.appendChild(docLink);\n",
              "      }\n",
              "    </script>\n",
              "  </div>\n",
              "\n",
              "\n",
              "    <div id=\"df-0481011e-f6fd-416e-bcc2-90434e90535c\">\n",
              "      <button class=\"colab-df-quickchart\" onclick=\"quickchart('df-0481011e-f6fd-416e-bcc2-90434e90535c')\"\n",
              "                title=\"Suggest charts\"\n",
              "                style=\"display:none;\">\n",
              "\n",
              "<svg xmlns=\"http://www.w3.org/2000/svg\" height=\"24px\"viewBox=\"0 0 24 24\"\n",
              "     width=\"24px\">\n",
              "    <g>\n",
              "        <path d=\"M19 3H5c-1.1 0-2 .9-2 2v14c0 1.1.9 2 2 2h14c1.1 0 2-.9 2-2V5c0-1.1-.9-2-2-2zM9 17H7v-7h2v7zm4 0h-2V7h2v10zm4 0h-2v-4h2v4z\"/>\n",
              "    </g>\n",
              "</svg>\n",
              "      </button>\n",
              "\n",
              "<style>\n",
              "  .colab-df-quickchart {\n",
              "      --bg-color: #E8F0FE;\n",
              "      --fill-color: #1967D2;\n",
              "      --hover-bg-color: #E2EBFA;\n",
              "      --hover-fill-color: #174EA6;\n",
              "      --disabled-fill-color: #AAA;\n",
              "      --disabled-bg-color: #DDD;\n",
              "  }\n",
              "\n",
              "  [theme=dark] .colab-df-quickchart {\n",
              "      --bg-color: #3B4455;\n",
              "      --fill-color: #D2E3FC;\n",
              "      --hover-bg-color: #434B5C;\n",
              "      --hover-fill-color: #FFFFFF;\n",
              "      --disabled-bg-color: #3B4455;\n",
              "      --disabled-fill-color: #666;\n",
              "  }\n",
              "\n",
              "  .colab-df-quickchart {\n",
              "    background-color: var(--bg-color);\n",
              "    border: none;\n",
              "    border-radius: 50%;\n",
              "    cursor: pointer;\n",
              "    display: none;\n",
              "    fill: var(--fill-color);\n",
              "    height: 32px;\n",
              "    padding: 0;\n",
              "    width: 32px;\n",
              "  }\n",
              "\n",
              "  .colab-df-quickchart:hover {\n",
              "    background-color: var(--hover-bg-color);\n",
              "    box-shadow: 0 1px 2px rgba(60, 64, 67, 0.3), 0 1px 3px 1px rgba(60, 64, 67, 0.15);\n",
              "    fill: var(--button-hover-fill-color);\n",
              "  }\n",
              "\n",
              "  .colab-df-quickchart-complete:disabled,\n",
              "  .colab-df-quickchart-complete:disabled:hover {\n",
              "    background-color: var(--disabled-bg-color);\n",
              "    fill: var(--disabled-fill-color);\n",
              "    box-shadow: none;\n",
              "  }\n",
              "\n",
              "  .colab-df-spinner {\n",
              "    border: 2px solid var(--fill-color);\n",
              "    border-color: transparent;\n",
              "    border-bottom-color: var(--fill-color);\n",
              "    animation:\n",
              "      spin 1s steps(1) infinite;\n",
              "  }\n",
              "\n",
              "  @keyframes spin {\n",
              "    0% {\n",
              "      border-color: transparent;\n",
              "      border-bottom-color: var(--fill-color);\n",
              "      border-left-color: var(--fill-color);\n",
              "    }\n",
              "    20% {\n",
              "      border-color: transparent;\n",
              "      border-left-color: var(--fill-color);\n",
              "      border-top-color: var(--fill-color);\n",
              "    }\n",
              "    30% {\n",
              "      border-color: transparent;\n",
              "      border-left-color: var(--fill-color);\n",
              "      border-top-color: var(--fill-color);\n",
              "      border-right-color: var(--fill-color);\n",
              "    }\n",
              "    40% {\n",
              "      border-color: transparent;\n",
              "      border-right-color: var(--fill-color);\n",
              "      border-top-color: var(--fill-color);\n",
              "    }\n",
              "    60% {\n",
              "      border-color: transparent;\n",
              "      border-right-color: var(--fill-color);\n",
              "    }\n",
              "    80% {\n",
              "      border-color: transparent;\n",
              "      border-right-color: var(--fill-color);\n",
              "      border-bottom-color: var(--fill-color);\n",
              "    }\n",
              "    90% {\n",
              "      border-color: transparent;\n",
              "      border-bottom-color: var(--fill-color);\n",
              "    }\n",
              "  }\n",
              "</style>\n",
              "\n",
              "      <script>\n",
              "        async function quickchart(key) {\n",
              "          const quickchartButtonEl =\n",
              "            document.querySelector('#' + key + ' button');\n",
              "          quickchartButtonEl.disabled = true;  // To prevent multiple clicks.\n",
              "          quickchartButtonEl.classList.add('colab-df-spinner');\n",
              "          try {\n",
              "            const charts = await google.colab.kernel.invokeFunction(\n",
              "                'suggestCharts', [key], {});\n",
              "          } catch (error) {\n",
              "            console.error('Error during call to suggestCharts:', error);\n",
              "          }\n",
              "          quickchartButtonEl.classList.remove('colab-df-spinner');\n",
              "          quickchartButtonEl.classList.add('colab-df-quickchart-complete');\n",
              "        }\n",
              "        (() => {\n",
              "          let quickchartButtonEl =\n",
              "            document.querySelector('#df-0481011e-f6fd-416e-bcc2-90434e90535c button');\n",
              "          quickchartButtonEl.style.display =\n",
              "            google.colab.kernel.accessAllowed ? 'block' : 'none';\n",
              "        })();\n",
              "      </script>\n",
              "    </div>\n",
              "\n",
              "    </div>\n",
              "  </div>\n"
            ],
            "text/plain": [
              "      id digitalId                                     title issueNumber  \\\n",
              "0  82967         0                    Marvel Previews (2017)           0   \n",
              "1  82965         0                    Marvel Previews (2017)           0   \n",
              "2  82970     52952                    Marvel Previews (2017)           0   \n",
              "3  61137         0  The Punisher (2016) #5 (Cosplay Variant)           5   \n",
              "4  37497         0                         MARVELS (1994) #1           1   \n",
              "\n",
              "  variantDescription description                  modified isbn  \\\n",
              "0                                 2019-11-07T08:46:15+0000        \n",
              "1                                 2019-08-21T17:11:27+0000        \n",
              "2                                 2020-02-07T09:35:32+0000        \n",
              "3    Cosplay Variant        None  2016-09-01T12:40:16+0000        \n",
              "4                           None  2014-05-08T12:18:55+0000        \n",
              "\n",
              "                 upc diamondCode  ... characters.items characters.returned  \\\n",
              "0  75960608839302811              ...               []                   0   \n",
              "1  75960608839302611   JUL190068  ...               []                   0   \n",
              "2  75960608839303111              ...               []                   0   \n",
              "3  75960608413500521              ...               []                   0   \n",
              "4                                 ...               []                   0   \n",
              "\n",
              "  stories.available                              stories.collectionURI  \\\n",
              "0                 2  https://gateway.marvel.com/v1/public/comics/82...   \n",
              "1                 2  https://gateway.marvel.com/v1/public/comics/82...   \n",
              "2                 2  https://gateway.marvel.com/v1/public/comics/82...   \n",
              "3                 2  https://gateway.marvel.com/v1/public/comics/61...   \n",
              "4                 0  https://gateway.marvel.com/v1/public/comics/37...   \n",
              "\n",
              "                                       stories.items stories.returned  \\\n",
              "0  [{'resourceURI': 'https://gateway.marvel.com/v...                2   \n",
              "1  [{'resourceURI': 'https://gateway.marvel.com/v...                2   \n",
              "2  [{'resourceURI': 'https://gateway.marvel.com/v...                2   \n",
              "3  [{'resourceURI': 'https://gateway.marvel.com/v...                2   \n",
              "4                                                 []                0   \n",
              "\n",
              "  events.available                               events.collectionURI  \\\n",
              "0                0  https://gateway.marvel.com/v1/public/comics/82...   \n",
              "1                0  https://gateway.marvel.com/v1/public/comics/82...   \n",
              "2                0  https://gateway.marvel.com/v1/public/comics/82...   \n",
              "3                0  https://gateway.marvel.com/v1/public/comics/61...   \n",
              "4                0  https://gateway.marvel.com/v1/public/comics/37...   \n",
              "\n",
              "  events.items events.returned  \n",
              "0           []               0  \n",
              "1           []               0  \n",
              "2           []               0  \n",
              "3           []               0  \n",
              "4           []               0  \n",
              "\n",
              "[5 rows x 43 columns]"
            ]
          },
          "execution_count": 27,
          "metadata": {},
          "output_type": "execute_result"
        }
      ],
      "source": [
        "todos_comics.head()"
      ]
    },
    {
      "cell_type": "code",
      "execution_count": null,
      "metadata": {
        "id": "lzanijc-rygK"
      },
      "outputs": [],
      "source": [
        "#todos_comics.to_csv(\"TodosComics.csv\")"
      ]
    },
    {
      "cell_type": "code",
      "execution_count": null,
      "metadata": {
        "colab": {
          "base_uri": "https://localhost:8080/",
          "height": 808
        },
        "id": "fu2fSZTwr68u",
        "outputId": "695ed65b-4606-458d-d47e-2fe03cccbe21"
      },
      "outputs": [
        {
          "data": {
            "application/vnd.google.colaboratory.intrinsic+json": {
              "type": "dataframe",
              "variable_name": "todos_comics"
            },
            "text/html": [
              "\n",
              "  <div id=\"df-836c230b-3753-4afc-a7ff-266c2d7cb39c\" class=\"colab-df-container\">\n",
              "    <div>\n",
              "<style scoped>\n",
              "    .dataframe tbody tr th:only-of-type {\n",
              "        vertical-align: middle;\n",
              "    }\n",
              "\n",
              "    .dataframe tbody tr th {\n",
              "        vertical-align: top;\n",
              "    }\n",
              "\n",
              "    .dataframe thead th {\n",
              "        text-align: right;\n",
              "    }\n",
              "</style>\n",
              "<table border=\"1\" class=\"dataframe\">\n",
              "  <thead>\n",
              "    <tr style=\"text-align: right;\">\n",
              "      <th></th>\n",
              "      <th>id</th>\n",
              "      <th>digitalId</th>\n",
              "      <th>title</th>\n",
              "      <th>issueNumber</th>\n",
              "      <th>variantDescription</th>\n",
              "      <th>description</th>\n",
              "      <th>modified</th>\n",
              "      <th>isbn</th>\n",
              "      <th>upc</th>\n",
              "      <th>diamondCode</th>\n",
              "      <th>...</th>\n",
              "      <th>characters.items</th>\n",
              "      <th>characters.returned</th>\n",
              "      <th>stories.available</th>\n",
              "      <th>stories.collectionURI</th>\n",
              "      <th>stories.items</th>\n",
              "      <th>stories.returned</th>\n",
              "      <th>events.available</th>\n",
              "      <th>events.collectionURI</th>\n",
              "      <th>events.items</th>\n",
              "      <th>events.returned</th>\n",
              "    </tr>\n",
              "  </thead>\n",
              "  <tbody>\n",
              "    <tr>\n",
              "      <th>0</th>\n",
              "      <td>82967</td>\n",
              "      <td>0</td>\n",
              "      <td>Marvel Previews (2017)</td>\n",
              "      <td>0</td>\n",
              "      <td></td>\n",
              "      <td></td>\n",
              "      <td>2019-11-07T08:46:15+0000</td>\n",
              "      <td></td>\n",
              "      <td>75960608839302811</td>\n",
              "      <td></td>\n",
              "      <td>...</td>\n",
              "      <td>[]</td>\n",
              "      <td>0</td>\n",
              "      <td>2</td>\n",
              "      <td>https://gateway.marvel.com/v1/public/comics/82...</td>\n",
              "      <td>[{'resourceURI': 'https://gateway.marvel.com/v...</td>\n",
              "      <td>2</td>\n",
              "      <td>0</td>\n",
              "      <td>https://gateway.marvel.com/v1/public/comics/82...</td>\n",
              "      <td>[]</td>\n",
              "      <td>0</td>\n",
              "    </tr>\n",
              "    <tr>\n",
              "      <th>1</th>\n",
              "      <td>82965</td>\n",
              "      <td>0</td>\n",
              "      <td>Marvel Previews (2017)</td>\n",
              "      <td>0</td>\n",
              "      <td></td>\n",
              "      <td></td>\n",
              "      <td>2019-08-21T17:11:27+0000</td>\n",
              "      <td></td>\n",
              "      <td>75960608839302611</td>\n",
              "      <td>JUL190068</td>\n",
              "      <td>...</td>\n",
              "      <td>[]</td>\n",
              "      <td>0</td>\n",
              "      <td>2</td>\n",
              "      <td>https://gateway.marvel.com/v1/public/comics/82...</td>\n",
              "      <td>[{'resourceURI': 'https://gateway.marvel.com/v...</td>\n",
              "      <td>2</td>\n",
              "      <td>0</td>\n",
              "      <td>https://gateway.marvel.com/v1/public/comics/82...</td>\n",
              "      <td>[]</td>\n",
              "      <td>0</td>\n",
              "    </tr>\n",
              "    <tr>\n",
              "      <th>2</th>\n",
              "      <td>82970</td>\n",
              "      <td>52952</td>\n",
              "      <td>Marvel Previews (2017)</td>\n",
              "      <td>0</td>\n",
              "      <td></td>\n",
              "      <td></td>\n",
              "      <td>2020-02-07T09:35:32+0000</td>\n",
              "      <td></td>\n",
              "      <td>75960608839303111</td>\n",
              "      <td></td>\n",
              "      <td>...</td>\n",
              "      <td>[]</td>\n",
              "      <td>0</td>\n",
              "      <td>2</td>\n",
              "      <td>https://gateway.marvel.com/v1/public/comics/82...</td>\n",
              "      <td>[{'resourceURI': 'https://gateway.marvel.com/v...</td>\n",
              "      <td>2</td>\n",
              "      <td>0</td>\n",
              "      <td>https://gateway.marvel.com/v1/public/comics/82...</td>\n",
              "      <td>[]</td>\n",
              "      <td>0</td>\n",
              "    </tr>\n",
              "    <tr>\n",
              "      <th>3</th>\n",
              "      <td>61137</td>\n",
              "      <td>0</td>\n",
              "      <td>The Punisher (2016) #5 (Cosplay Variant)</td>\n",
              "      <td>5</td>\n",
              "      <td>Cosplay Variant</td>\n",
              "      <td>None</td>\n",
              "      <td>2016-09-01T12:40:16+0000</td>\n",
              "      <td></td>\n",
              "      <td>75960608413500521</td>\n",
              "      <td></td>\n",
              "      <td>...</td>\n",
              "      <td>[]</td>\n",
              "      <td>0</td>\n",
              "      <td>2</td>\n",
              "      <td>https://gateway.marvel.com/v1/public/comics/61...</td>\n",
              "      <td>[{'resourceURI': 'https://gateway.marvel.com/v...</td>\n",
              "      <td>2</td>\n",
              "      <td>0</td>\n",
              "      <td>https://gateway.marvel.com/v1/public/comics/61...</td>\n",
              "      <td>[]</td>\n",
              "      <td>0</td>\n",
              "    </tr>\n",
              "    <tr>\n",
              "      <th>4</th>\n",
              "      <td>37497</td>\n",
              "      <td>0</td>\n",
              "      <td>MARVELS (1994) #1</td>\n",
              "      <td>1</td>\n",
              "      <td></td>\n",
              "      <td>None</td>\n",
              "      <td>2014-05-08T12:18:55+0000</td>\n",
              "      <td></td>\n",
              "      <td></td>\n",
              "      <td></td>\n",
              "      <td>...</td>\n",
              "      <td>[]</td>\n",
              "      <td>0</td>\n",
              "      <td>0</td>\n",
              "      <td>https://gateway.marvel.com/v1/public/comics/37...</td>\n",
              "      <td>[]</td>\n",
              "      <td>0</td>\n",
              "      <td>0</td>\n",
              "      <td>https://gateway.marvel.com/v1/public/comics/37...</td>\n",
              "      <td>[]</td>\n",
              "      <td>0</td>\n",
              "    </tr>\n",
              "    <tr>\n",
              "      <th>...</th>\n",
              "      <td>...</td>\n",
              "      <td>...</td>\n",
              "      <td>...</td>\n",
              "      <td>...</td>\n",
              "      <td>...</td>\n",
              "      <td>...</td>\n",
              "      <td>...</td>\n",
              "      <td>...</td>\n",
              "      <td>...</td>\n",
              "      <td>...</td>\n",
              "      <td>...</td>\n",
              "      <td>...</td>\n",
              "      <td>...</td>\n",
              "      <td>...</td>\n",
              "      <td>...</td>\n",
              "      <td>...</td>\n",
              "      <td>...</td>\n",
              "      <td>...</td>\n",
              "      <td>...</td>\n",
              "      <td>...</td>\n",
              "      <td>...</td>\n",
              "    </tr>\n",
              "    <tr>\n",
              "      <th>64263</th>\n",
              "      <td>21671</td>\n",
              "      <td>0</td>\n",
              "      <td>Psi-Force (1986) #28</td>\n",
              "      <td>28</td>\n",
              "      <td></td>\n",
              "      <td>None</td>\n",
              "      <td>-0001-11-30T00:00:00+0000</td>\n",
              "      <td></td>\n",
              "      <td></td>\n",
              "      <td></td>\n",
              "      <td>...</td>\n",
              "      <td>[]</td>\n",
              "      <td>0</td>\n",
              "      <td>2</td>\n",
              "      <td>https://gateway.marvel.com/v1/public/comics/21...</td>\n",
              "      <td>[{'resourceURI': 'https://gateway.marvel.com/v...</td>\n",
              "      <td>2</td>\n",
              "      <td>0</td>\n",
              "      <td>https://gateway.marvel.com/v1/public/comics/21...</td>\n",
              "      <td>[]</td>\n",
              "      <td>0</td>\n",
              "    </tr>\n",
              "    <tr>\n",
              "      <th>64264</th>\n",
              "      <td>21672</td>\n",
              "      <td>0</td>\n",
              "      <td>Psi-Force (1986) #29</td>\n",
              "      <td>29</td>\n",
              "      <td></td>\n",
              "      <td>None</td>\n",
              "      <td>-0001-11-30T00:00:00+0000</td>\n",
              "      <td></td>\n",
              "      <td></td>\n",
              "      <td></td>\n",
              "      <td>...</td>\n",
              "      <td>[]</td>\n",
              "      <td>0</td>\n",
              "      <td>2</td>\n",
              "      <td>https://gateway.marvel.com/v1/public/comics/21...</td>\n",
              "      <td>[{'resourceURI': 'https://gateway.marvel.com/v...</td>\n",
              "      <td>2</td>\n",
              "      <td>0</td>\n",
              "      <td>https://gateway.marvel.com/v1/public/comics/21...</td>\n",
              "      <td>[]</td>\n",
              "      <td>0</td>\n",
              "    </tr>\n",
              "    <tr>\n",
              "      <th>64265</th>\n",
              "      <td>21674</td>\n",
              "      <td>0</td>\n",
              "      <td>Psi-Force (1986) #30</td>\n",
              "      <td>30</td>\n",
              "      <td></td>\n",
              "      <td>None</td>\n",
              "      <td>-0001-11-30T00:00:00+0000</td>\n",
              "      <td></td>\n",
              "      <td></td>\n",
              "      <td></td>\n",
              "      <td>...</td>\n",
              "      <td>[]</td>\n",
              "      <td>0</td>\n",
              "      <td>2</td>\n",
              "      <td>https://gateway.marvel.com/v1/public/comics/21...</td>\n",
              "      <td>[{'resourceURI': 'https://gateway.marvel.com/v...</td>\n",
              "      <td>2</td>\n",
              "      <td>0</td>\n",
              "      <td>https://gateway.marvel.com/v1/public/comics/21...</td>\n",
              "      <td>[]</td>\n",
              "      <td>0</td>\n",
              "    </tr>\n",
              "    <tr>\n",
              "      <th>64266</th>\n",
              "      <td>21675</td>\n",
              "      <td>0</td>\n",
              "      <td>Psi-Force (1986) #31</td>\n",
              "      <td>31</td>\n",
              "      <td></td>\n",
              "      <td>None</td>\n",
              "      <td>-0001-11-30T00:00:00+0000</td>\n",
              "      <td></td>\n",
              "      <td></td>\n",
              "      <td></td>\n",
              "      <td>...</td>\n",
              "      <td>[]</td>\n",
              "      <td>0</td>\n",
              "      <td>2</td>\n",
              "      <td>https://gateway.marvel.com/v1/public/comics/21...</td>\n",
              "      <td>[{'resourceURI': 'https://gateway.marvel.com/v...</td>\n",
              "      <td>2</td>\n",
              "      <td>0</td>\n",
              "      <td>https://gateway.marvel.com/v1/public/comics/21...</td>\n",
              "      <td>[]</td>\n",
              "      <td>0</td>\n",
              "    </tr>\n",
              "    <tr>\n",
              "      <th>64267</th>\n",
              "      <td>21676</td>\n",
              "      <td>0</td>\n",
              "      <td>Psi-Force (1986) #32</td>\n",
              "      <td>32</td>\n",
              "      <td></td>\n",
              "      <td>None</td>\n",
              "      <td>-0001-11-30T00:00:00+0000</td>\n",
              "      <td></td>\n",
              "      <td></td>\n",
              "      <td></td>\n",
              "      <td>...</td>\n",
              "      <td>[]</td>\n",
              "      <td>0</td>\n",
              "      <td>2</td>\n",
              "      <td>https://gateway.marvel.com/v1/public/comics/21...</td>\n",
              "      <td>[{'resourceURI': 'https://gateway.marvel.com/v...</td>\n",
              "      <td>2</td>\n",
              "      <td>0</td>\n",
              "      <td>https://gateway.marvel.com/v1/public/comics/21...</td>\n",
              "      <td>[]</td>\n",
              "      <td>0</td>\n",
              "    </tr>\n",
              "  </tbody>\n",
              "</table>\n",
              "<p>64268 rows × 43 columns</p>\n",
              "</div>\n",
              "    <div class=\"colab-df-buttons\">\n",
              "\n",
              "  <div class=\"colab-df-container\">\n",
              "    <button class=\"colab-df-convert\" onclick=\"convertToInteractive('df-836c230b-3753-4afc-a7ff-266c2d7cb39c')\"\n",
              "            title=\"Convert this dataframe to an interactive table.\"\n",
              "            style=\"display:none;\">\n",
              "\n",
              "  <svg xmlns=\"http://www.w3.org/2000/svg\" height=\"24px\" viewBox=\"0 -960 960 960\">\n",
              "    <path d=\"M120-120v-720h720v720H120Zm60-500h600v-160H180v160Zm220 220h160v-160H400v160Zm0 220h160v-160H400v160ZM180-400h160v-160H180v160Zm440 0h160v-160H620v160ZM180-180h160v-160H180v160Zm440 0h160v-160H620v160Z\"/>\n",
              "  </svg>\n",
              "    </button>\n",
              "\n",
              "  <style>\n",
              "    .colab-df-container {\n",
              "      display:flex;\n",
              "      gap: 12px;\n",
              "    }\n",
              "\n",
              "    .colab-df-convert {\n",
              "      background-color: #E8F0FE;\n",
              "      border: none;\n",
              "      border-radius: 50%;\n",
              "      cursor: pointer;\n",
              "      display: none;\n",
              "      fill: #1967D2;\n",
              "      height: 32px;\n",
              "      padding: 0 0 0 0;\n",
              "      width: 32px;\n",
              "    }\n",
              "\n",
              "    .colab-df-convert:hover {\n",
              "      background-color: #E2EBFA;\n",
              "      box-shadow: 0px 1px 2px rgba(60, 64, 67, 0.3), 0px 1px 3px 1px rgba(60, 64, 67, 0.15);\n",
              "      fill: #174EA6;\n",
              "    }\n",
              "\n",
              "    .colab-df-buttons div {\n",
              "      margin-bottom: 4px;\n",
              "    }\n",
              "\n",
              "    [theme=dark] .colab-df-convert {\n",
              "      background-color: #3B4455;\n",
              "      fill: #D2E3FC;\n",
              "    }\n",
              "\n",
              "    [theme=dark] .colab-df-convert:hover {\n",
              "      background-color: #434B5C;\n",
              "      box-shadow: 0px 1px 3px 1px rgba(0, 0, 0, 0.15);\n",
              "      filter: drop-shadow(0px 1px 2px rgba(0, 0, 0, 0.3));\n",
              "      fill: #FFFFFF;\n",
              "    }\n",
              "  </style>\n",
              "\n",
              "    <script>\n",
              "      const buttonEl =\n",
              "        document.querySelector('#df-836c230b-3753-4afc-a7ff-266c2d7cb39c button.colab-df-convert');\n",
              "      buttonEl.style.display =\n",
              "        google.colab.kernel.accessAllowed ? 'block' : 'none';\n",
              "\n",
              "      async function convertToInteractive(key) {\n",
              "        const element = document.querySelector('#df-836c230b-3753-4afc-a7ff-266c2d7cb39c');\n",
              "        const dataTable =\n",
              "          await google.colab.kernel.invokeFunction('convertToInteractive',\n",
              "                                                    [key], {});\n",
              "        if (!dataTable) return;\n",
              "\n",
              "        const docLinkHtml = 'Like what you see? Visit the ' +\n",
              "          '<a target=\"_blank\" href=https://colab.research.google.com/notebooks/data_table.ipynb>data table notebook</a>'\n",
              "          + ' to learn more about interactive tables.';\n",
              "        element.innerHTML = '';\n",
              "        dataTable['output_type'] = 'display_data';\n",
              "        await google.colab.output.renderOutput(dataTable, element);\n",
              "        const docLink = document.createElement('div');\n",
              "        docLink.innerHTML = docLinkHtml;\n",
              "        element.appendChild(docLink);\n",
              "      }\n",
              "    </script>\n",
              "  </div>\n",
              "\n",
              "\n",
              "    <div id=\"df-9b100bda-924e-467c-893b-7e85f542aebf\">\n",
              "      <button class=\"colab-df-quickchart\" onclick=\"quickchart('df-9b100bda-924e-467c-893b-7e85f542aebf')\"\n",
              "                title=\"Suggest charts\"\n",
              "                style=\"display:none;\">\n",
              "\n",
              "<svg xmlns=\"http://www.w3.org/2000/svg\" height=\"24px\"viewBox=\"0 0 24 24\"\n",
              "     width=\"24px\">\n",
              "    <g>\n",
              "        <path d=\"M19 3H5c-1.1 0-2 .9-2 2v14c0 1.1.9 2 2 2h14c1.1 0 2-.9 2-2V5c0-1.1-.9-2-2-2zM9 17H7v-7h2v7zm4 0h-2V7h2v10zm4 0h-2v-4h2v4z\"/>\n",
              "    </g>\n",
              "</svg>\n",
              "      </button>\n",
              "\n",
              "<style>\n",
              "  .colab-df-quickchart {\n",
              "      --bg-color: #E8F0FE;\n",
              "      --fill-color: #1967D2;\n",
              "      --hover-bg-color: #E2EBFA;\n",
              "      --hover-fill-color: #174EA6;\n",
              "      --disabled-fill-color: #AAA;\n",
              "      --disabled-bg-color: #DDD;\n",
              "  }\n",
              "\n",
              "  [theme=dark] .colab-df-quickchart {\n",
              "      --bg-color: #3B4455;\n",
              "      --fill-color: #D2E3FC;\n",
              "      --hover-bg-color: #434B5C;\n",
              "      --hover-fill-color: #FFFFFF;\n",
              "      --disabled-bg-color: #3B4455;\n",
              "      --disabled-fill-color: #666;\n",
              "  }\n",
              "\n",
              "  .colab-df-quickchart {\n",
              "    background-color: var(--bg-color);\n",
              "    border: none;\n",
              "    border-radius: 50%;\n",
              "    cursor: pointer;\n",
              "    display: none;\n",
              "    fill: var(--fill-color);\n",
              "    height: 32px;\n",
              "    padding: 0;\n",
              "    width: 32px;\n",
              "  }\n",
              "\n",
              "  .colab-df-quickchart:hover {\n",
              "    background-color: var(--hover-bg-color);\n",
              "    box-shadow: 0 1px 2px rgba(60, 64, 67, 0.3), 0 1px 3px 1px rgba(60, 64, 67, 0.15);\n",
              "    fill: var(--button-hover-fill-color);\n",
              "  }\n",
              "\n",
              "  .colab-df-quickchart-complete:disabled,\n",
              "  .colab-df-quickchart-complete:disabled:hover {\n",
              "    background-color: var(--disabled-bg-color);\n",
              "    fill: var(--disabled-fill-color);\n",
              "    box-shadow: none;\n",
              "  }\n",
              "\n",
              "  .colab-df-spinner {\n",
              "    border: 2px solid var(--fill-color);\n",
              "    border-color: transparent;\n",
              "    border-bottom-color: var(--fill-color);\n",
              "    animation:\n",
              "      spin 1s steps(1) infinite;\n",
              "  }\n",
              "\n",
              "  @keyframes spin {\n",
              "    0% {\n",
              "      border-color: transparent;\n",
              "      border-bottom-color: var(--fill-color);\n",
              "      border-left-color: var(--fill-color);\n",
              "    }\n",
              "    20% {\n",
              "      border-color: transparent;\n",
              "      border-left-color: var(--fill-color);\n",
              "      border-top-color: var(--fill-color);\n",
              "    }\n",
              "    30% {\n",
              "      border-color: transparent;\n",
              "      border-left-color: var(--fill-color);\n",
              "      border-top-color: var(--fill-color);\n",
              "      border-right-color: var(--fill-color);\n",
              "    }\n",
              "    40% {\n",
              "      border-color: transparent;\n",
              "      border-right-color: var(--fill-color);\n",
              "      border-top-color: var(--fill-color);\n",
              "    }\n",
              "    60% {\n",
              "      border-color: transparent;\n",
              "      border-right-color: var(--fill-color);\n",
              "    }\n",
              "    80% {\n",
              "      border-color: transparent;\n",
              "      border-right-color: var(--fill-color);\n",
              "      border-bottom-color: var(--fill-color);\n",
              "    }\n",
              "    90% {\n",
              "      border-color: transparent;\n",
              "      border-bottom-color: var(--fill-color);\n",
              "    }\n",
              "  }\n",
              "</style>\n",
              "\n",
              "      <script>\n",
              "        async function quickchart(key) {\n",
              "          const quickchartButtonEl =\n",
              "            document.querySelector('#' + key + ' button');\n",
              "          quickchartButtonEl.disabled = true;  // To prevent multiple clicks.\n",
              "          quickchartButtonEl.classList.add('colab-df-spinner');\n",
              "          try {\n",
              "            const charts = await google.colab.kernel.invokeFunction(\n",
              "                'suggestCharts', [key], {});\n",
              "          } catch (error) {\n",
              "            console.error('Error during call to suggestCharts:', error);\n",
              "          }\n",
              "          quickchartButtonEl.classList.remove('colab-df-spinner');\n",
              "          quickchartButtonEl.classList.add('colab-df-quickchart-complete');\n",
              "        }\n",
              "        (() => {\n",
              "          let quickchartButtonEl =\n",
              "            document.querySelector('#df-9b100bda-924e-467c-893b-7e85f542aebf button');\n",
              "          quickchartButtonEl.style.display =\n",
              "            google.colab.kernel.accessAllowed ? 'block' : 'none';\n",
              "        })();\n",
              "      </script>\n",
              "    </div>\n",
              "\n",
              "  <div id=\"id_01445f9d-f3a7-4115-9021-c8c223312875\">\n",
              "    <style>\n",
              "      .colab-df-generate {\n",
              "        background-color: #E8F0FE;\n",
              "        border: none;\n",
              "        border-radius: 50%;\n",
              "        cursor: pointer;\n",
              "        display: none;\n",
              "        fill: #1967D2;\n",
              "        height: 32px;\n",
              "        padding: 0 0 0 0;\n",
              "        width: 32px;\n",
              "      }\n",
              "\n",
              "      .colab-df-generate:hover {\n",
              "        background-color: #E2EBFA;\n",
              "        box-shadow: 0px 1px 2px rgba(60, 64, 67, 0.3), 0px 1px 3px 1px rgba(60, 64, 67, 0.15);\n",
              "        fill: #174EA6;\n",
              "      }\n",
              "\n",
              "      [theme=dark] .colab-df-generate {\n",
              "        background-color: #3B4455;\n",
              "        fill: #D2E3FC;\n",
              "      }\n",
              "\n",
              "      [theme=dark] .colab-df-generate:hover {\n",
              "        background-color: #434B5C;\n",
              "        box-shadow: 0px 1px 3px 1px rgba(0, 0, 0, 0.15);\n",
              "        filter: drop-shadow(0px 1px 2px rgba(0, 0, 0, 0.3));\n",
              "        fill: #FFFFFF;\n",
              "      }\n",
              "    </style>\n",
              "    <button class=\"colab-df-generate\" onclick=\"generateWithVariable('todos_comics')\"\n",
              "            title=\"Generate code using this dataframe.\"\n",
              "            style=\"display:none;\">\n",
              "\n",
              "  <svg xmlns=\"http://www.w3.org/2000/svg\" height=\"24px\"viewBox=\"0 0 24 24\"\n",
              "       width=\"24px\">\n",
              "    <path d=\"M7,19H8.4L18.45,9,17,7.55,7,17.6ZM5,21V16.75L18.45,3.32a2,2,0,0,1,2.83,0l1.4,1.43a1.91,1.91,0,0,1,.58,1.4,1.91,1.91,0,0,1-.58,1.4L9.25,21ZM18.45,9,17,7.55Zm-12,3A5.31,5.31,0,0,0,4.9,8.1,5.31,5.31,0,0,0,1,6.5,5.31,5.31,0,0,0,4.9,4.9,5.31,5.31,0,0,0,6.5,1,5.31,5.31,0,0,0,8.1,4.9,5.31,5.31,0,0,0,12,6.5,5.46,5.46,0,0,0,6.5,12Z\"/>\n",
              "  </svg>\n",
              "    </button>\n",
              "    <script>\n",
              "      (() => {\n",
              "      const buttonEl =\n",
              "        document.querySelector('#id_01445f9d-f3a7-4115-9021-c8c223312875 button.colab-df-generate');\n",
              "      buttonEl.style.display =\n",
              "        google.colab.kernel.accessAllowed ? 'block' : 'none';\n",
              "\n",
              "      buttonEl.onclick = () => {\n",
              "        google.colab.notebook.generateWithVariable('todos_comics');\n",
              "      }\n",
              "      })();\n",
              "    </script>\n",
              "  </div>\n",
              "\n",
              "    </div>\n",
              "  </div>\n"
            ],
            "text/plain": [
              "          id digitalId                                     title issueNumber  \\\n",
              "0      82967         0                    Marvel Previews (2017)           0   \n",
              "1      82965         0                    Marvel Previews (2017)           0   \n",
              "2      82970     52952                    Marvel Previews (2017)           0   \n",
              "3      61137         0  The Punisher (2016) #5 (Cosplay Variant)           5   \n",
              "4      37497         0                         MARVELS (1994) #1           1   \n",
              "...      ...       ...                                       ...         ...   \n",
              "64263  21671         0                      Psi-Force (1986) #28          28   \n",
              "64264  21672         0                      Psi-Force (1986) #29          29   \n",
              "64265  21674         0                      Psi-Force (1986) #30          30   \n",
              "64266  21675         0                      Psi-Force (1986) #31          31   \n",
              "64267  21676         0                      Psi-Force (1986) #32          32   \n",
              "\n",
              "      variantDescription description                   modified isbn  \\\n",
              "0                                      2019-11-07T08:46:15+0000        \n",
              "1                                      2019-08-21T17:11:27+0000        \n",
              "2                                      2020-02-07T09:35:32+0000        \n",
              "3        Cosplay Variant        None   2016-09-01T12:40:16+0000        \n",
              "4                               None   2014-05-08T12:18:55+0000        \n",
              "...                  ...         ...                        ...  ...   \n",
              "64263                           None  -0001-11-30T00:00:00+0000        \n",
              "64264                           None  -0001-11-30T00:00:00+0000        \n",
              "64265                           None  -0001-11-30T00:00:00+0000        \n",
              "64266                           None  -0001-11-30T00:00:00+0000        \n",
              "64267                           None  -0001-11-30T00:00:00+0000        \n",
              "\n",
              "                     upc diamondCode  ... characters.items  \\\n",
              "0      75960608839302811              ...               []   \n",
              "1      75960608839302611   JUL190068  ...               []   \n",
              "2      75960608839303111              ...               []   \n",
              "3      75960608413500521              ...               []   \n",
              "4                                     ...               []   \n",
              "...                  ...         ...  ...              ...   \n",
              "64263                                 ...               []   \n",
              "64264                                 ...               []   \n",
              "64265                                 ...               []   \n",
              "64266                                 ...               []   \n",
              "64267                                 ...               []   \n",
              "\n",
              "      characters.returned stories.available  \\\n",
              "0                       0                 2   \n",
              "1                       0                 2   \n",
              "2                       0                 2   \n",
              "3                       0                 2   \n",
              "4                       0                 0   \n",
              "...                   ...               ...   \n",
              "64263                   0                 2   \n",
              "64264                   0                 2   \n",
              "64265                   0                 2   \n",
              "64266                   0                 2   \n",
              "64267                   0                 2   \n",
              "\n",
              "                                   stories.collectionURI  \\\n",
              "0      https://gateway.marvel.com/v1/public/comics/82...   \n",
              "1      https://gateway.marvel.com/v1/public/comics/82...   \n",
              "2      https://gateway.marvel.com/v1/public/comics/82...   \n",
              "3      https://gateway.marvel.com/v1/public/comics/61...   \n",
              "4      https://gateway.marvel.com/v1/public/comics/37...   \n",
              "...                                                  ...   \n",
              "64263  https://gateway.marvel.com/v1/public/comics/21...   \n",
              "64264  https://gateway.marvel.com/v1/public/comics/21...   \n",
              "64265  https://gateway.marvel.com/v1/public/comics/21...   \n",
              "64266  https://gateway.marvel.com/v1/public/comics/21...   \n",
              "64267  https://gateway.marvel.com/v1/public/comics/21...   \n",
              "\n",
              "                                           stories.items stories.returned  \\\n",
              "0      [{'resourceURI': 'https://gateway.marvel.com/v...                2   \n",
              "1      [{'resourceURI': 'https://gateway.marvel.com/v...                2   \n",
              "2      [{'resourceURI': 'https://gateway.marvel.com/v...                2   \n",
              "3      [{'resourceURI': 'https://gateway.marvel.com/v...                2   \n",
              "4                                                     []                0   \n",
              "...                                                  ...              ...   \n",
              "64263  [{'resourceURI': 'https://gateway.marvel.com/v...                2   \n",
              "64264  [{'resourceURI': 'https://gateway.marvel.com/v...                2   \n",
              "64265  [{'resourceURI': 'https://gateway.marvel.com/v...                2   \n",
              "64266  [{'resourceURI': 'https://gateway.marvel.com/v...                2   \n",
              "64267  [{'resourceURI': 'https://gateway.marvel.com/v...                2   \n",
              "\n",
              "      events.available                               events.collectionURI  \\\n",
              "0                    0  https://gateway.marvel.com/v1/public/comics/82...   \n",
              "1                    0  https://gateway.marvel.com/v1/public/comics/82...   \n",
              "2                    0  https://gateway.marvel.com/v1/public/comics/82...   \n",
              "3                    0  https://gateway.marvel.com/v1/public/comics/61...   \n",
              "4                    0  https://gateway.marvel.com/v1/public/comics/37...   \n",
              "...                ...                                                ...   \n",
              "64263                0  https://gateway.marvel.com/v1/public/comics/21...   \n",
              "64264                0  https://gateway.marvel.com/v1/public/comics/21...   \n",
              "64265                0  https://gateway.marvel.com/v1/public/comics/21...   \n",
              "64266                0  https://gateway.marvel.com/v1/public/comics/21...   \n",
              "64267                0  https://gateway.marvel.com/v1/public/comics/21...   \n",
              "\n",
              "      events.items events.returned  \n",
              "0               []               0  \n",
              "1               []               0  \n",
              "2               []               0  \n",
              "3               []               0  \n",
              "4               []               0  \n",
              "...            ...             ...  \n",
              "64263           []               0  \n",
              "64264           []               0  \n",
              "64265           []               0  \n",
              "64266           []               0  \n",
              "64267           []               0  \n",
              "\n",
              "[64268 rows x 43 columns]"
            ]
          },
          "execution_count": 30,
          "metadata": {},
          "output_type": "execute_result"
        }
      ],
      "source": [
        "todos_comics"
      ]
    },
    {
      "cell_type": "markdown",
      "metadata": {
        "id": "dAi86iYf23lX"
      },
      "source": [
        "## GET ALL CREATORS"
      ]
    },
    {
      "cell_type": "code",
      "execution_count": null,
      "metadata": {
        "colab": {
          "base_uri": "https://localhost:8080/"
        },
        "id": "c99TItxz2G8c",
        "outputId": "3a03ee2f-5089-412b-c6ed-dfc3344639f8"
      },
      "outputs": [
        {
          "output_type": "stream",
          "name": "stderr",
          "text": [
            "Baixando dados da Marvel: 100%|██████████| 66/66 [01:25<00:00,  1.29s/it]\n"
          ]
        }
      ],
      "source": [
        "todos_creators = get_all_data(creators)"
      ]
    },
    {
      "cell_type": "code",
      "execution_count": null,
      "metadata": {
        "colab": {
          "base_uri": "https://localhost:8080/",
          "height": 635
        },
        "id": "ZmGukjJR3NHl",
        "outputId": "317a7186-4558-4ae9-a2b7-7e22eab7ee81"
      },
      "outputs": [
        {
          "output_type": "execute_result",
          "data": {
            "text/plain": [
              "         id  firstName middleName lastName suffix          fullName  \\\n",
              "0     12728                                                           \n",
              "1     12725                                                           \n",
              "2     12727                                                           \n",
              "3     12733                                                           \n",
              "4     12788                                                           \n",
              "...     ...        ...        ...      ...    ...               ...   \n",
              "5327  14364   Chrissie               Zullo           Chrissie Zullo   \n",
              "5328   3697       Joel             Zulueta             Joel Zulueta   \n",
              "5329   6505     Antony         De   Zuniga         Antony De Zuniga   \n",
              "5330  14035  Christina              Zuniga              Christina Z   \n",
              "5331  11997      Chris               Zylka              Chris Zylka   \n",
              "\n",
              "                      modified  \\\n",
              "0     2015-04-29T16:22:30+0000   \n",
              "1     2015-04-29T16:22:30+0000   \n",
              "2     2015-04-29T16:22:30+0000   \n",
              "3     2015-04-29T16:22:30+0000   \n",
              "4     2015-11-23T17:40:17+0000   \n",
              "...                        ...   \n",
              "5327  2025-05-08T09:19:55+0000   \n",
              "5328  2007-01-01T00:00:00+0000   \n",
              "5329  2010-11-23T09:53:50+0000   \n",
              "5330  2025-04-19T10:40:28+0000   \n",
              "5331  2012-11-16T17:49:15+0000   \n",
              "\n",
              "                                            resourceURI  \\\n",
              "0     https://gateway.marvel.com/v1/public/creators/...   \n",
              "1     https://gateway.marvel.com/v1/public/creators/...   \n",
              "2     https://gateway.marvel.com/v1/public/creators/...   \n",
              "3     https://gateway.marvel.com/v1/public/creators/...   \n",
              "4     https://gateway.marvel.com/v1/public/creators/...   \n",
              "...                                                 ...   \n",
              "5327  https://gateway.marvel.com/v1/public/creators/...   \n",
              "5328  https://gateway.marvel.com/v1/public/creators/...   \n",
              "5329  https://gateway.marvel.com/v1/public/creators/...   \n",
              "5330  https://gateway.marvel.com/v1/public/creators/...   \n",
              "5331  https://gateway.marvel.com/v1/public/creators/...   \n",
              "\n",
              "                                                   urls  \\\n",
              "0     [{'type': 'detail', 'url': 'http://marvel.com/...   \n",
              "1     [{'type': 'detail', 'url': 'http://marvel.com/...   \n",
              "2     [{'type': 'detail', 'url': 'http://marvel.com/...   \n",
              "3     [{'type': 'detail', 'url': 'http://marvel.com/...   \n",
              "4     [{'type': 'detail', 'url': 'http://marvel.com/...   \n",
              "...                                                 ...   \n",
              "5327  [{'type': 'detail', 'url': 'http://marvel.com/...   \n",
              "5328  [{'type': 'detail', 'url': 'http://marvel.com/...   \n",
              "5329  [{'type': 'detail', 'url': 'http://marvel.com/...   \n",
              "5330  [{'type': 'detail', 'url': 'http://marvel.com/...   \n",
              "5331  [{'type': 'detail', 'url': 'http://marvel.com/...   \n",
              "\n",
              "                                         thumbnail.path  ...  \\\n",
              "0     http://i.annihil.us/u/prod/marvel/i/mg/b/40/im...  ...   \n",
              "1     http://i.annihil.us/u/prod/marvel/i/mg/b/40/im...  ...   \n",
              "2     http://i.annihil.us/u/prod/marvel/i/mg/b/40/im...  ...   \n",
              "3     http://i.annihil.us/u/prod/marvel/i/mg/b/40/im...  ...   \n",
              "4     http://i.annihil.us/u/prod/marvel/i/mg/b/40/im...  ...   \n",
              "...                                                 ...  ...   \n",
              "5327  http://i.annihil.us/u/prod/marvel/i/mg/b/40/im...  ...   \n",
              "5328  http://i.annihil.us/u/prod/marvel/i/mg/b/40/im...  ...   \n",
              "5329  http://i.annihil.us/u/prod/marvel/i/mg/b/40/im...  ...   \n",
              "5330  http://i.annihil.us/u/prod/marvel/i/mg/b/40/im...  ...   \n",
              "5331  http://i.annihil.us/u/prod/marvel/i/mg/b/40/im...  ...   \n",
              "\n",
              "                                           series.items series.returned  \\\n",
              "0                                                    []               0   \n",
              "1                                                    []               0   \n",
              "2                                                    []               0   \n",
              "3                                                    []               0   \n",
              "4                                                    []               0   \n",
              "...                                                 ...             ...   \n",
              "5327  [{'resourceURI': 'https://gateway.marvel.com/v...              20   \n",
              "5328  [{'resourceURI': 'https://gateway.marvel.com/v...               1   \n",
              "5329                                                 []               0   \n",
              "5330  [{'resourceURI': 'https://gateway.marvel.com/v...               3   \n",
              "5331                                                 []               0   \n",
              "\n",
              "     stories.available                              stories.collectionURI  \\\n",
              "0                    0  https://gateway.marvel.com/v1/public/creators/...   \n",
              "1                    0  https://gateway.marvel.com/v1/public/creators/...   \n",
              "2                    0  https://gateway.marvel.com/v1/public/creators/...   \n",
              "3                    0  https://gateway.marvel.com/v1/public/creators/...   \n",
              "4                    0  https://gateway.marvel.com/v1/public/creators/...   \n",
              "...                ...                                                ...   \n",
              "5327                46  https://gateway.marvel.com/v1/public/creators/...   \n",
              "5328                 1  https://gateway.marvel.com/v1/public/creators/...   \n",
              "5329                 0  https://gateway.marvel.com/v1/public/creators/...   \n",
              "5330                 9  https://gateway.marvel.com/v1/public/creators/...   \n",
              "5331                 0  https://gateway.marvel.com/v1/public/creators/...   \n",
              "\n",
              "                                          stories.items stories.returned  \\\n",
              "0                                                    []                0   \n",
              "1                                                    []                0   \n",
              "2                                                    []                0   \n",
              "3                                                    []                0   \n",
              "4                                                    []                0   \n",
              "...                                                 ...              ...   \n",
              "5327  [{'resourceURI': 'https://gateway.marvel.com/v...               20   \n",
              "5328  [{'resourceURI': 'https://gateway.marvel.com/v...                1   \n",
              "5329                                                 []                0   \n",
              "5330  [{'resourceURI': 'https://gateway.marvel.com/v...                9   \n",
              "5331                                                 []                0   \n",
              "\n",
              "     events.available                               events.collectionURI  \\\n",
              "0                   0  https://gateway.marvel.com/v1/public/creators/...   \n",
              "1                   0  https://gateway.marvel.com/v1/public/creators/...   \n",
              "2                   0  https://gateway.marvel.com/v1/public/creators/...   \n",
              "3                   0  https://gateway.marvel.com/v1/public/creators/...   \n",
              "4                   0  https://gateway.marvel.com/v1/public/creators/...   \n",
              "...               ...                                                ...   \n",
              "5327                0  https://gateway.marvel.com/v1/public/creators/...   \n",
              "5328                0  https://gateway.marvel.com/v1/public/creators/...   \n",
              "5329                0  https://gateway.marvel.com/v1/public/creators/...   \n",
              "5330                0  https://gateway.marvel.com/v1/public/creators/...   \n",
              "5331                0  https://gateway.marvel.com/v1/public/creators/...   \n",
              "\n",
              "     events.items events.returned  \n",
              "0              []               0  \n",
              "1              []               0  \n",
              "2              []               0  \n",
              "3              []               0  \n",
              "4              []               0  \n",
              "...           ...             ...  \n",
              "5327           []               0  \n",
              "5328           []               0  \n",
              "5329           []               0  \n",
              "5330           []               0  \n",
              "5331           []               0  \n",
              "\n",
              "[5332 rows x 27 columns]"
            ],
            "text/html": [
              "\n",
              "  <div id=\"df-3950cc91-2853-4619-9bf1-18db3868d599\" class=\"colab-df-container\">\n",
              "    <div>\n",
              "<style scoped>\n",
              "    .dataframe tbody tr th:only-of-type {\n",
              "        vertical-align: middle;\n",
              "    }\n",
              "\n",
              "    .dataframe tbody tr th {\n",
              "        vertical-align: top;\n",
              "    }\n",
              "\n",
              "    .dataframe thead th {\n",
              "        text-align: right;\n",
              "    }\n",
              "</style>\n",
              "<table border=\"1\" class=\"dataframe\">\n",
              "  <thead>\n",
              "    <tr style=\"text-align: right;\">\n",
              "      <th></th>\n",
              "      <th>id</th>\n",
              "      <th>firstName</th>\n",
              "      <th>middleName</th>\n",
              "      <th>lastName</th>\n",
              "      <th>suffix</th>\n",
              "      <th>fullName</th>\n",
              "      <th>modified</th>\n",
              "      <th>resourceURI</th>\n",
              "      <th>urls</th>\n",
              "      <th>thumbnail.path</th>\n",
              "      <th>...</th>\n",
              "      <th>series.items</th>\n",
              "      <th>series.returned</th>\n",
              "      <th>stories.available</th>\n",
              "      <th>stories.collectionURI</th>\n",
              "      <th>stories.items</th>\n",
              "      <th>stories.returned</th>\n",
              "      <th>events.available</th>\n",
              "      <th>events.collectionURI</th>\n",
              "      <th>events.items</th>\n",
              "      <th>events.returned</th>\n",
              "    </tr>\n",
              "  </thead>\n",
              "  <tbody>\n",
              "    <tr>\n",
              "      <th>0</th>\n",
              "      <td>12728</td>\n",
              "      <td></td>\n",
              "      <td></td>\n",
              "      <td></td>\n",
              "      <td></td>\n",
              "      <td></td>\n",
              "      <td>2015-04-29T16:22:30+0000</td>\n",
              "      <td>https://gateway.marvel.com/v1/public/creators/...</td>\n",
              "      <td>[{'type': 'detail', 'url': 'http://marvel.com/...</td>\n",
              "      <td>http://i.annihil.us/u/prod/marvel/i/mg/b/40/im...</td>\n",
              "      <td>...</td>\n",
              "      <td>[]</td>\n",
              "      <td>0</td>\n",
              "      <td>0</td>\n",
              "      <td>https://gateway.marvel.com/v1/public/creators/...</td>\n",
              "      <td>[]</td>\n",
              "      <td>0</td>\n",
              "      <td>0</td>\n",
              "      <td>https://gateway.marvel.com/v1/public/creators/...</td>\n",
              "      <td>[]</td>\n",
              "      <td>0</td>\n",
              "    </tr>\n",
              "    <tr>\n",
              "      <th>1</th>\n",
              "      <td>12725</td>\n",
              "      <td></td>\n",
              "      <td></td>\n",
              "      <td></td>\n",
              "      <td></td>\n",
              "      <td></td>\n",
              "      <td>2015-04-29T16:22:30+0000</td>\n",
              "      <td>https://gateway.marvel.com/v1/public/creators/...</td>\n",
              "      <td>[{'type': 'detail', 'url': 'http://marvel.com/...</td>\n",
              "      <td>http://i.annihil.us/u/prod/marvel/i/mg/b/40/im...</td>\n",
              "      <td>...</td>\n",
              "      <td>[]</td>\n",
              "      <td>0</td>\n",
              "      <td>0</td>\n",
              "      <td>https://gateway.marvel.com/v1/public/creators/...</td>\n",
              "      <td>[]</td>\n",
              "      <td>0</td>\n",
              "      <td>0</td>\n",
              "      <td>https://gateway.marvel.com/v1/public/creators/...</td>\n",
              "      <td>[]</td>\n",
              "      <td>0</td>\n",
              "    </tr>\n",
              "    <tr>\n",
              "      <th>2</th>\n",
              "      <td>12727</td>\n",
              "      <td></td>\n",
              "      <td></td>\n",
              "      <td></td>\n",
              "      <td></td>\n",
              "      <td></td>\n",
              "      <td>2015-04-29T16:22:30+0000</td>\n",
              "      <td>https://gateway.marvel.com/v1/public/creators/...</td>\n",
              "      <td>[{'type': 'detail', 'url': 'http://marvel.com/...</td>\n",
              "      <td>http://i.annihil.us/u/prod/marvel/i/mg/b/40/im...</td>\n",
              "      <td>...</td>\n",
              "      <td>[]</td>\n",
              "      <td>0</td>\n",
              "      <td>0</td>\n",
              "      <td>https://gateway.marvel.com/v1/public/creators/...</td>\n",
              "      <td>[]</td>\n",
              "      <td>0</td>\n",
              "      <td>0</td>\n",
              "      <td>https://gateway.marvel.com/v1/public/creators/...</td>\n",
              "      <td>[]</td>\n",
              "      <td>0</td>\n",
              "    </tr>\n",
              "    <tr>\n",
              "      <th>3</th>\n",
              "      <td>12733</td>\n",
              "      <td></td>\n",
              "      <td></td>\n",
              "      <td></td>\n",
              "      <td></td>\n",
              "      <td></td>\n",
              "      <td>2015-04-29T16:22:30+0000</td>\n",
              "      <td>https://gateway.marvel.com/v1/public/creators/...</td>\n",
              "      <td>[{'type': 'detail', 'url': 'http://marvel.com/...</td>\n",
              "      <td>http://i.annihil.us/u/prod/marvel/i/mg/b/40/im...</td>\n",
              "      <td>...</td>\n",
              "      <td>[]</td>\n",
              "      <td>0</td>\n",
              "      <td>0</td>\n",
              "      <td>https://gateway.marvel.com/v1/public/creators/...</td>\n",
              "      <td>[]</td>\n",
              "      <td>0</td>\n",
              "      <td>0</td>\n",
              "      <td>https://gateway.marvel.com/v1/public/creators/...</td>\n",
              "      <td>[]</td>\n",
              "      <td>0</td>\n",
              "    </tr>\n",
              "    <tr>\n",
              "      <th>4</th>\n",
              "      <td>12788</td>\n",
              "      <td></td>\n",
              "      <td></td>\n",
              "      <td></td>\n",
              "      <td></td>\n",
              "      <td></td>\n",
              "      <td>2015-11-23T17:40:17+0000</td>\n",
              "      <td>https://gateway.marvel.com/v1/public/creators/...</td>\n",
              "      <td>[{'type': 'detail', 'url': 'http://marvel.com/...</td>\n",
              "      <td>http://i.annihil.us/u/prod/marvel/i/mg/b/40/im...</td>\n",
              "      <td>...</td>\n",
              "      <td>[]</td>\n",
              "      <td>0</td>\n",
              "      <td>0</td>\n",
              "      <td>https://gateway.marvel.com/v1/public/creators/...</td>\n",
              "      <td>[]</td>\n",
              "      <td>0</td>\n",
              "      <td>0</td>\n",
              "      <td>https://gateway.marvel.com/v1/public/creators/...</td>\n",
              "      <td>[]</td>\n",
              "      <td>0</td>\n",
              "    </tr>\n",
              "    <tr>\n",
              "      <th>...</th>\n",
              "      <td>...</td>\n",
              "      <td>...</td>\n",
              "      <td>...</td>\n",
              "      <td>...</td>\n",
              "      <td>...</td>\n",
              "      <td>...</td>\n",
              "      <td>...</td>\n",
              "      <td>...</td>\n",
              "      <td>...</td>\n",
              "      <td>...</td>\n",
              "      <td>...</td>\n",
              "      <td>...</td>\n",
              "      <td>...</td>\n",
              "      <td>...</td>\n",
              "      <td>...</td>\n",
              "      <td>...</td>\n",
              "      <td>...</td>\n",
              "      <td>...</td>\n",
              "      <td>...</td>\n",
              "      <td>...</td>\n",
              "      <td>...</td>\n",
              "    </tr>\n",
              "    <tr>\n",
              "      <th>5327</th>\n",
              "      <td>14364</td>\n",
              "      <td>Chrissie</td>\n",
              "      <td></td>\n",
              "      <td>Zullo</td>\n",
              "      <td></td>\n",
              "      <td>Chrissie Zullo</td>\n",
              "      <td>2025-05-08T09:19:55+0000</td>\n",
              "      <td>https://gateway.marvel.com/v1/public/creators/...</td>\n",
              "      <td>[{'type': 'detail', 'url': 'http://marvel.com/...</td>\n",
              "      <td>http://i.annihil.us/u/prod/marvel/i/mg/b/40/im...</td>\n",
              "      <td>...</td>\n",
              "      <td>[{'resourceURI': 'https://gateway.marvel.com/v...</td>\n",
              "      <td>20</td>\n",
              "      <td>46</td>\n",
              "      <td>https://gateway.marvel.com/v1/public/creators/...</td>\n",
              "      <td>[{'resourceURI': 'https://gateway.marvel.com/v...</td>\n",
              "      <td>20</td>\n",
              "      <td>0</td>\n",
              "      <td>https://gateway.marvel.com/v1/public/creators/...</td>\n",
              "      <td>[]</td>\n",
              "      <td>0</td>\n",
              "    </tr>\n",
              "    <tr>\n",
              "      <th>5328</th>\n",
              "      <td>3697</td>\n",
              "      <td>Joel</td>\n",
              "      <td></td>\n",
              "      <td>Zulueta</td>\n",
              "      <td></td>\n",
              "      <td>Joel Zulueta</td>\n",
              "      <td>2007-01-01T00:00:00+0000</td>\n",
              "      <td>https://gateway.marvel.com/v1/public/creators/...</td>\n",
              "      <td>[{'type': 'detail', 'url': 'http://marvel.com/...</td>\n",
              "      <td>http://i.annihil.us/u/prod/marvel/i/mg/b/40/im...</td>\n",
              "      <td>...</td>\n",
              "      <td>[{'resourceURI': 'https://gateway.marvel.com/v...</td>\n",
              "      <td>1</td>\n",
              "      <td>1</td>\n",
              "      <td>https://gateway.marvel.com/v1/public/creators/...</td>\n",
              "      <td>[{'resourceURI': 'https://gateway.marvel.com/v...</td>\n",
              "      <td>1</td>\n",
              "      <td>0</td>\n",
              "      <td>https://gateway.marvel.com/v1/public/creators/...</td>\n",
              "      <td>[]</td>\n",
              "      <td>0</td>\n",
              "    </tr>\n",
              "    <tr>\n",
              "      <th>5329</th>\n",
              "      <td>6505</td>\n",
              "      <td>Antony</td>\n",
              "      <td>De</td>\n",
              "      <td>Zuniga</td>\n",
              "      <td></td>\n",
              "      <td>Antony De Zuniga</td>\n",
              "      <td>2010-11-23T09:53:50+0000</td>\n",
              "      <td>https://gateway.marvel.com/v1/public/creators/...</td>\n",
              "      <td>[{'type': 'detail', 'url': 'http://marvel.com/...</td>\n",
              "      <td>http://i.annihil.us/u/prod/marvel/i/mg/b/40/im...</td>\n",
              "      <td>...</td>\n",
              "      <td>[]</td>\n",
              "      <td>0</td>\n",
              "      <td>0</td>\n",
              "      <td>https://gateway.marvel.com/v1/public/creators/...</td>\n",
              "      <td>[]</td>\n",
              "      <td>0</td>\n",
              "      <td>0</td>\n",
              "      <td>https://gateway.marvel.com/v1/public/creators/...</td>\n",
              "      <td>[]</td>\n",
              "      <td>0</td>\n",
              "    </tr>\n",
              "    <tr>\n",
              "      <th>5330</th>\n",
              "      <td>14035</td>\n",
              "      <td>Christina</td>\n",
              "      <td></td>\n",
              "      <td>Zuniga</td>\n",
              "      <td></td>\n",
              "      <td>Christina Z</td>\n",
              "      <td>2025-04-19T10:40:28+0000</td>\n",
              "      <td>https://gateway.marvel.com/v1/public/creators/...</td>\n",
              "      <td>[{'type': 'detail', 'url': 'http://marvel.com/...</td>\n",
              "      <td>http://i.annihil.us/u/prod/marvel/i/mg/b/40/im...</td>\n",
              "      <td>...</td>\n",
              "      <td>[{'resourceURI': 'https://gateway.marvel.com/v...</td>\n",
              "      <td>3</td>\n",
              "      <td>9</td>\n",
              "      <td>https://gateway.marvel.com/v1/public/creators/...</td>\n",
              "      <td>[{'resourceURI': 'https://gateway.marvel.com/v...</td>\n",
              "      <td>9</td>\n",
              "      <td>0</td>\n",
              "      <td>https://gateway.marvel.com/v1/public/creators/...</td>\n",
              "      <td>[]</td>\n",
              "      <td>0</td>\n",
              "    </tr>\n",
              "    <tr>\n",
              "      <th>5331</th>\n",
              "      <td>11997</td>\n",
              "      <td>Chris</td>\n",
              "      <td></td>\n",
              "      <td>Zylka</td>\n",
              "      <td></td>\n",
              "      <td>Chris Zylka</td>\n",
              "      <td>2012-11-16T17:49:15+0000</td>\n",
              "      <td>https://gateway.marvel.com/v1/public/creators/...</td>\n",
              "      <td>[{'type': 'detail', 'url': 'http://marvel.com/...</td>\n",
              "      <td>http://i.annihil.us/u/prod/marvel/i/mg/b/40/im...</td>\n",
              "      <td>...</td>\n",
              "      <td>[]</td>\n",
              "      <td>0</td>\n",
              "      <td>0</td>\n",
              "      <td>https://gateway.marvel.com/v1/public/creators/...</td>\n",
              "      <td>[]</td>\n",
              "      <td>0</td>\n",
              "      <td>0</td>\n",
              "      <td>https://gateway.marvel.com/v1/public/creators/...</td>\n",
              "      <td>[]</td>\n",
              "      <td>0</td>\n",
              "    </tr>\n",
              "  </tbody>\n",
              "</table>\n",
              "<p>5332 rows × 27 columns</p>\n",
              "</div>\n",
              "    <div class=\"colab-df-buttons\">\n",
              "\n",
              "  <div class=\"colab-df-container\">\n",
              "    <button class=\"colab-df-convert\" onclick=\"convertToInteractive('df-3950cc91-2853-4619-9bf1-18db3868d599')\"\n",
              "            title=\"Convert this dataframe to an interactive table.\"\n",
              "            style=\"display:none;\">\n",
              "\n",
              "  <svg xmlns=\"http://www.w3.org/2000/svg\" height=\"24px\" viewBox=\"0 -960 960 960\">\n",
              "    <path d=\"M120-120v-720h720v720H120Zm60-500h600v-160H180v160Zm220 220h160v-160H400v160Zm0 220h160v-160H400v160ZM180-400h160v-160H180v160Zm440 0h160v-160H620v160ZM180-180h160v-160H180v160Zm440 0h160v-160H620v160Z\"/>\n",
              "  </svg>\n",
              "    </button>\n",
              "\n",
              "  <style>\n",
              "    .colab-df-container {\n",
              "      display:flex;\n",
              "      gap: 12px;\n",
              "    }\n",
              "\n",
              "    .colab-df-convert {\n",
              "      background-color: #E8F0FE;\n",
              "      border: none;\n",
              "      border-radius: 50%;\n",
              "      cursor: pointer;\n",
              "      display: none;\n",
              "      fill: #1967D2;\n",
              "      height: 32px;\n",
              "      padding: 0 0 0 0;\n",
              "      width: 32px;\n",
              "    }\n",
              "\n",
              "    .colab-df-convert:hover {\n",
              "      background-color: #E2EBFA;\n",
              "      box-shadow: 0px 1px 2px rgba(60, 64, 67, 0.3), 0px 1px 3px 1px rgba(60, 64, 67, 0.15);\n",
              "      fill: #174EA6;\n",
              "    }\n",
              "\n",
              "    .colab-df-buttons div {\n",
              "      margin-bottom: 4px;\n",
              "    }\n",
              "\n",
              "    [theme=dark] .colab-df-convert {\n",
              "      background-color: #3B4455;\n",
              "      fill: #D2E3FC;\n",
              "    }\n",
              "\n",
              "    [theme=dark] .colab-df-convert:hover {\n",
              "      background-color: #434B5C;\n",
              "      box-shadow: 0px 1px 3px 1px rgba(0, 0, 0, 0.15);\n",
              "      filter: drop-shadow(0px 1px 2px rgba(0, 0, 0, 0.3));\n",
              "      fill: #FFFFFF;\n",
              "    }\n",
              "  </style>\n",
              "\n",
              "    <script>\n",
              "      const buttonEl =\n",
              "        document.querySelector('#df-3950cc91-2853-4619-9bf1-18db3868d599 button.colab-df-convert');\n",
              "      buttonEl.style.display =\n",
              "        google.colab.kernel.accessAllowed ? 'block' : 'none';\n",
              "\n",
              "      async function convertToInteractive(key) {\n",
              "        const element = document.querySelector('#df-3950cc91-2853-4619-9bf1-18db3868d599');\n",
              "        const dataTable =\n",
              "          await google.colab.kernel.invokeFunction('convertToInteractive',\n",
              "                                                    [key], {});\n",
              "        if (!dataTable) return;\n",
              "\n",
              "        const docLinkHtml = 'Like what you see? Visit the ' +\n",
              "          '<a target=\"_blank\" href=https://colab.research.google.com/notebooks/data_table.ipynb>data table notebook</a>'\n",
              "          + ' to learn more about interactive tables.';\n",
              "        element.innerHTML = '';\n",
              "        dataTable['output_type'] = 'display_data';\n",
              "        await google.colab.output.renderOutput(dataTable, element);\n",
              "        const docLink = document.createElement('div');\n",
              "        docLink.innerHTML = docLinkHtml;\n",
              "        element.appendChild(docLink);\n",
              "      }\n",
              "    </script>\n",
              "  </div>\n",
              "\n",
              "\n",
              "    <div id=\"df-9f00b29f-c1d2-42cd-bb86-0136ef37d963\">\n",
              "      <button class=\"colab-df-quickchart\" onclick=\"quickchart('df-9f00b29f-c1d2-42cd-bb86-0136ef37d963')\"\n",
              "                title=\"Suggest charts\"\n",
              "                style=\"display:none;\">\n",
              "\n",
              "<svg xmlns=\"http://www.w3.org/2000/svg\" height=\"24px\"viewBox=\"0 0 24 24\"\n",
              "     width=\"24px\">\n",
              "    <g>\n",
              "        <path d=\"M19 3H5c-1.1 0-2 .9-2 2v14c0 1.1.9 2 2 2h14c1.1 0 2-.9 2-2V5c0-1.1-.9-2-2-2zM9 17H7v-7h2v7zm4 0h-2V7h2v10zm4 0h-2v-4h2v4z\"/>\n",
              "    </g>\n",
              "</svg>\n",
              "      </button>\n",
              "\n",
              "<style>\n",
              "  .colab-df-quickchart {\n",
              "      --bg-color: #E8F0FE;\n",
              "      --fill-color: #1967D2;\n",
              "      --hover-bg-color: #E2EBFA;\n",
              "      --hover-fill-color: #174EA6;\n",
              "      --disabled-fill-color: #AAA;\n",
              "      --disabled-bg-color: #DDD;\n",
              "  }\n",
              "\n",
              "  [theme=dark] .colab-df-quickchart {\n",
              "      --bg-color: #3B4455;\n",
              "      --fill-color: #D2E3FC;\n",
              "      --hover-bg-color: #434B5C;\n",
              "      --hover-fill-color: #FFFFFF;\n",
              "      --disabled-bg-color: #3B4455;\n",
              "      --disabled-fill-color: #666;\n",
              "  }\n",
              "\n",
              "  .colab-df-quickchart {\n",
              "    background-color: var(--bg-color);\n",
              "    border: none;\n",
              "    border-radius: 50%;\n",
              "    cursor: pointer;\n",
              "    display: none;\n",
              "    fill: var(--fill-color);\n",
              "    height: 32px;\n",
              "    padding: 0;\n",
              "    width: 32px;\n",
              "  }\n",
              "\n",
              "  .colab-df-quickchart:hover {\n",
              "    background-color: var(--hover-bg-color);\n",
              "    box-shadow: 0 1px 2px rgba(60, 64, 67, 0.3), 0 1px 3px 1px rgba(60, 64, 67, 0.15);\n",
              "    fill: var(--button-hover-fill-color);\n",
              "  }\n",
              "\n",
              "  .colab-df-quickchart-complete:disabled,\n",
              "  .colab-df-quickchart-complete:disabled:hover {\n",
              "    background-color: var(--disabled-bg-color);\n",
              "    fill: var(--disabled-fill-color);\n",
              "    box-shadow: none;\n",
              "  }\n",
              "\n",
              "  .colab-df-spinner {\n",
              "    border: 2px solid var(--fill-color);\n",
              "    border-color: transparent;\n",
              "    border-bottom-color: var(--fill-color);\n",
              "    animation:\n",
              "      spin 1s steps(1) infinite;\n",
              "  }\n",
              "\n",
              "  @keyframes spin {\n",
              "    0% {\n",
              "      border-color: transparent;\n",
              "      border-bottom-color: var(--fill-color);\n",
              "      border-left-color: var(--fill-color);\n",
              "    }\n",
              "    20% {\n",
              "      border-color: transparent;\n",
              "      border-left-color: var(--fill-color);\n",
              "      border-top-color: var(--fill-color);\n",
              "    }\n",
              "    30% {\n",
              "      border-color: transparent;\n",
              "      border-left-color: var(--fill-color);\n",
              "      border-top-color: var(--fill-color);\n",
              "      border-right-color: var(--fill-color);\n",
              "    }\n",
              "    40% {\n",
              "      border-color: transparent;\n",
              "      border-right-color: var(--fill-color);\n",
              "      border-top-color: var(--fill-color);\n",
              "    }\n",
              "    60% {\n",
              "      border-color: transparent;\n",
              "      border-right-color: var(--fill-color);\n",
              "    }\n",
              "    80% {\n",
              "      border-color: transparent;\n",
              "      border-right-color: var(--fill-color);\n",
              "      border-bottom-color: var(--fill-color);\n",
              "    }\n",
              "    90% {\n",
              "      border-color: transparent;\n",
              "      border-bottom-color: var(--fill-color);\n",
              "    }\n",
              "  }\n",
              "</style>\n",
              "\n",
              "      <script>\n",
              "        async function quickchart(key) {\n",
              "          const quickchartButtonEl =\n",
              "            document.querySelector('#' + key + ' button');\n",
              "          quickchartButtonEl.disabled = true;  // To prevent multiple clicks.\n",
              "          quickchartButtonEl.classList.add('colab-df-spinner');\n",
              "          try {\n",
              "            const charts = await google.colab.kernel.invokeFunction(\n",
              "                'suggestCharts', [key], {});\n",
              "          } catch (error) {\n",
              "            console.error('Error during call to suggestCharts:', error);\n",
              "          }\n",
              "          quickchartButtonEl.classList.remove('colab-df-spinner');\n",
              "          quickchartButtonEl.classList.add('colab-df-quickchart-complete');\n",
              "        }\n",
              "        (() => {\n",
              "          let quickchartButtonEl =\n",
              "            document.querySelector('#df-9f00b29f-c1d2-42cd-bb86-0136ef37d963 button');\n",
              "          quickchartButtonEl.style.display =\n",
              "            google.colab.kernel.accessAllowed ? 'block' : 'none';\n",
              "        })();\n",
              "      </script>\n",
              "    </div>\n",
              "\n",
              "  <div id=\"id_009d06cb-30c1-402e-bbbd-581ee84479c4\">\n",
              "    <style>\n",
              "      .colab-df-generate {\n",
              "        background-color: #E8F0FE;\n",
              "        border: none;\n",
              "        border-radius: 50%;\n",
              "        cursor: pointer;\n",
              "        display: none;\n",
              "        fill: #1967D2;\n",
              "        height: 32px;\n",
              "        padding: 0 0 0 0;\n",
              "        width: 32px;\n",
              "      }\n",
              "\n",
              "      .colab-df-generate:hover {\n",
              "        background-color: #E2EBFA;\n",
              "        box-shadow: 0px 1px 2px rgba(60, 64, 67, 0.3), 0px 1px 3px 1px rgba(60, 64, 67, 0.15);\n",
              "        fill: #174EA6;\n",
              "      }\n",
              "\n",
              "      [theme=dark] .colab-df-generate {\n",
              "        background-color: #3B4455;\n",
              "        fill: #D2E3FC;\n",
              "      }\n",
              "\n",
              "      [theme=dark] .colab-df-generate:hover {\n",
              "        background-color: #434B5C;\n",
              "        box-shadow: 0px 1px 3px 1px rgba(0, 0, 0, 0.15);\n",
              "        filter: drop-shadow(0px 1px 2px rgba(0, 0, 0, 0.3));\n",
              "        fill: #FFFFFF;\n",
              "      }\n",
              "    </style>\n",
              "    <button class=\"colab-df-generate\" onclick=\"generateWithVariable('todos_creators')\"\n",
              "            title=\"Generate code using this dataframe.\"\n",
              "            style=\"display:none;\">\n",
              "\n",
              "  <svg xmlns=\"http://www.w3.org/2000/svg\" height=\"24px\"viewBox=\"0 0 24 24\"\n",
              "       width=\"24px\">\n",
              "    <path d=\"M7,19H8.4L18.45,9,17,7.55,7,17.6ZM5,21V16.75L18.45,3.32a2,2,0,0,1,2.83,0l1.4,1.43a1.91,1.91,0,0,1,.58,1.4,1.91,1.91,0,0,1-.58,1.4L9.25,21ZM18.45,9,17,7.55Zm-12,3A5.31,5.31,0,0,0,4.9,8.1,5.31,5.31,0,0,0,1,6.5,5.31,5.31,0,0,0,4.9,4.9,5.31,5.31,0,0,0,6.5,1,5.31,5.31,0,0,0,8.1,4.9,5.31,5.31,0,0,0,12,6.5,5.46,5.46,0,0,0,6.5,12Z\"/>\n",
              "  </svg>\n",
              "    </button>\n",
              "    <script>\n",
              "      (() => {\n",
              "      const buttonEl =\n",
              "        document.querySelector('#id_009d06cb-30c1-402e-bbbd-581ee84479c4 button.colab-df-generate');\n",
              "      buttonEl.style.display =\n",
              "        google.colab.kernel.accessAllowed ? 'block' : 'none';\n",
              "\n",
              "      buttonEl.onclick = () => {\n",
              "        google.colab.notebook.generateWithVariable('todos_creators');\n",
              "      }\n",
              "      })();\n",
              "    </script>\n",
              "  </div>\n",
              "\n",
              "    </div>\n",
              "  </div>\n"
            ],
            "application/vnd.google.colaboratory.intrinsic+json": {
              "type": "dataframe",
              "variable_name": "todos_creators"
            }
          },
          "metadata": {},
          "execution_count": 7
        }
      ],
      "source": [
        "todos_creators"
      ]
    },
    {
      "cell_type": "code",
      "execution_count": null,
      "metadata": {
        "id": "9yXRfVnV3OQY"
      },
      "outputs": [],
      "source": [
        "#todos_creators.to_csv(\"TodosCreators.csv\")"
      ]
    },
    {
      "cell_type": "markdown",
      "metadata": {
        "id": "oq5iN0O9NU0M"
      },
      "source": [
        "## GET ALL EVENTS"
      ]
    },
    {
      "cell_type": "code",
      "execution_count": null,
      "metadata": {
        "colab": {
          "base_uri": "https://localhost:8080/",
          "height": 304
        },
        "id": "CPrcCTslApEj",
        "outputId": "8eb47116-f37a-41ae-f7ce-124a87f16248"
      },
      "outputs": [
        {
          "output_type": "error",
          "ename": "KeyError",
          "evalue": "'data'",
          "traceback": [
            "\u001b[0;31m---------------------------------------------------------------------------\u001b[0m",
            "\u001b[0;31mKeyError\u001b[0m                                  Traceback (most recent call last)",
            "\u001b[0;32m<ipython-input-15-2b89a23f1bec>\u001b[0m in \u001b[0;36m<cell line: 0>\u001b[0;34m()\u001b[0m\n\u001b[0;32m----> 1\u001b[0;31m \u001b[0mtodos_events\u001b[0m \u001b[0;34m=\u001b[0m \u001b[0mget_all_data\u001b[0m\u001b[0;34m(\u001b[0m\u001b[0mevents\u001b[0m\u001b[0;34m)\u001b[0m\u001b[0;34m\u001b[0m\u001b[0;34m\u001b[0m\u001b[0m\n\u001b[0m\u001b[1;32m      2\u001b[0m \u001b[0mtodos_events\u001b[0m\u001b[0;34m.\u001b[0m\u001b[0mto_csv\u001b[0m\u001b[0;34m(\u001b[0m\u001b[0;34m\"TodosEvents.csv\"\u001b[0m\u001b[0;34m)\u001b[0m\u001b[0;34m\u001b[0m\u001b[0;34m\u001b[0m\u001b[0m\n",
            "\u001b[0;32m<ipython-input-4-90ff6dcb6d42>\u001b[0m in \u001b[0;36mget_all_data\u001b[0;34m(url)\u001b[0m\n\u001b[1;32m      5\u001b[0m   '''\n\u001b[1;32m      6\u001b[0m \u001b[0;34m\u001b[0m\u001b[0m\n\u001b[0;32m----> 7\u001b[0;31m   \u001b[0mpartial_data\u001b[0m\u001b[0;34m,\u001b[0m \u001b[0mtotal_amount\u001b[0m \u001b[0;34m=\u001b[0m \u001b[0mget_data_and_total\u001b[0m\u001b[0;34m(\u001b[0m\u001b[0murl\u001b[0m\u001b[0;34m,\u001b[0m \u001b[0mpublic_key\u001b[0m\u001b[0;34m,\u001b[0m \u001b[0mprivate_key\u001b[0m\u001b[0;34m,\u001b[0m \u001b[0;36m100\u001b[0m\u001b[0;34m,\u001b[0m \u001b[0;36m0\u001b[0m\u001b[0;34m)\u001b[0m\u001b[0;34m\u001b[0m\u001b[0;34m\u001b[0m\u001b[0m\n\u001b[0m\u001b[1;32m      8\u001b[0m   \u001b[0;31m#Cria df de todos os dados com colunas\u001b[0m\u001b[0;34m\u001b[0m\u001b[0;34m\u001b[0m\u001b[0m\n\u001b[1;32m      9\u001b[0m   \u001b[0mall_data\u001b[0m \u001b[0;34m=\u001b[0m \u001b[0mpd\u001b[0m\u001b[0;34m.\u001b[0m\u001b[0mDataFrame\u001b[0m\u001b[0;34m(\u001b[0m\u001b[0mcolumns\u001b[0m\u001b[0;34m=\u001b[0m\u001b[0mpartial_data\u001b[0m\u001b[0;34m.\u001b[0m\u001b[0mcolumns\u001b[0m\u001b[0;34m)\u001b[0m\u001b[0;34m\u001b[0m\u001b[0;34m\u001b[0m\u001b[0m\n",
            "\u001b[0;32m<ipython-input-3-4ab2a2c0a4a6>\u001b[0m in \u001b[0;36mget_data_and_total\u001b[0;34m(url, public_key, private_key, limit_num, offset_num)\u001b[0m\n\u001b[1;32m     26\u001b[0m   \u001b[0mdata\u001b[0m \u001b[0;34m=\u001b[0m \u001b[0mresponse\u001b[0m\u001b[0;34m.\u001b[0m\u001b[0mjson\u001b[0m\u001b[0;34m(\u001b[0m\u001b[0;34m)\u001b[0m\u001b[0;34m\u001b[0m\u001b[0;34m\u001b[0m\u001b[0m\n\u001b[1;32m     27\u001b[0m   \u001b[0mdf\u001b[0m \u001b[0;34m=\u001b[0m \u001b[0mpd\u001b[0m\u001b[0;34m.\u001b[0m\u001b[0mDataFrame\u001b[0m\u001b[0;34m(\u001b[0m\u001b[0mdata\u001b[0m\u001b[0;34m)\u001b[0m\u001b[0;34m\u001b[0m\u001b[0;34m\u001b[0m\u001b[0m\n\u001b[0;32m---> 28\u001b[0;31m   \u001b[0mdf_normalizado\u001b[0m \u001b[0;34m=\u001b[0m \u001b[0mpd\u001b[0m\u001b[0;34m.\u001b[0m\u001b[0mjson_normalize\u001b[0m\u001b[0;34m(\u001b[0m\u001b[0mdf\u001b[0m\u001b[0;34m[\u001b[0m\u001b[0;34m\"data\"\u001b[0m\u001b[0;34m]\u001b[0m\u001b[0;34m[\u001b[0m\u001b[0;34m\"results\"\u001b[0m\u001b[0;34m]\u001b[0m\u001b[0;34m)\u001b[0m\u001b[0;34m\u001b[0m\u001b[0;34m\u001b[0m\u001b[0m\n\u001b[0m\u001b[1;32m     29\u001b[0m   \u001b[0;32mreturn\u001b[0m \u001b[0mdf_normalizado\u001b[0m\u001b[0;34m,\u001b[0m \u001b[0mdf\u001b[0m\u001b[0;34m[\u001b[0m\u001b[0;34m\"data\"\u001b[0m\u001b[0;34m]\u001b[0m\u001b[0;34m[\u001b[0m\u001b[0;34m\"total\"\u001b[0m\u001b[0;34m]\u001b[0m\u001b[0;34m\u001b[0m\u001b[0;34m\u001b[0m\u001b[0m\n",
            "\u001b[0;32m/usr/local/lib/python3.11/dist-packages/pandas/core/frame.py\u001b[0m in \u001b[0;36m__getitem__\u001b[0;34m(self, key)\u001b[0m\n\u001b[1;32m   4100\u001b[0m             \u001b[0;32mif\u001b[0m \u001b[0mself\u001b[0m\u001b[0;34m.\u001b[0m\u001b[0mcolumns\u001b[0m\u001b[0;34m.\u001b[0m\u001b[0mnlevels\u001b[0m \u001b[0;34m>\u001b[0m \u001b[0;36m1\u001b[0m\u001b[0;34m:\u001b[0m\u001b[0;34m\u001b[0m\u001b[0;34m\u001b[0m\u001b[0m\n\u001b[1;32m   4101\u001b[0m                 \u001b[0;32mreturn\u001b[0m \u001b[0mself\u001b[0m\u001b[0;34m.\u001b[0m\u001b[0m_getitem_multilevel\u001b[0m\u001b[0;34m(\u001b[0m\u001b[0mkey\u001b[0m\u001b[0;34m)\u001b[0m\u001b[0;34m\u001b[0m\u001b[0;34m\u001b[0m\u001b[0m\n\u001b[0;32m-> 4102\u001b[0;31m             \u001b[0mindexer\u001b[0m \u001b[0;34m=\u001b[0m \u001b[0mself\u001b[0m\u001b[0;34m.\u001b[0m\u001b[0mcolumns\u001b[0m\u001b[0;34m.\u001b[0m\u001b[0mget_loc\u001b[0m\u001b[0;34m(\u001b[0m\u001b[0mkey\u001b[0m\u001b[0;34m)\u001b[0m\u001b[0;34m\u001b[0m\u001b[0;34m\u001b[0m\u001b[0m\n\u001b[0m\u001b[1;32m   4103\u001b[0m             \u001b[0;32mif\u001b[0m \u001b[0mis_integer\u001b[0m\u001b[0;34m(\u001b[0m\u001b[0mindexer\u001b[0m\u001b[0;34m)\u001b[0m\u001b[0;34m:\u001b[0m\u001b[0;34m\u001b[0m\u001b[0;34m\u001b[0m\u001b[0m\n\u001b[1;32m   4104\u001b[0m                 \u001b[0mindexer\u001b[0m \u001b[0;34m=\u001b[0m \u001b[0;34m[\u001b[0m\u001b[0mindexer\u001b[0m\u001b[0;34m]\u001b[0m\u001b[0;34m\u001b[0m\u001b[0;34m\u001b[0m\u001b[0m\n",
            "\u001b[0;32m/usr/local/lib/python3.11/dist-packages/pandas/core/indexes/range.py\u001b[0m in \u001b[0;36mget_loc\u001b[0;34m(self, key)\u001b[0m\n\u001b[1;32m    415\u001b[0m                 \u001b[0;32mraise\u001b[0m \u001b[0mKeyError\u001b[0m\u001b[0;34m(\u001b[0m\u001b[0mkey\u001b[0m\u001b[0;34m)\u001b[0m \u001b[0;32mfrom\u001b[0m \u001b[0merr\u001b[0m\u001b[0;34m\u001b[0m\u001b[0;34m\u001b[0m\u001b[0m\n\u001b[1;32m    416\u001b[0m         \u001b[0;32mif\u001b[0m \u001b[0misinstance\u001b[0m\u001b[0;34m(\u001b[0m\u001b[0mkey\u001b[0m\u001b[0;34m,\u001b[0m \u001b[0mHashable\u001b[0m\u001b[0;34m)\u001b[0m\u001b[0;34m:\u001b[0m\u001b[0;34m\u001b[0m\u001b[0;34m\u001b[0m\u001b[0m\n\u001b[0;32m--> 417\u001b[0;31m             \u001b[0;32mraise\u001b[0m \u001b[0mKeyError\u001b[0m\u001b[0;34m(\u001b[0m\u001b[0mkey\u001b[0m\u001b[0;34m)\u001b[0m\u001b[0;34m\u001b[0m\u001b[0;34m\u001b[0m\u001b[0m\n\u001b[0m\u001b[1;32m    418\u001b[0m         \u001b[0mself\u001b[0m\u001b[0;34m.\u001b[0m\u001b[0m_check_indexing_error\u001b[0m\u001b[0;34m(\u001b[0m\u001b[0mkey\u001b[0m\u001b[0;34m)\u001b[0m\u001b[0;34m\u001b[0m\u001b[0;34m\u001b[0m\u001b[0m\n\u001b[1;32m    419\u001b[0m         \u001b[0;32mraise\u001b[0m \u001b[0mKeyError\u001b[0m\u001b[0;34m(\u001b[0m\u001b[0mkey\u001b[0m\u001b[0;34m)\u001b[0m\u001b[0;34m\u001b[0m\u001b[0;34m\u001b[0m\u001b[0m\n",
            "\u001b[0;31mKeyError\u001b[0m: 'data'"
          ]
        }
      ],
      "source": [
        "todos_events = get_all_data(events)\n",
        "todos_events.to_csv(\"TodosEvents.csv\")"
      ]
    },
    {
      "cell_type": "markdown",
      "metadata": {
        "id": "CxJGnYK_NvYM"
      },
      "source": [
        "## GET ALL STORIES"
      ]
    },
    {
      "cell_type": "code",
      "execution_count": null,
      "metadata": {
        "colab": {
          "background_save": true,
          "base_uri": "https://localhost:8080/"
        },
        "id": "6NQX6bYYNxTU",
        "outputId": "7cded024-6b8b-4eba-da29-5d0e28f3308f"
      },
      "outputs": [
        {
          "name": "stderr",
          "output_type": "stream",
          "text": [
            "Baixando dados da Marvel:  51%|█████     | 748/1481 [1:26:59<1:16:10,  6.23s/it]"
          ]
        },
        {
          "name": "stdout",
          "output_type": "stream",
          "text": [
            "Erro no offset 74700: 'data'\n"
          ]
        },
        {
          "name": "stderr",
          "output_type": "stream",
          "text": [
            "\rBaixando dados da Marvel:  51%|█████     | 749/1481 [1:26:59<54:00,  4.43s/it]  "
          ]
        },
        {
          "name": "stdout",
          "output_type": "stream",
          "text": [
            "Erro no offset 74800: 'data'\n"
          ]
        },
        {
          "name": "stderr",
          "output_type": "stream",
          "text": [
            "\rBaixando dados da Marvel:  51%|█████     | 750/1481 [1:26:59<38:30,  3.16s/it]"
          ]
        },
        {
          "name": "stdout",
          "output_type": "stream",
          "text": [
            "Erro no offset 74900: 'data'\n"
          ]
        },
        {
          "name": "stderr",
          "output_type": "stream",
          "text": [
            "\rBaixando dados da Marvel:  51%|█████     | 751/1481 [1:26:59<27:40,  2.28s/it]"
          ]
        },
        {
          "name": "stdout",
          "output_type": "stream",
          "text": [
            "Erro no offset 75000: 'data'\n"
          ]
        },
        {
          "name": "stderr",
          "output_type": "stream",
          "text": [
            "\rBaixando dados da Marvel:  51%|█████     | 752/1481 [1:27:00<20:06,  1.66s/it]"
          ]
        },
        {
          "name": "stdout",
          "output_type": "stream",
          "text": [
            "Erro no offset 75100: 'data'\n"
          ]
        },
        {
          "name": "stderr",
          "output_type": "stream",
          "text": [
            "\rBaixando dados da Marvel:  51%|█████     | 753/1481 [1:27:00<14:48,  1.22s/it]"
          ]
        },
        {
          "name": "stdout",
          "output_type": "stream",
          "text": [
            "Erro no offset 75200: 'data'\n"
          ]
        },
        {
          "name": "stderr",
          "output_type": "stream",
          "text": [
            "\rBaixando dados da Marvel:  51%|█████     | 754/1481 [1:27:00<11:18,  1.07it/s]"
          ]
        },
        {
          "name": "stdout",
          "output_type": "stream",
          "text": [
            "Erro no offset 75300: 'data'\n"
          ]
        },
        {
          "name": "stderr",
          "output_type": "stream",
          "text": [
            "\rBaixando dados da Marvel:  51%|█████     | 755/1481 [1:27:00<08:39,  1.40it/s]"
          ]
        },
        {
          "name": "stdout",
          "output_type": "stream",
          "text": [
            "Erro no offset 75400: 'data'\n"
          ]
        },
        {
          "name": "stderr",
          "output_type": "stream",
          "text": [
            "\rBaixando dados da Marvel:  51%|█████     | 756/1481 [1:27:00<06:56,  1.74it/s]"
          ]
        },
        {
          "name": "stdout",
          "output_type": "stream",
          "text": [
            "Erro no offset 75500: 'data'\n"
          ]
        },
        {
          "name": "stderr",
          "output_type": "stream",
          "text": [
            "\rBaixando dados da Marvel:  51%|█████     | 757/1481 [1:27:01<05:36,  2.15it/s]"
          ]
        },
        {
          "name": "stdout",
          "output_type": "stream",
          "text": [
            "Erro no offset 75600: 'data'\n"
          ]
        },
        {
          "name": "stderr",
          "output_type": "stream",
          "text": [
            "\rBaixando dados da Marvel:  51%|█████     | 758/1481 [1:27:01<04:39,  2.58it/s]"
          ]
        },
        {
          "name": "stdout",
          "output_type": "stream",
          "text": [
            "Erro no offset 75700: 'data'\n"
          ]
        },
        {
          "name": "stderr",
          "output_type": "stream",
          "text": [
            "Baixando dados da Marvel:  51%|█████▏    | 760/1481 [1:27:01<03:24,  3.53it/s]"
          ]
        },
        {
          "name": "stdout",
          "output_type": "stream",
          "text": [
            "Erro no offset 75800: 'data'\n",
            "Erro no offset 75900: 'data'\n"
          ]
        },
        {
          "name": "stderr",
          "output_type": "stream",
          "text": [
            "\rBaixando dados da Marvel:  51%|█████▏    | 761/1481 [1:27:01<03:08,  3.83it/s]"
          ]
        },
        {
          "name": "stdout",
          "output_type": "stream",
          "text": [
            "Erro no offset 76000: 'data'\n"
          ]
        },
        {
          "name": "stderr",
          "output_type": "stream",
          "text": [
            "\rBaixando dados da Marvel:  51%|█████▏    | 762/1481 [1:27:02<03:02,  3.93it/s]"
          ]
        },
        {
          "name": "stdout",
          "output_type": "stream",
          "text": [
            "Erro no offset 76100: 'data'\n"
          ]
        },
        {
          "name": "stderr",
          "output_type": "stream",
          "text": [
            "\rBaixando dados da Marvel:  52%|█████▏    | 763/1481 [1:27:02<02:52,  4.17it/s]"
          ]
        },
        {
          "name": "stdout",
          "output_type": "stream",
          "text": [
            "Erro no offset 76200: 'data'\n"
          ]
        },
        {
          "name": "stderr",
          "output_type": "stream",
          "text": [
            "\rBaixando dados da Marvel:  52%|█████▏    | 764/1481 [1:27:02<02:44,  4.37it/s]"
          ]
        },
        {
          "name": "stdout",
          "output_type": "stream",
          "text": [
            "Erro no offset 76300: 'data'\n"
          ]
        },
        {
          "name": "stderr",
          "output_type": "stream",
          "text": [
            "\rBaixando dados da Marvel:  52%|█████▏    | 765/1481 [1:27:02<02:39,  4.49it/s]"
          ]
        },
        {
          "name": "stdout",
          "output_type": "stream",
          "text": [
            "Erro no offset 76400: 'data'\n"
          ]
        },
        {
          "name": "stderr",
          "output_type": "stream",
          "text": [
            "\rBaixando dados da Marvel:  52%|█████▏    | 766/1481 [1:27:03<02:35,  4.59it/s]"
          ]
        },
        {
          "name": "stdout",
          "output_type": "stream",
          "text": [
            "Erro no offset 76500: 'data'\n"
          ]
        },
        {
          "name": "stderr",
          "output_type": "stream",
          "text": [
            "\rBaixando dados da Marvel:  52%|█████▏    | 767/1481 [1:27:03<02:33,  4.66it/s]"
          ]
        },
        {
          "name": "stdout",
          "output_type": "stream",
          "text": [
            "Erro no offset 76600: 'data'\n"
          ]
        },
        {
          "name": "stderr",
          "output_type": "stream",
          "text": [
            "Baixando dados da Marvel:  52%|█████▏    | 769/1481 [1:27:03<02:20,  5.07it/s]"
          ]
        },
        {
          "name": "stdout",
          "output_type": "stream",
          "text": [
            "Erro no offset 76700: 'data'\n",
            "Erro no offset 76800: 'data'\n"
          ]
        },
        {
          "name": "stderr",
          "output_type": "stream",
          "text": [
            "\rBaixando dados da Marvel:  52%|█████▏    | 770/1481 [1:27:03<02:22,  5.00it/s]"
          ]
        },
        {
          "name": "stdout",
          "output_type": "stream",
          "text": [
            "Erro no offset 76900: 'data'\n"
          ]
        },
        {
          "name": "stderr",
          "output_type": "stream",
          "text": [
            "\rBaixando dados da Marvel:  52%|█████▏    | 771/1481 [1:27:04<02:23,  4.93it/s]"
          ]
        },
        {
          "name": "stdout",
          "output_type": "stream",
          "text": [
            "Erro no offset 77000: 'data'\n"
          ]
        },
        {
          "name": "stderr",
          "output_type": "stream",
          "text": [
            "\rBaixando dados da Marvel:  52%|█████▏    | 772/1481 [1:27:04<02:23,  4.93it/s]"
          ]
        },
        {
          "name": "stdout",
          "output_type": "stream",
          "text": [
            "Erro no offset 77100: 'data'\n"
          ]
        },
        {
          "name": "stderr",
          "output_type": "stream",
          "text": [
            "\rBaixando dados da Marvel:  52%|█████▏    | 773/1481 [1:27:04<02:29,  4.73it/s]"
          ]
        },
        {
          "name": "stdout",
          "output_type": "stream",
          "text": [
            "Erro no offset 77200: 'data'\n"
          ]
        },
        {
          "name": "stderr",
          "output_type": "stream",
          "text": [
            "\rBaixando dados da Marvel:  52%|█████▏    | 774/1481 [1:27:04<02:28,  4.76it/s]"
          ]
        },
        {
          "name": "stdout",
          "output_type": "stream",
          "text": [
            "Erro no offset 77300: 'data'\n"
          ]
        },
        {
          "name": "stderr",
          "output_type": "stream",
          "text": [
            "\rBaixando dados da Marvel:  52%|█████▏    | 775/1481 [1:27:04<02:27,  4.78it/s]"
          ]
        },
        {
          "name": "stdout",
          "output_type": "stream",
          "text": [
            "Erro no offset 77400: 'data'\n"
          ]
        },
        {
          "name": "stderr",
          "output_type": "stream",
          "text": [
            "\rBaixando dados da Marvel:  52%|█████▏    | 776/1481 [1:27:05<02:27,  4.79it/s]"
          ]
        },
        {
          "name": "stdout",
          "output_type": "stream",
          "text": [
            "Erro no offset 77500: 'data'\n"
          ]
        },
        {
          "name": "stderr",
          "output_type": "stream",
          "text": [
            "Baixando dados da Marvel:  53%|█████▎    | 778/1481 [1:27:05<02:17,  5.13it/s]"
          ]
        },
        {
          "name": "stdout",
          "output_type": "stream",
          "text": [
            "Erro no offset 77600: 'data'\n",
            "Erro no offset 77700: 'data'\n"
          ]
        },
        {
          "name": "stderr",
          "output_type": "stream",
          "text": [
            "\rBaixando dados da Marvel:  53%|█████▎    | 779/1481 [1:27:05<02:19,  5.03it/s]"
          ]
        },
        {
          "name": "stdout",
          "output_type": "stream",
          "text": [
            "Erro no offset 77800: 'data'\n"
          ]
        },
        {
          "name": "stderr",
          "output_type": "stream",
          "text": [
            "\rBaixando dados da Marvel:  53%|█████▎    | 780/1481 [1:27:05<02:20,  4.98it/s]"
          ]
        },
        {
          "name": "stdout",
          "output_type": "stream",
          "text": [
            "Erro no offset 77900: 'data'\n"
          ]
        },
        {
          "name": "stderr",
          "output_type": "stream",
          "text": [
            "\rBaixando dados da Marvel:  53%|█████▎    | 781/1481 [1:27:06<02:21,  4.95it/s]"
          ]
        },
        {
          "name": "stdout",
          "output_type": "stream",
          "text": [
            "Erro no offset 78000: 'data'\n"
          ]
        },
        {
          "name": "stderr",
          "output_type": "stream",
          "text": [
            "Baixando dados da Marvel:  53%|█████▎    | 783/1481 [1:27:06<02:11,  5.29it/s]"
          ]
        },
        {
          "name": "stdout",
          "output_type": "stream",
          "text": [
            "Erro no offset 78100: 'data'\n",
            "Erro no offset 78200: 'data'\n"
          ]
        },
        {
          "name": "stderr",
          "output_type": "stream",
          "text": [
            "Baixando dados da Marvel:  53%|█████▎    | 785/1481 [1:27:06<02:07,  5.45it/s]"
          ]
        },
        {
          "name": "stdout",
          "output_type": "stream",
          "text": [
            "Erro no offset 78300: 'data'\n",
            "Erro no offset 78400: 'data'\n"
          ]
        },
        {
          "name": "stderr",
          "output_type": "stream",
          "text": [
            "\rBaixando dados da Marvel:  53%|█████▎    | 786/1481 [1:27:06<02:04,  5.58it/s]"
          ]
        },
        {
          "name": "stdout",
          "output_type": "stream",
          "text": [
            "Erro no offset 78500: 'data'\n"
          ]
        },
        {
          "name": "stderr",
          "output_type": "stream",
          "text": [
            "Baixando dados da Marvel:  53%|█████▎    | 788/1481 [1:27:07<02:04,  5.57it/s]"
          ]
        },
        {
          "name": "stdout",
          "output_type": "stream",
          "text": [
            "Erro no offset 78600: 'data'\n",
            "Erro no offset 78700: 'data'\n"
          ]
        },
        {
          "name": "stderr",
          "output_type": "stream",
          "text": [
            "Baixando dados da Marvel:  53%|█████▎    | 790/1481 [1:27:07<02:04,  5.54it/s]"
          ]
        },
        {
          "name": "stdout",
          "output_type": "stream",
          "text": [
            "Erro no offset 78800: 'data'\n",
            "Erro no offset 78900: 'data'\n"
          ]
        },
        {
          "name": "stderr",
          "output_type": "stream",
          "text": [
            "\rBaixando dados da Marvel:  53%|█████▎    | 791/1481 [1:27:07<02:01,  5.70it/s]"
          ]
        },
        {
          "name": "stdout",
          "output_type": "stream",
          "text": [
            "Erro no offset 79000: 'data'\n"
          ]
        },
        {
          "name": "stderr",
          "output_type": "stream",
          "text": [
            "Baixando dados da Marvel:  54%|█████▎    | 793/1481 [1:27:08<02:03,  5.59it/s]"
          ]
        },
        {
          "name": "stdout",
          "output_type": "stream",
          "text": [
            "Erro no offset 79100: 'data'\n",
            "Erro no offset 79200: 'data'\n"
          ]
        },
        {
          "name": "stderr",
          "output_type": "stream",
          "text": [
            "Baixando dados da Marvel:  54%|█████▎    | 795/1481 [1:27:08<02:03,  5.55it/s]"
          ]
        },
        {
          "name": "stdout",
          "output_type": "stream",
          "text": [
            "Erro no offset 79300: 'data'\n",
            "Erro no offset 79400: 'data'\n"
          ]
        },
        {
          "name": "stderr",
          "output_type": "stream",
          "text": [
            "\rBaixando dados da Marvel:  54%|█████▎    | 796/1481 [1:27:08<01:58,  5.78it/s]"
          ]
        },
        {
          "name": "stdout",
          "output_type": "stream",
          "text": [
            "Erro no offset 79500: 'data'\n"
          ]
        },
        {
          "name": "stderr",
          "output_type": "stream",
          "text": [
            "\rBaixando dados da Marvel:  54%|█████▍    | 797/1481 [1:27:08<02:04,  5.49it/s]"
          ]
        },
        {
          "name": "stdout",
          "output_type": "stream",
          "text": [
            "Erro no offset 79600: 'data'\n"
          ]
        },
        {
          "name": "stderr",
          "output_type": "stream",
          "text": [
            "\rBaixando dados da Marvel:  54%|█████▍    | 798/1481 [1:27:09<02:09,  5.28it/s]"
          ]
        },
        {
          "name": "stdout",
          "output_type": "stream",
          "text": [
            "Erro no offset 79700: 'data'\n"
          ]
        },
        {
          "name": "stderr",
          "output_type": "stream",
          "text": [
            "\rBaixando dados da Marvel:  54%|█████▍    | 799/1481 [1:27:09<02:12,  5.15it/s]"
          ]
        },
        {
          "name": "stdout",
          "output_type": "stream",
          "text": [
            "Erro no offset 79800: 'data'\n"
          ]
        },
        {
          "name": "stderr",
          "output_type": "stream",
          "text": [
            "\rBaixando dados da Marvel:  54%|█████▍    | 800/1481 [1:27:09<02:14,  5.06it/s]"
          ]
        },
        {
          "name": "stdout",
          "output_type": "stream",
          "text": [
            "Erro no offset 79900: 'data'\n"
          ]
        },
        {
          "name": "stderr",
          "output_type": "stream",
          "text": [
            "\rBaixando dados da Marvel:  54%|█████▍    | 801/1481 [1:27:09<02:16,  4.99it/s]"
          ]
        },
        {
          "name": "stdout",
          "output_type": "stream",
          "text": [
            "Erro no offset 80000: 'data'\n"
          ]
        },
        {
          "name": "stderr",
          "output_type": "stream",
          "text": [
            "\rBaixando dados da Marvel:  54%|█████▍    | 802/1481 [1:27:09<02:17,  4.94it/s]"
          ]
        },
        {
          "name": "stdout",
          "output_type": "stream",
          "text": [
            "Erro no offset 80100: 'data'\n"
          ]
        },
        {
          "name": "stderr",
          "output_type": "stream",
          "text": [
            "\rBaixando dados da Marvel:  54%|█████▍    | 803/1481 [1:27:10<02:19,  4.87it/s]"
          ]
        },
        {
          "name": "stdout",
          "output_type": "stream",
          "text": [
            "Erro no offset 80200: 'data'\n"
          ]
        },
        {
          "name": "stderr",
          "output_type": "stream",
          "text": [
            "\rBaixando dados da Marvel:  54%|█████▍    | 804/1481 [1:27:10<02:20,  4.81it/s]"
          ]
        },
        {
          "name": "stdout",
          "output_type": "stream",
          "text": [
            "Erro no offset 80300: 'data'\n"
          ]
        },
        {
          "name": "stderr",
          "output_type": "stream",
          "text": [
            "\rBaixando dados da Marvel:  54%|█████▍    | 805/1481 [1:27:10<02:22,  4.75it/s]"
          ]
        },
        {
          "name": "stdout",
          "output_type": "stream",
          "text": [
            "Erro no offset 80400: 'data'\n"
          ]
        },
        {
          "name": "stderr",
          "output_type": "stream",
          "text": [
            "\rBaixando dados da Marvel:  54%|█████▍    | 806/1481 [1:27:10<02:21,  4.76it/s]"
          ]
        },
        {
          "name": "stdout",
          "output_type": "stream",
          "text": [
            "Erro no offset 80500: 'data'\n"
          ]
        },
        {
          "name": "stderr",
          "output_type": "stream",
          "text": [
            "Baixando dados da Marvel:  55%|█████▍    | 808/1481 [1:27:11<02:17,  4.90it/s]"
          ]
        },
        {
          "name": "stdout",
          "output_type": "stream",
          "text": [
            "Erro no offset 80600: 'data'\n",
            "Erro no offset 80700: 'data'\n"
          ]
        },
        {
          "name": "stderr",
          "output_type": "stream",
          "text": [
            "\rBaixando dados da Marvel:  55%|█████▍    | 809/1481 [1:27:11<02:17,  4.87it/s]"
          ]
        },
        {
          "name": "stdout",
          "output_type": "stream",
          "text": [
            "Erro no offset 80800: 'data'\n"
          ]
        },
        {
          "name": "stderr",
          "output_type": "stream",
          "text": [
            "\rBaixando dados da Marvel:  55%|█████▍    | 810/1481 [1:27:11<02:18,  4.84it/s]"
          ]
        },
        {
          "name": "stdout",
          "output_type": "stream",
          "text": [
            "Erro no offset 80900: 'data'\n"
          ]
        },
        {
          "name": "stderr",
          "output_type": "stream",
          "text": [
            "\rBaixando dados da Marvel:  55%|█████▍    | 811/1481 [1:27:11<02:18,  4.85it/s]"
          ]
        },
        {
          "name": "stdout",
          "output_type": "stream",
          "text": [
            "Erro no offset 81000: 'data'\n"
          ]
        },
        {
          "name": "stderr",
          "output_type": "stream",
          "text": [
            "Baixando dados da Marvel:  55%|█████▍    | 813/1481 [1:27:12<02:11,  5.06it/s]"
          ]
        },
        {
          "name": "stdout",
          "output_type": "stream",
          "text": [
            "Erro no offset 81100: 'data'\n",
            "Erro no offset 81200: 'data'\n"
          ]
        },
        {
          "name": "stderr",
          "output_type": "stream",
          "text": [
            "Baixando dados da Marvel:  55%|█████▌    | 815/1481 [1:27:12<02:00,  5.54it/s]"
          ]
        },
        {
          "name": "stdout",
          "output_type": "stream",
          "text": [
            "Erro no offset 81300: 'data'\n",
            "Erro no offset 81400: 'data'\n"
          ]
        },
        {
          "name": "stderr",
          "output_type": "stream",
          "text": [
            "\rBaixando dados da Marvel:  55%|█████▌    | 816/1481 [1:27:12<02:04,  5.32it/s]"
          ]
        },
        {
          "name": "stdout",
          "output_type": "stream",
          "text": [
            "Erro no offset 81500: 'data'\n"
          ]
        },
        {
          "name": "stderr",
          "output_type": "stream",
          "text": [
            "\rBaixando dados da Marvel:  55%|█████▌    | 817/1481 [1:27:12<02:08,  5.15it/s]"
          ]
        },
        {
          "name": "stdout",
          "output_type": "stream",
          "text": [
            "Erro no offset 81600: 'data'\n"
          ]
        },
        {
          "name": "stderr",
          "output_type": "stream",
          "text": [
            "\rBaixando dados da Marvel:  55%|█████▌    | 818/1481 [1:27:13<02:11,  5.04it/s]"
          ]
        },
        {
          "name": "stdout",
          "output_type": "stream",
          "text": [
            "Erro no offset 81700: 'data'\n"
          ]
        },
        {
          "name": "stderr",
          "output_type": "stream",
          "text": [
            "\rBaixando dados da Marvel:  55%|█████▌    | 819/1481 [1:27:13<02:17,  4.83it/s]"
          ]
        },
        {
          "name": "stdout",
          "output_type": "stream",
          "text": [
            "Erro no offset 81800: 'data'\n"
          ]
        },
        {
          "name": "stderr",
          "output_type": "stream",
          "text": [
            "\rBaixando dados da Marvel:  55%|█████▌    | 820/1481 [1:27:13<02:16,  4.84it/s]"
          ]
        },
        {
          "name": "stdout",
          "output_type": "stream",
          "text": [
            "Erro no offset 81900: 'data'\n"
          ]
        },
        {
          "name": "stderr",
          "output_type": "stream",
          "text": [
            "\rBaixando dados da Marvel:  55%|█████▌    | 821/1481 [1:27:13<02:20,  4.69it/s]"
          ]
        },
        {
          "name": "stdout",
          "output_type": "stream",
          "text": [
            "Erro no offset 82000: 'data'\n"
          ]
        },
        {
          "name": "stderr",
          "output_type": "stream",
          "text": [
            "\rBaixando dados da Marvel:  56%|█████▌    | 822/1481 [1:27:14<02:19,  4.72it/s]"
          ]
        },
        {
          "name": "stdout",
          "output_type": "stream",
          "text": [
            "Erro no offset 82100: 'data'\n"
          ]
        },
        {
          "name": "stderr",
          "output_type": "stream",
          "text": [
            "\rBaixando dados da Marvel:  56%|█████▌    | 823/1481 [1:27:14<02:18,  4.75it/s]"
          ]
        },
        {
          "name": "stdout",
          "output_type": "stream",
          "text": [
            "Erro no offset 82200: 'data'\n"
          ]
        },
        {
          "name": "stderr",
          "output_type": "stream",
          "text": [
            "\rBaixando dados da Marvel:  56%|█████▌    | 824/1481 [1:27:14<02:17,  4.76it/s]"
          ]
        },
        {
          "name": "stdout",
          "output_type": "stream",
          "text": [
            "Erro no offset 82300: 'data'\n"
          ]
        },
        {
          "name": "stderr",
          "output_type": "stream",
          "text": [
            "Baixando dados da Marvel:  56%|█████▌    | 826/1481 [1:27:14<02:08,  5.09it/s]"
          ]
        },
        {
          "name": "stdout",
          "output_type": "stream",
          "text": [
            "Erro no offset 82400: 'data'\n",
            "Erro no offset 82500: 'data'\n"
          ]
        },
        {
          "name": "stderr",
          "output_type": "stream",
          "text": [
            "Baixando dados da Marvel:  56%|█████▌    | 828/1481 [1:27:15<02:02,  5.33it/s]"
          ]
        },
        {
          "name": "stdout",
          "output_type": "stream",
          "text": [
            "Erro no offset 82600: 'data'\n",
            "Erro no offset 82700: 'data'\n"
          ]
        },
        {
          "name": "stderr",
          "output_type": "stream",
          "text": [
            "\rBaixando dados da Marvel:  56%|█████▌    | 829/1481 [1:27:15<02:05,  5.19it/s]"
          ]
        },
        {
          "name": "stdout",
          "output_type": "stream",
          "text": [
            "Erro no offset 82800: 'data'\n"
          ]
        },
        {
          "name": "stderr",
          "output_type": "stream",
          "text": [
            "\rBaixando dados da Marvel:  56%|█████▌    | 830/1481 [1:27:15<02:07,  5.10it/s]"
          ]
        },
        {
          "name": "stdout",
          "output_type": "stream",
          "text": [
            "Erro no offset 82900: 'data'\n"
          ]
        },
        {
          "name": "stderr",
          "output_type": "stream",
          "text": [
            "\rBaixando dados da Marvel:  56%|█████▌    | 831/1481 [1:27:15<02:09,  5.00it/s]"
          ]
        },
        {
          "name": "stdout",
          "output_type": "stream",
          "text": [
            "Erro no offset 83000: 'data'\n"
          ]
        },
        {
          "name": "stderr",
          "output_type": "stream",
          "text": [
            "Baixando dados da Marvel:  56%|█████▌    | 833/1481 [1:27:16<02:04,  5.19it/s]"
          ]
        },
        {
          "name": "stdout",
          "output_type": "stream",
          "text": [
            "Erro no offset 83100: 'data'\n",
            "Erro no offset 83200: 'data'\n"
          ]
        },
        {
          "name": "stderr",
          "output_type": "stream",
          "text": [
            "\rBaixando dados da Marvel:  56%|█████▋    | 834/1481 [1:27:16<02:08,  5.03it/s]"
          ]
        },
        {
          "name": "stdout",
          "output_type": "stream",
          "text": [
            "Erro no offset 83300: 'data'\n"
          ]
        },
        {
          "name": "stderr",
          "output_type": "stream",
          "text": [
            "Baixando dados da Marvel:  56%|█████▋    | 836/1481 [1:27:16<02:03,  5.20it/s]"
          ]
        },
        {
          "name": "stdout",
          "output_type": "stream",
          "text": [
            "Erro no offset 83400: 'data'\n",
            "Erro no offset 83500: 'data'\n"
          ]
        },
        {
          "name": "stderr",
          "output_type": "stream",
          "text": [
            "Baixando dados da Marvel:  57%|█████▋    | 838/1481 [1:27:17<01:59,  5.38it/s]"
          ]
        },
        {
          "name": "stdout",
          "output_type": "stream",
          "text": [
            "Erro no offset 83600: 'data'\n",
            "Erro no offset 83700: 'data'\n"
          ]
        },
        {
          "name": "stderr",
          "output_type": "stream",
          "text": [
            "Baixando dados da Marvel:  57%|█████▋    | 840/1481 [1:27:17<01:55,  5.55it/s]"
          ]
        },
        {
          "name": "stdout",
          "output_type": "stream",
          "text": [
            "Erro no offset 83800: 'data'\n",
            "Erro no offset 83900: 'data'\n"
          ]
        },
        {
          "name": "stderr",
          "output_type": "stream",
          "text": [
            "\rBaixando dados da Marvel:  57%|█████▋    | 841/1481 [1:27:17<02:00,  5.30it/s]"
          ]
        },
        {
          "name": "stdout",
          "output_type": "stream",
          "text": [
            "Erro no offset 84000: 'data'\n"
          ]
        },
        {
          "name": "stderr",
          "output_type": "stream",
          "text": [
            "\rBaixando dados da Marvel:  57%|█████▋    | 842/1481 [1:27:17<02:03,  5.18it/s]"
          ]
        },
        {
          "name": "stdout",
          "output_type": "stream",
          "text": [
            "Erro no offset 84100: 'data'\n"
          ]
        },
        {
          "name": "stderr",
          "output_type": "stream",
          "text": [
            "\rBaixando dados da Marvel:  57%|█████▋    | 843/1481 [1:27:18<02:05,  5.09it/s]"
          ]
        },
        {
          "name": "stdout",
          "output_type": "stream",
          "text": [
            "Erro no offset 84200: 'data'\n"
          ]
        },
        {
          "name": "stderr",
          "output_type": "stream",
          "text": [
            "Baixando dados da Marvel:  57%|█████▋    | 845/1481 [1:27:18<01:59,  5.30it/s]"
          ]
        },
        {
          "name": "stdout",
          "output_type": "stream",
          "text": [
            "Erro no offset 84300: 'data'\n",
            "Erro no offset 84400: 'data'\n"
          ]
        },
        {
          "name": "stderr",
          "output_type": "stream",
          "text": [
            "\rBaixando dados da Marvel:  57%|█████▋    | 846/1481 [1:27:18<01:55,  5.50it/s]"
          ]
        },
        {
          "name": "stdout",
          "output_type": "stream",
          "text": [
            "Erro no offset 84500: 'data'\n"
          ]
        },
        {
          "name": "stderr",
          "output_type": "stream",
          "text": [
            "Baixando dados da Marvel:  57%|█████▋    | 848/1481 [1:27:19<01:55,  5.47it/s]"
          ]
        },
        {
          "name": "stdout",
          "output_type": "stream",
          "text": [
            "Erro no offset 84600: 'data'\n",
            "Erro no offset 84700: 'data'\n"
          ]
        },
        {
          "name": "stderr",
          "output_type": "stream",
          "text": [
            "Baixando dados da Marvel:  57%|█████▋    | 850/1481 [1:27:19<01:54,  5.52it/s]"
          ]
        },
        {
          "name": "stdout",
          "output_type": "stream",
          "text": [
            "Erro no offset 84800: 'data'\n",
            "Erro no offset 84900: 'data'\n"
          ]
        },
        {
          "name": "stderr",
          "output_type": "stream",
          "text": [
            "Baixando dados da Marvel:  58%|█████▊    | 852/1481 [1:27:19<01:47,  5.83it/s]"
          ]
        },
        {
          "name": "stdout",
          "output_type": "stream",
          "text": [
            "Erro no offset 85000: 'data'\n",
            "Erro no offset 85100: 'data'\n"
          ]
        },
        {
          "name": "stderr",
          "output_type": "stream",
          "text": [
            "\rBaixando dados da Marvel:  58%|█████▊    | 853/1481 [1:27:19<01:44,  6.00it/s]"
          ]
        },
        {
          "name": "stdout",
          "output_type": "stream",
          "text": [
            "Erro no offset 85200: 'data'\n"
          ]
        },
        {
          "name": "stderr",
          "output_type": "stream",
          "text": [
            "\rBaixando dados da Marvel:  58%|█████▊    | 854/1481 [1:27:20<01:51,  5.63it/s]"
          ]
        },
        {
          "name": "stdout",
          "output_type": "stream",
          "text": [
            "Erro no offset 85300: 'data'\n"
          ]
        },
        {
          "name": "stderr",
          "output_type": "stream",
          "text": [
            "Baixando dados da Marvel:  58%|█████▊    | 856/1481 [1:27:20<01:52,  5.57it/s]"
          ]
        },
        {
          "name": "stdout",
          "output_type": "stream",
          "text": [
            "Erro no offset 85400: 'data'\n",
            "Erro no offset 85500: 'data'\n"
          ]
        },
        {
          "name": "stderr",
          "output_type": "stream",
          "text": [
            "\rBaixando dados da Marvel:  58%|█████▊    | 857/1481 [1:27:20<01:57,  5.31it/s]"
          ]
        },
        {
          "name": "stdout",
          "output_type": "stream",
          "text": [
            "Erro no offset 85600: 'data'\n"
          ]
        },
        {
          "name": "stderr",
          "output_type": "stream",
          "text": [
            "Baixando dados da Marvel:  58%|█████▊    | 859/1481 [1:27:21<01:54,  5.41it/s]"
          ]
        },
        {
          "name": "stdout",
          "output_type": "stream",
          "text": [
            "Erro no offset 85700: 'data'\n",
            "Erro no offset 85800: 'data'\n"
          ]
        },
        {
          "name": "stderr",
          "output_type": "stream",
          "text": [
            "Baixando dados da Marvel:  58%|█████▊    | 861/1481 [1:27:21<01:53,  5.48it/s]"
          ]
        },
        {
          "name": "stdout",
          "output_type": "stream",
          "text": [
            "Erro no offset 85900: 'data'\n",
            "Erro no offset 86000: 'data'\n"
          ]
        },
        {
          "name": "stderr",
          "output_type": "stream",
          "text": [
            "Baixando dados da Marvel:  58%|█████▊    | 863/1481 [1:27:21<01:52,  5.49it/s]"
          ]
        },
        {
          "name": "stdout",
          "output_type": "stream",
          "text": [
            "Erro no offset 86100: 'data'\n",
            "Erro no offset 86200: 'data'\n"
          ]
        },
        {
          "name": "stderr",
          "output_type": "stream",
          "text": [
            "\rBaixando dados da Marvel:  58%|█████▊    | 864/1481 [1:27:21<01:48,  5.66it/s]"
          ]
        },
        {
          "name": "stdout",
          "output_type": "stream",
          "text": [
            "Erro no offset 86300: 'data'\n"
          ]
        },
        {
          "name": "stderr",
          "output_type": "stream",
          "text": [
            "\rBaixando dados da Marvel:  58%|█████▊    | 865/1481 [1:27:22<01:54,  5.40it/s]"
          ]
        },
        {
          "name": "stdout",
          "output_type": "stream",
          "text": [
            "Erro no offset 86400: 'data'\n"
          ]
        },
        {
          "name": "stderr",
          "output_type": "stream",
          "text": [
            "\rBaixando dados da Marvel:  58%|█████▊    | 866/1481 [1:27:22<01:57,  5.22it/s]"
          ]
        },
        {
          "name": "stdout",
          "output_type": "stream",
          "text": [
            "Erro no offset 86500: 'data'\n"
          ]
        },
        {
          "name": "stderr",
          "output_type": "stream",
          "text": [
            "\rBaixando dados da Marvel:  59%|█████▊    | 867/1481 [1:27:22<02:00,  5.11it/s]"
          ]
        },
        {
          "name": "stdout",
          "output_type": "stream",
          "text": [
            "Erro no offset 86600: 'data'\n"
          ]
        },
        {
          "name": "stderr",
          "output_type": "stream",
          "text": [
            "\rBaixando dados da Marvel:  59%|█████▊    | 868/1481 [1:27:22<02:02,  5.02it/s]"
          ]
        },
        {
          "name": "stdout",
          "output_type": "stream",
          "text": [
            "Erro no offset 86700: 'data'\n"
          ]
        },
        {
          "name": "stderr",
          "output_type": "stream",
          "text": [
            "\rBaixando dados da Marvel:  59%|█████▊    | 869/1481 [1:27:22<02:03,  4.97it/s]"
          ]
        },
        {
          "name": "stdout",
          "output_type": "stream",
          "text": [
            "Erro no offset 86800: 'data'\n"
          ]
        },
        {
          "name": "stderr",
          "output_type": "stream",
          "text": [
            "\rBaixando dados da Marvel:  59%|█████▊    | 870/1481 [1:27:23<02:03,  4.95it/s]"
          ]
        },
        {
          "name": "stdout",
          "output_type": "stream",
          "text": [
            "Erro no offset 86900: 'data'\n"
          ]
        },
        {
          "name": "stderr",
          "output_type": "stream",
          "text": [
            "\rBaixando dados da Marvel:  59%|█████▉    | 871/1481 [1:27:23<02:03,  4.94it/s]"
          ]
        },
        {
          "name": "stdout",
          "output_type": "stream",
          "text": [
            "Erro no offset 87000: 'data'\n"
          ]
        },
        {
          "name": "stderr",
          "output_type": "stream",
          "text": [
            "\rBaixando dados da Marvel:  59%|█████▉    | 872/1481 [1:27:23<02:03,  4.92it/s]"
          ]
        },
        {
          "name": "stdout",
          "output_type": "stream",
          "text": [
            "Erro no offset 87100: 'data'\n"
          ]
        },
        {
          "name": "stderr",
          "output_type": "stream",
          "text": [
            "\rBaixando dados da Marvel:  59%|█████▉    | 873/1481 [1:27:23<02:04,  4.89it/s]"
          ]
        },
        {
          "name": "stdout",
          "output_type": "stream",
          "text": [
            "Erro no offset 87200: 'data'\n"
          ]
        },
        {
          "name": "stderr",
          "output_type": "stream",
          "text": [
            "\rBaixando dados da Marvel:  59%|█████▉    | 874/1481 [1:27:24<02:03,  4.90it/s]"
          ]
        },
        {
          "name": "stdout",
          "output_type": "stream",
          "text": [
            "Erro no offset 87300: 'data'\n"
          ]
        },
        {
          "name": "stderr",
          "output_type": "stream",
          "text": [
            "Baixando dados da Marvel:  59%|█████▉    | 876/1481 [1:27:24<01:55,  5.22it/s]"
          ]
        },
        {
          "name": "stdout",
          "output_type": "stream",
          "text": [
            "Erro no offset 87400: 'data'\n",
            "Erro no offset 87500: 'data'\n"
          ]
        },
        {
          "name": "stderr",
          "output_type": "stream",
          "text": [
            "\rBaixando dados da Marvel:  59%|█████▉    | 877/1481 [1:27:24<01:50,  5.45it/s]"
          ]
        },
        {
          "name": "stdout",
          "output_type": "stream",
          "text": [
            "Erro no offset 87600: 'data'\n"
          ]
        },
        {
          "name": "stderr",
          "output_type": "stream",
          "text": [
            "Baixando dados da Marvel:  59%|█████▉    | 879/1481 [1:27:24<01:49,  5.47it/s]"
          ]
        },
        {
          "name": "stdout",
          "output_type": "stream",
          "text": [
            "Erro no offset 87700: 'data'\n",
            "Erro no offset 87800: 'data'\n"
          ]
        },
        {
          "name": "stderr",
          "output_type": "stream",
          "text": [
            "\rBaixando dados da Marvel:  59%|█████▉    | 880/1481 [1:27:25<01:54,  5.26it/s]"
          ]
        },
        {
          "name": "stdout",
          "output_type": "stream",
          "text": [
            "Erro no offset 87900: 'data'\n"
          ]
        },
        {
          "name": "stderr",
          "output_type": "stream",
          "text": [
            "Baixando dados da Marvel:  60%|█████▉    | 882/1481 [1:27:25<01:50,  5.41it/s]"
          ]
        },
        {
          "name": "stdout",
          "output_type": "stream",
          "text": [
            "Erro no offset 88000: 'data'\n",
            "Erro no offset 88100: 'data'\n"
          ]
        },
        {
          "name": "stderr",
          "output_type": "stream",
          "text": [
            "\rBaixando dados da Marvel:  60%|█████▉    | 883/1481 [1:27:25<01:54,  5.21it/s]"
          ]
        },
        {
          "name": "stdout",
          "output_type": "stream",
          "text": [
            "Erro no offset 88200: 'data'\n"
          ]
        },
        {
          "name": "stderr",
          "output_type": "stream",
          "text": [
            "\rBaixando dados da Marvel:  60%|█████▉    | 884/1481 [1:27:25<01:58,  5.02it/s]"
          ]
        },
        {
          "name": "stdout",
          "output_type": "stream",
          "text": [
            "Erro no offset 88300: 'data'\n"
          ]
        },
        {
          "name": "stderr",
          "output_type": "stream",
          "text": [
            "\rBaixando dados da Marvel:  60%|█████▉    | 885/1481 [1:27:26<02:00,  4.95it/s]"
          ]
        },
        {
          "name": "stdout",
          "output_type": "stream",
          "text": [
            "Erro no offset 88400: 'data'\n"
          ]
        },
        {
          "name": "stderr",
          "output_type": "stream",
          "text": [
            "Baixando dados da Marvel:  60%|█████▉    | 887/1481 [1:27:26<01:53,  5.24it/s]"
          ]
        },
        {
          "name": "stdout",
          "output_type": "stream",
          "text": [
            "Erro no offset 88500: 'data'\n",
            "Erro no offset 88600: 'data'\n"
          ]
        },
        {
          "name": "stderr",
          "output_type": "stream",
          "text": [
            "Baixando dados da Marvel:  60%|██████    | 889/1481 [1:27:26<01:44,  5.66it/s]"
          ]
        },
        {
          "name": "stdout",
          "output_type": "stream",
          "text": [
            "Erro no offset 88700: 'data'\n",
            "Erro no offset 88800: 'data'\n"
          ]
        },
        {
          "name": "stderr",
          "output_type": "stream",
          "text": [
            "Baixando dados da Marvel:  60%|██████    | 891/1481 [1:27:27<01:41,  5.81it/s]"
          ]
        },
        {
          "name": "stdout",
          "output_type": "stream",
          "text": [
            "Erro no offset 88900: 'data'\n",
            "Erro no offset 89000: 'data'\n"
          ]
        },
        {
          "name": "stderr",
          "output_type": "stream",
          "text": [
            "\rBaixando dados da Marvel:  60%|██████    | 892/1481 [1:27:27<01:40,  5.88it/s]"
          ]
        },
        {
          "name": "stdout",
          "output_type": "stream",
          "text": [
            "Erro no offset 89100: 'data'\n"
          ]
        },
        {
          "name": "stderr",
          "output_type": "stream",
          "text": [
            "Baixando dados da Marvel:  60%|██████    | 894/1481 [1:27:27<01:42,  5.72it/s]"
          ]
        },
        {
          "name": "stdout",
          "output_type": "stream",
          "text": [
            "Erro no offset 89200: 'data'\n",
            "Erro no offset 89300: 'data'\n"
          ]
        },
        {
          "name": "stderr",
          "output_type": "stream",
          "text": [
            "\rBaixando dados da Marvel:  60%|██████    | 895/1481 [1:27:27<01:41,  5.80it/s]"
          ]
        },
        {
          "name": "stdout",
          "output_type": "stream",
          "text": [
            "Erro no offset 89400: 'data'\n"
          ]
        },
        {
          "name": "stderr",
          "output_type": "stream",
          "text": [
            "\rBaixando dados da Marvel:  60%|██████    | 896/1481 [1:27:28<01:47,  5.44it/s]"
          ]
        },
        {
          "name": "stdout",
          "output_type": "stream",
          "text": [
            "Erro no offset 89500: 'data'\n"
          ]
        },
        {
          "name": "stderr",
          "output_type": "stream",
          "text": [
            "\rBaixando dados da Marvel:  61%|██████    | 897/1481 [1:27:28<01:51,  5.22it/s]"
          ]
        },
        {
          "name": "stdout",
          "output_type": "stream",
          "text": [
            "Erro no offset 89600: 'data'\n"
          ]
        },
        {
          "name": "stderr",
          "output_type": "stream",
          "text": [
            "\rBaixando dados da Marvel:  61%|██████    | 898/1481 [1:27:28<01:54,  5.07it/s]"
          ]
        },
        {
          "name": "stdout",
          "output_type": "stream",
          "text": [
            "Erro no offset 89700: 'data'\n"
          ]
        },
        {
          "name": "stderr",
          "output_type": "stream",
          "text": [
            "\rBaixando dados da Marvel:  61%|██████    | 899/1481 [1:27:28<01:56,  4.99it/s]"
          ]
        },
        {
          "name": "stdout",
          "output_type": "stream",
          "text": [
            "Erro no offset 89800: 'data'\n"
          ]
        },
        {
          "name": "stderr",
          "output_type": "stream",
          "text": [
            "Baixando dados da Marvel:  61%|██████    | 901/1481 [1:27:29<01:49,  5.28it/s]"
          ]
        },
        {
          "name": "stdout",
          "output_type": "stream",
          "text": [
            "Erro no offset 89900: 'data'\n",
            "Erro no offset 90000: 'data'\n"
          ]
        },
        {
          "name": "stderr",
          "output_type": "stream",
          "text": [
            "Baixando dados da Marvel:  61%|██████    | 903/1481 [1:27:29<01:41,  5.69it/s]"
          ]
        },
        {
          "name": "stdout",
          "output_type": "stream",
          "text": [
            "Erro no offset 90100: 'data'\n",
            "Erro no offset 90200: 'data'\n"
          ]
        },
        {
          "name": "stderr",
          "output_type": "stream",
          "text": [
            "\rBaixando dados da Marvel:  61%|██████    | 904/1481 [1:27:29<01:46,  5.41it/s]"
          ]
        },
        {
          "name": "stdout",
          "output_type": "stream",
          "text": [
            "Erro no offset 90300: 'data'\n"
          ]
        },
        {
          "name": "stderr",
          "output_type": "stream",
          "text": [
            "Baixando dados da Marvel:  61%|██████    | 906/1481 [1:27:29<01:45,  5.46it/s]"
          ]
        },
        {
          "name": "stdout",
          "output_type": "stream",
          "text": [
            "Erro no offset 90400: 'data'\n",
            "Erro no offset 90500: 'data'\n"
          ]
        },
        {
          "name": "stderr",
          "output_type": "stream",
          "text": [
            "Baixando dados da Marvel:  61%|██████▏   | 908/1481 [1:27:30<01:39,  5.76it/s]"
          ]
        },
        {
          "name": "stdout",
          "output_type": "stream",
          "text": [
            "Erro no offset 90600: 'data'\n",
            "Erro no offset 90700: 'data'\n"
          ]
        },
        {
          "name": "stderr",
          "output_type": "stream",
          "text": [
            "Baixando dados da Marvel:  61%|██████▏   | 910/1481 [1:27:30<01:41,  5.61it/s]"
          ]
        },
        {
          "name": "stdout",
          "output_type": "stream",
          "text": [
            "Erro no offset 90800: 'data'\n",
            "Erro no offset 90900: 'data'\n"
          ]
        },
        {
          "name": "stderr",
          "output_type": "stream",
          "text": [
            "Baixando dados da Marvel:  62%|██████▏   | 912/1481 [1:27:31<01:41,  5.59it/s]"
          ]
        },
        {
          "name": "stdout",
          "output_type": "stream",
          "text": [
            "Erro no offset 91000: 'data'\n",
            "Erro no offset 91100: 'data'\n"
          ]
        },
        {
          "name": "stderr",
          "output_type": "stream",
          "text": [
            "Baixando dados da Marvel:  62%|██████▏   | 914/1481 [1:27:31<01:40,  5.64it/s]"
          ]
        },
        {
          "name": "stdout",
          "output_type": "stream",
          "text": [
            "Erro no offset 91200: 'data'\n",
            "Erro no offset 91300: 'data'\n"
          ]
        },
        {
          "name": "stderr",
          "output_type": "stream",
          "text": [
            "\rBaixando dados da Marvel:  62%|██████▏   | 915/1481 [1:27:31<01:45,  5.35it/s]"
          ]
        },
        {
          "name": "stdout",
          "output_type": "stream",
          "text": [
            "Erro no offset 91400: 'data'\n"
          ]
        },
        {
          "name": "stderr",
          "output_type": "stream",
          "text": [
            "Baixando dados da Marvel:  62%|██████▏   | 917/1481 [1:27:31<01:44,  5.40it/s]"
          ]
        },
        {
          "name": "stdout",
          "output_type": "stream",
          "text": [
            "Erro no offset 91500: 'data'\n",
            "Erro no offset 91600: 'data'\n"
          ]
        },
        {
          "name": "stderr",
          "output_type": "stream",
          "text": [
            "\rBaixando dados da Marvel:  62%|██████▏   | 918/1481 [1:27:32<02:04,  4.54it/s]"
          ]
        },
        {
          "name": "stdout",
          "output_type": "stream",
          "text": [
            "Erro no offset 91700: 'data'\n"
          ]
        },
        {
          "name": "stderr",
          "output_type": "stream",
          "text": [
            "\rBaixando dados da Marvel:  62%|██████▏   | 919/1481 [1:27:32<02:02,  4.60it/s]"
          ]
        },
        {
          "name": "stdout",
          "output_type": "stream",
          "text": [
            "Erro no offset 91800: 'data'\n"
          ]
        },
        {
          "name": "stderr",
          "output_type": "stream",
          "text": [
            "\rBaixando dados da Marvel:  62%|██████▏   | 920/1481 [1:27:32<02:01,  4.63it/s]"
          ]
        },
        {
          "name": "stdout",
          "output_type": "stream",
          "text": [
            "Erro no offset 91900: 'data'\n"
          ]
        },
        {
          "name": "stderr",
          "output_type": "stream",
          "text": [
            "\rBaixando dados da Marvel:  62%|██████▏   | 921/1481 [1:27:32<02:00,  4.64it/s]"
          ]
        },
        {
          "name": "stdout",
          "output_type": "stream",
          "text": [
            "Erro no offset 92000: 'data'\n"
          ]
        },
        {
          "name": "stderr",
          "output_type": "stream",
          "text": [
            "\rBaixando dados da Marvel:  62%|██████▏   | 922/1481 [1:27:33<02:00,  4.65it/s]"
          ]
        },
        {
          "name": "stdout",
          "output_type": "stream",
          "text": [
            "Erro no offset 92100: 'data'\n"
          ]
        },
        {
          "name": "stderr",
          "output_type": "stream",
          "text": [
            "\rBaixando dados da Marvel:  62%|██████▏   | 923/1481 [1:27:33<01:59,  4.67it/s]"
          ]
        },
        {
          "name": "stdout",
          "output_type": "stream",
          "text": [
            "Erro no offset 92200: 'data'\n"
          ]
        },
        {
          "name": "stderr",
          "output_type": "stream",
          "text": [
            "\rBaixando dados da Marvel:  62%|██████▏   | 924/1481 [1:27:33<02:13,  4.18it/s]"
          ]
        },
        {
          "name": "stdout",
          "output_type": "stream",
          "text": [
            "Erro no offset 92300: 'data'\n"
          ]
        },
        {
          "name": "stderr",
          "output_type": "stream",
          "text": [
            "\rBaixando dados da Marvel:  62%|██████▏   | 925/1481 [1:27:33<02:07,  4.36it/s]"
          ]
        },
        {
          "name": "stdout",
          "output_type": "stream",
          "text": [
            "Erro no offset 92400: 'data'\n"
          ]
        },
        {
          "name": "stderr",
          "output_type": "stream",
          "text": [
            "\rBaixando dados da Marvel:  63%|██████▎   | 926/1481 [1:27:34<02:04,  4.46it/s]"
          ]
        },
        {
          "name": "stdout",
          "output_type": "stream",
          "text": [
            "Erro no offset 92500: 'data'\n"
          ]
        },
        {
          "name": "stderr",
          "output_type": "stream",
          "text": [
            "\rBaixando dados da Marvel:  63%|██████▎   | 927/1481 [1:27:34<02:01,  4.56it/s]"
          ]
        },
        {
          "name": "stdout",
          "output_type": "stream",
          "text": [
            "Erro no offset 92600: 'data'\n"
          ]
        },
        {
          "name": "stderr",
          "output_type": "stream",
          "text": [
            "\rBaixando dados da Marvel:  63%|██████▎   | 928/1481 [1:27:34<02:01,  4.54it/s]"
          ]
        },
        {
          "name": "stdout",
          "output_type": "stream",
          "text": [
            "Erro no offset 92700: 'data'\n"
          ]
        },
        {
          "name": "stderr",
          "output_type": "stream",
          "text": [
            "\rBaixando dados da Marvel:  63%|██████▎   | 929/1481 [1:27:34<02:02,  4.51it/s]"
          ]
        },
        {
          "name": "stdout",
          "output_type": "stream",
          "text": [
            "Erro no offset 92800: 'data'\n"
          ]
        },
        {
          "name": "stderr",
          "output_type": "stream",
          "text": [
            "\rBaixando dados da Marvel:  63%|██████▎   | 930/1481 [1:27:34<02:01,  4.55it/s]"
          ]
        },
        {
          "name": "stdout",
          "output_type": "stream",
          "text": [
            "Erro no offset 92900: 'data'\n"
          ]
        },
        {
          "name": "stderr",
          "output_type": "stream",
          "text": [
            "\rBaixando dados da Marvel:  63%|██████▎   | 931/1481 [1:27:35<01:59,  4.60it/s]"
          ]
        },
        {
          "name": "stdout",
          "output_type": "stream",
          "text": [
            "Erro no offset 93000: 'data'\n"
          ]
        },
        {
          "name": "stderr",
          "output_type": "stream",
          "text": [
            "Baixando dados da Marvel:  63%|██████▎   | 933/1481 [1:27:35<01:50,  4.98it/s]"
          ]
        },
        {
          "name": "stdout",
          "output_type": "stream",
          "text": [
            "Erro no offset 93100: 'data'\n",
            "Erro no offset 93200: 'data'\n"
          ]
        },
        {
          "name": "stderr",
          "output_type": "stream",
          "text": [
            "\rBaixando dados da Marvel:  63%|██████▎   | 934/1481 [1:27:35<01:51,  4.93it/s]"
          ]
        },
        {
          "name": "stdout",
          "output_type": "stream",
          "text": [
            "Erro no offset 93300: 'data'\n"
          ]
        },
        {
          "name": "stderr",
          "output_type": "stream",
          "text": [
            "\rBaixando dados da Marvel:  63%|██████▎   | 935/1481 [1:27:35<01:51,  4.88it/s]"
          ]
        },
        {
          "name": "stdout",
          "output_type": "stream",
          "text": [
            "Erro no offset 93400: 'data'\n"
          ]
        },
        {
          "name": "stderr",
          "output_type": "stream",
          "text": [
            "\rBaixando dados da Marvel:  63%|██████▎   | 936/1481 [1:27:36<01:53,  4.80it/s]"
          ]
        },
        {
          "name": "stdout",
          "output_type": "stream",
          "text": [
            "Erro no offset 93500: 'data'\n"
          ]
        },
        {
          "name": "stderr",
          "output_type": "stream",
          "text": [
            "\rBaixando dados da Marvel:  63%|██████▎   | 937/1481 [1:27:36<01:53,  4.78it/s]"
          ]
        },
        {
          "name": "stdout",
          "output_type": "stream",
          "text": [
            "Erro no offset 93600: 'data'\n"
          ]
        },
        {
          "name": "stderr",
          "output_type": "stream",
          "text": [
            "Baixando dados da Marvel:  63%|██████▎   | 939/1481 [1:27:36<01:48,  5.00it/s]"
          ]
        },
        {
          "name": "stdout",
          "output_type": "stream",
          "text": [
            "Erro no offset 93700: 'data'\n",
            "Erro no offset 93800: 'data'\n"
          ]
        },
        {
          "name": "stderr",
          "output_type": "stream",
          "text": [
            "\rBaixando dados da Marvel:  63%|██████▎   | 940/1481 [1:27:36<01:49,  4.93it/s]"
          ]
        },
        {
          "name": "stdout",
          "output_type": "stream",
          "text": [
            "Erro no offset 93900: 'data'\n"
          ]
        },
        {
          "name": "stderr",
          "output_type": "stream",
          "text": [
            "\rBaixando dados da Marvel:  64%|██████▎   | 941/1481 [1:27:37<01:51,  4.84it/s]"
          ]
        },
        {
          "name": "stdout",
          "output_type": "stream",
          "text": [
            "Erro no offset 94000: 'data'\n"
          ]
        },
        {
          "name": "stderr",
          "output_type": "stream",
          "text": [
            "\rBaixando dados da Marvel:  64%|██████▎   | 942/1481 [1:27:37<01:52,  4.78it/s]"
          ]
        },
        {
          "name": "stdout",
          "output_type": "stream",
          "text": [
            "Erro no offset 94100: 'data'\n"
          ]
        },
        {
          "name": "stderr",
          "output_type": "stream",
          "text": [
            "\rBaixando dados da Marvel:  64%|██████▎   | 943/1481 [1:27:37<01:53,  4.76it/s]"
          ]
        },
        {
          "name": "stdout",
          "output_type": "stream",
          "text": [
            "Erro no offset 94200: 'data'\n"
          ]
        },
        {
          "name": "stderr",
          "output_type": "stream",
          "text": [
            "\rBaixando dados da Marvel:  64%|██████▎   | 944/1481 [1:27:37<01:58,  4.52it/s]"
          ]
        },
        {
          "name": "stdout",
          "output_type": "stream",
          "text": [
            "Erro no offset 94300: 'data'\n"
          ]
        },
        {
          "name": "stderr",
          "output_type": "stream",
          "text": [
            "\rBaixando dados da Marvel:  64%|██████▍   | 945/1481 [1:27:38<02:01,  4.40it/s]"
          ]
        },
        {
          "name": "stdout",
          "output_type": "stream",
          "text": [
            "Erro no offset 94400: 'data'\n"
          ]
        },
        {
          "name": "stderr",
          "output_type": "stream",
          "text": [
            "\rBaixando dados da Marvel:  64%|██████▍   | 946/1481 [1:27:38<02:09,  4.14it/s]"
          ]
        },
        {
          "name": "stdout",
          "output_type": "stream",
          "text": [
            "Erro no offset 94500: 'data'\n"
          ]
        },
        {
          "name": "stderr",
          "output_type": "stream",
          "text": [
            "Baixando dados da Marvel:  64%|██████▍   | 948/1481 [1:27:38<02:07,  4.17it/s]"
          ]
        },
        {
          "name": "stdout",
          "output_type": "stream",
          "text": [
            "Erro no offset 94600: 'data'\n",
            "Erro no offset 94700: 'data'\n"
          ]
        },
        {
          "name": "stderr",
          "output_type": "stream",
          "text": [
            "\rBaixando dados da Marvel:  64%|██████▍   | 949/1481 [1:27:39<02:03,  4.32it/s]"
          ]
        },
        {
          "name": "stdout",
          "output_type": "stream",
          "text": [
            "Erro no offset 94800: 'data'\n"
          ]
        },
        {
          "name": "stderr",
          "output_type": "stream",
          "text": [
            "\rBaixando dados da Marvel:  64%|██████▍   | 950/1481 [1:27:39<02:07,  4.16it/s]"
          ]
        },
        {
          "name": "stdout",
          "output_type": "stream",
          "text": [
            "Erro no offset 94900: 'data'\n"
          ]
        },
        {
          "name": "stderr",
          "output_type": "stream",
          "text": [
            "\rBaixando dados da Marvel:  64%|██████▍   | 951/1481 [1:27:39<02:08,  4.13it/s]"
          ]
        },
        {
          "name": "stdout",
          "output_type": "stream",
          "text": [
            "Erro no offset 95000: 'data'\n"
          ]
        },
        {
          "name": "stderr",
          "output_type": "stream",
          "text": [
            "Baixando dados da Marvel:  64%|██████▍   | 953/1481 [1:27:40<01:59,  4.42it/s]"
          ]
        },
        {
          "name": "stdout",
          "output_type": "stream",
          "text": [
            "Erro no offset 95100: 'data'\n",
            "Erro no offset 95200: 'data'\n"
          ]
        },
        {
          "name": "stderr",
          "output_type": "stream",
          "text": [
            "Baixando dados da Marvel:  64%|██████▍   | 955/1481 [1:27:40<01:51,  4.70it/s]"
          ]
        },
        {
          "name": "stdout",
          "output_type": "stream",
          "text": [
            "Erro no offset 95300: 'data'\n",
            "Erro no offset 95400: 'data'\n"
          ]
        },
        {
          "name": "stderr",
          "output_type": "stream",
          "text": [
            "\rBaixando dados da Marvel:  65%|██████▍   | 956/1481 [1:27:40<01:59,  4.39it/s]"
          ]
        },
        {
          "name": "stdout",
          "output_type": "stream",
          "text": [
            "Erro no offset 95500: 'data'\n"
          ]
        },
        {
          "name": "stderr",
          "output_type": "stream",
          "text": [
            "Baixando dados da Marvel:  65%|██████▍   | 958/1481 [1:27:41<01:55,  4.54it/s]"
          ]
        },
        {
          "name": "stdout",
          "output_type": "stream",
          "text": [
            "Erro no offset 95600: 'data'\n",
            "Erro no offset 95700: 'data'\n"
          ]
        },
        {
          "name": "stderr",
          "output_type": "stream",
          "text": [
            "\rBaixando dados da Marvel:  65%|██████▍   | 959/1481 [1:27:41<01:51,  4.68it/s]"
          ]
        },
        {
          "name": "stdout",
          "output_type": "stream",
          "text": [
            "Erro no offset 95800: 'data'\n"
          ]
        },
        {
          "name": "stderr",
          "output_type": "stream",
          "text": [
            "\rBaixando dados da Marvel:  65%|██████▍   | 960/1481 [1:27:41<01:55,  4.52it/s]"
          ]
        },
        {
          "name": "stdout",
          "output_type": "stream",
          "text": [
            "Erro no offset 95900: 'data'\n"
          ]
        },
        {
          "name": "stderr",
          "output_type": "stream",
          "text": [
            "Baixando dados da Marvel:  65%|██████▍   | 962/1481 [1:27:42<01:57,  4.40it/s]"
          ]
        },
        {
          "name": "stdout",
          "output_type": "stream",
          "text": [
            "Erro no offset 96000: 'data'\n",
            "Erro no offset 96100: 'data'\n"
          ]
        },
        {
          "name": "stderr",
          "output_type": "stream",
          "text": [
            "Baixando dados da Marvel:  65%|██████▌   | 964/1481 [1:27:42<01:49,  4.71it/s]"
          ]
        },
        {
          "name": "stdout",
          "output_type": "stream",
          "text": [
            "Erro no offset 96200: 'data'\n",
            "Erro no offset 96300: 'data'\n"
          ]
        },
        {
          "name": "stderr",
          "output_type": "stream",
          "text": [
            "\rBaixando dados da Marvel:  65%|██████▌   | 965/1481 [1:27:42<01:45,  4.90it/s]"
          ]
        },
        {
          "name": "stdout",
          "output_type": "stream",
          "text": [
            "Erro no offset 96400: 'data'\n"
          ]
        },
        {
          "name": "stderr",
          "output_type": "stream",
          "text": [
            "\rBaixando dados da Marvel:  65%|██████▌   | 966/1481 [1:27:42<01:47,  4.79it/s]"
          ]
        },
        {
          "name": "stdout",
          "output_type": "stream",
          "text": [
            "Erro no offset 96500: 'data'\n"
          ]
        },
        {
          "name": "stderr",
          "output_type": "stream",
          "text": [
            "Baixando dados da Marvel:  65%|██████▌   | 968/1481 [1:27:43<01:42,  5.00it/s]"
          ]
        },
        {
          "name": "stdout",
          "output_type": "stream",
          "text": [
            "Erro no offset 96600: 'data'\n",
            "Erro no offset 96700: 'data'\n"
          ]
        },
        {
          "name": "stderr",
          "output_type": "stream",
          "text": [
            "\rBaixando dados da Marvel:  65%|██████▌   | 969/1481 [1:27:43<01:37,  5.25it/s]"
          ]
        },
        {
          "name": "stdout",
          "output_type": "stream",
          "text": [
            "Erro no offset 96800: 'data'\n"
          ]
        },
        {
          "name": "stderr",
          "output_type": "stream",
          "text": [
            "\rBaixando dados da Marvel:  65%|██████▌   | 970/1481 [1:27:43<01:40,  5.10it/s]"
          ]
        },
        {
          "name": "stdout",
          "output_type": "stream",
          "text": [
            "Erro no offset 96900: 'data'\n"
          ]
        },
        {
          "name": "stderr",
          "output_type": "stream",
          "text": [
            "Baixando dados da Marvel:  66%|██████▌   | 972/1481 [1:27:44<01:39,  5.12it/s]"
          ]
        },
        {
          "name": "stdout",
          "output_type": "stream",
          "text": [
            "Erro no offset 97000: 'data'\n",
            "Erro no offset 97100: 'data'\n"
          ]
        },
        {
          "name": "stderr",
          "output_type": "stream",
          "text": [
            "Baixando dados da Marvel:  66%|██████▌   | 974/1481 [1:27:44<01:36,  5.25it/s]"
          ]
        },
        {
          "name": "stdout",
          "output_type": "stream",
          "text": [
            "Erro no offset 97200: 'data'\n",
            "Erro no offset 97300: 'data'\n"
          ]
        },
        {
          "name": "stderr",
          "output_type": "stream",
          "text": [
            "Baixando dados da Marvel:  66%|██████▌   | 976/1481 [1:27:44<01:30,  5.57it/s]"
          ]
        },
        {
          "name": "stdout",
          "output_type": "stream",
          "text": [
            "Erro no offset 97400: 'data'\n",
            "Erro no offset 97500: 'data'\n"
          ]
        },
        {
          "name": "stderr",
          "output_type": "stream",
          "text": [
            "Baixando dados da Marvel:  66%|██████▌   | 978/1481 [1:27:45<01:27,  5.78it/s]"
          ]
        },
        {
          "name": "stdout",
          "output_type": "stream",
          "text": [
            "Erro no offset 97600: 'data'\n",
            "Erro no offset 97700: 'data'\n"
          ]
        },
        {
          "name": "stderr",
          "output_type": "stream",
          "text": [
            "Baixando dados da Marvel:  66%|██████▌   | 980/1481 [1:27:45<01:24,  5.94it/s]"
          ]
        },
        {
          "name": "stdout",
          "output_type": "stream",
          "text": [
            "Erro no offset 97800: 'data'\n",
            "Erro no offset 97900: 'data'\n"
          ]
        },
        {
          "name": "stderr",
          "output_type": "stream",
          "text": [
            "\rBaixando dados da Marvel:  66%|██████▌   | 981/1481 [1:27:45<01:23,  6.01it/s]"
          ]
        },
        {
          "name": "stdout",
          "output_type": "stream",
          "text": [
            "Erro no offset 98000: 'data'\n"
          ]
        },
        {
          "name": "stderr",
          "output_type": "stream",
          "text": [
            "Baixando dados da Marvel:  66%|██████▋   | 983/1481 [1:27:45<01:27,  5.70it/s]"
          ]
        },
        {
          "name": "stdout",
          "output_type": "stream",
          "text": [
            "Erro no offset 98100: 'data'\n",
            "Erro no offset 98200: 'data'\n"
          ]
        },
        {
          "name": "stderr",
          "output_type": "stream",
          "text": [
            "Baixando dados da Marvel:  67%|██████▋   | 985/1481 [1:27:46<01:30,  5.48it/s]"
          ]
        },
        {
          "name": "stdout",
          "output_type": "stream",
          "text": [
            "Erro no offset 98300: 'data'\n",
            "Erro no offset 98400: 'data'\n"
          ]
        },
        {
          "name": "stderr",
          "output_type": "stream",
          "text": [
            "\rBaixando dados da Marvel:  67%|██████▋   | 986/1481 [1:27:46<01:28,  5.58it/s]"
          ]
        },
        {
          "name": "stdout",
          "output_type": "stream",
          "text": [
            "Erro no offset 98500: 'data'\n"
          ]
        },
        {
          "name": "stderr",
          "output_type": "stream",
          "text": [
            "\rBaixando dados da Marvel:  67%|██████▋   | 987/1481 [1:27:46<01:33,  5.27it/s]"
          ]
        },
        {
          "name": "stdout",
          "output_type": "stream",
          "text": [
            "Erro no offset 98600: 'data'\n"
          ]
        },
        {
          "name": "stderr",
          "output_type": "stream",
          "text": [
            "Baixando dados da Marvel:  67%|██████▋   | 989/1481 [1:27:47<01:32,  5.33it/s]"
          ]
        },
        {
          "name": "stdout",
          "output_type": "stream",
          "text": [
            "Erro no offset 98700: 'data'\n",
            "Erro no offset 98800: 'data'\n"
          ]
        },
        {
          "name": "stderr",
          "output_type": "stream",
          "text": [
            "\rBaixando dados da Marvel:  67%|██████▋   | 990/1481 [1:27:47<01:28,  5.53it/s]"
          ]
        },
        {
          "name": "stdout",
          "output_type": "stream",
          "text": [
            "Erro no offset 98900: 'data'\n"
          ]
        },
        {
          "name": "stderr",
          "output_type": "stream",
          "text": [
            "Baixando dados da Marvel:  67%|██████▋   | 992/1481 [1:27:47<01:29,  5.46it/s]"
          ]
        },
        {
          "name": "stdout",
          "output_type": "stream",
          "text": [
            "Erro no offset 99000: 'data'\n",
            "Erro no offset 99100: 'data'\n"
          ]
        },
        {
          "name": "stderr",
          "output_type": "stream",
          "text": [
            "\rBaixando dados da Marvel:  67%|██████▋   | 993/1481 [1:27:47<01:27,  5.56it/s]"
          ]
        },
        {
          "name": "stdout",
          "output_type": "stream",
          "text": [
            "Erro no offset 99200: 'data'\n"
          ]
        },
        {
          "name": "stderr",
          "output_type": "stream",
          "text": [
            "Baixando dados da Marvel:  67%|██████▋   | 995/1481 [1:27:48<01:28,  5.50it/s]"
          ]
        },
        {
          "name": "stdout",
          "output_type": "stream",
          "text": [
            "Erro no offset 99300: 'data'\n",
            "Erro no offset 99400: 'data'\n"
          ]
        },
        {
          "name": "stderr",
          "output_type": "stream",
          "text": [
            "\rBaixando dados da Marvel:  67%|██████▋   | 996/1481 [1:27:48<01:32,  5.23it/s]"
          ]
        },
        {
          "name": "stdout",
          "output_type": "stream",
          "text": [
            "Erro no offset 99500: 'data'\n"
          ]
        },
        {
          "name": "stderr",
          "output_type": "stream",
          "text": [
            "Baixando dados da Marvel:  67%|██████▋   | 998/1481 [1:27:48<01:30,  5.32it/s]"
          ]
        },
        {
          "name": "stdout",
          "output_type": "stream",
          "text": [
            "Erro no offset 99600: 'data'\n",
            "Erro no offset 99700: 'data'\n"
          ]
        },
        {
          "name": "stderr",
          "output_type": "stream",
          "text": [
            "Baixando dados da Marvel:  68%|██████▊   | 1000/1481 [1:27:49<01:24,  5.70it/s]"
          ]
        },
        {
          "name": "stdout",
          "output_type": "stream",
          "text": [
            "Erro no offset 99800: 'data'\n",
            "Erro no offset 99900: 'data'\n"
          ]
        },
        {
          "name": "stderr",
          "output_type": "stream",
          "text": [
            "\rBaixando dados da Marvel:  68%|██████▊   | 1001/1481 [1:27:49<01:28,  5.41it/s]"
          ]
        },
        {
          "name": "stdout",
          "output_type": "stream",
          "text": [
            "Erro no offset 100000: 'data'\n"
          ]
        },
        {
          "name": "stderr",
          "output_type": "stream",
          "text": [
            "Baixando dados da Marvel:  68%|██████▊   | 1003/1481 [1:27:49<01:28,  5.41it/s]"
          ]
        },
        {
          "name": "stdout",
          "output_type": "stream",
          "text": [
            "Erro no offset 100100: 'data'\n",
            "Erro no offset 100200: 'data'\n"
          ]
        },
        {
          "name": "stderr",
          "output_type": "stream",
          "text": [
            "Baixando dados da Marvel:  68%|██████▊   | 1005/1481 [1:27:50<01:23,  5.71it/s]"
          ]
        },
        {
          "name": "stdout",
          "output_type": "stream",
          "text": [
            "Erro no offset 100300: 'data'\n",
            "Erro no offset 100400: 'data'\n"
          ]
        },
        {
          "name": "stderr",
          "output_type": "stream",
          "text": [
            "Baixando dados da Marvel:  68%|██████▊   | 1007/1481 [1:27:50<01:21,  5.82it/s]"
          ]
        },
        {
          "name": "stdout",
          "output_type": "stream",
          "text": [
            "Erro no offset 100500: 'data'\n",
            "Erro no offset 100600: 'data'\n"
          ]
        },
        {
          "name": "stderr",
          "output_type": "stream",
          "text": [
            "Baixando dados da Marvel:  68%|██████▊   | 1009/1481 [1:27:50<01:19,  5.96it/s]"
          ]
        },
        {
          "name": "stdout",
          "output_type": "stream",
          "text": [
            "Erro no offset 100700: 'data'\n",
            "Erro no offset 100800: 'data'\n"
          ]
        },
        {
          "name": "stderr",
          "output_type": "stream",
          "text": [
            "\rBaixando dados da Marvel:  68%|██████▊   | 1010/1481 [1:27:50<01:24,  5.55it/s]"
          ]
        },
        {
          "name": "stdout",
          "output_type": "stream",
          "text": [
            "Erro no offset 100900: 'data'\n"
          ]
        },
        {
          "name": "stderr",
          "output_type": "stream",
          "text": [
            "Baixando dados da Marvel:  68%|██████▊   | 1012/1481 [1:27:51<01:26,  5.44it/s]"
          ]
        },
        {
          "name": "stdout",
          "output_type": "stream",
          "text": [
            "Erro no offset 101000: 'data'\n",
            "Erro no offset 101100: 'data'\n"
          ]
        },
        {
          "name": "stderr",
          "output_type": "stream",
          "text": [
            "Baixando dados da Marvel:  68%|██████▊   | 1014/1481 [1:27:51<01:29,  5.19it/s]"
          ]
        },
        {
          "name": "stdout",
          "output_type": "stream",
          "text": [
            "Erro no offset 101200: 'data'\n",
            "Erro no offset 101300: 'data'\n"
          ]
        },
        {
          "name": "stderr",
          "output_type": "stream",
          "text": [
            "\rBaixando dados da Marvel:  69%|██████▊   | 1015/1481 [1:27:51<01:32,  5.04it/s]"
          ]
        },
        {
          "name": "stdout",
          "output_type": "stream",
          "text": [
            "Erro no offset 101400: 'data'\n"
          ]
        },
        {
          "name": "stderr",
          "output_type": "stream",
          "text": [
            "\rBaixando dados da Marvel:  69%|██████▊   | 1016/1481 [1:27:52<01:34,  4.93it/s]"
          ]
        },
        {
          "name": "stdout",
          "output_type": "stream",
          "text": [
            "Erro no offset 101500: 'data'\n"
          ]
        },
        {
          "name": "stderr",
          "output_type": "stream",
          "text": [
            "Baixando dados da Marvel:  69%|██████▊   | 1018/1481 [1:27:52<01:30,  5.13it/s]"
          ]
        },
        {
          "name": "stdout",
          "output_type": "stream",
          "text": [
            "Erro no offset 101600: 'data'\n",
            "Erro no offset 101700: 'data'\n"
          ]
        },
        {
          "name": "stderr",
          "output_type": "stream",
          "text": [
            "Baixando dados da Marvel:  69%|██████▉   | 1020/1481 [1:27:52<01:23,  5.51it/s]"
          ]
        },
        {
          "name": "stdout",
          "output_type": "stream",
          "text": [
            "Erro no offset 101800: 'data'\n",
            "Erro no offset 101900: 'data'\n"
          ]
        },
        {
          "name": "stderr",
          "output_type": "stream",
          "text": [
            "\rBaixando dados da Marvel:  69%|██████▉   | 1021/1481 [1:27:53<01:21,  5.63it/s]"
          ]
        },
        {
          "name": "stdout",
          "output_type": "stream",
          "text": [
            "Erro no offset 102000: 'data'\n"
          ]
        },
        {
          "name": "stderr",
          "output_type": "stream",
          "text": [
            "Baixando dados da Marvel:  69%|██████▉   | 1023/1481 [1:27:53<01:23,  5.48it/s]"
          ]
        },
        {
          "name": "stdout",
          "output_type": "stream",
          "text": [
            "Erro no offset 102100: 'data'\n",
            "Erro no offset 102200: 'data'\n"
          ]
        },
        {
          "name": "stderr",
          "output_type": "stream",
          "text": [
            "Baixando dados da Marvel:  69%|██████▉   | 1025/1481 [1:27:53<01:24,  5.41it/s]"
          ]
        },
        {
          "name": "stdout",
          "output_type": "stream",
          "text": [
            "Erro no offset 102300: 'data'\n",
            "Erro no offset 102400: 'data'\n"
          ]
        },
        {
          "name": "stderr",
          "output_type": "stream",
          "text": [
            "Baixando dados da Marvel:  69%|██████▉   | 1027/1481 [1:27:54<01:18,  5.76it/s]"
          ]
        },
        {
          "name": "stdout",
          "output_type": "stream",
          "text": [
            "Erro no offset 102500: 'data'\n",
            "Erro no offset 102600: 'data'\n"
          ]
        },
        {
          "name": "stderr",
          "output_type": "stream",
          "text": [
            "Baixando dados da Marvel:  69%|██████▉   | 1029/1481 [1:27:54<01:16,  5.93it/s]"
          ]
        },
        {
          "name": "stdout",
          "output_type": "stream",
          "text": [
            "Erro no offset 102700: 'data'\n",
            "Erro no offset 102800: 'data'\n"
          ]
        },
        {
          "name": "stderr",
          "output_type": "stream",
          "text": [
            "Baixando dados da Marvel:  70%|██████▉   | 1031/1481 [1:27:54<01:18,  5.72it/s]"
          ]
        },
        {
          "name": "stdout",
          "output_type": "stream",
          "text": [
            "Erro no offset 102900: 'data'\n",
            "Erro no offset 103000: 'data'\n"
          ]
        },
        {
          "name": "stderr",
          "output_type": "stream",
          "text": [
            "\rBaixando dados da Marvel:  70%|██████▉   | 1032/1481 [1:27:54<01:17,  5.80it/s]"
          ]
        },
        {
          "name": "stdout",
          "output_type": "stream",
          "text": [
            "Erro no offset 103100: 'data'\n"
          ]
        },
        {
          "name": "stderr",
          "output_type": "stream",
          "text": [
            "Baixando dados da Marvel:  70%|██████▉   | 1034/1481 [1:27:55<01:20,  5.57it/s]"
          ]
        },
        {
          "name": "stdout",
          "output_type": "stream",
          "text": [
            "Erro no offset 103200: 'data'\n",
            "Erro no offset 103300: 'data'\n"
          ]
        },
        {
          "name": "stderr",
          "output_type": "stream",
          "text": [
            "\rBaixando dados da Marvel:  70%|██████▉   | 1035/1481 [1:27:55<01:23,  5.32it/s]"
          ]
        },
        {
          "name": "stdout",
          "output_type": "stream",
          "text": [
            "Erro no offset 103400: 'data'\n"
          ]
        },
        {
          "name": "stderr",
          "output_type": "stream",
          "text": [
            "Baixando dados da Marvel:  70%|███████   | 1037/1481 [1:27:55<01:23,  5.33it/s]"
          ]
        },
        {
          "name": "stdout",
          "output_type": "stream",
          "text": [
            "Erro no offset 103500: 'data'\n",
            "Erro no offset 103600: 'data'\n"
          ]
        },
        {
          "name": "stderr",
          "output_type": "stream",
          "text": [
            "Baixando dados da Marvel:  70%|███████   | 1039/1481 [1:27:56<01:18,  5.62it/s]"
          ]
        },
        {
          "name": "stdout",
          "output_type": "stream",
          "text": [
            "Erro no offset 103700: 'data'\n",
            "Erro no offset 103800: 'data'\n"
          ]
        },
        {
          "name": "stderr",
          "output_type": "stream",
          "text": [
            "Baixando dados da Marvel:  70%|███████   | 1041/1481 [1:27:56<01:15,  5.87it/s]"
          ]
        },
        {
          "name": "stdout",
          "output_type": "stream",
          "text": [
            "Erro no offset 103900: 'data'\n",
            "Erro no offset 104000: 'data'\n"
          ]
        },
        {
          "name": "stderr",
          "output_type": "stream",
          "text": [
            "\rBaixando dados da Marvel:  70%|███████   | 1042/1481 [1:27:56<01:19,  5.49it/s]"
          ]
        },
        {
          "name": "stdout",
          "output_type": "stream",
          "text": [
            "Erro no offset 104100: 'data'\n"
          ]
        },
        {
          "name": "stderr",
          "output_type": "stream",
          "text": [
            "\rBaixando dados da Marvel:  70%|███████   | 1043/1481 [1:27:57<01:23,  5.23it/s]"
          ]
        },
        {
          "name": "stdout",
          "output_type": "stream",
          "text": [
            "Erro no offset 104200: 'data'\n"
          ]
        },
        {
          "name": "stderr",
          "output_type": "stream",
          "text": [
            "\rBaixando dados da Marvel:  70%|███████   | 1044/1481 [1:27:57<01:25,  5.10it/s]"
          ]
        },
        {
          "name": "stdout",
          "output_type": "stream",
          "text": [
            "Erro no offset 104300: 'data'\n"
          ]
        },
        {
          "name": "stderr",
          "output_type": "stream",
          "text": [
            "Baixando dados da Marvel:  71%|███████   | 1046/1481 [1:27:57<01:22,  5.25it/s]"
          ]
        },
        {
          "name": "stdout",
          "output_type": "stream",
          "text": [
            "Erro no offset 104400: 'data'\n",
            "Erro no offset 104500: 'data'\n"
          ]
        },
        {
          "name": "stderr",
          "output_type": "stream",
          "text": [
            "Baixando dados da Marvel:  71%|███████   | 1048/1481 [1:27:57<01:17,  5.56it/s]"
          ]
        },
        {
          "name": "stdout",
          "output_type": "stream",
          "text": [
            "Erro no offset 104600: 'data'\n",
            "Erro no offset 104700: 'data'\n"
          ]
        },
        {
          "name": "stderr",
          "output_type": "stream",
          "text": [
            "\rBaixando dados da Marvel:  71%|███████   | 1049/1481 [1:27:58<01:15,  5.69it/s]"
          ]
        },
        {
          "name": "stdout",
          "output_type": "stream",
          "text": [
            "Erro no offset 104800: 'data'\n"
          ]
        },
        {
          "name": "stderr",
          "output_type": "stream",
          "text": [
            "Baixando dados da Marvel:  71%|███████   | 1051/1481 [1:27:58<01:17,  5.54it/s]"
          ]
        },
        {
          "name": "stdout",
          "output_type": "stream",
          "text": [
            "Erro no offset 104900: 'data'\n",
            "Erro no offset 105000: 'data'\n"
          ]
        },
        {
          "name": "stderr",
          "output_type": "stream",
          "text": [
            "\rBaixando dados da Marvel:  71%|███████   | 1052/1481 [1:27:58<01:16,  5.64it/s]"
          ]
        },
        {
          "name": "stdout",
          "output_type": "stream",
          "text": [
            "Erro no offset 105100: 'data'\n"
          ]
        },
        {
          "name": "stderr",
          "output_type": "stream",
          "text": [
            "\rBaixando dados da Marvel:  71%|███████   | 1053/1481 [1:27:58<01:34,  4.52it/s]"
          ]
        },
        {
          "name": "stdout",
          "output_type": "stream",
          "text": [
            "Erro no offset 105200: 'data'\n"
          ]
        },
        {
          "name": "stderr",
          "output_type": "stream",
          "text": [
            "Baixando dados da Marvel:  71%|███████   | 1055/1481 [1:27:59<01:26,  4.91it/s]"
          ]
        },
        {
          "name": "stdout",
          "output_type": "stream",
          "text": [
            "Erro no offset 105300: 'data'\n",
            "Erro no offset 105400: 'data'\n"
          ]
        },
        {
          "name": "stderr",
          "output_type": "stream",
          "text": [
            "Baixando dados da Marvel:  71%|███████▏  | 1057/1481 [1:27:59<01:17,  5.49it/s]"
          ]
        },
        {
          "name": "stdout",
          "output_type": "stream",
          "text": [
            "Erro no offset 105500: 'data'\n",
            "Erro no offset 105600: 'data'\n"
          ]
        },
        {
          "name": "stderr",
          "output_type": "stream",
          "text": [
            "Baixando dados da Marvel:  72%|███████▏  | 1059/1481 [1:28:00<01:13,  5.74it/s]"
          ]
        },
        {
          "name": "stdout",
          "output_type": "stream",
          "text": [
            "Erro no offset 105700: 'data'\n",
            "Erro no offset 105800: 'data'\n"
          ]
        },
        {
          "name": "stderr",
          "output_type": "stream",
          "text": [
            "Baixando dados da Marvel:  72%|███████▏  | 1061/1481 [1:28:00<01:15,  5.57it/s]"
          ]
        },
        {
          "name": "stdout",
          "output_type": "stream",
          "text": [
            "Erro no offset 105900: 'data'\n",
            "Erro no offset 106000: 'data'\n"
          ]
        },
        {
          "name": "stderr",
          "output_type": "stream",
          "text": [
            "\rBaixando dados da Marvel:  72%|███████▏  | 1062/1481 [1:28:00<01:13,  5.67it/s]"
          ]
        },
        {
          "name": "stdout",
          "output_type": "stream",
          "text": [
            "Erro no offset 106100: 'data'\n"
          ]
        },
        {
          "name": "stderr",
          "output_type": "stream",
          "text": [
            "\rBaixando dados da Marvel:  72%|███████▏  | 1063/1481 [1:28:00<01:18,  5.31it/s]"
          ]
        },
        {
          "name": "stdout",
          "output_type": "stream",
          "text": [
            "Erro no offset 106200: 'data'\n"
          ]
        },
        {
          "name": "stderr",
          "output_type": "stream",
          "text": [
            "\rBaixando dados da Marvel:  72%|███████▏  | 1064/1481 [1:28:00<01:21,  5.12it/s]"
          ]
        },
        {
          "name": "stdout",
          "output_type": "stream",
          "text": [
            "Erro no offset 106300: 'data'\n"
          ]
        },
        {
          "name": "stderr",
          "output_type": "stream",
          "text": [
            "Baixando dados da Marvel:  72%|███████▏  | 1066/1481 [1:28:01<01:18,  5.28it/s]"
          ]
        },
        {
          "name": "stdout",
          "output_type": "stream",
          "text": [
            "Erro no offset 106400: 'data'\n",
            "Erro no offset 106500: 'data'\n"
          ]
        },
        {
          "name": "stderr",
          "output_type": "stream",
          "text": [
            "Baixando dados da Marvel:  72%|███████▏  | 1068/1481 [1:28:01<01:12,  5.67it/s]"
          ]
        },
        {
          "name": "stdout",
          "output_type": "stream",
          "text": [
            "Erro no offset 106600: 'data'\n",
            "Erro no offset 106700: 'data'\n"
          ]
        },
        {
          "name": "stderr",
          "output_type": "stream",
          "text": [
            "Baixando dados da Marvel:  72%|███████▏  | 1070/1481 [1:28:02<01:10,  5.83it/s]"
          ]
        },
        {
          "name": "stdout",
          "output_type": "stream",
          "text": [
            "Erro no offset 106800: 'data'\n",
            "Erro no offset 106900: 'data'\n"
          ]
        },
        {
          "name": "stderr",
          "output_type": "stream",
          "text": [
            "\rBaixando dados da Marvel:  72%|███████▏  | 1071/1481 [1:28:02<01:20,  5.08it/s]"
          ]
        },
        {
          "name": "stdout",
          "output_type": "stream",
          "text": [
            "Erro no offset 107000: 'data'\n"
          ]
        },
        {
          "name": "stderr",
          "output_type": "stream",
          "text": [
            "\rBaixando dados da Marvel:  72%|███████▏  | 1072/1481 [1:28:02<01:21,  5.02it/s]"
          ]
        },
        {
          "name": "stdout",
          "output_type": "stream",
          "text": [
            "Erro no offset 107100: 'data'\n"
          ]
        },
        {
          "name": "stderr",
          "output_type": "stream",
          "text": [
            "\rBaixando dados da Marvel:  72%|███████▏  | 1073/1481 [1:28:02<01:21,  4.98it/s]"
          ]
        },
        {
          "name": "stdout",
          "output_type": "stream",
          "text": [
            "Erro no offset 107200: 'data'\n"
          ]
        },
        {
          "name": "stderr",
          "output_type": "stream",
          "text": [
            "\rBaixando dados da Marvel:  73%|███████▎  | 1074/1481 [1:28:02<01:33,  4.36it/s]"
          ]
        },
        {
          "name": "stdout",
          "output_type": "stream",
          "text": [
            "Erro no offset 107300: 'data'\n"
          ]
        },
        {
          "name": "stderr",
          "output_type": "stream",
          "text": [
            "Baixando dados da Marvel:  73%|███████▎  | 1076/1481 [1:28:03<01:23,  4.87it/s]"
          ]
        },
        {
          "name": "stdout",
          "output_type": "stream",
          "text": [
            "Erro no offset 107400: 'data'\n",
            "Erro no offset 107500: 'data'\n"
          ]
        },
        {
          "name": "stderr",
          "output_type": "stream",
          "text": [
            "\rBaixando dados da Marvel:  73%|███████▎  | 1077/1481 [1:28:03<01:23,  4.85it/s]"
          ]
        },
        {
          "name": "stdout",
          "output_type": "stream",
          "text": [
            "Erro no offset 107600: 'data'\n"
          ]
        },
        {
          "name": "stderr",
          "output_type": "stream",
          "text": [
            "\rBaixando dados da Marvel:  73%|███████▎  | 1078/1481 [1:28:03<01:23,  4.84it/s]"
          ]
        },
        {
          "name": "stdout",
          "output_type": "stream",
          "text": [
            "Erro no offset 107700: 'data'\n"
          ]
        },
        {
          "name": "stderr",
          "output_type": "stream",
          "text": [
            "\rBaixando dados da Marvel:  73%|███████▎  | 1079/1481 [1:28:03<01:23,  4.83it/s]"
          ]
        },
        {
          "name": "stdout",
          "output_type": "stream",
          "text": [
            "Erro no offset 107800: 'data'\n"
          ]
        },
        {
          "name": "stderr",
          "output_type": "stream",
          "text": [
            "\rBaixando dados da Marvel:  73%|███████▎  | 1080/1481 [1:28:04<01:24,  4.76it/s]"
          ]
        },
        {
          "name": "stdout",
          "output_type": "stream",
          "text": [
            "Erro no offset 107900: 'data'\n"
          ]
        },
        {
          "name": "stderr",
          "output_type": "stream",
          "text": [
            "Baixando dados da Marvel:  73%|███████▎  | 1082/1481 [1:28:04<01:18,  5.11it/s]"
          ]
        },
        {
          "name": "stdout",
          "output_type": "stream",
          "text": [
            "Erro no offset 108000: 'data'\n",
            "Erro no offset 108100: 'data'\n"
          ]
        },
        {
          "name": "stderr",
          "output_type": "stream",
          "text": [
            "\rBaixando dados da Marvel:  73%|███████▎  | 1083/1481 [1:28:04<01:19,  5.01it/s]"
          ]
        },
        {
          "name": "stdout",
          "output_type": "stream",
          "text": [
            "Erro no offset 108200: 'data'\n"
          ]
        },
        {
          "name": "stderr",
          "output_type": "stream",
          "text": [
            "\rBaixando dados da Marvel:  73%|███████▎  | 1084/1481 [1:28:04<01:20,  4.95it/s]"
          ]
        },
        {
          "name": "stdout",
          "output_type": "stream",
          "text": [
            "Erro no offset 108300: 'data'\n"
          ]
        },
        {
          "name": "stderr",
          "output_type": "stream",
          "text": [
            "Baixando dados da Marvel:  73%|███████▎  | 1086/1481 [1:28:05<01:15,  5.21it/s]"
          ]
        },
        {
          "name": "stdout",
          "output_type": "stream",
          "text": [
            "Erro no offset 108400: 'data'\n",
            "Erro no offset 108500: 'data'\n"
          ]
        },
        {
          "name": "stderr",
          "output_type": "stream",
          "text": [
            "\rBaixando dados da Marvel:  73%|███████▎  | 1087/1481 [1:28:05<01:12,  5.45it/s]"
          ]
        },
        {
          "name": "stdout",
          "output_type": "stream",
          "text": [
            "Erro no offset 108600: 'data'\n"
          ]
        },
        {
          "name": "stderr",
          "output_type": "stream",
          "text": [
            "Baixando dados da Marvel:  74%|███████▎  | 1089/1481 [1:28:05<01:11,  5.45it/s]"
          ]
        },
        {
          "name": "stdout",
          "output_type": "stream",
          "text": [
            "Erro no offset 108700: 'data'\n",
            "Erro no offset 108800: 'data'\n"
          ]
        },
        {
          "name": "stderr",
          "output_type": "stream",
          "text": [
            "Baixando dados da Marvel:  74%|███████▎  | 1091/1481 [1:28:06<01:07,  5.77it/s]"
          ]
        },
        {
          "name": "stdout",
          "output_type": "stream",
          "text": [
            "Erro no offset 108900: 'data'\n",
            "Erro no offset 109000: 'data'\n"
          ]
        },
        {
          "name": "stderr",
          "output_type": "stream",
          "text": [
            "\rBaixando dados da Marvel:  74%|███████▎  | 1092/1481 [1:28:06<01:11,  5.45it/s]"
          ]
        },
        {
          "name": "stdout",
          "output_type": "stream",
          "text": [
            "Erro no offset 109100: 'data'\n"
          ]
        },
        {
          "name": "stderr",
          "output_type": "stream",
          "text": [
            "Baixando dados da Marvel:  74%|███████▍  | 1094/1481 [1:28:06<01:17,  4.99it/s]"
          ]
        },
        {
          "name": "stdout",
          "output_type": "stream",
          "text": [
            "Erro no offset 109200: 'data'\n",
            "Erro no offset 109300: 'data'\n"
          ]
        },
        {
          "name": "stderr",
          "output_type": "stream",
          "text": [
            "\rBaixando dados da Marvel:  74%|███████▍  | 1095/1481 [1:28:07<01:13,  5.28it/s]"
          ]
        },
        {
          "name": "stdout",
          "output_type": "stream",
          "text": [
            "Erro no offset 109400: 'data'\n"
          ]
        },
        {
          "name": "stderr",
          "output_type": "stream",
          "text": [
            "Baixando dados da Marvel:  74%|███████▍  | 1097/1481 [1:28:07<01:10,  5.43it/s]"
          ]
        },
        {
          "name": "stdout",
          "output_type": "stream",
          "text": [
            "Erro no offset 109500: 'data'\n",
            "Erro no offset 109600: 'data'\n"
          ]
        },
        {
          "name": "stderr",
          "output_type": "stream",
          "text": [
            "\rBaixando dados da Marvel:  74%|███████▍  | 1098/1481 [1:28:07<01:13,  5.23it/s]"
          ]
        },
        {
          "name": "stdout",
          "output_type": "stream",
          "text": [
            "Erro no offset 109700: 'data'\n"
          ]
        },
        {
          "name": "stderr",
          "output_type": "stream",
          "text": [
            "Baixando dados da Marvel:  74%|███████▍  | 1100/1481 [1:28:07<01:11,  5.35it/s]"
          ]
        },
        {
          "name": "stdout",
          "output_type": "stream",
          "text": [
            "Erro no offset 109800: 'data'\n",
            "Erro no offset 109900: 'data'\n"
          ]
        },
        {
          "name": "stderr",
          "output_type": "stream",
          "text": [
            "\rBaixando dados da Marvel:  74%|███████▍  | 1101/1481 [1:28:08<01:13,  5.20it/s]"
          ]
        },
        {
          "name": "stdout",
          "output_type": "stream",
          "text": [
            "Erro no offset 110000: 'data'\n"
          ]
        },
        {
          "name": "stderr",
          "output_type": "stream",
          "text": [
            "\rBaixando dados da Marvel:  74%|███████▍  | 1102/1481 [1:28:08<01:14,  5.07it/s]"
          ]
        },
        {
          "name": "stdout",
          "output_type": "stream",
          "text": [
            "Erro no offset 110100: 'data'\n"
          ]
        },
        {
          "name": "stderr",
          "output_type": "stream",
          "text": [
            "\rBaixando dados da Marvel:  74%|███████▍  | 1103/1481 [1:28:08<01:15,  5.01it/s]"
          ]
        },
        {
          "name": "stdout",
          "output_type": "stream",
          "text": [
            "Erro no offset 110200: 'data'\n"
          ]
        },
        {
          "name": "stderr",
          "output_type": "stream",
          "text": [
            "\rBaixando dados da Marvel:  75%|███████▍  | 1104/1481 [1:28:08<01:15,  4.98it/s]"
          ]
        },
        {
          "name": "stdout",
          "output_type": "stream",
          "text": [
            "Erro no offset 110300: 'data'\n"
          ]
        },
        {
          "name": "stderr",
          "output_type": "stream",
          "text": [
            "Baixando dados da Marvel:  75%|███████▍  | 1106/1481 [1:28:09<01:11,  5.25it/s]"
          ]
        },
        {
          "name": "stdout",
          "output_type": "stream",
          "text": [
            "Erro no offset 110400: 'data'\n",
            "Erro no offset 110500: 'data'\n"
          ]
        },
        {
          "name": "stderr",
          "output_type": "stream",
          "text": [
            "Baixando dados da Marvel:  75%|███████▍  | 1108/1481 [1:28:09<01:12,  5.14it/s]"
          ]
        },
        {
          "name": "stdout",
          "output_type": "stream",
          "text": [
            "Erro no offset 110600: 'data'\n",
            "Erro no offset 110700: 'data'\n"
          ]
        },
        {
          "name": "stderr",
          "output_type": "stream",
          "text": [
            "\rBaixando dados da Marvel:  75%|███████▍  | 1109/1481 [1:28:09<01:13,  5.03it/s]"
          ]
        },
        {
          "name": "stdout",
          "output_type": "stream",
          "text": [
            "Erro no offset 110800: 'data'\n"
          ]
        },
        {
          "name": "stderr",
          "output_type": "stream",
          "text": [
            "Baixando dados da Marvel:  75%|███████▌  | 1111/1481 [1:28:10<01:10,  5.27it/s]"
          ]
        },
        {
          "name": "stdout",
          "output_type": "stream",
          "text": [
            "Erro no offset 110900: 'data'\n",
            "Erro no offset 111000: 'data'\n"
          ]
        },
        {
          "name": "stderr",
          "output_type": "stream",
          "text": [
            "\rBaixando dados da Marvel:  75%|███████▌  | 1112/1481 [1:28:10<01:07,  5.49it/s]"
          ]
        },
        {
          "name": "stdout",
          "output_type": "stream",
          "text": [
            "Erro no offset 111100: 'data'\n"
          ]
        },
        {
          "name": "stderr",
          "output_type": "stream",
          "text": [
            "Baixando dados da Marvel:  75%|███████▌  | 1114/1481 [1:28:10<01:06,  5.54it/s]"
          ]
        },
        {
          "name": "stdout",
          "output_type": "stream",
          "text": [
            "Erro no offset 111200: 'data'\n",
            "Erro no offset 111300: 'data'\n"
          ]
        },
        {
          "name": "stderr",
          "output_type": "stream",
          "text": [
            "\rBaixando dados da Marvel:  75%|███████▌  | 1115/1481 [1:28:10<01:08,  5.33it/s]"
          ]
        },
        {
          "name": "stdout",
          "output_type": "stream",
          "text": [
            "Erro no offset 111400: 'data'\n"
          ]
        },
        {
          "name": "stderr",
          "output_type": "stream",
          "text": [
            "Baixando dados da Marvel:  75%|███████▌  | 1117/1481 [1:28:11<01:06,  5.43it/s]"
          ]
        },
        {
          "name": "stdout",
          "output_type": "stream",
          "text": [
            "Erro no offset 111500: 'data'\n",
            "Erro no offset 111600: 'data'\n"
          ]
        },
        {
          "name": "stderr",
          "output_type": "stream",
          "text": [
            "Baixando dados da Marvel:  76%|███████▌  | 1119/1481 [1:28:11<01:06,  5.46it/s]"
          ]
        },
        {
          "name": "stdout",
          "output_type": "stream",
          "text": [
            "Erro no offset 111700: 'data'\n",
            "Erro no offset 111800: 'data'\n"
          ]
        },
        {
          "name": "stderr",
          "output_type": "stream",
          "text": [
            "Baixando dados da Marvel:  76%|███████▌  | 1121/1481 [1:28:11<01:01,  5.84it/s]"
          ]
        },
        {
          "name": "stdout",
          "output_type": "stream",
          "text": [
            "Erro no offset 111900: 'data'\n",
            "Erro no offset 112000: 'data'\n"
          ]
        },
        {
          "name": "stderr",
          "output_type": "stream",
          "text": [
            "\rBaixando dados da Marvel:  76%|███████▌  | 1122/1481 [1:28:12<01:05,  5.51it/s]"
          ]
        },
        {
          "name": "stdout",
          "output_type": "stream",
          "text": [
            "Erro no offset 112100: 'data'\n"
          ]
        },
        {
          "name": "stderr",
          "output_type": "stream",
          "text": [
            "\rBaixando dados da Marvel:  76%|███████▌  | 1123/1481 [1:28:12<01:07,  5.28it/s]"
          ]
        },
        {
          "name": "stdout",
          "output_type": "stream",
          "text": [
            "Erro no offset 112200: 'data'\n"
          ]
        },
        {
          "name": "stderr",
          "output_type": "stream",
          "text": [
            "Baixando dados da Marvel:  76%|███████▌  | 1125/1481 [1:28:12<01:05,  5.43it/s]"
          ]
        },
        {
          "name": "stdout",
          "output_type": "stream",
          "text": [
            "Erro no offset 112300: 'data'\n",
            "Erro no offset 112400: 'data'\n"
          ]
        },
        {
          "name": "stderr",
          "output_type": "stream",
          "text": [
            "Baixando dados da Marvel:  76%|███████▌  | 1127/1481 [1:28:13<01:04,  5.46it/s]"
          ]
        },
        {
          "name": "stdout",
          "output_type": "stream",
          "text": [
            "Erro no offset 112500: 'data'\n",
            "Erro no offset 112600: 'data'\n"
          ]
        },
        {
          "name": "stderr",
          "output_type": "stream",
          "text": [
            "\rBaixando dados da Marvel:  76%|███████▌  | 1128/1481 [1:28:13<01:07,  5.27it/s]"
          ]
        },
        {
          "name": "stdout",
          "output_type": "stream",
          "text": [
            "Erro no offset 112700: 'data'\n"
          ]
        },
        {
          "name": "stderr",
          "output_type": "stream",
          "text": [
            "\rBaixando dados da Marvel:  76%|███████▌  | 1129/1481 [1:28:13<01:08,  5.10it/s]"
          ]
        },
        {
          "name": "stdout",
          "output_type": "stream",
          "text": [
            "Erro no offset 112800: 'data'\n"
          ]
        },
        {
          "name": "stderr",
          "output_type": "stream",
          "text": [
            "Baixando dados da Marvel:  76%|███████▋  | 1131/1481 [1:28:13<01:05,  5.31it/s]"
          ]
        },
        {
          "name": "stdout",
          "output_type": "stream",
          "text": [
            "Erro no offset 112900: 'data'\n",
            "Erro no offset 113000: 'data'\n"
          ]
        },
        {
          "name": "stderr",
          "output_type": "stream",
          "text": [
            "Baixando dados da Marvel:  77%|███████▋  | 1133/1481 [1:28:14<01:08,  5.10it/s]"
          ]
        },
        {
          "name": "stdout",
          "output_type": "stream",
          "text": [
            "Erro no offset 113100: 'data'\n",
            "Erro no offset 113200: 'data'\n"
          ]
        },
        {
          "name": "stderr",
          "output_type": "stream",
          "text": [
            "Baixando dados da Marvel:  77%|███████▋  | 1135/1481 [1:28:14<01:02,  5.53it/s]"
          ]
        },
        {
          "name": "stdout",
          "output_type": "stream",
          "text": [
            "Erro no offset 113300: 'data'\n",
            "Erro no offset 113400: 'data'\n"
          ]
        },
        {
          "name": "stderr",
          "output_type": "stream",
          "text": [
            "Baixando dados da Marvel:  77%|███████▋  | 1137/1481 [1:28:14<00:59,  5.78it/s]"
          ]
        },
        {
          "name": "stdout",
          "output_type": "stream",
          "text": [
            "Erro no offset 113500: 'data'\n",
            "Erro no offset 113600: 'data'\n"
          ]
        },
        {
          "name": "stderr",
          "output_type": "stream",
          "text": [
            "\rBaixando dados da Marvel:  77%|███████▋  | 1138/1481 [1:28:15<01:03,  5.42it/s]"
          ]
        },
        {
          "name": "stdout",
          "output_type": "stream",
          "text": [
            "Erro no offset 113700: 'data'\n"
          ]
        },
        {
          "name": "stderr",
          "output_type": "stream",
          "text": [
            "\rBaixando dados da Marvel:  77%|███████▋  | 1139/1481 [1:28:15<01:05,  5.21it/s]"
          ]
        },
        {
          "name": "stdout",
          "output_type": "stream",
          "text": [
            "Erro no offset 113800: 'data'\n"
          ]
        },
        {
          "name": "stderr",
          "output_type": "stream",
          "text": [
            "\rBaixando dados da Marvel:  77%|███████▋  | 1140/1481 [1:28:15<01:13,  4.65it/s]"
          ]
        },
        {
          "name": "stdout",
          "output_type": "stream",
          "text": [
            "Erro no offset 113900: 'data'\n"
          ]
        },
        {
          "name": "stderr",
          "output_type": "stream",
          "text": [
            "\rBaixando dados da Marvel:  77%|███████▋  | 1141/1481 [1:28:15<01:12,  4.71it/s]"
          ]
        },
        {
          "name": "stdout",
          "output_type": "stream",
          "text": [
            "Erro no offset 114000: 'data'\n"
          ]
        },
        {
          "name": "stderr",
          "output_type": "stream",
          "text": [
            "Baixando dados da Marvel:  77%|███████▋  | 1143/1481 [1:28:16<01:06,  5.11it/s]"
          ]
        },
        {
          "name": "stdout",
          "output_type": "stream",
          "text": [
            "Erro no offset 114100: 'data'\n",
            "Erro no offset 114200: 'data'\n"
          ]
        },
        {
          "name": "stderr",
          "output_type": "stream",
          "text": [
            "Baixando dados da Marvel:  77%|███████▋  | 1145/1481 [1:28:16<01:00,  5.54it/s]"
          ]
        },
        {
          "name": "stdout",
          "output_type": "stream",
          "text": [
            "Erro no offset 114300: 'data'\n",
            "Erro no offset 114400: 'data'\n"
          ]
        },
        {
          "name": "stderr",
          "output_type": "stream",
          "text": [
            "Baixando dados da Marvel:  77%|███████▋  | 1147/1481 [1:28:16<00:57,  5.83it/s]"
          ]
        },
        {
          "name": "stdout",
          "output_type": "stream",
          "text": [
            "Erro no offset 114500: 'data'\n",
            "Erro no offset 114600: 'data'\n"
          ]
        },
        {
          "name": "stderr",
          "output_type": "stream",
          "text": [
            "Baixando dados da Marvel:  78%|███████▊  | 1149/1481 [1:28:17<00:58,  5.68it/s]"
          ]
        },
        {
          "name": "stdout",
          "output_type": "stream",
          "text": [
            "Erro no offset 114700: 'data'\n",
            "Erro no offset 114800: 'data'\n"
          ]
        },
        {
          "name": "stderr",
          "output_type": "stream",
          "text": [
            "Baixando dados da Marvel:  78%|███████▊  | 1151/1481 [1:28:17<00:55,  5.92it/s]"
          ]
        },
        {
          "name": "stdout",
          "output_type": "stream",
          "text": [
            "Erro no offset 114900: 'data'\n",
            "Erro no offset 115000: 'data'\n"
          ]
        },
        {
          "name": "stderr",
          "output_type": "stream",
          "text": [
            "\rBaixando dados da Marvel:  78%|███████▊  | 1152/1481 [1:28:17<00:59,  5.55it/s]"
          ]
        },
        {
          "name": "stdout",
          "output_type": "stream",
          "text": [
            "Erro no offset 115100: 'data'\n"
          ]
        },
        {
          "name": "stderr",
          "output_type": "stream",
          "text": [
            "\rBaixando dados da Marvel:  78%|███████▊  | 1153/1481 [1:28:18<01:09,  4.72it/s]"
          ]
        },
        {
          "name": "stdout",
          "output_type": "stream",
          "text": [
            "Erro no offset 115200: 'data'\n"
          ]
        },
        {
          "name": "stderr",
          "output_type": "stream",
          "text": [
            "\rBaixando dados da Marvel:  78%|███████▊  | 1154/1481 [1:28:18<01:08,  4.75it/s]"
          ]
        },
        {
          "name": "stdout",
          "output_type": "stream",
          "text": [
            "Erro no offset 115300: 'data'\n"
          ]
        },
        {
          "name": "stderr",
          "output_type": "stream",
          "text": [
            "Baixando dados da Marvel:  78%|███████▊  | 1156/1481 [1:28:18<01:07,  4.84it/s]"
          ]
        },
        {
          "name": "stdout",
          "output_type": "stream",
          "text": [
            "Erro no offset 115400: 'data'\n",
            "Erro no offset 115500: 'data'\n"
          ]
        },
        {
          "name": "stderr",
          "output_type": "stream",
          "text": [
            "\rBaixando dados da Marvel:  78%|███████▊  | 1157/1481 [1:28:18<01:02,  5.17it/s]"
          ]
        },
        {
          "name": "stdout",
          "output_type": "stream",
          "text": [
            "Erro no offset 115600: 'data'\n"
          ]
        },
        {
          "name": "stderr",
          "output_type": "stream",
          "text": [
            "Baixando dados da Marvel:  78%|███████▊  | 1159/1481 [1:28:19<01:01,  5.25it/s]"
          ]
        },
        {
          "name": "stdout",
          "output_type": "stream",
          "text": [
            "Erro no offset 115700: 'data'\n",
            "Erro no offset 115800: 'data'\n"
          ]
        },
        {
          "name": "stderr",
          "output_type": "stream",
          "text": [
            "Baixando dados da Marvel:  78%|███████▊  | 1161/1481 [1:28:19<00:56,  5.67it/s]"
          ]
        },
        {
          "name": "stdout",
          "output_type": "stream",
          "text": [
            "Erro no offset 115900: 'data'\n",
            "Erro no offset 116000: 'data'\n"
          ]
        },
        {
          "name": "stderr",
          "output_type": "stream",
          "text": [
            "\rBaixando dados da Marvel:  78%|███████▊  | 1162/1481 [1:28:19<00:58,  5.42it/s]"
          ]
        },
        {
          "name": "stdout",
          "output_type": "stream",
          "text": [
            "Erro no offset 116100: 'data'\n"
          ]
        },
        {
          "name": "stderr",
          "output_type": "stream",
          "text": [
            "Baixando dados da Marvel:  79%|███████▊  | 1164/1481 [1:28:20<00:58,  5.45it/s]"
          ]
        },
        {
          "name": "stdout",
          "output_type": "stream",
          "text": [
            "Erro no offset 116200: 'data'\n",
            "Erro no offset 116300: 'data'\n"
          ]
        },
        {
          "name": "stderr",
          "output_type": "stream",
          "text": [
            "Baixando dados da Marvel:  79%|███████▊  | 1166/1481 [1:28:20<00:57,  5.51it/s]"
          ]
        },
        {
          "name": "stdout",
          "output_type": "stream",
          "text": [
            "Erro no offset 116400: 'data'\n",
            "Erro no offset 116500: 'data'\n"
          ]
        },
        {
          "name": "stderr",
          "output_type": "stream",
          "text": [
            "Baixando dados da Marvel:  79%|███████▉  | 1168/1481 [1:28:20<00:53,  5.87it/s]"
          ]
        },
        {
          "name": "stdout",
          "output_type": "stream",
          "text": [
            "Erro no offset 116600: 'data'\n",
            "Erro no offset 116700: 'data'\n"
          ]
        },
        {
          "name": "stderr",
          "output_type": "stream",
          "text": [
            "\rBaixando dados da Marvel:  79%|███████▉  | 1169/1481 [1:28:21<00:52,  5.92it/s]"
          ]
        },
        {
          "name": "stdout",
          "output_type": "stream",
          "text": [
            "Erro no offset 116800: 'data'\n"
          ]
        },
        {
          "name": "stderr",
          "output_type": "stream",
          "text": [
            "Baixando dados da Marvel:  79%|███████▉  | 1171/1481 [1:28:21<00:54,  5.73it/s]"
          ]
        },
        {
          "name": "stdout",
          "output_type": "stream",
          "text": [
            "Erro no offset 116900: 'data'\n",
            "Erro no offset 117000: 'data'\n"
          ]
        },
        {
          "name": "stderr",
          "output_type": "stream",
          "text": [
            "Baixando dados da Marvel:  79%|███████▉  | 1173/1481 [1:28:21<00:52,  5.91it/s]"
          ]
        },
        {
          "name": "stdout",
          "output_type": "stream",
          "text": [
            "Erro no offset 117100: 'data'\n",
            "Erro no offset 117200: 'data'\n"
          ]
        },
        {
          "name": "stderr",
          "output_type": "stream",
          "text": [
            "Baixando dados da Marvel:  79%|███████▉  | 1175/1481 [1:28:22<00:54,  5.61it/s]"
          ]
        },
        {
          "name": "stdout",
          "output_type": "stream",
          "text": [
            "Erro no offset 117300: 'data'\n",
            "Erro no offset 117400: 'data'\n"
          ]
        },
        {
          "name": "stderr",
          "output_type": "stream",
          "text": [
            "\rBaixando dados da Marvel:  79%|███████▉  | 1176/1481 [1:28:22<00:53,  5.74it/s]"
          ]
        },
        {
          "name": "stdout",
          "output_type": "stream",
          "text": [
            "Erro no offset 117500: 'data'\n"
          ]
        },
        {
          "name": "stderr",
          "output_type": "stream",
          "text": [
            "Baixando dados da Marvel:  80%|███████▉  | 1178/1481 [1:28:22<00:55,  5.50it/s]"
          ]
        },
        {
          "name": "stdout",
          "output_type": "stream",
          "text": [
            "Erro no offset 117600: 'data'\n",
            "Erro no offset 117700: 'data'\n"
          ]
        },
        {
          "name": "stderr",
          "output_type": "stream",
          "text": [
            "\rBaixando dados da Marvel:  80%|███████▉  | 1179/1481 [1:28:22<00:57,  5.29it/s]"
          ]
        },
        {
          "name": "stdout",
          "output_type": "stream",
          "text": [
            "Erro no offset 117800: 'data'\n"
          ]
        },
        {
          "name": "stderr",
          "output_type": "stream",
          "text": [
            "\rBaixando dados da Marvel:  80%|███████▉  | 1180/1481 [1:28:23<00:58,  5.13it/s]"
          ]
        },
        {
          "name": "stdout",
          "output_type": "stream",
          "text": [
            "Erro no offset 117900: 'data'\n",
            "Erro no offset 118000: 'data'\n"
          ]
        },
        {
          "name": "stderr",
          "output_type": "stream",
          "text": [
            "Baixando dados da Marvel:  80%|███████▉  | 1183/1481 [1:28:23<00:53,  5.57it/s]"
          ]
        },
        {
          "name": "stdout",
          "output_type": "stream",
          "text": [
            "Erro no offset 118100: 'data'\n",
            "Erro no offset 118200: 'data'\n"
          ]
        },
        {
          "name": "stderr",
          "output_type": "stream",
          "text": [
            "Baixando dados da Marvel:  80%|████████  | 1185/1481 [1:28:23<00:50,  5.86it/s]"
          ]
        },
        {
          "name": "stdout",
          "output_type": "stream",
          "text": [
            "Erro no offset 118300: 'data'\n",
            "Erro no offset 118400: 'data'\n"
          ]
        },
        {
          "name": "stderr",
          "output_type": "stream",
          "text": [
            "Baixando dados da Marvel:  80%|████████  | 1187/1481 [1:28:24<00:49,  5.98it/s]"
          ]
        },
        {
          "name": "stdout",
          "output_type": "stream",
          "text": [
            "Erro no offset 118500: 'data'\n",
            "Erro no offset 118600: 'data'\n"
          ]
        },
        {
          "name": "stderr",
          "output_type": "stream",
          "text": [
            "Baixando dados da Marvel:  80%|████████  | 1189/1481 [1:28:24<00:50,  5.74it/s]"
          ]
        },
        {
          "name": "stdout",
          "output_type": "stream",
          "text": [
            "Erro no offset 118700: 'data'\n",
            "Erro no offset 118800: 'data'\n"
          ]
        },
        {
          "name": "stderr",
          "output_type": "stream",
          "text": [
            "Baixando dados da Marvel:  80%|████████  | 1191/1481 [1:28:25<00:55,  5.24it/s]"
          ]
        },
        {
          "name": "stdout",
          "output_type": "stream",
          "text": [
            "Erro no offset 118900: 'data'\n",
            "Erro no offset 119000: 'data'\n"
          ]
        },
        {
          "name": "stderr",
          "output_type": "stream",
          "text": [
            "Baixando dados da Marvel:  81%|████████  | 1193/1481 [1:28:25<00:53,  5.41it/s]"
          ]
        },
        {
          "name": "stdout",
          "output_type": "stream",
          "text": [
            "Erro no offset 119100: 'data'\n",
            "Erro no offset 119200: 'data'\n"
          ]
        },
        {
          "name": "stderr",
          "output_type": "stream",
          "text": [
            "\rBaixando dados da Marvel:  81%|████████  | 1194/1481 [1:28:25<00:51,  5.62it/s]"
          ]
        },
        {
          "name": "stdout",
          "output_type": "stream",
          "text": [
            "Erro no offset 119300: 'data'\n"
          ]
        },
        {
          "name": "stderr",
          "output_type": "stream",
          "text": [
            "Baixando dados da Marvel:  81%|████████  | 1196/1481 [1:28:25<00:52,  5.43it/s]"
          ]
        },
        {
          "name": "stdout",
          "output_type": "stream",
          "text": [
            "Erro no offset 119400: 'data'\n",
            "Erro no offset 119500: 'data'\n"
          ]
        },
        {
          "name": "stderr",
          "output_type": "stream",
          "text": [
            "Baixando dados da Marvel:  81%|████████  | 1198/1481 [1:28:26<00:48,  5.79it/s]"
          ]
        },
        {
          "name": "stdout",
          "output_type": "stream",
          "text": [
            "Erro no offset 119600: 'data'\n",
            "Erro no offset 119700: 'data'\n"
          ]
        },
        {
          "name": "stderr",
          "output_type": "stream",
          "text": [
            "\rBaixando dados da Marvel:  81%|████████  | 1199/1481 [1:28:26<00:47,  5.93it/s]"
          ]
        },
        {
          "name": "stdout",
          "output_type": "stream",
          "text": [
            "Erro no offset 119800: 'data'\n"
          ]
        },
        {
          "name": "stderr",
          "output_type": "stream",
          "text": [
            "Baixando dados da Marvel:  81%|████████  | 1201/1481 [1:28:26<00:49,  5.68it/s]"
          ]
        },
        {
          "name": "stdout",
          "output_type": "stream",
          "text": [
            "Erro no offset 119900: 'data'\n",
            "Erro no offset 120000: 'data'\n"
          ]
        },
        {
          "name": "stderr",
          "output_type": "stream",
          "text": [
            "\rBaixando dados da Marvel:  81%|████████  | 1202/1481 [1:28:27<00:51,  5.38it/s]"
          ]
        },
        {
          "name": "stdout",
          "output_type": "stream",
          "text": [
            "Erro no offset 120100: 'data'\n"
          ]
        },
        {
          "name": "stderr",
          "output_type": "stream",
          "text": [
            "Baixando dados da Marvel:  81%|████████▏ | 1204/1481 [1:28:27<00:51,  5.42it/s]"
          ]
        },
        {
          "name": "stdout",
          "output_type": "stream",
          "text": [
            "Erro no offset 120200: 'data'\n",
            "Erro no offset 120300: 'data'\n"
          ]
        },
        {
          "name": "stderr",
          "output_type": "stream",
          "text": [
            "Baixando dados da Marvel:  81%|████████▏ | 1206/1481 [1:28:27<00:51,  5.33it/s]"
          ]
        },
        {
          "name": "stdout",
          "output_type": "stream",
          "text": [
            "Erro no offset 120400: 'data'\n",
            "Erro no offset 120500: 'data'\n"
          ]
        },
        {
          "name": "stderr",
          "output_type": "stream",
          "text": [
            "Baixando dados da Marvel:  82%|████████▏ | 1208/1481 [1:28:28<00:47,  5.78it/s]"
          ]
        },
        {
          "name": "stdout",
          "output_type": "stream",
          "text": [
            "Erro no offset 120600: 'data'\n",
            "Erro no offset 120700: 'data'\n"
          ]
        },
        {
          "name": "stderr",
          "output_type": "stream",
          "text": [
            "Baixando dados da Marvel:  82%|████████▏ | 1210/1481 [1:28:28<00:45,  5.92it/s]"
          ]
        },
        {
          "name": "stdout",
          "output_type": "stream",
          "text": [
            "Erro no offset 120800: 'data'\n",
            "Erro no offset 120900: 'data'\n"
          ]
        },
        {
          "name": "stderr",
          "output_type": "stream",
          "text": [
            "\rBaixando dados da Marvel:  82%|████████▏ | 1211/1481 [1:28:28<00:45,  5.95it/s]"
          ]
        },
        {
          "name": "stdout",
          "output_type": "stream",
          "text": [
            "Erro no offset 121000: 'data'\n"
          ]
        },
        {
          "name": "stderr",
          "output_type": "stream",
          "text": [
            "Baixando dados da Marvel:  82%|████████▏ | 1213/1481 [1:28:28<00:46,  5.75it/s]"
          ]
        },
        {
          "name": "stdout",
          "output_type": "stream",
          "text": [
            "Erro no offset 121100: 'data'\n",
            "Erro no offset 121200: 'data'\n"
          ]
        },
        {
          "name": "stderr",
          "output_type": "stream",
          "text": [
            "Baixando dados da Marvel:  82%|████████▏ | 1215/1481 [1:28:29<00:44,  5.99it/s]"
          ]
        },
        {
          "name": "stdout",
          "output_type": "stream",
          "text": [
            "Erro no offset 121300: 'data'\n",
            "Erro no offset 121400: 'data'\n"
          ]
        },
        {
          "name": "stderr",
          "output_type": "stream",
          "text": [
            "Baixando dados da Marvel:  82%|████████▏ | 1217/1481 [1:28:29<00:45,  5.78it/s]"
          ]
        },
        {
          "name": "stdout",
          "output_type": "stream",
          "text": [
            "Erro no offset 121500: 'data'\n",
            "Erro no offset 121600: 'data'\n"
          ]
        },
        {
          "name": "stderr",
          "output_type": "stream",
          "text": [
            "Baixando dados da Marvel:  82%|████████▏ | 1219/1481 [1:28:29<00:43,  6.01it/s]"
          ]
        },
        {
          "name": "stdout",
          "output_type": "stream",
          "text": [
            "Erro no offset 121700: 'data'\n",
            "Erro no offset 121800: 'data'\n"
          ]
        },
        {
          "name": "stderr",
          "output_type": "stream",
          "text": [
            "\rBaixando dados da Marvel:  82%|████████▏ | 1220/1481 [1:28:30<00:43,  6.05it/s]"
          ]
        },
        {
          "name": "stdout",
          "output_type": "stream",
          "text": [
            "Erro no offset 121900: 'data'\n"
          ]
        },
        {
          "name": "stderr",
          "output_type": "stream",
          "text": [
            "Baixando dados da Marvel:  83%|████████▎ | 1222/1481 [1:28:30<00:45,  5.66it/s]"
          ]
        },
        {
          "name": "stdout",
          "output_type": "stream",
          "text": [
            "Erro no offset 122000: 'data'\n",
            "Erro no offset 122100: 'data'\n"
          ]
        },
        {
          "name": "stderr",
          "output_type": "stream",
          "text": [
            "Baixando dados da Marvel:  83%|████████▎ | 1224/1481 [1:28:30<00:45,  5.59it/s]"
          ]
        },
        {
          "name": "stdout",
          "output_type": "stream",
          "text": [
            "Erro no offset 122200: 'data'\n",
            "Erro no offset 122300: 'data'\n"
          ]
        },
        {
          "name": "stderr",
          "output_type": "stream",
          "text": [
            "\rBaixando dados da Marvel:  83%|████████▎ | 1225/1481 [1:28:31<00:47,  5.37it/s]"
          ]
        },
        {
          "name": "stdout",
          "output_type": "stream",
          "text": [
            "Erro no offset 122400: 'data'\n"
          ]
        },
        {
          "name": "stderr",
          "output_type": "stream",
          "text": [
            "\rBaixando dados da Marvel:  83%|████████▎ | 1226/1481 [1:28:31<00:48,  5.21it/s]"
          ]
        },
        {
          "name": "stdout",
          "output_type": "stream",
          "text": [
            "Erro no offset 122500: 'data'\n"
          ]
        },
        {
          "name": "stderr",
          "output_type": "stream",
          "text": [
            "\rBaixando dados da Marvel:  83%|████████▎ | 1227/1481 [1:28:31<00:50,  5.02it/s]"
          ]
        },
        {
          "name": "stdout",
          "output_type": "stream",
          "text": [
            "Erro no offset 122600: 'data'\n"
          ]
        },
        {
          "name": "stderr",
          "output_type": "stream",
          "text": [
            "\rBaixando dados da Marvel:  83%|████████▎ | 1228/1481 [1:28:31<00:50,  4.99it/s]"
          ]
        },
        {
          "name": "stdout",
          "output_type": "stream",
          "text": [
            "Erro no offset 122700: 'data'\n"
          ]
        },
        {
          "name": "stderr",
          "output_type": "stream",
          "text": [
            "Baixando dados da Marvel:  83%|████████▎ | 1230/1481 [1:28:32<00:48,  5.20it/s]"
          ]
        },
        {
          "name": "stdout",
          "output_type": "stream",
          "text": [
            "Erro no offset 122800: 'data'\n",
            "Erro no offset 122900: 'data'\n"
          ]
        },
        {
          "name": "stderr",
          "output_type": "stream",
          "text": [
            "\rBaixando dados da Marvel:  83%|████████▎ | 1231/1481 [1:28:32<00:51,  4.86it/s]"
          ]
        },
        {
          "name": "stdout",
          "output_type": "stream",
          "text": [
            "Erro no offset 123000: 'data'\n"
          ]
        },
        {
          "name": "stderr",
          "output_type": "stream",
          "text": [
            "\rBaixando dados da Marvel:  83%|████████▎ | 1232/1481 [1:28:32<00:51,  4.85it/s]"
          ]
        },
        {
          "name": "stdout",
          "output_type": "stream",
          "text": [
            "Erro no offset 123100: 'data'\n"
          ]
        },
        {
          "name": "stderr",
          "output_type": "stream",
          "text": [
            "\rBaixando dados da Marvel:  83%|████████▎ | 1233/1481 [1:28:32<00:51,  4.83it/s]"
          ]
        },
        {
          "name": "stdout",
          "output_type": "stream",
          "text": [
            "Erro no offset 123200: 'data'\n"
          ]
        },
        {
          "name": "stderr",
          "output_type": "stream",
          "text": [
            "\rBaixando dados da Marvel:  83%|████████▎ | 1234/1481 [1:28:32<00:51,  4.83it/s]"
          ]
        },
        {
          "name": "stdout",
          "output_type": "stream",
          "text": [
            "Erro no offset 123300: 'data'\n"
          ]
        },
        {
          "name": "stderr",
          "output_type": "stream",
          "text": [
            "\rBaixando dados da Marvel:  83%|████████▎ | 1235/1481 [1:28:33<00:50,  4.84it/s]"
          ]
        },
        {
          "name": "stdout",
          "output_type": "stream",
          "text": [
            "Erro no offset 123400: 'data'\n"
          ]
        },
        {
          "name": "stderr",
          "output_type": "stream",
          "text": [
            "\rBaixando dados da Marvel:  83%|████████▎ | 1236/1481 [1:28:33<00:50,  4.84it/s]"
          ]
        },
        {
          "name": "stdout",
          "output_type": "stream",
          "text": [
            "Erro no offset 123500: 'data'\n"
          ]
        },
        {
          "name": "stderr",
          "output_type": "stream",
          "text": [
            "\rBaixando dados da Marvel:  84%|████████▎ | 1237/1481 [1:28:33<00:50,  4.82it/s]"
          ]
        },
        {
          "name": "stdout",
          "output_type": "stream",
          "text": [
            "Erro no offset 123600: 'data'\n"
          ]
        },
        {
          "name": "stderr",
          "output_type": "stream",
          "text": [
            "\rBaixando dados da Marvel:  84%|████████▎ | 1238/1481 [1:28:33<00:50,  4.81it/s]"
          ]
        },
        {
          "name": "stdout",
          "output_type": "stream",
          "text": [
            "Erro no offset 123700: 'data'\n"
          ]
        },
        {
          "name": "stderr",
          "output_type": "stream",
          "text": [
            "\rBaixando dados da Marvel:  84%|████████▎ | 1239/1481 [1:28:33<00:49,  4.84it/s]"
          ]
        },
        {
          "name": "stdout",
          "output_type": "stream",
          "text": [
            "Erro no offset 123800: 'data'\n"
          ]
        },
        {
          "name": "stderr",
          "output_type": "stream",
          "text": [
            "\rBaixando dados da Marvel:  84%|████████▎ | 1240/1481 [1:28:34<00:49,  4.83it/s]"
          ]
        },
        {
          "name": "stdout",
          "output_type": "stream",
          "text": [
            "Erro no offset 123900: 'data'\n"
          ]
        },
        {
          "name": "stderr",
          "output_type": "stream",
          "text": [
            "\rBaixando dados da Marvel:  84%|████████▍ | 1241/1481 [1:28:34<00:49,  4.83it/s]"
          ]
        },
        {
          "name": "stdout",
          "output_type": "stream",
          "text": [
            "Erro no offset 124000: 'data'\n"
          ]
        },
        {
          "name": "stderr",
          "output_type": "stream",
          "text": [
            "\rBaixando dados da Marvel:  84%|████████▍ | 1242/1481 [1:28:34<00:49,  4.82it/s]"
          ]
        },
        {
          "name": "stdout",
          "output_type": "stream",
          "text": [
            "Erro no offset 124100: 'data'\n"
          ]
        },
        {
          "name": "stderr",
          "output_type": "stream",
          "text": [
            "\rBaixando dados da Marvel:  84%|████████▍ | 1243/1481 [1:28:34<00:49,  4.82it/s]"
          ]
        },
        {
          "name": "stdout",
          "output_type": "stream",
          "text": [
            "Erro no offset 124200: 'data'\n"
          ]
        },
        {
          "name": "stderr",
          "output_type": "stream",
          "text": [
            "\rBaixando dados da Marvel:  84%|████████▍ | 1244/1481 [1:28:35<00:49,  4.82it/s]"
          ]
        },
        {
          "name": "stdout",
          "output_type": "stream",
          "text": [
            "Erro no offset 124300: 'data'\n"
          ]
        },
        {
          "name": "stderr",
          "output_type": "stream",
          "text": [
            "\rBaixando dados da Marvel:  84%|████████▍ | 1245/1481 [1:28:35<00:49,  4.81it/s]"
          ]
        },
        {
          "name": "stdout",
          "output_type": "stream",
          "text": [
            "Erro no offset 124400: 'data'\n"
          ]
        },
        {
          "name": "stderr",
          "output_type": "stream",
          "text": [
            "\rBaixando dados da Marvel:  84%|████████▍ | 1246/1481 [1:28:35<00:49,  4.80it/s]"
          ]
        },
        {
          "name": "stdout",
          "output_type": "stream",
          "text": [
            "Erro no offset 124500: 'data'\n"
          ]
        },
        {
          "name": "stderr",
          "output_type": "stream",
          "text": [
            "\rBaixando dados da Marvel:  84%|████████▍ | 1247/1481 [1:28:35<00:48,  4.79it/s]"
          ]
        },
        {
          "name": "stdout",
          "output_type": "stream",
          "text": [
            "Erro no offset 124600: 'data'\n"
          ]
        },
        {
          "name": "stderr",
          "output_type": "stream",
          "text": [
            "Baixando dados da Marvel:  84%|████████▍ | 1249/1481 [1:28:36<00:45,  5.13it/s]"
          ]
        },
        {
          "name": "stdout",
          "output_type": "stream",
          "text": [
            "Erro no offset 124700: 'data'\n",
            "Erro no offset 124800: 'data'\n"
          ]
        },
        {
          "name": "stderr",
          "output_type": "stream",
          "text": [
            "\rBaixando dados da Marvel:  84%|████████▍ | 1250/1481 [1:28:36<00:46,  5.02it/s]"
          ]
        },
        {
          "name": "stdout",
          "output_type": "stream",
          "text": [
            "Erro no offset 124900: 'data'\n",
            "Erro no offset 125000: 'data'\n"
          ]
        },
        {
          "name": "stderr",
          "output_type": "stream",
          "text": [
            "Baixando dados da Marvel:  85%|████████▍ | 1253/1481 [1:28:36<00:43,  5.24it/s]"
          ]
        },
        {
          "name": "stdout",
          "output_type": "stream",
          "text": [
            "Erro no offset 125100: 'data'\n",
            "Erro no offset 125200: 'data'\n"
          ]
        },
        {
          "name": "stderr",
          "output_type": "stream",
          "text": [
            "Baixando dados da Marvel:  85%|████████▍ | 1255/1481 [1:28:37<00:41,  5.39it/s]"
          ]
        },
        {
          "name": "stdout",
          "output_type": "stream",
          "text": [
            "Erro no offset 125300: 'data'\n",
            "Erro no offset 125400: 'data'\n"
          ]
        },
        {
          "name": "stderr",
          "output_type": "stream",
          "text": [
            "\rBaixando dados da Marvel:  85%|████████▍ | 1256/1481 [1:28:37<00:43,  5.18it/s]"
          ]
        },
        {
          "name": "stdout",
          "output_type": "stream",
          "text": [
            "Erro no offset 125500: 'data'\n"
          ]
        },
        {
          "name": "stderr",
          "output_type": "stream",
          "text": [
            "Baixando dados da Marvel:  85%|████████▍ | 1258/1481 [1:28:37<00:44,  5.06it/s]"
          ]
        },
        {
          "name": "stdout",
          "output_type": "stream",
          "text": [
            "Erro no offset 125600: 'data'\n",
            "Erro no offset 125700: 'data'\n"
          ]
        },
        {
          "name": "stderr",
          "output_type": "stream",
          "text": [
            "\rBaixando dados da Marvel:  85%|████████▌ | 1259/1481 [1:28:38<00:46,  4.76it/s]"
          ]
        },
        {
          "name": "stdout",
          "output_type": "stream",
          "text": [
            "Erro no offset 125800: 'data'\n"
          ]
        },
        {
          "name": "stderr",
          "output_type": "stream",
          "text": [
            "\rBaixando dados da Marvel:  85%|████████▌ | 1260/1481 [1:28:38<00:46,  4.80it/s]"
          ]
        },
        {
          "name": "stdout",
          "output_type": "stream",
          "text": [
            "Erro no offset 125900: 'data'\n"
          ]
        },
        {
          "name": "stderr",
          "output_type": "stream",
          "text": [
            "\rBaixando dados da Marvel:  85%|████████▌ | 1261/1481 [1:28:38<00:46,  4.69it/s]"
          ]
        },
        {
          "name": "stdout",
          "output_type": "stream",
          "text": [
            "Erro no offset 126000: 'data'\n"
          ]
        },
        {
          "name": "stderr",
          "output_type": "stream",
          "text": [
            "\rBaixando dados da Marvel:  85%|████████▌ | 1262/1481 [1:28:38<00:48,  4.51it/s]"
          ]
        },
        {
          "name": "stdout",
          "output_type": "stream",
          "text": [
            "Erro no offset 126100: 'data'\n"
          ]
        },
        {
          "name": "stderr",
          "output_type": "stream",
          "text": [
            "\rBaixando dados da Marvel:  85%|████████▌ | 1263/1481 [1:28:38<00:49,  4.37it/s]"
          ]
        },
        {
          "name": "stdout",
          "output_type": "stream",
          "text": [
            "Erro no offset 126200: 'data'\n"
          ]
        },
        {
          "name": "stderr",
          "output_type": "stream",
          "text": [
            "\rBaixando dados da Marvel:  85%|████████▌ | 1264/1481 [1:28:39<00:51,  4.23it/s]"
          ]
        },
        {
          "name": "stdout",
          "output_type": "stream",
          "text": [
            "Erro no offset 126300: 'data'\n"
          ]
        },
        {
          "name": "stderr",
          "output_type": "stream",
          "text": [
            "\rBaixando dados da Marvel:  85%|████████▌ | 1265/1481 [1:28:39<00:50,  4.30it/s]"
          ]
        },
        {
          "name": "stdout",
          "output_type": "stream",
          "text": [
            "Erro no offset 126400: 'data'\n"
          ]
        },
        {
          "name": "stderr",
          "output_type": "stream",
          "text": [
            "\rBaixando dados da Marvel:  85%|████████▌ | 1266/1481 [1:28:39<00:49,  4.38it/s]"
          ]
        },
        {
          "name": "stdout",
          "output_type": "stream",
          "text": [
            "Erro no offset 126500: 'data'\n"
          ]
        },
        {
          "name": "stderr",
          "output_type": "stream",
          "text": [
            "\rBaixando dados da Marvel:  86%|████████▌ | 1267/1481 [1:28:39<00:49,  4.36it/s]"
          ]
        },
        {
          "name": "stdout",
          "output_type": "stream",
          "text": [
            "Erro no offset 126600: 'data'\n"
          ]
        },
        {
          "name": "stderr",
          "output_type": "stream",
          "text": [
            "Baixando dados da Marvel:  86%|████████▌ | 1269/1481 [1:28:40<00:47,  4.45it/s]"
          ]
        },
        {
          "name": "stdout",
          "output_type": "stream",
          "text": [
            "Erro no offset 126700: 'data'\n",
            "Erro no offset 126800: 'data'\n"
          ]
        },
        {
          "name": "stderr",
          "output_type": "stream",
          "text": [
            "Baixando dados da Marvel:  86%|████████▌ | 1271/1481 [1:28:40<00:42,  4.89it/s]"
          ]
        },
        {
          "name": "stdout",
          "output_type": "stream",
          "text": [
            "Erro no offset 126900: 'data'\n",
            "Erro no offset 127000: 'data'\n"
          ]
        },
        {
          "name": "stderr",
          "output_type": "stream",
          "text": [
            "\rBaixando dados da Marvel:  86%|████████▌ | 1272/1481 [1:28:40<00:42,  4.91it/s]"
          ]
        },
        {
          "name": "stdout",
          "output_type": "stream",
          "text": [
            "Erro no offset 127100: 'data'\n"
          ]
        },
        {
          "name": "stderr",
          "output_type": "stream",
          "text": [
            "\rBaixando dados da Marvel:  86%|████████▌ | 1273/1481 [1:28:41<00:42,  4.84it/s]"
          ]
        },
        {
          "name": "stdout",
          "output_type": "stream",
          "text": [
            "Erro no offset 127200: 'data'\n"
          ]
        },
        {
          "name": "stderr",
          "output_type": "stream",
          "text": [
            "\rBaixando dados da Marvel:  86%|████████▌ | 1274/1481 [1:28:41<00:45,  4.54it/s]"
          ]
        },
        {
          "name": "stdout",
          "output_type": "stream",
          "text": [
            "Erro no offset 127300: 'data'\n"
          ]
        },
        {
          "name": "stderr",
          "output_type": "stream",
          "text": [
            "\rBaixando dados da Marvel:  86%|████████▌ | 1275/1481 [1:28:41<00:44,  4.61it/s]"
          ]
        },
        {
          "name": "stdout",
          "output_type": "stream",
          "text": [
            "Erro no offset 127400: 'data'\n"
          ]
        },
        {
          "name": "stderr",
          "output_type": "stream",
          "text": [
            "Baixando dados da Marvel:  86%|████████▌ | 1277/1481 [1:28:41<00:40,  5.05it/s]"
          ]
        },
        {
          "name": "stdout",
          "output_type": "stream",
          "text": [
            "Erro no offset 127500: 'data'\n",
            "Erro no offset 127600: 'data'\n"
          ]
        },
        {
          "name": "stderr",
          "output_type": "stream",
          "text": [
            "Baixando dados da Marvel:  86%|████████▋ | 1279/1481 [1:28:42<00:38,  5.27it/s]"
          ]
        },
        {
          "name": "stdout",
          "output_type": "stream",
          "text": [
            "Erro no offset 127700: 'data'\n",
            "Erro no offset 127800: 'data'\n"
          ]
        },
        {
          "name": "stderr",
          "output_type": "stream",
          "text": [
            "\rBaixando dados da Marvel:  86%|████████▋ | 1280/1481 [1:28:42<00:36,  5.51it/s]"
          ]
        },
        {
          "name": "stdout",
          "output_type": "stream",
          "text": [
            "Erro no offset 127900: 'data'\n"
          ]
        },
        {
          "name": "stderr",
          "output_type": "stream",
          "text": [
            "\rBaixando dados da Marvel:  86%|████████▋ | 1281/1481 [1:28:42<00:38,  5.26it/s]"
          ]
        },
        {
          "name": "stdout",
          "output_type": "stream",
          "text": [
            "Erro no offset 128000: 'data'\n"
          ]
        },
        {
          "name": "stderr",
          "output_type": "stream",
          "text": [
            "Baixando dados da Marvel:  87%|████████▋ | 1283/1481 [1:28:43<00:36,  5.36it/s]"
          ]
        },
        {
          "name": "stdout",
          "output_type": "stream",
          "text": [
            "Erro no offset 128100: 'data'\n",
            "Erro no offset 128200: 'data'\n"
          ]
        },
        {
          "name": "stderr",
          "output_type": "stream",
          "text": [
            "Baixando dados da Marvel:  87%|████████▋ | 1285/1481 [1:28:43<00:34,  5.76it/s]"
          ]
        },
        {
          "name": "stdout",
          "output_type": "stream",
          "text": [
            "Erro no offset 128300: 'data'\n",
            "Erro no offset 128400: 'data'\n"
          ]
        },
        {
          "name": "stderr",
          "output_type": "stream",
          "text": [
            "\rBaixando dados da Marvel:  87%|████████▋ | 1286/1481 [1:28:43<00:33,  5.80it/s]"
          ]
        },
        {
          "name": "stdout",
          "output_type": "stream",
          "text": [
            "Erro no offset 128500: 'data'\n"
          ]
        },
        {
          "name": "stderr",
          "output_type": "stream",
          "text": [
            "Baixando dados da Marvel:  87%|████████▋ | 1288/1481 [1:28:43<00:34,  5.64it/s]"
          ]
        },
        {
          "name": "stdout",
          "output_type": "stream",
          "text": [
            "Erro no offset 128600: 'data'\n",
            "Erro no offset 128700: 'data'\n"
          ]
        },
        {
          "name": "stderr",
          "output_type": "stream",
          "text": [
            "\rBaixando dados da Marvel:  87%|████████▋ | 1289/1481 [1:28:44<00:35,  5.34it/s]"
          ]
        },
        {
          "name": "stdout",
          "output_type": "stream",
          "text": [
            "Erro no offset 128800: 'data'\n"
          ]
        },
        {
          "name": "stderr",
          "output_type": "stream",
          "text": [
            "\rBaixando dados da Marvel:  87%|████████▋ | 1290/1481 [1:28:44<00:37,  5.16it/s]"
          ]
        },
        {
          "name": "stdout",
          "output_type": "stream",
          "text": [
            "Erro no offset 128900: 'data'\n"
          ]
        },
        {
          "name": "stderr",
          "output_type": "stream",
          "text": [
            "Baixando dados da Marvel:  87%|████████▋ | 1292/1481 [1:28:44<00:35,  5.33it/s]"
          ]
        },
        {
          "name": "stdout",
          "output_type": "stream",
          "text": [
            "Erro no offset 129000: 'data'\n",
            "Erro no offset 129100: 'data'\n"
          ]
        },
        {
          "name": "stderr",
          "output_type": "stream",
          "text": [
            "\rBaixando dados da Marvel:  87%|████████▋ | 1293/1481 [1:28:44<00:36,  5.14it/s]"
          ]
        },
        {
          "name": "stdout",
          "output_type": "stream",
          "text": [
            "Erro no offset 129200: 'data'\n"
          ]
        },
        {
          "name": "stderr",
          "output_type": "stream",
          "text": [
            "\rBaixando dados da Marvel:  87%|████████▋ | 1294/1481 [1:28:45<00:37,  5.04it/s]"
          ]
        },
        {
          "name": "stdout",
          "output_type": "stream",
          "text": [
            "Erro no offset 129300: 'data'\n"
          ]
        },
        {
          "name": "stderr",
          "output_type": "stream",
          "text": [
            "\rBaixando dados da Marvel:  87%|████████▋ | 1295/1481 [1:28:45<00:37,  4.99it/s]"
          ]
        },
        {
          "name": "stdout",
          "output_type": "stream",
          "text": [
            "Erro no offset 129400: 'data'\n"
          ]
        },
        {
          "name": "stderr",
          "output_type": "stream",
          "text": [
            "\rBaixando dados da Marvel:  88%|████████▊ | 1296/1481 [1:28:45<00:37,  4.93it/s]"
          ]
        },
        {
          "name": "stdout",
          "output_type": "stream",
          "text": [
            "Erro no offset 129500: 'data'\n"
          ]
        },
        {
          "name": "stderr",
          "output_type": "stream",
          "text": [
            "\rBaixando dados da Marvel:  88%|████████▊ | 1297/1481 [1:28:45<00:37,  4.91it/s]"
          ]
        },
        {
          "name": "stdout",
          "output_type": "stream",
          "text": [
            "Erro no offset 129600: 'data'\n"
          ]
        },
        {
          "name": "stderr",
          "output_type": "stream",
          "text": [
            "\rBaixando dados da Marvel:  88%|████████▊ | 1298/1481 [1:28:45<00:37,  4.90it/s]"
          ]
        },
        {
          "name": "stdout",
          "output_type": "stream",
          "text": [
            "Erro no offset 129700: 'data'\n"
          ]
        },
        {
          "name": "stderr",
          "output_type": "stream",
          "text": [
            "\rBaixando dados da Marvel:  88%|████████▊ | 1299/1481 [1:28:46<00:37,  4.86it/s]"
          ]
        },
        {
          "name": "stdout",
          "output_type": "stream",
          "text": [
            "Erro no offset 129800: 'data'\n"
          ]
        },
        {
          "name": "stderr",
          "output_type": "stream",
          "text": [
            "\rBaixando dados da Marvel:  88%|████████▊ | 1300/1481 [1:28:46<00:37,  4.85it/s]"
          ]
        },
        {
          "name": "stdout",
          "output_type": "stream",
          "text": [
            "Erro no offset 129900: 'data'\n"
          ]
        },
        {
          "name": "stderr",
          "output_type": "stream",
          "text": [
            "\rBaixando dados da Marvel:  88%|████████▊ | 1301/1481 [1:28:46<00:37,  4.85it/s]"
          ]
        },
        {
          "name": "stdout",
          "output_type": "stream",
          "text": [
            "Erro no offset 130000: 'data'\n"
          ]
        },
        {
          "name": "stderr",
          "output_type": "stream",
          "text": [
            "Baixando dados da Marvel:  88%|████████▊ | 1303/1481 [1:28:46<00:34,  5.15it/s]"
          ]
        },
        {
          "name": "stdout",
          "output_type": "stream",
          "text": [
            "Erro no offset 130100: 'data'\n",
            "Erro no offset 130200: 'data'\n"
          ]
        },
        {
          "name": "stderr",
          "output_type": "stream",
          "text": [
            "\rBaixando dados da Marvel:  88%|████████▊ | 1304/1481 [1:28:47<00:35,  5.04it/s]"
          ]
        },
        {
          "name": "stdout",
          "output_type": "stream",
          "text": [
            "Erro no offset 130300: 'data'\n"
          ]
        },
        {
          "name": "stderr",
          "output_type": "stream",
          "text": [
            "\rBaixando dados da Marvel:  88%|████████▊ | 1305/1481 [1:28:47<00:35,  4.99it/s]"
          ]
        },
        {
          "name": "stdout",
          "output_type": "stream",
          "text": [
            "Erro no offset 130400: 'data'\n"
          ]
        },
        {
          "name": "stderr",
          "output_type": "stream",
          "text": [
            "Baixando dados da Marvel:  88%|████████▊ | 1307/1481 [1:28:47<00:33,  5.22it/s]"
          ]
        },
        {
          "name": "stdout",
          "output_type": "stream",
          "text": [
            "Erro no offset 130500: 'data'\n",
            "Erro no offset 130600: 'data'\n"
          ]
        },
        {
          "name": "stderr",
          "output_type": "stream",
          "text": [
            "Baixando dados da Marvel:  88%|████████▊ | 1309/1481 [1:28:48<00:30,  5.63it/s]"
          ]
        },
        {
          "name": "stdout",
          "output_type": "stream",
          "text": [
            "Erro no offset 130700: 'data'\n",
            "Erro no offset 130800: 'data'\n"
          ]
        },
        {
          "name": "stderr",
          "output_type": "stream",
          "text": [
            "Baixando dados da Marvel:  89%|████████▊ | 1311/1481 [1:28:48<00:29,  5.82it/s]"
          ]
        },
        {
          "name": "stdout",
          "output_type": "stream",
          "text": [
            "Erro no offset 130900: 'data'\n",
            "Erro no offset 131000: 'data'\n"
          ]
        },
        {
          "name": "stderr",
          "output_type": "stream",
          "text": [
            "\rBaixando dados da Marvel:  89%|████████▊ | 1312/1481 [1:28:48<00:30,  5.47it/s]"
          ]
        },
        {
          "name": "stdout",
          "output_type": "stream",
          "text": [
            "Erro no offset 131100: 'data'\n"
          ]
        },
        {
          "name": "stderr",
          "output_type": "stream",
          "text": [
            "Baixando dados da Marvel:  89%|████████▊ | 1314/1481 [1:28:48<00:30,  5.44it/s]"
          ]
        },
        {
          "name": "stdout",
          "output_type": "stream",
          "text": [
            "Erro no offset 131200: 'data'\n",
            "Erro no offset 131300: 'data'\n"
          ]
        },
        {
          "name": "stderr",
          "output_type": "stream",
          "text": [
            "\rBaixando dados da Marvel:  89%|████████▉ | 1315/1481 [1:28:49<00:31,  5.25it/s]"
          ]
        },
        {
          "name": "stdout",
          "output_type": "stream",
          "text": [
            "Erro no offset 131400: 'data'\n"
          ]
        },
        {
          "name": "stderr",
          "output_type": "stream",
          "text": [
            "\rBaixando dados da Marvel:  89%|████████▉ | 1316/1481 [1:28:49<00:32,  5.10it/s]"
          ]
        },
        {
          "name": "stdout",
          "output_type": "stream",
          "text": [
            "Erro no offset 131500: 'data'\n"
          ]
        },
        {
          "name": "stderr",
          "output_type": "stream",
          "text": [
            "\rBaixando dados da Marvel:  89%|████████▉ | 1317/1481 [1:28:49<00:32,  5.02it/s]"
          ]
        },
        {
          "name": "stdout",
          "output_type": "stream",
          "text": [
            "Erro no offset 131600: 'data'\n"
          ]
        },
        {
          "name": "stderr",
          "output_type": "stream",
          "text": [
            "Baixando dados da Marvel:  89%|████████▉ | 1319/1481 [1:28:49<00:30,  5.28it/s]"
          ]
        },
        {
          "name": "stdout",
          "output_type": "stream",
          "text": [
            "Erro no offset 131700: 'data'\n",
            "Erro no offset 131800: 'data'\n"
          ]
        },
        {
          "name": "stderr",
          "output_type": "stream",
          "text": [
            "Baixando dados da Marvel:  89%|████████▉ | 1321/1481 [1:28:50<00:28,  5.61it/s]"
          ]
        },
        {
          "name": "stdout",
          "output_type": "stream",
          "text": [
            "Erro no offset 131900: 'data'\n",
            "Erro no offset 132000: 'data'\n"
          ]
        },
        {
          "name": "stderr",
          "output_type": "stream",
          "text": [
            "\rBaixando dados da Marvel:  89%|████████▉ | 1322/1481 [1:28:50<00:29,  5.33it/s]"
          ]
        },
        {
          "name": "stdout",
          "output_type": "stream",
          "text": [
            "Erro no offset 132100: 'data'\n"
          ]
        },
        {
          "name": "stderr",
          "output_type": "stream",
          "text": [
            "Baixando dados da Marvel:  89%|████████▉ | 1324/1481 [1:28:50<00:29,  5.39it/s]"
          ]
        },
        {
          "name": "stdout",
          "output_type": "stream",
          "text": [
            "Erro no offset 132200: 'data'\n",
            "Erro no offset 132300: 'data'\n"
          ]
        },
        {
          "name": "stderr",
          "output_type": "stream",
          "text": [
            "Baixando dados da Marvel:  90%|████████▉ | 1326/1481 [1:28:51<00:28,  5.40it/s]"
          ]
        },
        {
          "name": "stdout",
          "output_type": "stream",
          "text": [
            "Erro no offset 132400: 'data'\n",
            "Erro no offset 132500: 'data'\n"
          ]
        },
        {
          "name": "stderr",
          "output_type": "stream",
          "text": [
            "Baixando dados da Marvel:  90%|████████▉ | 1328/1481 [1:28:51<00:28,  5.39it/s]"
          ]
        },
        {
          "name": "stdout",
          "output_type": "stream",
          "text": [
            "Erro no offset 132600: 'data'\n",
            "Erro no offset 132700: 'data'\n"
          ]
        },
        {
          "name": "stderr",
          "output_type": "stream",
          "text": [
            "Baixando dados da Marvel:  90%|████████▉ | 1330/1481 [1:28:52<00:27,  5.44it/s]"
          ]
        },
        {
          "name": "stdout",
          "output_type": "stream",
          "text": [
            "Erro no offset 132800: 'data'\n",
            "Erro no offset 132900: 'data'\n"
          ]
        },
        {
          "name": "stderr",
          "output_type": "stream",
          "text": [
            "Baixando dados da Marvel:  90%|████████▉ | 1332/1481 [1:28:52<00:26,  5.61it/s]"
          ]
        },
        {
          "name": "stdout",
          "output_type": "stream",
          "text": [
            "Erro no offset 133000: 'data'\n",
            "Erro no offset 133100: 'data'\n"
          ]
        },
        {
          "name": "stderr",
          "output_type": "stream",
          "text": [
            "Baixando dados da Marvel:  90%|█████████ | 1334/1481 [1:28:52<00:26,  5.53it/s]"
          ]
        },
        {
          "name": "stdout",
          "output_type": "stream",
          "text": [
            "Erro no offset 133200: 'data'\n",
            "Erro no offset 133300: 'data'\n"
          ]
        },
        {
          "name": "stderr",
          "output_type": "stream",
          "text": [
            "\rBaixando dados da Marvel:  90%|█████████ | 1335/1481 [1:28:52<00:25,  5.69it/s]"
          ]
        },
        {
          "name": "stdout",
          "output_type": "stream",
          "text": [
            "Erro no offset 133400: 'data'\n"
          ]
        },
        {
          "name": "stderr",
          "output_type": "stream",
          "text": [
            "\rBaixando dados da Marvel:  90%|█████████ | 1336/1481 [1:28:53<00:27,  5.37it/s]"
          ]
        },
        {
          "name": "stdout",
          "output_type": "stream",
          "text": [
            "Erro no offset 133500: 'data'\n"
          ]
        },
        {
          "name": "stderr",
          "output_type": "stream",
          "text": [
            "\rBaixando dados da Marvel:  90%|█████████ | 1337/1481 [1:28:53<00:28,  4.99it/s]"
          ]
        },
        {
          "name": "stdout",
          "output_type": "stream",
          "text": [
            "Erro no offset 133600: 'data'\n"
          ]
        },
        {
          "name": "stderr",
          "output_type": "stream",
          "text": [
            "Baixando dados da Marvel:  90%|█████████ | 1339/1481 [1:28:53<00:27,  5.21it/s]"
          ]
        },
        {
          "name": "stdout",
          "output_type": "stream",
          "text": [
            "Erro no offset 133700: 'data'\n",
            "Erro no offset 133800: 'data'\n"
          ]
        },
        {
          "name": "stderr",
          "output_type": "stream",
          "text": [
            "\rBaixando dados da Marvel:  90%|█████████ | 1340/1481 [1:28:53<00:25,  5.45it/s]"
          ]
        },
        {
          "name": "stdout",
          "output_type": "stream",
          "text": [
            "Erro no offset 133900: 'data'\n"
          ]
        },
        {
          "name": "stderr",
          "output_type": "stream",
          "text": [
            "\rBaixando dados da Marvel:  91%|█████████ | 1341/1481 [1:28:54<00:26,  5.25it/s]"
          ]
        },
        {
          "name": "stdout",
          "output_type": "stream",
          "text": [
            "Erro no offset 134000: 'data'\n"
          ]
        },
        {
          "name": "stderr",
          "output_type": "stream",
          "text": [
            "Baixando dados da Marvel:  91%|█████████ | 1343/1481 [1:28:54<00:26,  5.30it/s]"
          ]
        },
        {
          "name": "stdout",
          "output_type": "stream",
          "text": [
            "Erro no offset 134100: 'data'\n",
            "Erro no offset 134200: 'data'\n"
          ]
        },
        {
          "name": "stderr",
          "output_type": "stream",
          "text": [
            "Baixando dados da Marvel:  91%|█████████ | 1345/1481 [1:28:54<00:23,  5.68it/s]"
          ]
        },
        {
          "name": "stdout",
          "output_type": "stream",
          "text": [
            "Erro no offset 134300: 'data'\n",
            "Erro no offset 134400: 'data'\n"
          ]
        },
        {
          "name": "stderr",
          "output_type": "stream",
          "text": [
            "Baixando dados da Marvel:  91%|█████████ | 1347/1481 [1:28:55<00:22,  5.91it/s]"
          ]
        },
        {
          "name": "stdout",
          "output_type": "stream",
          "text": [
            "Erro no offset 134500: 'data'\n",
            "Erro no offset 134600: 'data'\n"
          ]
        },
        {
          "name": "stderr",
          "output_type": "stream",
          "text": [
            "Baixando dados da Marvel:  91%|█████████ | 1349/1481 [1:28:55<00:23,  5.67it/s]"
          ]
        },
        {
          "name": "stdout",
          "output_type": "stream",
          "text": [
            "Erro no offset 134700: 'data'\n",
            "Erro no offset 134800: 'data'\n"
          ]
        },
        {
          "name": "stderr",
          "output_type": "stream",
          "text": [
            "Baixando dados da Marvel:  91%|█████████ | 1351/1481 [1:28:55<00:22,  5.88it/s]"
          ]
        },
        {
          "name": "stdout",
          "output_type": "stream",
          "text": [
            "Erro no offset 134900: 'data'\n",
            "Erro no offset 135000: 'data'\n"
          ]
        },
        {
          "name": "stderr",
          "output_type": "stream",
          "text": [
            "Baixando dados da Marvel:  91%|█████████▏| 1353/1481 [1:28:56<00:21,  5.94it/s]"
          ]
        },
        {
          "name": "stdout",
          "output_type": "stream",
          "text": [
            "Erro no offset 135100: 'data'\n",
            "Erro no offset 135200: 'data'\n"
          ]
        },
        {
          "name": "stderr",
          "output_type": "stream",
          "text": [
            "Baixando dados da Marvel:  91%|█████████▏| 1355/1481 [1:28:56<00:21,  5.99it/s]"
          ]
        },
        {
          "name": "stdout",
          "output_type": "stream",
          "text": [
            "Erro no offset 135300: 'data'\n",
            "Erro no offset 135400: 'data'\n"
          ]
        },
        {
          "name": "stderr",
          "output_type": "stream",
          "text": [
            "Baixando dados da Marvel:  92%|█████████▏| 1357/1481 [1:28:56<00:20,  5.97it/s]"
          ]
        },
        {
          "name": "stdout",
          "output_type": "stream",
          "text": [
            "Erro no offset 135500: 'data'\n",
            "Erro no offset 135600: 'data'\n"
          ]
        },
        {
          "name": "stderr",
          "output_type": "stream",
          "text": [
            "\rBaixando dados da Marvel:  92%|█████████▏| 1358/1481 [1:28:57<00:22,  5.57it/s]"
          ]
        },
        {
          "name": "stdout",
          "output_type": "stream",
          "text": [
            "Erro no offset 135700: 'data'\n"
          ]
        },
        {
          "name": "stderr",
          "output_type": "stream",
          "text": [
            "\rBaixando dados da Marvel:  92%|█████████▏| 1359/1481 [1:28:57<00:23,  5.29it/s]"
          ]
        },
        {
          "name": "stdout",
          "output_type": "stream",
          "text": [
            "Erro no offset 135800: 'data'\n"
          ]
        },
        {
          "name": "stderr",
          "output_type": "stream",
          "text": [
            "Baixando dados da Marvel:  92%|█████████▏| 1361/1481 [1:28:57<00:22,  5.35it/s]"
          ]
        },
        {
          "name": "stdout",
          "output_type": "stream",
          "text": [
            "Erro no offset 135900: 'data'\n",
            "Erro no offset 136000: 'data'\n"
          ]
        },
        {
          "name": "stderr",
          "output_type": "stream",
          "text": [
            "Baixando dados da Marvel:  92%|█████████▏| 1363/1481 [1:28:58<00:21,  5.49it/s]"
          ]
        },
        {
          "name": "stdout",
          "output_type": "stream",
          "text": [
            "Erro no offset 136100: 'data'\n",
            "Erro no offset 136200: 'data'\n"
          ]
        },
        {
          "name": "stderr",
          "output_type": "stream",
          "text": [
            "Baixando dados da Marvel:  92%|█████████▏| 1365/1481 [1:28:58<00:20,  5.76it/s]"
          ]
        },
        {
          "name": "stdout",
          "output_type": "stream",
          "text": [
            "Erro no offset 136300: 'data'\n",
            "Erro no offset 136400: 'data'\n"
          ]
        },
        {
          "name": "stderr",
          "output_type": "stream",
          "text": [
            "\rBaixando dados da Marvel:  92%|█████████▏| 1366/1481 [1:28:58<00:19,  5.86it/s]"
          ]
        },
        {
          "name": "stdout",
          "output_type": "stream",
          "text": [
            "Erro no offset 136500: 'data'\n"
          ]
        },
        {
          "name": "stderr",
          "output_type": "stream",
          "text": [
            "\rBaixando dados da Marvel:  92%|█████████▏| 1367/1481 [1:28:58<00:20,  5.50it/s]"
          ]
        },
        {
          "name": "stdout",
          "output_type": "stream",
          "text": [
            "Erro no offset 136600: 'data'\n"
          ]
        },
        {
          "name": "stderr",
          "output_type": "stream",
          "text": [
            "\rBaixando dados da Marvel:  92%|█████████▏| 1368/1481 [1:28:58<00:21,  5.25it/s]"
          ]
        },
        {
          "name": "stdout",
          "output_type": "stream",
          "text": [
            "Erro no offset 136700: 'data'\n"
          ]
        },
        {
          "name": "stderr",
          "output_type": "stream",
          "text": [
            "Baixando dados da Marvel:  93%|█████████▎| 1370/1481 [1:28:59<00:20,  5.40it/s]"
          ]
        },
        {
          "name": "stdout",
          "output_type": "stream",
          "text": [
            "Erro no offset 136800: 'data'\n",
            "Erro no offset 136900: 'data'\n"
          ]
        },
        {
          "name": "stderr",
          "output_type": "stream",
          "text": [
            "Baixando dados da Marvel:  93%|█████████▎| 1372/1481 [1:28:59<00:19,  5.72it/s]"
          ]
        },
        {
          "name": "stdout",
          "output_type": "stream",
          "text": [
            "Erro no offset 137000: 'data'\n",
            "Erro no offset 137100: 'data'\n"
          ]
        },
        {
          "name": "stderr",
          "output_type": "stream",
          "text": [
            "Baixando dados da Marvel:  93%|█████████▎| 1374/1481 [1:28:59<00:18,  5.84it/s]"
          ]
        },
        {
          "name": "stdout",
          "output_type": "stream",
          "text": [
            "Erro no offset 137200: 'data'\n",
            "Erro no offset 137300: 'data'\n"
          ]
        },
        {
          "name": "stderr",
          "output_type": "stream",
          "text": [
            "\rBaixando dados da Marvel:  93%|█████████▎| 1375/1481 [1:29:00<00:17,  5.90it/s]"
          ]
        },
        {
          "name": "stdout",
          "output_type": "stream",
          "text": [
            "Erro no offset 137400: 'data'\n"
          ]
        },
        {
          "name": "stderr",
          "output_type": "stream",
          "text": [
            "Baixando dados da Marvel:  93%|█████████▎| 1377/1481 [1:29:00<00:18,  5.67it/s]"
          ]
        },
        {
          "name": "stdout",
          "output_type": "stream",
          "text": [
            "Erro no offset 137500: 'data'\n",
            "Erro no offset 137600: 'data'\n"
          ]
        },
        {
          "name": "stderr",
          "output_type": "stream",
          "text": [
            "Baixando dados da Marvel:  93%|█████████▎| 1379/1481 [1:29:00<00:17,  5.86it/s]"
          ]
        },
        {
          "name": "stdout",
          "output_type": "stream",
          "text": [
            "Erro no offset 137700: 'data'\n",
            "Erro no offset 137800: 'data'\n"
          ]
        },
        {
          "name": "stderr",
          "output_type": "stream",
          "text": [
            "Baixando dados da Marvel:  93%|█████████▎| 1381/1481 [1:29:01<00:16,  5.94it/s]"
          ]
        },
        {
          "name": "stdout",
          "output_type": "stream",
          "text": [
            "Erro no offset 137900: 'data'\n",
            "Erro no offset 138000: 'data'\n"
          ]
        },
        {
          "name": "stderr",
          "output_type": "stream",
          "text": [
            "Baixando dados da Marvel:  93%|█████████▎| 1383/1481 [1:29:01<00:17,  5.65it/s]"
          ]
        },
        {
          "name": "stdout",
          "output_type": "stream",
          "text": [
            "Erro no offset 138100: 'data'\n",
            "Erro no offset 138200: 'data'\n"
          ]
        },
        {
          "name": "stderr",
          "output_type": "stream",
          "text": [
            "\rBaixando dados da Marvel:  93%|█████████▎| 1384/1481 [1:29:01<00:18,  5.38it/s]"
          ]
        },
        {
          "name": "stdout",
          "output_type": "stream",
          "text": [
            "Erro no offset 138300: 'data'\n",
            "Erro no offset 138400: 'data'\n"
          ]
        },
        {
          "name": "stderr",
          "output_type": "stream",
          "text": [
            "Baixando dados da Marvel:  94%|█████████▎| 1386/1481 [1:29:02<00:19,  4.89it/s]"
          ]
        },
        {
          "name": "stdout",
          "output_type": "stream",
          "text": [
            "Erro no offset 138500: 'data'\n"
          ]
        },
        {
          "name": "stderr",
          "output_type": "stream",
          "text": [
            "\rBaixando dados da Marvel:  94%|█████████▎| 1387/1481 [1:29:02<00:19,  4.86it/s]"
          ]
        },
        {
          "name": "stdout",
          "output_type": "stream",
          "text": [
            "Erro no offset 138600: 'data'\n"
          ]
        },
        {
          "name": "stderr",
          "output_type": "stream",
          "text": [
            "\rBaixando dados da Marvel:  94%|█████████▎| 1388/1481 [1:29:02<00:19,  4.87it/s]"
          ]
        },
        {
          "name": "stdout",
          "output_type": "stream",
          "text": [
            "Erro no offset 138700: 'data'\n"
          ]
        },
        {
          "name": "stderr",
          "output_type": "stream",
          "text": [
            "\rBaixando dados da Marvel:  94%|█████████▍| 1389/1481 [1:29:02<00:19,  4.82it/s]"
          ]
        },
        {
          "name": "stdout",
          "output_type": "stream",
          "text": [
            "Erro no offset 138800: 'data'\n"
          ]
        },
        {
          "name": "stderr",
          "output_type": "stream",
          "text": [
            "\rBaixando dados da Marvel:  94%|█████████▍| 1390/1481 [1:29:03<00:18,  4.83it/s]"
          ]
        },
        {
          "name": "stdout",
          "output_type": "stream",
          "text": [
            "Erro no offset 138900: 'data'\n"
          ]
        },
        {
          "name": "stderr",
          "output_type": "stream",
          "text": [
            "\rBaixando dados da Marvel:  94%|█████████▍| 1391/1481 [1:29:03<00:18,  4.81it/s]"
          ]
        },
        {
          "name": "stdout",
          "output_type": "stream",
          "text": [
            "Erro no offset 139000: 'data'\n"
          ]
        },
        {
          "name": "stderr",
          "output_type": "stream",
          "text": [
            "\rBaixando dados da Marvel:  94%|█████████▍| 1392/1481 [1:29:03<00:18,  4.78it/s]"
          ]
        },
        {
          "name": "stdout",
          "output_type": "stream",
          "text": [
            "Erro no offset 139100: 'data'\n"
          ]
        },
        {
          "name": "stderr",
          "output_type": "stream",
          "text": [
            "Baixando dados da Marvel:  94%|█████████▍| 1394/1481 [1:29:03<00:17,  5.12it/s]"
          ]
        },
        {
          "name": "stdout",
          "output_type": "stream",
          "text": [
            "Erro no offset 139200: 'data'\n",
            "Erro no offset 139300: 'data'\n"
          ]
        },
        {
          "name": "stderr",
          "output_type": "stream",
          "text": [
            "\rBaixando dados da Marvel:  94%|█████████▍| 1395/1481 [1:29:04<00:17,  5.02it/s]"
          ]
        },
        {
          "name": "stdout",
          "output_type": "stream",
          "text": [
            "Erro no offset 139400: 'data'\n"
          ]
        },
        {
          "name": "stderr",
          "output_type": "stream",
          "text": [
            "\rBaixando dados da Marvel:  94%|█████████▍| 1396/1481 [1:29:04<00:17,  4.96it/s]"
          ]
        },
        {
          "name": "stdout",
          "output_type": "stream",
          "text": [
            "Erro no offset 139500: 'data'\n"
          ]
        },
        {
          "name": "stderr",
          "output_type": "stream",
          "text": [
            "Baixando dados da Marvel:  94%|█████████▍| 1398/1481 [1:29:04<00:15,  5.25it/s]"
          ]
        },
        {
          "name": "stdout",
          "output_type": "stream",
          "text": [
            "Erro no offset 139600: 'data'\n",
            "Erro no offset 139700: 'data'\n"
          ]
        },
        {
          "name": "stderr",
          "output_type": "stream",
          "text": [
            "\rBaixando dados da Marvel:  94%|█████████▍| 1399/1481 [1:29:04<00:16,  5.09it/s]"
          ]
        },
        {
          "name": "stdout",
          "output_type": "stream",
          "text": [
            "Erro no offset 139800: 'data'\n"
          ]
        },
        {
          "name": "stderr",
          "output_type": "stream",
          "text": [
            "Baixando dados da Marvel:  95%|█████████▍| 1401/1481 [1:29:05<00:15,  5.29it/s]"
          ]
        },
        {
          "name": "stdout",
          "output_type": "stream",
          "text": [
            "Erro no offset 139900: 'data'\n",
            "Erro no offset 140000: 'data'\n"
          ]
        },
        {
          "name": "stderr",
          "output_type": "stream",
          "text": [
            "\rBaixando dados da Marvel:  95%|█████████▍| 1402/1481 [1:29:05<00:14,  5.54it/s]"
          ]
        },
        {
          "name": "stdout",
          "output_type": "stream",
          "text": [
            "Erro no offset 140100: 'data'\n"
          ]
        },
        {
          "name": "stderr",
          "output_type": "stream",
          "text": [
            "Baixando dados da Marvel:  95%|█████████▍| 1404/1481 [1:29:05<00:13,  5.51it/s]"
          ]
        },
        {
          "name": "stdout",
          "output_type": "stream",
          "text": [
            "Erro no offset 140200: 'data'\n",
            "Erro no offset 140300: 'data'\n"
          ]
        },
        {
          "name": "stderr",
          "output_type": "stream",
          "text": [
            "\rBaixando dados da Marvel:  95%|█████████▍| 1405/1481 [1:29:05<00:13,  5.68it/s]"
          ]
        },
        {
          "name": "stdout",
          "output_type": "stream",
          "text": [
            "Erro no offset 140400: 'data'\n"
          ]
        },
        {
          "name": "stderr",
          "output_type": "stream",
          "text": [
            "Baixando dados da Marvel:  95%|█████████▌| 1407/1481 [1:29:06<00:13,  5.57it/s]"
          ]
        },
        {
          "name": "stdout",
          "output_type": "stream",
          "text": [
            "Erro no offset 140500: 'data'\n",
            "Erro no offset 140600: 'data'\n"
          ]
        },
        {
          "name": "stderr",
          "output_type": "stream",
          "text": [
            "\rBaixando dados da Marvel:  95%|█████████▌| 1408/1481 [1:29:06<00:13,  5.32it/s]"
          ]
        },
        {
          "name": "stdout",
          "output_type": "stream",
          "text": [
            "Erro no offset 140700: 'data'\n"
          ]
        },
        {
          "name": "stderr",
          "output_type": "stream",
          "text": [
            "\rBaixando dados da Marvel:  95%|█████████▌| 1409/1481 [1:29:06<00:13,  5.15it/s]"
          ]
        },
        {
          "name": "stdout",
          "output_type": "stream",
          "text": [
            "Erro no offset 140800: 'data'\n"
          ]
        },
        {
          "name": "stderr",
          "output_type": "stream",
          "text": [
            "\rBaixando dados da Marvel:  95%|█████████▌| 1410/1481 [1:29:06<00:14,  4.83it/s]"
          ]
        },
        {
          "name": "stdout",
          "output_type": "stream",
          "text": [
            "Erro no offset 140900: 'data'\n"
          ]
        },
        {
          "name": "stderr",
          "output_type": "stream",
          "text": [
            "\rBaixando dados da Marvel:  95%|█████████▌| 1411/1481 [1:29:07<00:14,  4.84it/s]"
          ]
        },
        {
          "name": "stdout",
          "output_type": "stream",
          "text": [
            "Erro no offset 141000: 'data'\n"
          ]
        },
        {
          "name": "stderr",
          "output_type": "stream",
          "text": [
            "\rBaixando dados da Marvel:  95%|█████████▌| 1412/1481 [1:29:07<00:14,  4.79it/s]"
          ]
        },
        {
          "name": "stdout",
          "output_type": "stream",
          "text": [
            "Erro no offset 141100: 'data'\n"
          ]
        },
        {
          "name": "stderr",
          "output_type": "stream",
          "text": [
            "\rBaixando dados da Marvel:  95%|█████████▌| 1413/1481 [1:29:07<00:14,  4.81it/s]"
          ]
        },
        {
          "name": "stdout",
          "output_type": "stream",
          "text": [
            "Erro no offset 141200: 'data'\n"
          ]
        },
        {
          "name": "stderr",
          "output_type": "stream",
          "text": [
            "\rBaixando dados da Marvel:  95%|█████████▌| 1414/1481 [1:29:07<00:13,  4.80it/s]"
          ]
        },
        {
          "name": "stdout",
          "output_type": "stream",
          "text": [
            "Erro no offset 141300: 'data'\n"
          ]
        },
        {
          "name": "stderr",
          "output_type": "stream",
          "text": [
            "\rBaixando dados da Marvel:  96%|█████████▌| 1415/1481 [1:29:07<00:13,  4.82it/s]"
          ]
        },
        {
          "name": "stdout",
          "output_type": "stream",
          "text": [
            "Erro no offset 141400: 'data'\n"
          ]
        },
        {
          "name": "stderr",
          "output_type": "stream",
          "text": [
            "Baixando dados da Marvel:  96%|█████████▌| 1417/1481 [1:29:08<00:12,  5.17it/s]"
          ]
        },
        {
          "name": "stdout",
          "output_type": "stream",
          "text": [
            "Erro no offset 141500: 'data'\n",
            "Erro no offset 141600: 'data'\n"
          ]
        },
        {
          "name": "stderr",
          "output_type": "stream",
          "text": [
            "Baixando dados da Marvel:  96%|█████████▌| 1419/1481 [1:29:08<00:10,  5.66it/s]"
          ]
        },
        {
          "name": "stdout",
          "output_type": "stream",
          "text": [
            "Erro no offset 141700: 'data'\n",
            "Erro no offset 141800: 'data'\n"
          ]
        },
        {
          "name": "stderr",
          "output_type": "stream",
          "text": [
            "\rBaixando dados da Marvel:  96%|█████████▌| 1420/1481 [1:29:08<00:11,  5.38it/s]"
          ]
        },
        {
          "name": "stdout",
          "output_type": "stream",
          "text": [
            "Erro no offset 141900: 'data'\n"
          ]
        },
        {
          "name": "stderr",
          "output_type": "stream",
          "text": [
            "Baixando dados da Marvel:  96%|█████████▌| 1422/1481 [1:29:09<00:10,  5.47it/s]"
          ]
        },
        {
          "name": "stdout",
          "output_type": "stream",
          "text": [
            "Erro no offset 142000: 'data'\n",
            "Erro no offset 142100: 'data'\n"
          ]
        },
        {
          "name": "stderr",
          "output_type": "stream",
          "text": [
            "\rBaixando dados da Marvel:  96%|█████████▌| 1423/1481 [1:29:09<00:11,  5.27it/s]"
          ]
        },
        {
          "name": "stdout",
          "output_type": "stream",
          "text": [
            "Erro no offset 142200: 'data'\n"
          ]
        },
        {
          "name": "stderr",
          "output_type": "stream",
          "text": [
            "\rBaixando dados da Marvel:  96%|█████████▌| 1424/1481 [1:29:09<00:11,  5.15it/s]"
          ]
        },
        {
          "name": "stdout",
          "output_type": "stream",
          "text": [
            "Erro no offset 142300: 'data'\n"
          ]
        },
        {
          "name": "stderr",
          "output_type": "stream",
          "text": [
            "Baixando dados da Marvel:  96%|█████████▋| 1426/1481 [1:29:09<00:10,  5.32it/s]"
          ]
        },
        {
          "name": "stdout",
          "output_type": "stream",
          "text": [
            "Erro no offset 142400: 'data'\n",
            "Erro no offset 142500: 'data'\n"
          ]
        },
        {
          "name": "stderr",
          "output_type": "stream",
          "text": [
            "Baixando dados da Marvel:  96%|█████████▋| 1428/1481 [1:29:10<00:09,  5.68it/s]"
          ]
        },
        {
          "name": "stdout",
          "output_type": "stream",
          "text": [
            "Erro no offset 142600: 'data'\n",
            "Erro no offset 142700: 'data'\n"
          ]
        },
        {
          "name": "stderr",
          "output_type": "stream",
          "text": [
            "\rBaixando dados da Marvel:  96%|█████████▋| 1429/1481 [1:29:10<00:09,  5.40it/s]"
          ]
        },
        {
          "name": "stdout",
          "output_type": "stream",
          "text": [
            "Erro no offset 142800: 'data'\n"
          ]
        },
        {
          "name": "stderr",
          "output_type": "stream",
          "text": [
            "\rBaixando dados da Marvel:  97%|█████████▋| 1430/1481 [1:29:10<00:09,  5.23it/s]"
          ]
        },
        {
          "name": "stdout",
          "output_type": "stream",
          "text": [
            "Erro no offset 142900: 'data'\n"
          ]
        },
        {
          "name": "stderr",
          "output_type": "stream",
          "text": [
            "Baixando dados da Marvel:  97%|█████████▋| 1432/1481 [1:29:11<00:09,  5.38it/s]"
          ]
        },
        {
          "name": "stdout",
          "output_type": "stream",
          "text": [
            "Erro no offset 143000: 'data'\n",
            "Erro no offset 143100: 'data'\n"
          ]
        },
        {
          "name": "stderr",
          "output_type": "stream",
          "text": [
            "Baixando dados da Marvel:  97%|█████████▋| 1434/1481 [1:29:11<00:08,  5.46it/s]"
          ]
        },
        {
          "name": "stdout",
          "output_type": "stream",
          "text": [
            "Erro no offset 143200: 'data'\n",
            "Erro no offset 143300: 'data'\n"
          ]
        },
        {
          "name": "stderr",
          "output_type": "stream",
          "text": [
            "Baixando dados da Marvel:  97%|█████████▋| 1436/1481 [1:29:11<00:08,  5.51it/s]"
          ]
        },
        {
          "name": "stdout",
          "output_type": "stream",
          "text": [
            "Erro no offset 143400: 'data'\n",
            "Erro no offset 143500: 'data'\n"
          ]
        },
        {
          "name": "stderr",
          "output_type": "stream",
          "text": [
            "Baixando dados da Marvel:  97%|█████████▋| 1438/1481 [1:29:12<00:07,  5.81it/s]"
          ]
        },
        {
          "name": "stdout",
          "output_type": "stream",
          "text": [
            "Erro no offset 143600: 'data'\n",
            "Erro no offset 143700: 'data'\n"
          ]
        },
        {
          "name": "stderr",
          "output_type": "stream",
          "text": [
            "Baixando dados da Marvel:  97%|█████████▋| 1440/1481 [1:29:12<00:07,  5.63it/s]"
          ]
        },
        {
          "name": "stdout",
          "output_type": "stream",
          "text": [
            "Erro no offset 143800: 'data'\n",
            "Erro no offset 143900: 'data'\n"
          ]
        },
        {
          "name": "stderr",
          "output_type": "stream",
          "text": [
            "\rBaixando dados da Marvel:  97%|█████████▋| 1441/1481 [1:29:12<00:06,  5.79it/s]"
          ]
        },
        {
          "name": "stdout",
          "output_type": "stream",
          "text": [
            "Erro no offset 144000: 'data'\n"
          ]
        },
        {
          "name": "stderr",
          "output_type": "stream",
          "text": [
            "\rBaixando dados da Marvel:  97%|█████████▋| 1442/1481 [1:29:12<00:07,  5.50it/s]"
          ]
        },
        {
          "name": "stdout",
          "output_type": "stream",
          "text": [
            "Erro no offset 144100: 'data'\n"
          ]
        },
        {
          "name": "stderr",
          "output_type": "stream",
          "text": [
            "Baixando dados da Marvel:  98%|█████████▊| 1444/1481 [1:29:13<00:06,  5.51it/s]"
          ]
        },
        {
          "name": "stdout",
          "output_type": "stream",
          "text": [
            "Erro no offset 144200: 'data'\n",
            "Erro no offset 144300: 'data'\n"
          ]
        },
        {
          "name": "stderr",
          "output_type": "stream",
          "text": [
            "\rBaixando dados da Marvel:  98%|█████████▊| 1445/1481 [1:29:13<00:06,  5.30it/s]"
          ]
        },
        {
          "name": "stdout",
          "output_type": "stream",
          "text": [
            "Erro no offset 144400: 'data'\n"
          ]
        },
        {
          "name": "stderr",
          "output_type": "stream",
          "text": [
            "Baixando dados da Marvel:  98%|█████████▊| 1447/1481 [1:29:13<00:06,  5.47it/s]"
          ]
        },
        {
          "name": "stdout",
          "output_type": "stream",
          "text": [
            "Erro no offset 144500: 'data'\n",
            "Erro no offset 144600: 'data'\n"
          ]
        },
        {
          "name": "stderr",
          "output_type": "stream",
          "text": [
            "Baixando dados da Marvel:  98%|█████████▊| 1449/1481 [1:29:14<00:05,  5.51it/s]"
          ]
        },
        {
          "name": "stdout",
          "output_type": "stream",
          "text": [
            "Erro no offset 144700: 'data'\n",
            "Erro no offset 144800: 'data'\n"
          ]
        },
        {
          "name": "stderr",
          "output_type": "stream",
          "text": [
            "Baixando dados da Marvel:  98%|█████████▊| 1451/1481 [1:29:14<00:05,  5.51it/s]"
          ]
        },
        {
          "name": "stdout",
          "output_type": "stream",
          "text": [
            "Erro no offset 144900: 'data'\n",
            "Erro no offset 145000: 'data'\n"
          ]
        },
        {
          "name": "stderr",
          "output_type": "stream",
          "text": [
            "\rBaixando dados da Marvel:  98%|█████████▊| 1452/1481 [1:29:14<00:05,  5.28it/s]"
          ]
        },
        {
          "name": "stdout",
          "output_type": "stream",
          "text": [
            "Erro no offset 145100: 'data'\n"
          ]
        },
        {
          "name": "stderr",
          "output_type": "stream",
          "text": [
            "Baixando dados da Marvel:  98%|█████████▊| 1454/1481 [1:29:15<00:05,  5.38it/s]"
          ]
        },
        {
          "name": "stdout",
          "output_type": "stream",
          "text": [
            "Erro no offset 145200: 'data'\n",
            "Erro no offset 145300: 'data'\n"
          ]
        },
        {
          "name": "stderr",
          "output_type": "stream",
          "text": [
            "Baixando dados da Marvel:  98%|█████████▊| 1456/1481 [1:29:15<00:04,  5.50it/s]"
          ]
        },
        {
          "name": "stdout",
          "output_type": "stream",
          "text": [
            "Erro no offset 145400: 'data'\n",
            "Erro no offset 145500: 'data'\n"
          ]
        },
        {
          "name": "stderr",
          "output_type": "stream",
          "text": [
            "\rBaixando dados da Marvel:  98%|█████████▊| 1457/1481 [1:29:15<00:04,  5.68it/s]"
          ]
        },
        {
          "name": "stdout",
          "output_type": "stream",
          "text": [
            "Erro no offset 145600: 'data'\n"
          ]
        },
        {
          "name": "stderr",
          "output_type": "stream",
          "text": [
            "Baixando dados da Marvel:  99%|█████████▊| 1459/1481 [1:29:16<00:03,  5.61it/s]"
          ]
        },
        {
          "name": "stdout",
          "output_type": "stream",
          "text": [
            "Erro no offset 145700: 'data'\n",
            "Erro no offset 145800: 'data'\n"
          ]
        },
        {
          "name": "stderr",
          "output_type": "stream",
          "text": [
            "\rBaixando dados da Marvel:  99%|█████████▊| 1460/1481 [1:29:16<00:03,  5.35it/s]"
          ]
        },
        {
          "name": "stdout",
          "output_type": "stream",
          "text": [
            "Erro no offset 145900: 'data'\n"
          ]
        },
        {
          "name": "stderr",
          "output_type": "stream",
          "text": [
            "Baixando dados da Marvel:  99%|█████████▊| 1462/1481 [1:29:16<00:03,  5.35it/s]"
          ]
        },
        {
          "name": "stdout",
          "output_type": "stream",
          "text": [
            "Erro no offset 146000: 'data'\n",
            "Erro no offset 146100: 'data'\n"
          ]
        },
        {
          "name": "stderr",
          "output_type": "stream",
          "text": [
            "\rBaixando dados da Marvel:  99%|█████████▉| 1463/1481 [1:29:16<00:03,  5.58it/s]"
          ]
        },
        {
          "name": "stdout",
          "output_type": "stream",
          "text": [
            "Erro no offset 146200: 'data'\n"
          ]
        },
        {
          "name": "stderr",
          "output_type": "stream",
          "text": [
            "\rBaixando dados da Marvel:  99%|█████████▉| 1464/1481 [1:29:16<00:03,  5.36it/s]"
          ]
        },
        {
          "name": "stdout",
          "output_type": "stream",
          "text": [
            "Erro no offset 146300: 'data'\n"
          ]
        },
        {
          "name": "stderr",
          "output_type": "stream",
          "text": [
            "Baixando dados da Marvel:  99%|█████████▉| 1466/1481 [1:29:17<00:02,  5.42it/s]"
          ]
        },
        {
          "name": "stdout",
          "output_type": "stream",
          "text": [
            "Erro no offset 146400: 'data'\n",
            "Erro no offset 146500: 'data'\n"
          ]
        },
        {
          "name": "stderr",
          "output_type": "stream",
          "text": [
            "\rBaixando dados da Marvel:  99%|█████████▉| 1467/1481 [1:29:17<00:02,  5.66it/s]"
          ]
        },
        {
          "name": "stdout",
          "output_type": "stream",
          "text": [
            "Erro no offset 146600: 'data'\n"
          ]
        },
        {
          "name": "stderr",
          "output_type": "stream",
          "text": [
            "Baixando dados da Marvel:  99%|█████████▉| 1469/1481 [1:29:17<00:02,  5.60it/s]"
          ]
        },
        {
          "name": "stdout",
          "output_type": "stream",
          "text": [
            "Erro no offset 146700: 'data'\n",
            "Erro no offset 146800: 'data'\n"
          ]
        },
        {
          "name": "stderr",
          "output_type": "stream",
          "text": [
            "\rBaixando dados da Marvel:  99%|█████████▉| 1470/1481 [1:29:18<00:01,  5.66it/s]"
          ]
        },
        {
          "name": "stdout",
          "output_type": "stream",
          "text": [
            "Erro no offset 146900: 'data'\n"
          ]
        },
        {
          "name": "stderr",
          "output_type": "stream",
          "text": [
            "Baixando dados da Marvel:  99%|█████████▉| 1472/1481 [1:29:18<00:01,  5.55it/s]"
          ]
        },
        {
          "name": "stdout",
          "output_type": "stream",
          "text": [
            "Erro no offset 147000: 'data'\n",
            "Erro no offset 147100: 'data'\n"
          ]
        },
        {
          "name": "stderr",
          "output_type": "stream",
          "text": [
            "Baixando dados da Marvel: 100%|█████████▉| 1474/1481 [1:29:18<00:01,  5.56it/s]"
          ]
        },
        {
          "name": "stdout",
          "output_type": "stream",
          "text": [
            "Erro no offset 147200: 'data'\n",
            "Erro no offset 147300: 'data'\n"
          ]
        },
        {
          "name": "stderr",
          "output_type": "stream",
          "text": [
            "Baixando dados da Marvel: 100%|█████████▉| 1476/1481 [1:29:19<00:00,  5.55it/s]"
          ]
        },
        {
          "name": "stdout",
          "output_type": "stream",
          "text": [
            "Erro no offset 147400: 'data'\n",
            "Erro no offset 147500: 'data'\n"
          ]
        },
        {
          "name": "stderr",
          "output_type": "stream",
          "text": [
            "\rBaixando dados da Marvel: 100%|█████████▉| 1477/1481 [1:29:19<00:00,  5.71it/s]"
          ]
        },
        {
          "name": "stdout",
          "output_type": "stream",
          "text": [
            "Erro no offset 147600: 'data'\n"
          ]
        },
        {
          "name": "stderr",
          "output_type": "stream",
          "text": [
            "\rBaixando dados da Marvel: 100%|█████████▉| 1478/1481 [1:29:19<00:00,  5.40it/s]"
          ]
        },
        {
          "name": "stdout",
          "output_type": "stream",
          "text": [
            "Erro no offset 147700: 'data'\n"
          ]
        },
        {
          "name": "stderr",
          "output_type": "stream",
          "text": [
            "\rBaixando dados da Marvel: 100%|█████████▉| 1479/1481 [1:29:19<00:00,  5.22it/s]"
          ]
        },
        {
          "name": "stdout",
          "output_type": "stream",
          "text": [
            "Erro no offset 147800: 'data'\n"
          ]
        },
        {
          "name": "stderr",
          "output_type": "stream",
          "text": [
            "\rBaixando dados da Marvel: 100%|█████████▉| 1480/1481 [1:29:19<00:00,  5.07it/s]"
          ]
        },
        {
          "name": "stdout",
          "output_type": "stream",
          "text": [
            "Erro no offset 147900: 'data'\n"
          ]
        },
        {
          "name": "stderr",
          "output_type": "stream",
          "text": [
            "Baixando dados da Marvel: 100%|██████████| 1481/1481 [1:29:20<00:00,  3.62s/it]"
          ]
        },
        {
          "name": "stdout",
          "output_type": "stream",
          "text": [
            "Erro no offset 148000: 'data'\n"
          ]
        },
        {
          "name": "stderr",
          "output_type": "stream",
          "text": [
            "\n"
          ]
        }
      ],
      "source": [
        "todos_stories = get_all_data_faster(stories)\n",
        "todos_stories.to_csv(\"TodosStories.csv\")"
      ]
    },
    {
      "cell_type": "markdown",
      "metadata": {
        "id": "V8UAEPSVNyvp"
      },
      "source": [
        "## GET ALL SERIES"
      ]
    },
    {
      "cell_type": "code",
      "execution_count": null,
      "metadata": {
        "colab": {
          "base_uri": "https://localhost:8080/"
        },
        "id": "jVFERjifN1XW",
        "outputId": "5962aeeb-a246-47ae-af47-248b81e55367"
      },
      "outputs": [
        {
          "name": "stderr",
          "output_type": "stream",
          "text": [
            "Baixando dados da Marvel: 100%|██████████| 158/158 [04:26<00:00,  1.69s/it]\n"
          ]
        }
      ],
      "source": [
        "todos_series = get_all_data(series)\n",
        "todos_series.to_csv(\"TodosSeries.csv\")"
      ]
    },
    {
      "cell_type": "markdown",
      "source": [
        "# GET SPECIFIC STORIES"
      ],
      "metadata": {
        "id": "ZDzr099-RXr9"
      }
    },
    {
      "cell_type": "code",
      "source": [
        "def get_all_data_specific(url, id, specific_path):\n",
        "  '''\n",
        "  url: link de requisição da API\n",
        "  return: retorna todos os dados da API inserida\n",
        "  '''\n",
        "\n",
        "  partial_data, total_amount = get_data_and_total(f\"{url}/{id}/{specific_path}\", public_key, private_key, 100, 0)\n",
        "  #Cria df de todos os dados com colunas\n",
        "  all_data = pd.DataFrame(columns=partial_data.columns)\n",
        "\n",
        "  step = 100\n",
        "  total_steps = (total_amount + step - 1) // step\n",
        "\n",
        "  offset_get_all = 0\n",
        "\n",
        "\n",
        "  for offset in tqdm(range(0, total_steps * step, step), desc=\"Baixando dados da Marvel\"):\n",
        "\n",
        "    try:\n",
        "      batch_data = get_data(f\"{url}/{id}/{specific_path}\", public_key, private_key, step, offset)\n",
        "      all_data = pd.concat([all_data, batch_data], ignore_index=True)\n",
        "    except KeyError:\n",
        "      pass\n",
        "\n",
        "  return all_data\n"
      ],
      "metadata": {
        "id": "F4NLX-vRIQoL"
      },
      "execution_count": 58,
      "outputs": []
    },
    {
      "cell_type": "code",
      "source": [
        "def get_specific(url, id, public_key, private_key, limit_num, offset_num, specific_path):\n",
        "  '''\n",
        "  url: link de requisição da API\n",
        "  public_key: chave pública gerada pela API da marvel\n",
        "  private_key: chave privada gerada pela API da marvel\n",
        "  limit_num: quantidade de linhas que serão pegas ao realizar requisição\n",
        "  offset_num: disposição em relação a posição inicial\n",
        "\n",
        "  return: df_normalizado: Dataframe somente com dados necessários da API\n",
        "  '''\n",
        "\n",
        "\n",
        "  ts = str(time.time())\n",
        "  to_hash = ts + str(private_key) + str(public_key)\n",
        "  hash_md5 = hashlib.md5(to_hash.encode('utf-8')).hexdigest()\n",
        "\n",
        "  params = {\n",
        "    \"ts\": ts,\n",
        "    \"apikey\": public_key,\n",
        "    \"hash\": hash_md5,\n",
        "    \"limit\": limit_num,\n",
        "    \"offset\": offset_num\n",
        "  }\n",
        "\n",
        "  response = requests.get(f\"{url}/{id}/{specific_path}\", params=params)\n",
        "  data = response.json()\n",
        "  print(data)\n",
        "  df_normalizado = pd.json_normalize(data[\"data\"][\"results\"])\n",
        "\n",
        "\n",
        "\n",
        "  return df_normalizado"
      ],
      "metadata": {
        "id": "VjFW2d2JRZRx"
      },
      "execution_count": 21,
      "outputs": []
    },
    {
      "cell_type": "code",
      "source": [
        "def get_data_and_total_specific(url, public_key, private_key, limit_num, offset_num, id, specific_path):\n",
        "  '''\n",
        "  url: link de requisição da API\n",
        "  public_key: chave pública gerada pela API da marvel\n",
        "  private_key: chave privada gerada pela API da marvel\n",
        "  limit_num: quantidade de linhas que serão pegas ao realizar requisição\n",
        "  offset_num: disposição em relação a posição inicial\n",
        "\n",
        "  return: df_normalizado: Dataframe somente com dados necessários da API\n",
        "  df[\"data\"][\"total\"]: quantidade total de linhas na API\n",
        "  '''\n",
        "\n",
        "  ts = str(time.time())\n",
        "  to_hash = ts + str(private_key) + str(public_key)\n",
        "  hash_md5 = hashlib.md5(to_hash.encode('utf-8')).hexdigest()\n",
        "\n",
        "  params = {\n",
        "    \"ts\": ts,\n",
        "    \"apikey\": public_key,\n",
        "    \"hash\": hash_md5,\n",
        "    \"limit\": limit_num,\n",
        "    \"offset\": offset_num\n",
        "  }\n",
        "\n",
        "  response = requests.get(f\"{url}/{id}/{specific_path}\", params=params)\n",
        "  print(f\"response url: {response.url}\")\n",
        "  data = response.json()\n",
        "\n",
        "  df = pd.DataFrame(data)\n",
        "  df_normalizado = pd.json_normalize(df[\"data\"][\"results\"])\n",
        "  return df_normalizado, df[\"data\"][\"total\"]"
      ],
      "metadata": {
        "id": "an6S68sWEnJg"
      },
      "execution_count": 35,
      "outputs": []
    },
    {
      "cell_type": "code",
      "source": [
        "def get_all_data_faster_specific(url, public_key, private_key, limit_num, offset_num, id, specific_path):\n",
        "  '''\n",
        "  url: link de requisição da API\n",
        "  return: retorna todos os dados da API inserida\n",
        "  '''\n",
        "\n",
        "  partial_data, total_amount = get_data_and_total_specific(url, public_key, private_key, 100, 0, id, specific_path)\n",
        "  print(total_amount)\n",
        "  #Cria df de todos os dados com colunas\n",
        "  all_data = pd.DataFrame(columns=partial_data.columns)\n",
        "\n",
        "  step = 100\n",
        "  total_steps = (total_amount + step - 1) // step\n",
        "\n",
        "  offset_get_all = 0\n",
        "\n",
        "  all_batch = []\n",
        "\n",
        "  for offset in tqdm(range(0, total_steps * step, step), desc=\"Baixando dados da Marvel\"):\n",
        "\n",
        "    try:\n",
        "      batch_data = get_specific(url, public_key, private_key, step, offset, id, specific_path)\n",
        "      all_batch.append(batch_data)\n",
        "    except (KeyError, TypeError, ValueError) as e:\n",
        "      print(f\"Erro no offset {offset}: {e}\")\n",
        "      all_batch.append(pd.DataFrame())\n",
        "\n",
        "  if len(all_batch) == 0:\n",
        "    return pd.DataFrame()\n",
        "  else:\n",
        "    all_data = pd.concat(all_batch, ignore_index=True)\n",
        "    return all_data\n"
      ],
      "metadata": {
        "id": "7sLnJVYFDyjP"
      },
      "execution_count": 32,
      "outputs": []
    },
    {
      "cell_type": "code",
      "source": [
        "specific_story = \"https://gateway.marvel.com/v1/public/creators\"\n",
        "#df = get_stories(specific_story, 1680, public_key, private_key, 100, 0)"
      ],
      "metadata": {
        "id": "aO1kX0LwTtEE"
      },
      "execution_count": 29,
      "outputs": []
    },
    {
      "cell_type": "code",
      "source": [
        "df = pd.DataFrame()\n",
        "len(df)"
      ],
      "metadata": {
        "colab": {
          "base_uri": "https://localhost:8080/"
        },
        "id": "1s9DeshKuCm5",
        "outputId": "007aadf0-f301-45c2-9751-b4ec1f80533d"
      },
      "execution_count": 30,
      "outputs": [
        {
          "output_type": "execute_result",
          "data": {
            "text/plain": [
              "0"
            ]
          },
          "metadata": {},
          "execution_count": 30
        }
      ]
    },
    {
      "cell_type": "code",
      "source": [
        "id = 726"
      ],
      "metadata": {
        "id": "7pJSJni3Fkm7"
      },
      "execution_count": 48,
      "outputs": []
    },
    {
      "cell_type": "code",
      "source": [
        "partial_data, total_amount = get_data_and_total_specific(specific_story, public_key, private_key, 100, 0, id, \"comics\")"
      ],
      "metadata": {
        "colab": {
          "base_uri": "https://localhost:8080/"
        },
        "id": "7u3sO6XYFNJD",
        "outputId": "8fee21c4-a5a7-44de-8a91-6d68b3741d7b"
      },
      "execution_count": 49,
      "outputs": [
        {
          "output_type": "stream",
          "name": "stdout",
          "text": [
            "response url: https://gateway.marvel.com/v1/public/creators/726/comics?ts=1747835392.8425288&apikey=8ed993fa80600a97b969f62b58729d0c&hash=4f4870800a7a9a381e91a5cd4a46a6f1&limit=100&offset=0\n"
          ]
        }
      ]
    },
    {
      "cell_type": "code",
      "source": [
        "partial_data"
      ],
      "metadata": {
        "id": "308mtEv5F00m"
      },
      "execution_count": null,
      "outputs": []
    },
    {
      "cell_type": "code",
      "source": [
        "list_of_ids = [5282,  955,  726, 3791, 3645, 1290, 3112, 3403, 2848, 4210, 5161,  451,\n",
        "       2998, 2941, 5160, 4513, 1462, 1362, 3196,  515, 1680,  799,  208, 1669,\n",
        "       1502]\n",
        "\n",
        "i = 0\n",
        "for item in list_of_ids:\n",
        "  df = get_all_data_faster_specific(specific_story, public_key, private_key, 100, 0, item, \"comics\")\n",
        "  if len(df) == 0:\n",
        "    i += 1\n",
        "    continue\n",
        "  else:\n",
        "    i += 1\n",
        "    break\n",
        "\n",
        "for item in list_of_ids[i:]:\n",
        "  df = get_all_data_faster_specific(specific_story, public_key, private_key, 100, 0, item, \"comics\")\n",
        "  if len(df) == 0:\n",
        "    continue\n",
        "  else:\n",
        "    df = pd.concat(df, ignore_index=True)"
      ],
      "metadata": {
        "id": "wZ_HX0s0UEbK"
      },
      "execution_count": null,
      "outputs": []
    },
    {
      "cell_type": "code",
      "source": [
        "df2= get_all_data_specific(specific_story, 14311, \"comics\")"
      ],
      "metadata": {
        "colab": {
          "base_uri": "https://localhost:8080/"
        },
        "id": "Axh__z8OIrb6",
        "outputId": "46e4cab3-4c04-4f6e-e974-830d93690362"
      },
      "execution_count": 89,
      "outputs": [
        {
          "output_type": "stream",
          "name": "stderr",
          "text": [
            "Baixando dados da Marvel: 100%|██████████| 11/11 [00:15<00:00,  1.39s/it]\n"
          ]
        }
      ]
    },
    {
      "cell_type": "code",
      "source": [
        "df2.head()"
      ],
      "metadata": {
        "colab": {
          "base_uri": "https://localhost:8080/",
          "height": 637
        },
        "id": "RWtYcx-fLHRM",
        "outputId": "d0b00f05-72bd-445d-fa68-5d9aa6d9231d"
      },
      "execution_count": 75,
      "outputs": [
        {
          "output_type": "execute_result",
          "data": {
            "text/plain": [
              "       id digitalId                                              title  \\\n",
              "0  116255         0  DARKHOLD: THE SAGA OF THE BOOK OF SINS (Trade ...   \n",
              "1  104954         0  Marvel Masterworks: Werewolf By Night Vol. 2 (...   \n",
              "2  108829         0            The Avengers Omnibus Vol. 5 (Hardcover)   \n",
              "3   97227     60611  Marvel Masterworks: The Tomb Of Dracula Vol. 2...   \n",
              "4   97231     60240  Marvel Masterworks: Werewolf By Night Vol. 1 (...   \n",
              "\n",
              "  issueNumber variantDescription  \\\n",
              "0           1                      \n",
              "1           0                      \n",
              "2           0                      \n",
              "3           0                      \n",
              "4           0                      \n",
              "\n",
              "                                         description  \\\n",
              "0  Collects Marvel Spotlight (1971) #4, Werewolf ...   \n",
              "1  Collects Werewolf by Night (1972) #9-21, Tomb ...   \n",
              "2  Collects Avengers (1963) #120-149, Giant-Size ...   \n",
              "3  Collects Tomb of Dracula (1972) #12-22, Werewo...   \n",
              "4  Collects Marvel Spotlight (1971) #2-4, Werewol...   \n",
              "\n",
              "                   modified               isbn upc diamondCode  ...  \\\n",
              "0  2024-07-25T04:12:57+0000  978-1-302-96023-0                  ...   \n",
              "1  2023-11-14T09:35:32+0000  978-1-302-94948-8                  ...   \n",
              "2  2023-09-22T12:07:14+0000  978-1-302-95411-6                  ...   \n",
              "3  2022-11-14T09:39:01+0000  978-1-302-93342-5                  ...   \n",
              "4  2022-09-27T13:14:38+0000  978-1-302-93346-3                  ...   \n",
              "\n",
              "                                    characters.items characters.returned  \\\n",
              "0                                                 []                   0   \n",
              "1                                                 []                   0   \n",
              "2  [{'resourceURI': 'https://gateway.marvel.com/v...                   1   \n",
              "3  [{'resourceURI': 'https://gateway.marvel.com/v...                   1   \n",
              "4                                                 []                   0   \n",
              "\n",
              "  stories.available                              stories.collectionURI  \\\n",
              "0                 2  https://gateway.marvel.com/v1/public/comics/11...   \n",
              "1                 2  https://gateway.marvel.com/v1/public/comics/10...   \n",
              "2                 2  https://gateway.marvel.com/v1/public/comics/10...   \n",
              "3                 2  https://gateway.marvel.com/v1/public/comics/97...   \n",
              "4                 2  https://gateway.marvel.com/v1/public/comics/97...   \n",
              "\n",
              "                                       stories.items stories.returned  \\\n",
              "0  [{'resourceURI': 'https://gateway.marvel.com/v...                2   \n",
              "1  [{'resourceURI': 'https://gateway.marvel.com/v...                2   \n",
              "2  [{'resourceURI': 'https://gateway.marvel.com/v...                2   \n",
              "3  [{'resourceURI': 'https://gateway.marvel.com/v...                2   \n",
              "4  [{'resourceURI': 'https://gateway.marvel.com/v...                2   \n",
              "\n",
              "  events.available                               events.collectionURI  \\\n",
              "0                0  https://gateway.marvel.com/v1/public/comics/11...   \n",
              "1                0  https://gateway.marvel.com/v1/public/comics/10...   \n",
              "2                0  https://gateway.marvel.com/v1/public/comics/10...   \n",
              "3                0  https://gateway.marvel.com/v1/public/comics/97...   \n",
              "4                0  https://gateway.marvel.com/v1/public/comics/97...   \n",
              "\n",
              "  events.items events.returned  \n",
              "0           []               0  \n",
              "1           []               0  \n",
              "2           []               0  \n",
              "3           []               0  \n",
              "4           []               0  \n",
              "\n",
              "[5 rows x 43 columns]"
            ],
            "text/html": [
              "\n",
              "  <div id=\"df-c40b2d9c-b782-492d-b2f7-d7e39b7e5abb\" class=\"colab-df-container\">\n",
              "    <div>\n",
              "<style scoped>\n",
              "    .dataframe tbody tr th:only-of-type {\n",
              "        vertical-align: middle;\n",
              "    }\n",
              "\n",
              "    .dataframe tbody tr th {\n",
              "        vertical-align: top;\n",
              "    }\n",
              "\n",
              "    .dataframe thead th {\n",
              "        text-align: right;\n",
              "    }\n",
              "</style>\n",
              "<table border=\"1\" class=\"dataframe\">\n",
              "  <thead>\n",
              "    <tr style=\"text-align: right;\">\n",
              "      <th></th>\n",
              "      <th>id</th>\n",
              "      <th>digitalId</th>\n",
              "      <th>title</th>\n",
              "      <th>issueNumber</th>\n",
              "      <th>variantDescription</th>\n",
              "      <th>description</th>\n",
              "      <th>modified</th>\n",
              "      <th>isbn</th>\n",
              "      <th>upc</th>\n",
              "      <th>diamondCode</th>\n",
              "      <th>...</th>\n",
              "      <th>characters.items</th>\n",
              "      <th>characters.returned</th>\n",
              "      <th>stories.available</th>\n",
              "      <th>stories.collectionURI</th>\n",
              "      <th>stories.items</th>\n",
              "      <th>stories.returned</th>\n",
              "      <th>events.available</th>\n",
              "      <th>events.collectionURI</th>\n",
              "      <th>events.items</th>\n",
              "      <th>events.returned</th>\n",
              "    </tr>\n",
              "  </thead>\n",
              "  <tbody>\n",
              "    <tr>\n",
              "      <th>0</th>\n",
              "      <td>116255</td>\n",
              "      <td>0</td>\n",
              "      <td>DARKHOLD: THE SAGA OF THE BOOK OF SINS (Trade ...</td>\n",
              "      <td>1</td>\n",
              "      <td></td>\n",
              "      <td>Collects Marvel Spotlight (1971) #4, Werewolf ...</td>\n",
              "      <td>2024-07-25T04:12:57+0000</td>\n",
              "      <td>978-1-302-96023-0</td>\n",
              "      <td></td>\n",
              "      <td></td>\n",
              "      <td>...</td>\n",
              "      <td>[]</td>\n",
              "      <td>0</td>\n",
              "      <td>2</td>\n",
              "      <td>https://gateway.marvel.com/v1/public/comics/11...</td>\n",
              "      <td>[{'resourceURI': 'https://gateway.marvel.com/v...</td>\n",
              "      <td>2</td>\n",
              "      <td>0</td>\n",
              "      <td>https://gateway.marvel.com/v1/public/comics/11...</td>\n",
              "      <td>[]</td>\n",
              "      <td>0</td>\n",
              "    </tr>\n",
              "    <tr>\n",
              "      <th>1</th>\n",
              "      <td>104954</td>\n",
              "      <td>0</td>\n",
              "      <td>Marvel Masterworks: Werewolf By Night Vol. 2 (...</td>\n",
              "      <td>0</td>\n",
              "      <td></td>\n",
              "      <td>Collects Werewolf by Night (1972) #9-21, Tomb ...</td>\n",
              "      <td>2023-11-14T09:35:32+0000</td>\n",
              "      <td>978-1-302-94948-8</td>\n",
              "      <td></td>\n",
              "      <td></td>\n",
              "      <td>...</td>\n",
              "      <td>[]</td>\n",
              "      <td>0</td>\n",
              "      <td>2</td>\n",
              "      <td>https://gateway.marvel.com/v1/public/comics/10...</td>\n",
              "      <td>[{'resourceURI': 'https://gateway.marvel.com/v...</td>\n",
              "      <td>2</td>\n",
              "      <td>0</td>\n",
              "      <td>https://gateway.marvel.com/v1/public/comics/10...</td>\n",
              "      <td>[]</td>\n",
              "      <td>0</td>\n",
              "    </tr>\n",
              "    <tr>\n",
              "      <th>2</th>\n",
              "      <td>108829</td>\n",
              "      <td>0</td>\n",
              "      <td>The Avengers Omnibus Vol. 5 (Hardcover)</td>\n",
              "      <td>0</td>\n",
              "      <td></td>\n",
              "      <td>Collects Avengers (1963) #120-149, Giant-Size ...</td>\n",
              "      <td>2023-09-22T12:07:14+0000</td>\n",
              "      <td>978-1-302-95411-6</td>\n",
              "      <td></td>\n",
              "      <td></td>\n",
              "      <td>...</td>\n",
              "      <td>[{'resourceURI': 'https://gateway.marvel.com/v...</td>\n",
              "      <td>1</td>\n",
              "      <td>2</td>\n",
              "      <td>https://gateway.marvel.com/v1/public/comics/10...</td>\n",
              "      <td>[{'resourceURI': 'https://gateway.marvel.com/v...</td>\n",
              "      <td>2</td>\n",
              "      <td>0</td>\n",
              "      <td>https://gateway.marvel.com/v1/public/comics/10...</td>\n",
              "      <td>[]</td>\n",
              "      <td>0</td>\n",
              "    </tr>\n",
              "    <tr>\n",
              "      <th>3</th>\n",
              "      <td>97227</td>\n",
              "      <td>60611</td>\n",
              "      <td>Marvel Masterworks: The Tomb Of Dracula Vol. 2...</td>\n",
              "      <td>0</td>\n",
              "      <td></td>\n",
              "      <td>Collects Tomb of Dracula (1972) #12-22, Werewo...</td>\n",
              "      <td>2022-11-14T09:39:01+0000</td>\n",
              "      <td>978-1-302-93342-5</td>\n",
              "      <td></td>\n",
              "      <td></td>\n",
              "      <td>...</td>\n",
              "      <td>[{'resourceURI': 'https://gateway.marvel.com/v...</td>\n",
              "      <td>1</td>\n",
              "      <td>2</td>\n",
              "      <td>https://gateway.marvel.com/v1/public/comics/97...</td>\n",
              "      <td>[{'resourceURI': 'https://gateway.marvel.com/v...</td>\n",
              "      <td>2</td>\n",
              "      <td>0</td>\n",
              "      <td>https://gateway.marvel.com/v1/public/comics/97...</td>\n",
              "      <td>[]</td>\n",
              "      <td>0</td>\n",
              "    </tr>\n",
              "    <tr>\n",
              "      <th>4</th>\n",
              "      <td>97231</td>\n",
              "      <td>60240</td>\n",
              "      <td>Marvel Masterworks: Werewolf By Night Vol. 1 (...</td>\n",
              "      <td>0</td>\n",
              "      <td></td>\n",
              "      <td>Collects Marvel Spotlight (1971) #2-4, Werewol...</td>\n",
              "      <td>2022-09-27T13:14:38+0000</td>\n",
              "      <td>978-1-302-93346-3</td>\n",
              "      <td></td>\n",
              "      <td></td>\n",
              "      <td>...</td>\n",
              "      <td>[]</td>\n",
              "      <td>0</td>\n",
              "      <td>2</td>\n",
              "      <td>https://gateway.marvel.com/v1/public/comics/97...</td>\n",
              "      <td>[{'resourceURI': 'https://gateway.marvel.com/v...</td>\n",
              "      <td>2</td>\n",
              "      <td>0</td>\n",
              "      <td>https://gateway.marvel.com/v1/public/comics/97...</td>\n",
              "      <td>[]</td>\n",
              "      <td>0</td>\n",
              "    </tr>\n",
              "  </tbody>\n",
              "</table>\n",
              "<p>5 rows × 43 columns</p>\n",
              "</div>\n",
              "    <div class=\"colab-df-buttons\">\n",
              "\n",
              "  <div class=\"colab-df-container\">\n",
              "    <button class=\"colab-df-convert\" onclick=\"convertToInteractive('df-c40b2d9c-b782-492d-b2f7-d7e39b7e5abb')\"\n",
              "            title=\"Convert this dataframe to an interactive table.\"\n",
              "            style=\"display:none;\">\n",
              "\n",
              "  <svg xmlns=\"http://www.w3.org/2000/svg\" height=\"24px\" viewBox=\"0 -960 960 960\">\n",
              "    <path d=\"M120-120v-720h720v720H120Zm60-500h600v-160H180v160Zm220 220h160v-160H400v160Zm0 220h160v-160H400v160ZM180-400h160v-160H180v160Zm440 0h160v-160H620v160ZM180-180h160v-160H180v160Zm440 0h160v-160H620v160Z\"/>\n",
              "  </svg>\n",
              "    </button>\n",
              "\n",
              "  <style>\n",
              "    .colab-df-container {\n",
              "      display:flex;\n",
              "      gap: 12px;\n",
              "    }\n",
              "\n",
              "    .colab-df-convert {\n",
              "      background-color: #E8F0FE;\n",
              "      border: none;\n",
              "      border-radius: 50%;\n",
              "      cursor: pointer;\n",
              "      display: none;\n",
              "      fill: #1967D2;\n",
              "      height: 32px;\n",
              "      padding: 0 0 0 0;\n",
              "      width: 32px;\n",
              "    }\n",
              "\n",
              "    .colab-df-convert:hover {\n",
              "      background-color: #E2EBFA;\n",
              "      box-shadow: 0px 1px 2px rgba(60, 64, 67, 0.3), 0px 1px 3px 1px rgba(60, 64, 67, 0.15);\n",
              "      fill: #174EA6;\n",
              "    }\n",
              "\n",
              "    .colab-df-buttons div {\n",
              "      margin-bottom: 4px;\n",
              "    }\n",
              "\n",
              "    [theme=dark] .colab-df-convert {\n",
              "      background-color: #3B4455;\n",
              "      fill: #D2E3FC;\n",
              "    }\n",
              "\n",
              "    [theme=dark] .colab-df-convert:hover {\n",
              "      background-color: #434B5C;\n",
              "      box-shadow: 0px 1px 3px 1px rgba(0, 0, 0, 0.15);\n",
              "      filter: drop-shadow(0px 1px 2px rgba(0, 0, 0, 0.3));\n",
              "      fill: #FFFFFF;\n",
              "    }\n",
              "  </style>\n",
              "\n",
              "    <script>\n",
              "      const buttonEl =\n",
              "        document.querySelector('#df-c40b2d9c-b782-492d-b2f7-d7e39b7e5abb button.colab-df-convert');\n",
              "      buttonEl.style.display =\n",
              "        google.colab.kernel.accessAllowed ? 'block' : 'none';\n",
              "\n",
              "      async function convertToInteractive(key) {\n",
              "        const element = document.querySelector('#df-c40b2d9c-b782-492d-b2f7-d7e39b7e5abb');\n",
              "        const dataTable =\n",
              "          await google.colab.kernel.invokeFunction('convertToInteractive',\n",
              "                                                    [key], {});\n",
              "        if (!dataTable) return;\n",
              "\n",
              "        const docLinkHtml = 'Like what you see? Visit the ' +\n",
              "          '<a target=\"_blank\" href=https://colab.research.google.com/notebooks/data_table.ipynb>data table notebook</a>'\n",
              "          + ' to learn more about interactive tables.';\n",
              "        element.innerHTML = '';\n",
              "        dataTable['output_type'] = 'display_data';\n",
              "        await google.colab.output.renderOutput(dataTable, element);\n",
              "        const docLink = document.createElement('div');\n",
              "        docLink.innerHTML = docLinkHtml;\n",
              "        element.appendChild(docLink);\n",
              "      }\n",
              "    </script>\n",
              "  </div>\n",
              "\n",
              "\n",
              "    <div id=\"df-6ee75460-cd3d-4dd6-aa58-6b37e8b6e9e1\">\n",
              "      <button class=\"colab-df-quickchart\" onclick=\"quickchart('df-6ee75460-cd3d-4dd6-aa58-6b37e8b6e9e1')\"\n",
              "                title=\"Suggest charts\"\n",
              "                style=\"display:none;\">\n",
              "\n",
              "<svg xmlns=\"http://www.w3.org/2000/svg\" height=\"24px\"viewBox=\"0 0 24 24\"\n",
              "     width=\"24px\">\n",
              "    <g>\n",
              "        <path d=\"M19 3H5c-1.1 0-2 .9-2 2v14c0 1.1.9 2 2 2h14c1.1 0 2-.9 2-2V5c0-1.1-.9-2-2-2zM9 17H7v-7h2v7zm4 0h-2V7h2v10zm4 0h-2v-4h2v4z\"/>\n",
              "    </g>\n",
              "</svg>\n",
              "      </button>\n",
              "\n",
              "<style>\n",
              "  .colab-df-quickchart {\n",
              "      --bg-color: #E8F0FE;\n",
              "      --fill-color: #1967D2;\n",
              "      --hover-bg-color: #E2EBFA;\n",
              "      --hover-fill-color: #174EA6;\n",
              "      --disabled-fill-color: #AAA;\n",
              "      --disabled-bg-color: #DDD;\n",
              "  }\n",
              "\n",
              "  [theme=dark] .colab-df-quickchart {\n",
              "      --bg-color: #3B4455;\n",
              "      --fill-color: #D2E3FC;\n",
              "      --hover-bg-color: #434B5C;\n",
              "      --hover-fill-color: #FFFFFF;\n",
              "      --disabled-bg-color: #3B4455;\n",
              "      --disabled-fill-color: #666;\n",
              "  }\n",
              "\n",
              "  .colab-df-quickchart {\n",
              "    background-color: var(--bg-color);\n",
              "    border: none;\n",
              "    border-radius: 50%;\n",
              "    cursor: pointer;\n",
              "    display: none;\n",
              "    fill: var(--fill-color);\n",
              "    height: 32px;\n",
              "    padding: 0;\n",
              "    width: 32px;\n",
              "  }\n",
              "\n",
              "  .colab-df-quickchart:hover {\n",
              "    background-color: var(--hover-bg-color);\n",
              "    box-shadow: 0 1px 2px rgba(60, 64, 67, 0.3), 0 1px 3px 1px rgba(60, 64, 67, 0.15);\n",
              "    fill: var(--button-hover-fill-color);\n",
              "  }\n",
              "\n",
              "  .colab-df-quickchart-complete:disabled,\n",
              "  .colab-df-quickchart-complete:disabled:hover {\n",
              "    background-color: var(--disabled-bg-color);\n",
              "    fill: var(--disabled-fill-color);\n",
              "    box-shadow: none;\n",
              "  }\n",
              "\n",
              "  .colab-df-spinner {\n",
              "    border: 2px solid var(--fill-color);\n",
              "    border-color: transparent;\n",
              "    border-bottom-color: var(--fill-color);\n",
              "    animation:\n",
              "      spin 1s steps(1) infinite;\n",
              "  }\n",
              "\n",
              "  @keyframes spin {\n",
              "    0% {\n",
              "      border-color: transparent;\n",
              "      border-bottom-color: var(--fill-color);\n",
              "      border-left-color: var(--fill-color);\n",
              "    }\n",
              "    20% {\n",
              "      border-color: transparent;\n",
              "      border-left-color: var(--fill-color);\n",
              "      border-top-color: var(--fill-color);\n",
              "    }\n",
              "    30% {\n",
              "      border-color: transparent;\n",
              "      border-left-color: var(--fill-color);\n",
              "      border-top-color: var(--fill-color);\n",
              "      border-right-color: var(--fill-color);\n",
              "    }\n",
              "    40% {\n",
              "      border-color: transparent;\n",
              "      border-right-color: var(--fill-color);\n",
              "      border-top-color: var(--fill-color);\n",
              "    }\n",
              "    60% {\n",
              "      border-color: transparent;\n",
              "      border-right-color: var(--fill-color);\n",
              "    }\n",
              "    80% {\n",
              "      border-color: transparent;\n",
              "      border-right-color: var(--fill-color);\n",
              "      border-bottom-color: var(--fill-color);\n",
              "    }\n",
              "    90% {\n",
              "      border-color: transparent;\n",
              "      border-bottom-color: var(--fill-color);\n",
              "    }\n",
              "  }\n",
              "</style>\n",
              "\n",
              "      <script>\n",
              "        async function quickchart(key) {\n",
              "          const quickchartButtonEl =\n",
              "            document.querySelector('#' + key + ' button');\n",
              "          quickchartButtonEl.disabled = true;  // To prevent multiple clicks.\n",
              "          quickchartButtonEl.classList.add('colab-df-spinner');\n",
              "          try {\n",
              "            const charts = await google.colab.kernel.invokeFunction(\n",
              "                'suggestCharts', [key], {});\n",
              "          } catch (error) {\n",
              "            console.error('Error during call to suggestCharts:', error);\n",
              "          }\n",
              "          quickchartButtonEl.classList.remove('colab-df-spinner');\n",
              "          quickchartButtonEl.classList.add('colab-df-quickchart-complete');\n",
              "        }\n",
              "        (() => {\n",
              "          let quickchartButtonEl =\n",
              "            document.querySelector('#df-6ee75460-cd3d-4dd6-aa58-6b37e8b6e9e1 button');\n",
              "          quickchartButtonEl.style.display =\n",
              "            google.colab.kernel.accessAllowed ? 'block' : 'none';\n",
              "        })();\n",
              "      </script>\n",
              "    </div>\n",
              "\n",
              "    </div>\n",
              "  </div>\n"
            ],
            "application/vnd.google.colaboratory.intrinsic+json": {
              "type": "dataframe",
              "variable_name": "df2"
            }
          },
          "metadata": {},
          "execution_count": 75
        }
      ]
    },
    {
      "cell_type": "code",
      "source": [
        "\n",
        "for item in list_of_ids[2:]:\n",
        "  aux = get_all_data_specific(specific_story, item, \"comics\")\n",
        "  df = pd.concat([df, aux], ignore_index=True)"
      ],
      "metadata": {
        "colab": {
          "base_uri": "https://localhost:8080/"
        },
        "id": "n-aURMgUHkIT",
        "outputId": "82030b40-57b4-43e5-d530-ac0745cd65dd"
      },
      "execution_count": 66,
      "outputs": [
        {
          "output_type": "stream",
          "name": "stderr",
          "text": [
            "Baixando dados da Marvel: 100%|██████████| 1/1 [00:00<00:00,  1.60it/s]\n",
            "Baixando dados da Marvel: 100%|██████████| 1/1 [00:00<00:00,  1.61it/s]\n",
            "Baixando dados da Marvel: 0it [00:00, ?it/s]\n",
            "Baixando dados da Marvel: 100%|██████████| 1/1 [00:01<00:00,  1.37s/it]\n",
            "Baixando dados da Marvel: 0it [00:00, ?it/s]\n",
            "Baixando dados da Marvel: 0it [00:00, ?it/s]\n",
            "Baixando dados da Marvel: 0it [00:00, ?it/s]\n",
            "Baixando dados da Marvel: 100%|██████████| 2/2 [00:02<00:00,  1.30s/it]\n",
            "Baixando dados da Marvel: 0it [00:00, ?it/s]\n",
            "Baixando dados da Marvel: 0it [00:00, ?it/s]\n",
            "Baixando dados da Marvel: 0it [00:00, ?it/s]\n",
            "Baixando dados da Marvel: 0it [00:00, ?it/s]\n",
            "Baixando dados da Marvel: 100%|██████████| 2/2 [00:02<00:00,  1.33s/it]\n",
            "Baixando dados da Marvel: 0it [00:00, ?it/s]\n",
            "Baixando dados da Marvel: 100%|██████████| 1/1 [00:00<00:00,  1.81it/s]\n",
            "Baixando dados da Marvel: 100%|██████████| 1/1 [00:00<00:00,  1.56it/s]\n",
            "Baixando dados da Marvel: 0it [00:00, ?it/s]\n",
            "Baixando dados da Marvel: 100%|██████████| 1/1 [00:00<00:00,  1.72it/s]\n",
            "Baixando dados da Marvel: 0it [00:00, ?it/s]\n",
            "Baixando dados da Marvel: 100%|██████████| 1/1 [00:01<00:00,  1.90s/it]\n",
            "Baixando dados da Marvel: 100%|██████████| 6/6 [00:09<00:00,  1.59s/it]\n",
            "Baixando dados da Marvel: 0it [00:00, ?it/s]\n",
            "Baixando dados da Marvel: 0it [00:00, ?it/s]\n"
          ]
        }
      ]
    },
    {
      "cell_type": "code",
      "source": [
        "df.head()\n",
        "#df.to_csv(\"Creators_Especifico.csv\")"
      ],
      "metadata": {
        "id": "niRleBcVq4wi",
        "colab": {
          "base_uri": "https://localhost:8080/",
          "height": 637
        },
        "outputId": "82833c2e-6ed6-4714-9cf3-1381b0ce9372"
      },
      "execution_count": 76,
      "outputs": [
        {
          "output_type": "execute_result",
          "data": {
            "text/plain": [
              "       id digitalId                                              title  \\\n",
              "0  116255         0  DARKHOLD: THE SAGA OF THE BOOK OF SINS (Trade ...   \n",
              "1  104954         0  Marvel Masterworks: Werewolf By Night Vol. 2 (...   \n",
              "2  108829         0            The Avengers Omnibus Vol. 5 (Hardcover)   \n",
              "3   97227     60611  Marvel Masterworks: The Tomb Of Dracula Vol. 2...   \n",
              "4   97231     60240  Marvel Masterworks: Werewolf By Night Vol. 1 (...   \n",
              "\n",
              "  issueNumber variantDescription  \\\n",
              "0           1                      \n",
              "1           0                      \n",
              "2           0                      \n",
              "3           0                      \n",
              "4           0                      \n",
              "\n",
              "                                         description  \\\n",
              "0  Collects Marvel Spotlight (1971) #4, Werewolf ...   \n",
              "1  Collects Werewolf by Night (1972) #9-21, Tomb ...   \n",
              "2  Collects Avengers (1963) #120-149, Giant-Size ...   \n",
              "3  Collects Tomb of Dracula (1972) #12-22, Werewo...   \n",
              "4  Collects Marvel Spotlight (1971) #2-4, Werewol...   \n",
              "\n",
              "                   modified               isbn upc diamondCode  ...  \\\n",
              "0  2024-07-25T04:12:57+0000  978-1-302-96023-0                  ...   \n",
              "1  2023-11-14T09:35:32+0000  978-1-302-94948-8                  ...   \n",
              "2  2023-09-22T12:07:14+0000  978-1-302-95411-6                  ...   \n",
              "3  2022-11-14T09:39:01+0000  978-1-302-93342-5                  ...   \n",
              "4  2022-09-27T13:14:38+0000  978-1-302-93346-3                  ...   \n",
              "\n",
              "                                    characters.items characters.returned  \\\n",
              "0                                                 []                   0   \n",
              "1                                                 []                   0   \n",
              "2  [{'resourceURI': 'https://gateway.marvel.com/v...                   1   \n",
              "3  [{'resourceURI': 'https://gateway.marvel.com/v...                   1   \n",
              "4                                                 []                   0   \n",
              "\n",
              "  stories.available                              stories.collectionURI  \\\n",
              "0                 2  https://gateway.marvel.com/v1/public/comics/11...   \n",
              "1                 2  https://gateway.marvel.com/v1/public/comics/10...   \n",
              "2                 2  https://gateway.marvel.com/v1/public/comics/10...   \n",
              "3                 2  https://gateway.marvel.com/v1/public/comics/97...   \n",
              "4                 2  https://gateway.marvel.com/v1/public/comics/97...   \n",
              "\n",
              "                                       stories.items stories.returned  \\\n",
              "0  [{'resourceURI': 'https://gateway.marvel.com/v...                2   \n",
              "1  [{'resourceURI': 'https://gateway.marvel.com/v...                2   \n",
              "2  [{'resourceURI': 'https://gateway.marvel.com/v...                2   \n",
              "3  [{'resourceURI': 'https://gateway.marvel.com/v...                2   \n",
              "4  [{'resourceURI': 'https://gateway.marvel.com/v...                2   \n",
              "\n",
              "  events.available                               events.collectionURI  \\\n",
              "0                0  https://gateway.marvel.com/v1/public/comics/11...   \n",
              "1                0  https://gateway.marvel.com/v1/public/comics/10...   \n",
              "2                0  https://gateway.marvel.com/v1/public/comics/10...   \n",
              "3                0  https://gateway.marvel.com/v1/public/comics/97...   \n",
              "4                0  https://gateway.marvel.com/v1/public/comics/97...   \n",
              "\n",
              "  events.items events.returned  \n",
              "0           []               0  \n",
              "1           []               0  \n",
              "2           []               0  \n",
              "3           []               0  \n",
              "4           []               0  \n",
              "\n",
              "[5 rows x 43 columns]"
            ],
            "text/html": [
              "\n",
              "  <div id=\"df-6d2d3d80-975e-4613-a215-b93d2762761b\" class=\"colab-df-container\">\n",
              "    <div>\n",
              "<style scoped>\n",
              "    .dataframe tbody tr th:only-of-type {\n",
              "        vertical-align: middle;\n",
              "    }\n",
              "\n",
              "    .dataframe tbody tr th {\n",
              "        vertical-align: top;\n",
              "    }\n",
              "\n",
              "    .dataframe thead th {\n",
              "        text-align: right;\n",
              "    }\n",
              "</style>\n",
              "<table border=\"1\" class=\"dataframe\">\n",
              "  <thead>\n",
              "    <tr style=\"text-align: right;\">\n",
              "      <th></th>\n",
              "      <th>id</th>\n",
              "      <th>digitalId</th>\n",
              "      <th>title</th>\n",
              "      <th>issueNumber</th>\n",
              "      <th>variantDescription</th>\n",
              "      <th>description</th>\n",
              "      <th>modified</th>\n",
              "      <th>isbn</th>\n",
              "      <th>upc</th>\n",
              "      <th>diamondCode</th>\n",
              "      <th>...</th>\n",
              "      <th>characters.items</th>\n",
              "      <th>characters.returned</th>\n",
              "      <th>stories.available</th>\n",
              "      <th>stories.collectionURI</th>\n",
              "      <th>stories.items</th>\n",
              "      <th>stories.returned</th>\n",
              "      <th>events.available</th>\n",
              "      <th>events.collectionURI</th>\n",
              "      <th>events.items</th>\n",
              "      <th>events.returned</th>\n",
              "    </tr>\n",
              "  </thead>\n",
              "  <tbody>\n",
              "    <tr>\n",
              "      <th>0</th>\n",
              "      <td>116255</td>\n",
              "      <td>0</td>\n",
              "      <td>DARKHOLD: THE SAGA OF THE BOOK OF SINS (Trade ...</td>\n",
              "      <td>1</td>\n",
              "      <td></td>\n",
              "      <td>Collects Marvel Spotlight (1971) #4, Werewolf ...</td>\n",
              "      <td>2024-07-25T04:12:57+0000</td>\n",
              "      <td>978-1-302-96023-0</td>\n",
              "      <td></td>\n",
              "      <td></td>\n",
              "      <td>...</td>\n",
              "      <td>[]</td>\n",
              "      <td>0</td>\n",
              "      <td>2</td>\n",
              "      <td>https://gateway.marvel.com/v1/public/comics/11...</td>\n",
              "      <td>[{'resourceURI': 'https://gateway.marvel.com/v...</td>\n",
              "      <td>2</td>\n",
              "      <td>0</td>\n",
              "      <td>https://gateway.marvel.com/v1/public/comics/11...</td>\n",
              "      <td>[]</td>\n",
              "      <td>0</td>\n",
              "    </tr>\n",
              "    <tr>\n",
              "      <th>1</th>\n",
              "      <td>104954</td>\n",
              "      <td>0</td>\n",
              "      <td>Marvel Masterworks: Werewolf By Night Vol. 2 (...</td>\n",
              "      <td>0</td>\n",
              "      <td></td>\n",
              "      <td>Collects Werewolf by Night (1972) #9-21, Tomb ...</td>\n",
              "      <td>2023-11-14T09:35:32+0000</td>\n",
              "      <td>978-1-302-94948-8</td>\n",
              "      <td></td>\n",
              "      <td></td>\n",
              "      <td>...</td>\n",
              "      <td>[]</td>\n",
              "      <td>0</td>\n",
              "      <td>2</td>\n",
              "      <td>https://gateway.marvel.com/v1/public/comics/10...</td>\n",
              "      <td>[{'resourceURI': 'https://gateway.marvel.com/v...</td>\n",
              "      <td>2</td>\n",
              "      <td>0</td>\n",
              "      <td>https://gateway.marvel.com/v1/public/comics/10...</td>\n",
              "      <td>[]</td>\n",
              "      <td>0</td>\n",
              "    </tr>\n",
              "    <tr>\n",
              "      <th>2</th>\n",
              "      <td>108829</td>\n",
              "      <td>0</td>\n",
              "      <td>The Avengers Omnibus Vol. 5 (Hardcover)</td>\n",
              "      <td>0</td>\n",
              "      <td></td>\n",
              "      <td>Collects Avengers (1963) #120-149, Giant-Size ...</td>\n",
              "      <td>2023-09-22T12:07:14+0000</td>\n",
              "      <td>978-1-302-95411-6</td>\n",
              "      <td></td>\n",
              "      <td></td>\n",
              "      <td>...</td>\n",
              "      <td>[{'resourceURI': 'https://gateway.marvel.com/v...</td>\n",
              "      <td>1</td>\n",
              "      <td>2</td>\n",
              "      <td>https://gateway.marvel.com/v1/public/comics/10...</td>\n",
              "      <td>[{'resourceURI': 'https://gateway.marvel.com/v...</td>\n",
              "      <td>2</td>\n",
              "      <td>0</td>\n",
              "      <td>https://gateway.marvel.com/v1/public/comics/10...</td>\n",
              "      <td>[]</td>\n",
              "      <td>0</td>\n",
              "    </tr>\n",
              "    <tr>\n",
              "      <th>3</th>\n",
              "      <td>97227</td>\n",
              "      <td>60611</td>\n",
              "      <td>Marvel Masterworks: The Tomb Of Dracula Vol. 2...</td>\n",
              "      <td>0</td>\n",
              "      <td></td>\n",
              "      <td>Collects Tomb of Dracula (1972) #12-22, Werewo...</td>\n",
              "      <td>2022-11-14T09:39:01+0000</td>\n",
              "      <td>978-1-302-93342-5</td>\n",
              "      <td></td>\n",
              "      <td></td>\n",
              "      <td>...</td>\n",
              "      <td>[{'resourceURI': 'https://gateway.marvel.com/v...</td>\n",
              "      <td>1</td>\n",
              "      <td>2</td>\n",
              "      <td>https://gateway.marvel.com/v1/public/comics/97...</td>\n",
              "      <td>[{'resourceURI': 'https://gateway.marvel.com/v...</td>\n",
              "      <td>2</td>\n",
              "      <td>0</td>\n",
              "      <td>https://gateway.marvel.com/v1/public/comics/97...</td>\n",
              "      <td>[]</td>\n",
              "      <td>0</td>\n",
              "    </tr>\n",
              "    <tr>\n",
              "      <th>4</th>\n",
              "      <td>97231</td>\n",
              "      <td>60240</td>\n",
              "      <td>Marvel Masterworks: Werewolf By Night Vol. 1 (...</td>\n",
              "      <td>0</td>\n",
              "      <td></td>\n",
              "      <td>Collects Marvel Spotlight (1971) #2-4, Werewol...</td>\n",
              "      <td>2022-09-27T13:14:38+0000</td>\n",
              "      <td>978-1-302-93346-3</td>\n",
              "      <td></td>\n",
              "      <td></td>\n",
              "      <td>...</td>\n",
              "      <td>[]</td>\n",
              "      <td>0</td>\n",
              "      <td>2</td>\n",
              "      <td>https://gateway.marvel.com/v1/public/comics/97...</td>\n",
              "      <td>[{'resourceURI': 'https://gateway.marvel.com/v...</td>\n",
              "      <td>2</td>\n",
              "      <td>0</td>\n",
              "      <td>https://gateway.marvel.com/v1/public/comics/97...</td>\n",
              "      <td>[]</td>\n",
              "      <td>0</td>\n",
              "    </tr>\n",
              "  </tbody>\n",
              "</table>\n",
              "<p>5 rows × 43 columns</p>\n",
              "</div>\n",
              "    <div class=\"colab-df-buttons\">\n",
              "\n",
              "  <div class=\"colab-df-container\">\n",
              "    <button class=\"colab-df-convert\" onclick=\"convertToInteractive('df-6d2d3d80-975e-4613-a215-b93d2762761b')\"\n",
              "            title=\"Convert this dataframe to an interactive table.\"\n",
              "            style=\"display:none;\">\n",
              "\n",
              "  <svg xmlns=\"http://www.w3.org/2000/svg\" height=\"24px\" viewBox=\"0 -960 960 960\">\n",
              "    <path d=\"M120-120v-720h720v720H120Zm60-500h600v-160H180v160Zm220 220h160v-160H400v160Zm0 220h160v-160H400v160ZM180-400h160v-160H180v160Zm440 0h160v-160H620v160ZM180-180h160v-160H180v160Zm440 0h160v-160H620v160Z\"/>\n",
              "  </svg>\n",
              "    </button>\n",
              "\n",
              "  <style>\n",
              "    .colab-df-container {\n",
              "      display:flex;\n",
              "      gap: 12px;\n",
              "    }\n",
              "\n",
              "    .colab-df-convert {\n",
              "      background-color: #E8F0FE;\n",
              "      border: none;\n",
              "      border-radius: 50%;\n",
              "      cursor: pointer;\n",
              "      display: none;\n",
              "      fill: #1967D2;\n",
              "      height: 32px;\n",
              "      padding: 0 0 0 0;\n",
              "      width: 32px;\n",
              "    }\n",
              "\n",
              "    .colab-df-convert:hover {\n",
              "      background-color: #E2EBFA;\n",
              "      box-shadow: 0px 1px 2px rgba(60, 64, 67, 0.3), 0px 1px 3px 1px rgba(60, 64, 67, 0.15);\n",
              "      fill: #174EA6;\n",
              "    }\n",
              "\n",
              "    .colab-df-buttons div {\n",
              "      margin-bottom: 4px;\n",
              "    }\n",
              "\n",
              "    [theme=dark] .colab-df-convert {\n",
              "      background-color: #3B4455;\n",
              "      fill: #D2E3FC;\n",
              "    }\n",
              "\n",
              "    [theme=dark] .colab-df-convert:hover {\n",
              "      background-color: #434B5C;\n",
              "      box-shadow: 0px 1px 3px 1px rgba(0, 0, 0, 0.15);\n",
              "      filter: drop-shadow(0px 1px 2px rgba(0, 0, 0, 0.3));\n",
              "      fill: #FFFFFF;\n",
              "    }\n",
              "  </style>\n",
              "\n",
              "    <script>\n",
              "      const buttonEl =\n",
              "        document.querySelector('#df-6d2d3d80-975e-4613-a215-b93d2762761b button.colab-df-convert');\n",
              "      buttonEl.style.display =\n",
              "        google.colab.kernel.accessAllowed ? 'block' : 'none';\n",
              "\n",
              "      async function convertToInteractive(key) {\n",
              "        const element = document.querySelector('#df-6d2d3d80-975e-4613-a215-b93d2762761b');\n",
              "        const dataTable =\n",
              "          await google.colab.kernel.invokeFunction('convertToInteractive',\n",
              "                                                    [key], {});\n",
              "        if (!dataTable) return;\n",
              "\n",
              "        const docLinkHtml = 'Like what you see? Visit the ' +\n",
              "          '<a target=\"_blank\" href=https://colab.research.google.com/notebooks/data_table.ipynb>data table notebook</a>'\n",
              "          + ' to learn more about interactive tables.';\n",
              "        element.innerHTML = '';\n",
              "        dataTable['output_type'] = 'display_data';\n",
              "        await google.colab.output.renderOutput(dataTable, element);\n",
              "        const docLink = document.createElement('div');\n",
              "        docLink.innerHTML = docLinkHtml;\n",
              "        element.appendChild(docLink);\n",
              "      }\n",
              "    </script>\n",
              "  </div>\n",
              "\n",
              "\n",
              "    <div id=\"df-e4656d2d-c730-43c9-b481-217953d667b5\">\n",
              "      <button class=\"colab-df-quickchart\" onclick=\"quickchart('df-e4656d2d-c730-43c9-b481-217953d667b5')\"\n",
              "                title=\"Suggest charts\"\n",
              "                style=\"display:none;\">\n",
              "\n",
              "<svg xmlns=\"http://www.w3.org/2000/svg\" height=\"24px\"viewBox=\"0 0 24 24\"\n",
              "     width=\"24px\">\n",
              "    <g>\n",
              "        <path d=\"M19 3H5c-1.1 0-2 .9-2 2v14c0 1.1.9 2 2 2h14c1.1 0 2-.9 2-2V5c0-1.1-.9-2-2-2zM9 17H7v-7h2v7zm4 0h-2V7h2v10zm4 0h-2v-4h2v4z\"/>\n",
              "    </g>\n",
              "</svg>\n",
              "      </button>\n",
              "\n",
              "<style>\n",
              "  .colab-df-quickchart {\n",
              "      --bg-color: #E8F0FE;\n",
              "      --fill-color: #1967D2;\n",
              "      --hover-bg-color: #E2EBFA;\n",
              "      --hover-fill-color: #174EA6;\n",
              "      --disabled-fill-color: #AAA;\n",
              "      --disabled-bg-color: #DDD;\n",
              "  }\n",
              "\n",
              "  [theme=dark] .colab-df-quickchart {\n",
              "      --bg-color: #3B4455;\n",
              "      --fill-color: #D2E3FC;\n",
              "      --hover-bg-color: #434B5C;\n",
              "      --hover-fill-color: #FFFFFF;\n",
              "      --disabled-bg-color: #3B4455;\n",
              "      --disabled-fill-color: #666;\n",
              "  }\n",
              "\n",
              "  .colab-df-quickchart {\n",
              "    background-color: var(--bg-color);\n",
              "    border: none;\n",
              "    border-radius: 50%;\n",
              "    cursor: pointer;\n",
              "    display: none;\n",
              "    fill: var(--fill-color);\n",
              "    height: 32px;\n",
              "    padding: 0;\n",
              "    width: 32px;\n",
              "  }\n",
              "\n",
              "  .colab-df-quickchart:hover {\n",
              "    background-color: var(--hover-bg-color);\n",
              "    box-shadow: 0 1px 2px rgba(60, 64, 67, 0.3), 0 1px 3px 1px rgba(60, 64, 67, 0.15);\n",
              "    fill: var(--button-hover-fill-color);\n",
              "  }\n",
              "\n",
              "  .colab-df-quickchart-complete:disabled,\n",
              "  .colab-df-quickchart-complete:disabled:hover {\n",
              "    background-color: var(--disabled-bg-color);\n",
              "    fill: var(--disabled-fill-color);\n",
              "    box-shadow: none;\n",
              "  }\n",
              "\n",
              "  .colab-df-spinner {\n",
              "    border: 2px solid var(--fill-color);\n",
              "    border-color: transparent;\n",
              "    border-bottom-color: var(--fill-color);\n",
              "    animation:\n",
              "      spin 1s steps(1) infinite;\n",
              "  }\n",
              "\n",
              "  @keyframes spin {\n",
              "    0% {\n",
              "      border-color: transparent;\n",
              "      border-bottom-color: var(--fill-color);\n",
              "      border-left-color: var(--fill-color);\n",
              "    }\n",
              "    20% {\n",
              "      border-color: transparent;\n",
              "      border-left-color: var(--fill-color);\n",
              "      border-top-color: var(--fill-color);\n",
              "    }\n",
              "    30% {\n",
              "      border-color: transparent;\n",
              "      border-left-color: var(--fill-color);\n",
              "      border-top-color: var(--fill-color);\n",
              "      border-right-color: var(--fill-color);\n",
              "    }\n",
              "    40% {\n",
              "      border-color: transparent;\n",
              "      border-right-color: var(--fill-color);\n",
              "      border-top-color: var(--fill-color);\n",
              "    }\n",
              "    60% {\n",
              "      border-color: transparent;\n",
              "      border-right-color: var(--fill-color);\n",
              "    }\n",
              "    80% {\n",
              "      border-color: transparent;\n",
              "      border-right-color: var(--fill-color);\n",
              "      border-bottom-color: var(--fill-color);\n",
              "    }\n",
              "    90% {\n",
              "      border-color: transparent;\n",
              "      border-bottom-color: var(--fill-color);\n",
              "    }\n",
              "  }\n",
              "</style>\n",
              "\n",
              "      <script>\n",
              "        async function quickchart(key) {\n",
              "          const quickchartButtonEl =\n",
              "            document.querySelector('#' + key + ' button');\n",
              "          quickchartButtonEl.disabled = true;  // To prevent multiple clicks.\n",
              "          quickchartButtonEl.classList.add('colab-df-spinner');\n",
              "          try {\n",
              "            const charts = await google.colab.kernel.invokeFunction(\n",
              "                'suggestCharts', [key], {});\n",
              "          } catch (error) {\n",
              "            console.error('Error during call to suggestCharts:', error);\n",
              "          }\n",
              "          quickchartButtonEl.classList.remove('colab-df-spinner');\n",
              "          quickchartButtonEl.classList.add('colab-df-quickchart-complete');\n",
              "        }\n",
              "        (() => {\n",
              "          let quickchartButtonEl =\n",
              "            document.querySelector('#df-e4656d2d-c730-43c9-b481-217953d667b5 button');\n",
              "          quickchartButtonEl.style.display =\n",
              "            google.colab.kernel.accessAllowed ? 'block' : 'none';\n",
              "        })();\n",
              "      </script>\n",
              "    </div>\n",
              "\n",
              "    </div>\n",
              "  </div>\n"
            ],
            "application/vnd.google.colaboratory.intrinsic+json": {
              "type": "dataframe"
            }
          },
          "metadata": {},
          "execution_count": 76
        }
      ]
    },
    {
      "cell_type": "code",
      "source": [
        "df2.columns"
      ],
      "metadata": {
        "colab": {
          "base_uri": "https://localhost:8080/"
        },
        "id": "iRxxoYm1NciE",
        "outputId": "3bfe0d5f-9370-4000-9de4-3d755e17bf0a"
      },
      "execution_count": 79,
      "outputs": [
        {
          "output_type": "execute_result",
          "data": {
            "text/plain": [
              "Index(['id', 'digitalId', 'title', 'issueNumber', 'variantDescription',\n",
              "       'description', 'modified', 'isbn', 'upc', 'diamondCode', 'ean', 'issn',\n",
              "       'format', 'pageCount', 'textObjects', 'resourceURI', 'urls', 'variants',\n",
              "       'collections', 'collectedIssues', 'dates', 'prices', 'images',\n",
              "       'series.resourceURI', 'series.name', 'thumbnail.path',\n",
              "       'thumbnail.extension', 'creators.available', 'creators.collectionURI',\n",
              "       'creators.items', 'creators.returned', 'characters.available',\n",
              "       'characters.collectionURI', 'characters.items', 'characters.returned',\n",
              "       'stories.available', 'stories.collectionURI', 'stories.items',\n",
              "       'stories.returned', 'events.available', 'events.collectionURI',\n",
              "       'events.items', 'events.returned'],\n",
              "      dtype='object')"
            ]
          },
          "metadata": {},
          "execution_count": 79
        }
      ]
    },
    {
      "cell_type": "code",
      "source": [
        "df2.head()"
      ],
      "metadata": {
        "colab": {
          "base_uri": "https://localhost:8080/",
          "height": 603
        },
        "id": "5HWzUZcPNAyl",
        "outputId": "3383a33d-fa48-4134-d828-363b9c71d63f"
      },
      "execution_count": 88,
      "outputs": [
        {
          "output_type": "execute_result",
          "data": {
            "text/plain": [
              "      id digitalId                                              title  \\\n",
              "0  59739         0  Civil War II: Kingpin (2016) #1 (Noto Characte...   \n",
              "1  66861     47755                             Poe Dameron (2016) #26   \n",
              "2  66537     47578    Damnation: Johnny Blaze - Ghost Rider (2018) #1   \n",
              "3  66558     47595                             Poe Dameron (2016) #25   \n",
              "4  66269     47321                          Black Panther (2016) #170   \n",
              "\n",
              "  issueNumber      variantDescription  \\\n",
              "0           1  Noto Character Variant   \n",
              "1          26                           \n",
              "2           1                           \n",
              "3          25                           \n",
              "4         170                           \n",
              "\n",
              "                                         description  \\\n",
              "0                                               None   \n",
              "1  THE AWAKENING BEGINS! Lor San Tekka has been f...   \n",
              "2  DAMNATION TIE-IN! Johnny Blaze takes the fight...   \n",
              "3  It’s the end of an era for Poe Dameron. With t...   \n",
              "4  With Storm back by his side, T'Challa finally ...   \n",
              "\n",
              "                   modified isbn                 upc diamondCode  ...  \\\n",
              "0  2016-06-29T17:03:12+0000        75960608531600131              ...   \n",
              "1  2021-08-30T14:36:07+0000        75960608458602611              ...   \n",
              "2  2022-05-25T17:50:56+0000       759606089391000111   JAN180944  ...   \n",
              "3  2021-08-30T14:36:06+0000        75960608458602511   JAN181022  ...   \n",
              "4  2020-11-18T10:55:58+0000        75960608767917011              ...   \n",
              "\n",
              "                                    characters.items characters.returned  \\\n",
              "0                                                 []                   0   \n",
              "1                                                 []                   0   \n",
              "2  [{'resourceURI': 'https://gateway.marvel.com/v...                   2   \n",
              "3                                                 []                   0   \n",
              "4  [{'resourceURI': 'https://gateway.marvel.com/v...                   3   \n",
              "\n",
              "  stories.available                              stories.collectionURI  \\\n",
              "0                 2  https://gateway.marvel.com/v1/public/comics/59...   \n",
              "1                 2  https://gateway.marvel.com/v1/public/comics/66...   \n",
              "2                 2  https://gateway.marvel.com/v1/public/comics/66...   \n",
              "3                 2  https://gateway.marvel.com/v1/public/comics/66...   \n",
              "4                 2  https://gateway.marvel.com/v1/public/comics/66...   \n",
              "\n",
              "                                       stories.items stories.returned  \\\n",
              "0  [{'resourceURI': 'https://gateway.marvel.com/v...                2   \n",
              "1  [{'resourceURI': 'https://gateway.marvel.com/v...                2   \n",
              "2  [{'resourceURI': 'https://gateway.marvel.com/v...                2   \n",
              "3  [{'resourceURI': 'https://gateway.marvel.com/v...                2   \n",
              "4  [{'resourceURI': 'https://gateway.marvel.com/v...                2   \n",
              "\n",
              "  events.available                               events.collectionURI  \\\n",
              "0                0  https://gateway.marvel.com/v1/public/comics/59...   \n",
              "1                0  https://gateway.marvel.com/v1/public/comics/66...   \n",
              "2                0  https://gateway.marvel.com/v1/public/comics/66...   \n",
              "3                0  https://gateway.marvel.com/v1/public/comics/66...   \n",
              "4                0  https://gateway.marvel.com/v1/public/comics/66...   \n",
              "\n",
              "  events.items events.returned  \n",
              "0           []               0  \n",
              "1           []               0  \n",
              "2           []               0  \n",
              "3           []               0  \n",
              "4           []               0  \n",
              "\n",
              "[5 rows x 43 columns]"
            ],
            "text/html": [
              "\n",
              "  <div id=\"df-046ef74d-9f32-4398-8d1b-cc060eb1b2af\" class=\"colab-df-container\">\n",
              "    <div>\n",
              "<style scoped>\n",
              "    .dataframe tbody tr th:only-of-type {\n",
              "        vertical-align: middle;\n",
              "    }\n",
              "\n",
              "    .dataframe tbody tr th {\n",
              "        vertical-align: top;\n",
              "    }\n",
              "\n",
              "    .dataframe thead th {\n",
              "        text-align: right;\n",
              "    }\n",
              "</style>\n",
              "<table border=\"1\" class=\"dataframe\">\n",
              "  <thead>\n",
              "    <tr style=\"text-align: right;\">\n",
              "      <th></th>\n",
              "      <th>id</th>\n",
              "      <th>digitalId</th>\n",
              "      <th>title</th>\n",
              "      <th>issueNumber</th>\n",
              "      <th>variantDescription</th>\n",
              "      <th>description</th>\n",
              "      <th>modified</th>\n",
              "      <th>isbn</th>\n",
              "      <th>upc</th>\n",
              "      <th>diamondCode</th>\n",
              "      <th>...</th>\n",
              "      <th>characters.items</th>\n",
              "      <th>characters.returned</th>\n",
              "      <th>stories.available</th>\n",
              "      <th>stories.collectionURI</th>\n",
              "      <th>stories.items</th>\n",
              "      <th>stories.returned</th>\n",
              "      <th>events.available</th>\n",
              "      <th>events.collectionURI</th>\n",
              "      <th>events.items</th>\n",
              "      <th>events.returned</th>\n",
              "    </tr>\n",
              "  </thead>\n",
              "  <tbody>\n",
              "    <tr>\n",
              "      <th>0</th>\n",
              "      <td>59739</td>\n",
              "      <td>0</td>\n",
              "      <td>Civil War II: Kingpin (2016) #1 (Noto Characte...</td>\n",
              "      <td>1</td>\n",
              "      <td>Noto Character Variant</td>\n",
              "      <td>None</td>\n",
              "      <td>2016-06-29T17:03:12+0000</td>\n",
              "      <td></td>\n",
              "      <td>75960608531600131</td>\n",
              "      <td></td>\n",
              "      <td>...</td>\n",
              "      <td>[]</td>\n",
              "      <td>0</td>\n",
              "      <td>2</td>\n",
              "      <td>https://gateway.marvel.com/v1/public/comics/59...</td>\n",
              "      <td>[{'resourceURI': 'https://gateway.marvel.com/v...</td>\n",
              "      <td>2</td>\n",
              "      <td>0</td>\n",
              "      <td>https://gateway.marvel.com/v1/public/comics/59...</td>\n",
              "      <td>[]</td>\n",
              "      <td>0</td>\n",
              "    </tr>\n",
              "    <tr>\n",
              "      <th>1</th>\n",
              "      <td>66861</td>\n",
              "      <td>47755</td>\n",
              "      <td>Poe Dameron (2016) #26</td>\n",
              "      <td>26</td>\n",
              "      <td></td>\n",
              "      <td>THE AWAKENING BEGINS! Lor San Tekka has been f...</td>\n",
              "      <td>2021-08-30T14:36:07+0000</td>\n",
              "      <td></td>\n",
              "      <td>75960608458602611</td>\n",
              "      <td></td>\n",
              "      <td>...</td>\n",
              "      <td>[]</td>\n",
              "      <td>0</td>\n",
              "      <td>2</td>\n",
              "      <td>https://gateway.marvel.com/v1/public/comics/66...</td>\n",
              "      <td>[{'resourceURI': 'https://gateway.marvel.com/v...</td>\n",
              "      <td>2</td>\n",
              "      <td>0</td>\n",
              "      <td>https://gateway.marvel.com/v1/public/comics/66...</td>\n",
              "      <td>[]</td>\n",
              "      <td>0</td>\n",
              "    </tr>\n",
              "    <tr>\n",
              "      <th>2</th>\n",
              "      <td>66537</td>\n",
              "      <td>47578</td>\n",
              "      <td>Damnation: Johnny Blaze - Ghost Rider (2018) #1</td>\n",
              "      <td>1</td>\n",
              "      <td></td>\n",
              "      <td>DAMNATION TIE-IN! Johnny Blaze takes the fight...</td>\n",
              "      <td>2022-05-25T17:50:56+0000</td>\n",
              "      <td></td>\n",
              "      <td>759606089391000111</td>\n",
              "      <td>JAN180944</td>\n",
              "      <td>...</td>\n",
              "      <td>[{'resourceURI': 'https://gateway.marvel.com/v...</td>\n",
              "      <td>2</td>\n",
              "      <td>2</td>\n",
              "      <td>https://gateway.marvel.com/v1/public/comics/66...</td>\n",
              "      <td>[{'resourceURI': 'https://gateway.marvel.com/v...</td>\n",
              "      <td>2</td>\n",
              "      <td>0</td>\n",
              "      <td>https://gateway.marvel.com/v1/public/comics/66...</td>\n",
              "      <td>[]</td>\n",
              "      <td>0</td>\n",
              "    </tr>\n",
              "    <tr>\n",
              "      <th>3</th>\n",
              "      <td>66558</td>\n",
              "      <td>47595</td>\n",
              "      <td>Poe Dameron (2016) #25</td>\n",
              "      <td>25</td>\n",
              "      <td></td>\n",
              "      <td>It’s the end of an era for Poe Dameron. With t...</td>\n",
              "      <td>2021-08-30T14:36:06+0000</td>\n",
              "      <td></td>\n",
              "      <td>75960608458602511</td>\n",
              "      <td>JAN181022</td>\n",
              "      <td>...</td>\n",
              "      <td>[]</td>\n",
              "      <td>0</td>\n",
              "      <td>2</td>\n",
              "      <td>https://gateway.marvel.com/v1/public/comics/66...</td>\n",
              "      <td>[{'resourceURI': 'https://gateway.marvel.com/v...</td>\n",
              "      <td>2</td>\n",
              "      <td>0</td>\n",
              "      <td>https://gateway.marvel.com/v1/public/comics/66...</td>\n",
              "      <td>[]</td>\n",
              "      <td>0</td>\n",
              "    </tr>\n",
              "    <tr>\n",
              "      <th>4</th>\n",
              "      <td>66269</td>\n",
              "      <td>47321</td>\n",
              "      <td>Black Panther (2016) #170</td>\n",
              "      <td>170</td>\n",
              "      <td></td>\n",
              "      <td>With Storm back by his side, T'Challa finally ...</td>\n",
              "      <td>2020-11-18T10:55:58+0000</td>\n",
              "      <td></td>\n",
              "      <td>75960608767917011</td>\n",
              "      <td></td>\n",
              "      <td>...</td>\n",
              "      <td>[{'resourceURI': 'https://gateway.marvel.com/v...</td>\n",
              "      <td>3</td>\n",
              "      <td>2</td>\n",
              "      <td>https://gateway.marvel.com/v1/public/comics/66...</td>\n",
              "      <td>[{'resourceURI': 'https://gateway.marvel.com/v...</td>\n",
              "      <td>2</td>\n",
              "      <td>0</td>\n",
              "      <td>https://gateway.marvel.com/v1/public/comics/66...</td>\n",
              "      <td>[]</td>\n",
              "      <td>0</td>\n",
              "    </tr>\n",
              "  </tbody>\n",
              "</table>\n",
              "<p>5 rows × 43 columns</p>\n",
              "</div>\n",
              "    <div class=\"colab-df-buttons\">\n",
              "\n",
              "  <div class=\"colab-df-container\">\n",
              "    <button class=\"colab-df-convert\" onclick=\"convertToInteractive('df-046ef74d-9f32-4398-8d1b-cc060eb1b2af')\"\n",
              "            title=\"Convert this dataframe to an interactive table.\"\n",
              "            style=\"display:none;\">\n",
              "\n",
              "  <svg xmlns=\"http://www.w3.org/2000/svg\" height=\"24px\" viewBox=\"0 -960 960 960\">\n",
              "    <path d=\"M120-120v-720h720v720H120Zm60-500h600v-160H180v160Zm220 220h160v-160H400v160Zm0 220h160v-160H400v160ZM180-400h160v-160H180v160Zm440 0h160v-160H620v160ZM180-180h160v-160H180v160Zm440 0h160v-160H620v160Z\"/>\n",
              "  </svg>\n",
              "    </button>\n",
              "\n",
              "  <style>\n",
              "    .colab-df-container {\n",
              "      display:flex;\n",
              "      gap: 12px;\n",
              "    }\n",
              "\n",
              "    .colab-df-convert {\n",
              "      background-color: #E8F0FE;\n",
              "      border: none;\n",
              "      border-radius: 50%;\n",
              "      cursor: pointer;\n",
              "      display: none;\n",
              "      fill: #1967D2;\n",
              "      height: 32px;\n",
              "      padding: 0 0 0 0;\n",
              "      width: 32px;\n",
              "    }\n",
              "\n",
              "    .colab-df-convert:hover {\n",
              "      background-color: #E2EBFA;\n",
              "      box-shadow: 0px 1px 2px rgba(60, 64, 67, 0.3), 0px 1px 3px 1px rgba(60, 64, 67, 0.15);\n",
              "      fill: #174EA6;\n",
              "    }\n",
              "\n",
              "    .colab-df-buttons div {\n",
              "      margin-bottom: 4px;\n",
              "    }\n",
              "\n",
              "    [theme=dark] .colab-df-convert {\n",
              "      background-color: #3B4455;\n",
              "      fill: #D2E3FC;\n",
              "    }\n",
              "\n",
              "    [theme=dark] .colab-df-convert:hover {\n",
              "      background-color: #434B5C;\n",
              "      box-shadow: 0px 1px 3px 1px rgba(0, 0, 0, 0.15);\n",
              "      filter: drop-shadow(0px 1px 2px rgba(0, 0, 0, 0.3));\n",
              "      fill: #FFFFFF;\n",
              "    }\n",
              "  </style>\n",
              "\n",
              "    <script>\n",
              "      const buttonEl =\n",
              "        document.querySelector('#df-046ef74d-9f32-4398-8d1b-cc060eb1b2af button.colab-df-convert');\n",
              "      buttonEl.style.display =\n",
              "        google.colab.kernel.accessAllowed ? 'block' : 'none';\n",
              "\n",
              "      async function convertToInteractive(key) {\n",
              "        const element = document.querySelector('#df-046ef74d-9f32-4398-8d1b-cc060eb1b2af');\n",
              "        const dataTable =\n",
              "          await google.colab.kernel.invokeFunction('convertToInteractive',\n",
              "                                                    [key], {});\n",
              "        if (!dataTable) return;\n",
              "\n",
              "        const docLinkHtml = 'Like what you see? Visit the ' +\n",
              "          '<a target=\"_blank\" href=https://colab.research.google.com/notebooks/data_table.ipynb>data table notebook</a>'\n",
              "          + ' to learn more about interactive tables.';\n",
              "        element.innerHTML = '';\n",
              "        dataTable['output_type'] = 'display_data';\n",
              "        await google.colab.output.renderOutput(dataTable, element);\n",
              "        const docLink = document.createElement('div');\n",
              "        docLink.innerHTML = docLinkHtml;\n",
              "        element.appendChild(docLink);\n",
              "      }\n",
              "    </script>\n",
              "  </div>\n",
              "\n",
              "\n",
              "    <div id=\"df-b8fc0102-d067-4f31-8f52-6052f70223c5\">\n",
              "      <button class=\"colab-df-quickchart\" onclick=\"quickchart('df-b8fc0102-d067-4f31-8f52-6052f70223c5')\"\n",
              "                title=\"Suggest charts\"\n",
              "                style=\"display:none;\">\n",
              "\n",
              "<svg xmlns=\"http://www.w3.org/2000/svg\" height=\"24px\"viewBox=\"0 0 24 24\"\n",
              "     width=\"24px\">\n",
              "    <g>\n",
              "        <path d=\"M19 3H5c-1.1 0-2 .9-2 2v14c0 1.1.9 2 2 2h14c1.1 0 2-.9 2-2V5c0-1.1-.9-2-2-2zM9 17H7v-7h2v7zm4 0h-2V7h2v10zm4 0h-2v-4h2v4z\"/>\n",
              "    </g>\n",
              "</svg>\n",
              "      </button>\n",
              "\n",
              "<style>\n",
              "  .colab-df-quickchart {\n",
              "      --bg-color: #E8F0FE;\n",
              "      --fill-color: #1967D2;\n",
              "      --hover-bg-color: #E2EBFA;\n",
              "      --hover-fill-color: #174EA6;\n",
              "      --disabled-fill-color: #AAA;\n",
              "      --disabled-bg-color: #DDD;\n",
              "  }\n",
              "\n",
              "  [theme=dark] .colab-df-quickchart {\n",
              "      --bg-color: #3B4455;\n",
              "      --fill-color: #D2E3FC;\n",
              "      --hover-bg-color: #434B5C;\n",
              "      --hover-fill-color: #FFFFFF;\n",
              "      --disabled-bg-color: #3B4455;\n",
              "      --disabled-fill-color: #666;\n",
              "  }\n",
              "\n",
              "  .colab-df-quickchart {\n",
              "    background-color: var(--bg-color);\n",
              "    border: none;\n",
              "    border-radius: 50%;\n",
              "    cursor: pointer;\n",
              "    display: none;\n",
              "    fill: var(--fill-color);\n",
              "    height: 32px;\n",
              "    padding: 0;\n",
              "    width: 32px;\n",
              "  }\n",
              "\n",
              "  .colab-df-quickchart:hover {\n",
              "    background-color: var(--hover-bg-color);\n",
              "    box-shadow: 0 1px 2px rgba(60, 64, 67, 0.3), 0 1px 3px 1px rgba(60, 64, 67, 0.15);\n",
              "    fill: var(--button-hover-fill-color);\n",
              "  }\n",
              "\n",
              "  .colab-df-quickchart-complete:disabled,\n",
              "  .colab-df-quickchart-complete:disabled:hover {\n",
              "    background-color: var(--disabled-bg-color);\n",
              "    fill: var(--disabled-fill-color);\n",
              "    box-shadow: none;\n",
              "  }\n",
              "\n",
              "  .colab-df-spinner {\n",
              "    border: 2px solid var(--fill-color);\n",
              "    border-color: transparent;\n",
              "    border-bottom-color: var(--fill-color);\n",
              "    animation:\n",
              "      spin 1s steps(1) infinite;\n",
              "  }\n",
              "\n",
              "  @keyframes spin {\n",
              "    0% {\n",
              "      border-color: transparent;\n",
              "      border-bottom-color: var(--fill-color);\n",
              "      border-left-color: var(--fill-color);\n",
              "    }\n",
              "    20% {\n",
              "      border-color: transparent;\n",
              "      border-left-color: var(--fill-color);\n",
              "      border-top-color: var(--fill-color);\n",
              "    }\n",
              "    30% {\n",
              "      border-color: transparent;\n",
              "      border-left-color: var(--fill-color);\n",
              "      border-top-color: var(--fill-color);\n",
              "      border-right-color: var(--fill-color);\n",
              "    }\n",
              "    40% {\n",
              "      border-color: transparent;\n",
              "      border-right-color: var(--fill-color);\n",
              "      border-top-color: var(--fill-color);\n",
              "    }\n",
              "    60% {\n",
              "      border-color: transparent;\n",
              "      border-right-color: var(--fill-color);\n",
              "    }\n",
              "    80% {\n",
              "      border-color: transparent;\n",
              "      border-right-color: var(--fill-color);\n",
              "      border-bottom-color: var(--fill-color);\n",
              "    }\n",
              "    90% {\n",
              "      border-color: transparent;\n",
              "      border-bottom-color: var(--fill-color);\n",
              "    }\n",
              "  }\n",
              "</style>\n",
              "\n",
              "      <script>\n",
              "        async function quickchart(key) {\n",
              "          const quickchartButtonEl =\n",
              "            document.querySelector('#' + key + ' button');\n",
              "          quickchartButtonEl.disabled = true;  // To prevent multiple clicks.\n",
              "          quickchartButtonEl.classList.add('colab-df-spinner');\n",
              "          try {\n",
              "            const charts = await google.colab.kernel.invokeFunction(\n",
              "                'suggestCharts', [key], {});\n",
              "          } catch (error) {\n",
              "            console.error('Error during call to suggestCharts:', error);\n",
              "          }\n",
              "          quickchartButtonEl.classList.remove('colab-df-spinner');\n",
              "          quickchartButtonEl.classList.add('colab-df-quickchart-complete');\n",
              "        }\n",
              "        (() => {\n",
              "          let quickchartButtonEl =\n",
              "            document.querySelector('#df-b8fc0102-d067-4f31-8f52-6052f70223c5 button');\n",
              "          quickchartButtonEl.style.display =\n",
              "            google.colab.kernel.accessAllowed ? 'block' : 'none';\n",
              "        })();\n",
              "      </script>\n",
              "    </div>\n",
              "\n",
              "    </div>\n",
              "  </div>\n"
            ],
            "application/vnd.google.colaboratory.intrinsic+json": {
              "type": "dataframe",
              "variable_name": "df2"
            }
          },
          "metadata": {},
          "execution_count": 88
        }
      ]
    },
    {
      "cell_type": "code",
      "source": [
        "df2[\"creators.items\"][0]"
      ],
      "metadata": {
        "colab": {
          "base_uri": "https://localhost:8080/"
        },
        "id": "RRI-Uru95P67",
        "outputId": "e3f012ba-1fa5-4d06-d924-029dc1d18292"
      },
      "execution_count": 86,
      "outputs": [
        {
          "output_type": "execute_result",
          "data": {
            "text/plain": [
              "[{'resourceURI': 'https://gateway.marvel.com/v1/public/creators/2133',\n",
              "  'name': 'Tom Brevoort',\n",
              "  'role': 'editor'},\n",
              " {'resourceURI': 'https://gateway.marvel.com/v1/public/creators/12376',\n",
              "  'name': 'Wilson Moss',\n",
              "  'role': 'editor'},\n",
              " {'resourceURI': 'https://gateway.marvel.com/v1/public/creators/5160',\n",
              "  'name': 'Philip J. Noto',\n",
              "  'role': 'penciller (cover)'}]"
            ]
          },
          "metadata": {},
          "execution_count": 86
        }
      ]
    },
    {
      "cell_type": "code",
      "source": [],
      "metadata": {
        "id": "TE5ZE-nj5Rys"
      },
      "execution_count": null,
      "outputs": []
    }
  ],
  "metadata": {
    "colab": {
      "provenance": [],
      "collapsed_sections": [
        "IQxWGHt27uDo",
        "RoLFYY8z7goM",
        "Sb-nvoQ1Gtoa",
        "u9fZTcg2rny2",
        "dAi86iYf23lX",
        "oq5iN0O9NU0M",
        "CxJGnYK_NvYM"
      ]
    },
    "kernelspec": {
      "display_name": "Python 3",
      "name": "python3"
    },
    "language_info": {
      "name": "python"
    }
  },
  "nbformat": 4,
  "nbformat_minor": 0
}