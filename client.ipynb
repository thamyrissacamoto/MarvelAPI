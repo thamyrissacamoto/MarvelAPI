{
  "nbformat": 4,
  "nbformat_minor": 0,
  "metadata": {
    "colab": {
      "provenance": [],
      "authorship_tag": "ABX9TyP6IeovkVpfY/0712eaE19G",
      "include_colab_link": true
    },
    "kernelspec": {
      "name": "python3",
      "display_name": "Python 3"
    },
    "language_info": {
      "name": "python"
    }
  },
  "cells": [
    {
      "cell_type": "markdown",
      "metadata": {
        "id": "view-in-github",
        "colab_type": "text"
      },
      "source": [
        "<a href=\"https://colab.research.google.com/github/thamyrissacamoto/MarvelAPI/blob/Thamyris%2FconsumindoAPI/client.ipynb\" target=\"_parent\"><img src=\"https://colab.research.google.com/assets/colab-badge.svg\" alt=\"Open In Colab\"/></a>"
      ]
    },
    {
      "cell_type": "code",
      "source": [
        "!pip install dotenv"
      ],
      "metadata": {
        "id": "ODkbIHAdo1BY"
      },
      "execution_count": null,
      "outputs": []
    },
    {
      "cell_type": "code",
      "execution_count": 2,
      "metadata": {
        "id": "OYk4vs2G2Xop"
      },
      "outputs": [],
      "source": [
        "import hashlib\n",
        "import time\n",
        "import requests\n",
        "from google.colab import userdata\n",
        "import pandas as pd\n",
        "from tqdm import tqdm\n",
        "import os\n",
        "from dotenv import load_dotenv"
      ]
    },
    {
      "cell_type": "code",
      "source": [
        "BASE_URL = \"https://gateway.marvel.com/v1/public/\"\n",
        "\n",
        "# load_dotenv()\n",
        "# PUBLIC_KEY = os.getenv(\"public_key\")\n",
        "# PRIVATE_KEY = os.getenv(\"private_key\")\n",
        "\n",
        "PUBLIC_KEY = userdata.get('public_key')\n",
        "PRIVATE_KEY = userdata.get('private_key')\n",
        "\n",
        "def get_auth():\n",
        "    # Gera o hash md5 de autenticação\n",
        "\n",
        "    ts = str(time.time())\n",
        "    to_hash = ts + PRIVATE_KEY + PUBLIC_KEY\n",
        "    hash_result = hashlib.md5(to_hash.encode()).hexdigest()\n",
        "    return {\n",
        "        \"ts\": ts,\n",
        "        \"apikey\": PUBLIC_KEY,\n",
        "        \"hash\": hash_result\n",
        "    }\n"
      ],
      "metadata": {
        "id": "Pe7ouZtj8wRq"
      },
      "execution_count": 4,
      "outputs": []
    },
    {
      "cell_type": "code",
      "source": [
        "etag_cache = {}\n",
        "\n",
        "def marvel_request(endpoint, params_extra={}):\n",
        "    # Faz uma requisição GET com cache ETag\n",
        "\n",
        "    url = BASE_URL + endpoint\n",
        "    auth_params = get_auth()\n",
        "    params = auth_params.copy()\n",
        "    params.update(params_extra)\n",
        "\n",
        "    cache_key = f\"{endpoint}_{params_extra}\"\n",
        "    headers = {}\n",
        "    if cache_key in etag_cache:\n",
        "        headers[\"If-None-Match\"] = etag_cache[cache_key][\"etag\"]\n",
        "\n",
        "    response = requests.get(url, params=params, headers=headers)\n",
        "\n",
        "    if response.status_code == 304: # Evita refazer uma requisição\n",
        "        return etag_cache[cache_key][\"data\"]\n",
        "    elif response.status_code == 200:\n",
        "        etag = response.headers.get(\"etag\")\n",
        "        data = response.json()\n",
        "        etag_cache[cache_key] = {\"etag\": etag, \"data\": data}\n",
        "        return data\n",
        "    else:\n",
        "        print(f\"Erro {response.status_code}: {response.text}\")\n",
        "        return None"
      ],
      "metadata": {
        "id": "8N184LoD8-Jy"
      },
      "execution_count": 11,
      "outputs": []
    },
    {
      "cell_type": "code",
      "source": [
        "def get_all_data(endpoint):\n",
        "    # Extrai dados do endpoint principal\n",
        "\n",
        "    first_response = marvel_request(endpoint, {\"limit\": 100, \"offset\": 0})\n",
        "    if not first_response:\n",
        "        print(\"Erro ao obter dados iniciais.\")\n",
        "        return None\n",
        "\n",
        "    total = first_response[\"data\"][\"total\"]\n",
        "    all_results = first_response[\"data\"][\"results\"]\n",
        "\n",
        "    for offset in tqdm(range(100, total, 100), desc=f\"Baixando dados\"):\n",
        "        response = marvel_request(endpoint, {\"limit\": 100, \"offset\": offset})\n",
        "        if response:\n",
        "            all_results.extend(response[\"data\"][\"results\"])\n",
        "        time.sleep(0.3)\n",
        "\n",
        "    # Normaliza e salva em CSV\n",
        "    df = pd.json_normalize(all_results)\n",
        "    df.to_csv(f\"{endpoint}.csv\", index=False)\n",
        "    return df"
      ],
      "metadata": {
        "id": "kifvvK_rriab"
      },
      "execution_count": 12,
      "outputs": []
    },
    {
      "cell_type": "code",
      "source": [
        "def get_relationships(endpoint, ids, relationships):\n",
        "    # Extrai relacionamentos por IDs\n",
        "\n",
        "    results = []\n",
        "\n",
        "    for item_id in tqdm(ids, desc=\"Buscando relacionamentos\"):\n",
        "        item_data = {\"id\": item_id}\n",
        "\n",
        "        for rel in relationships:\n",
        "            rel_url = f\"{endpoint}/{item_id}/{rel}\"\n",
        "            rel_response = marvel_request(rel_url)\n",
        "            if rel_response:\n",
        "                rel_ids = [r[\"id\"] for r in rel_response[\"data\"][\"results\"]]\n",
        "                item_data[f\"{rel}_ids\"] = rel_ids\n",
        "            else:\n",
        "                item_data[f\"{rel}_ids\"] = []\n",
        "            time.sleep(0.2)\n",
        "\n",
        "        results.append(item_data)\n",
        "\n",
        "    df = pd.DataFrame(results)\n",
        "    df.to_csv(f\"{endpoint}_ids_relationships.csv\", index=False)\n",
        "    return df\n"
      ],
      "metadata": {
        "id": "tmBXiveNw__l"
      },
      "execution_count": 13,
      "outputs": []
    },
    {
      "cell_type": "code",
      "source": [
        "# Endpoints\n",
        "endpoints = [\"characters\", \"comics\", \"events\", \"series\", \"stories\"]\n",
        "\n",
        "for ep in endpoints:\n",
        "    print(f\"\\nExtraindo dados de: {ep}\")\n",
        "    get_all_data(ep)\n",
        "\n",
        "# IDs para relacionamento\n",
        "ids = [1009610, 1009726, 1009718, 1009368, 1009220, 1009165, 1009664, 1009351, 1009299, 1009262]\n",
        "df_rels = get_relationships(\"characters\", ids, relationships=[\"comics\", \"series\", \"events\", \"stories\"])\n",
        "print(\"\\nRelacionamentos extraídos com sucesso!\")"
      ],
      "metadata": {
        "id": "4H2BD4KVnPwK",
        "colab": {
          "base_uri": "https://localhost:8080/"
        },
        "outputId": "1b1d8863-2525-497d-e97e-8095e076e100"
      },
      "execution_count": 15,
      "outputs": [
        {
          "output_type": "stream",
          "name": "stdout",
          "text": [
            "\n",
            "Extraindo dados de: characters\n"
          ]
        },
        {
          "output_type": "stream",
          "name": "stderr",
          "text": [
            "Baixando dados: 100%|██████████| 15/15 [00:33<00:00,  2.24s/it]\n"
          ]
        },
        {
          "output_type": "stream",
          "name": "stdout",
          "text": [
            "\n",
            "Extraindo dados de: comics\n"
          ]
        },
        {
          "output_type": "stream",
          "name": "stderr",
          "text": [
            "Baixando dados: 100%|██████████| 643/643 [37:12<00:00,  3.47s/it]\n"
          ]
        },
        {
          "output_type": "stream",
          "name": "stdout",
          "text": [
            "\n",
            "Extraindo dados de: events\n",
            "Erro 500: {}\n",
            "Erro ao obter dados iniciais.\n"
          ]
        },
        {
          "output_type": "stream",
          "name": "stderr",
          "text": [
            "Buscando relacionamentos: 100%|██████████| 10/10 [00:32<00:00,  3.25s/it]"
          ]
        },
        {
          "output_type": "stream",
          "name": "stdout",
          "text": [
            "\n",
            "Relacionamentos extraídos com sucesso!\n"
          ]
        },
        {
          "output_type": "stream",
          "name": "stderr",
          "text": [
            "\n"
          ]
        }
      ]
    }
  ]
}