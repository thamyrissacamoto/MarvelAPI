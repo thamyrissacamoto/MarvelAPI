{
  "nbformat": 4,
  "nbformat_minor": 0,
  "metadata": {
    "colab": {
      "provenance": [],
      "authorship_tag": "ABX9TyOucqYtRTnCQSyNLUwx02PD",
      "include_colab_link": true
    },
    "kernelspec": {
      "name": "python3",
      "display_name": "Python 3"
    },
    "language_info": {
      "name": "python"
    }
  },
  "cells": [
    {
      "cell_type": "markdown",
      "metadata": {
        "id": "view-in-github",
        "colab_type": "text"
      },
      "source": [
        "<a href=\"https://colab.research.google.com/github/thamyrissacamoto/MarvelAPI/blob/Thamyris%2FconsumindoAPI/client.ipynb\" target=\"_parent\"><img src=\"https://colab.research.google.com/assets/colab-badge.svg\" alt=\"Open In Colab\"/></a>"
      ]
    },
    {
      "cell_type": "code",
      "execution_count": null,
      "metadata": {
        "colab": {
          "base_uri": "https://localhost:8080/"
        },
        "id": "OYk4vs2G2Xop",
        "outputId": "ce1c6218-2940-4b64-b946-da1caf8dd695"
      },
      "outputs": [
        {
          "output_type": "stream",
          "name": "stdout",
          "text": [
            "418\n",
            "{'code': 'ImATeapotError', 'message': 'I am a teapot: Error: Server not available'}\n"
          ]
        }
      ],
      "source": [
        "import hashlib\n",
        "import time\n",
        "import requests\n",
        "from dotenv import load_dotenv\n",
        "import os\n",
        "\n",
        "load_dotenv()\n",
        "\n",
        "public_key = os.getenv(\"PUBLIC_KEY\")\n",
        "private_key = os.getenv(\"PRIVATE_KEY\")\n",
        "\n",
        "ts = str(time.time())\n",
        "to_hash = ts + private_key + public_key\n",
        "hash_result = hashlib.md5(to_hash.encode()).hexdigest()\n",
        "\n",
        "url = \"https://gateway.marvel.com/v1/public/characters\"\n",
        "\n",
        "params = {\n",
        "    \"ts\": ts,\n",
        "    \"apikey\": public_key,\n",
        "    \"hash\": hash_result,\n",
        "    \"limit\": 5\n",
        "}\n",
        "\n",
        "response = requests.get(url, params=params)\n",
        "\n",
        "print(response.status_code)\n",
        "print(response.json())"
      ]
    }
  ]
}