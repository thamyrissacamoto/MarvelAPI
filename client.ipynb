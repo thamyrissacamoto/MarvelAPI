{
  "nbformat": 4,
  "nbformat_minor": 0,
  "metadata": {
    "colab": {
      "provenance": [],
      "authorship_tag": "ABX9TyO67U3YIt+XYQ/Yah35dn/r",
      "include_colab_link": true
    },
    "kernelspec": {
      "name": "python3",
      "display_name": "Python 3"
    },
    "language_info": {
      "name": "python"
    }
  },
  "cells": [
    {
      "cell_type": "markdown",
      "metadata": {
        "id": "view-in-github",
        "colab_type": "text"
      },
      "source": [
        "<a href=\"https://colab.research.google.com/github/thamyrissacamoto/MarvelAPI/blob/Thamyris%2FconsumindoAPI/client.ipynb\" target=\"_parent\"><img src=\"https://colab.research.google.com/assets/colab-badge.svg\" alt=\"Open In Colab\"/></a>"
      ]
    },
    {
      "cell_type": "code",
      "execution_count": null,
      "metadata": {
        "id": "OYk4vs2G2Xop"
      },
      "outputs": [],
      "source": [
        "import hashlib\n",
        "import time\n",
        "import requests\n",
        "from google.colab import userdata\n",
        "import pandas as pd\n",
        "from tqdm import tqdm\n"
      ]
    },
    {
      "cell_type": "code",
      "source": [
        "BASE_URL = \"https://gateway.marvel.com/v1/public/\"\n",
        "PUBLIC_KEY = userdata.get('public_key')\n",
        "PRIVATE_KEY = userdata.get('private_key')\n",
        "\n",
        "def get_auth():\n",
        "    ts = str(time.time())\n",
        "    to_hash = ts + PRIVATE_KEY + PUBLIC_KEY\n",
        "    hash_result = hashlib.md5(to_hash.encode()).hexdigest()\n",
        "    return {\n",
        "        \"ts\": ts,\n",
        "        \"apikey\": PUBLIC_KEY,\n",
        "        \"hash\": hash_result\n",
        "    }\n"
      ],
      "metadata": {
        "id": "Pe7ouZtj8wRq"
      },
      "execution_count": null,
      "outputs": []
    },
    {
      "cell_type": "code",
      "source": [
        "etag_cache = {}\n",
        "\n",
        "def marvel_request(endpoint, params_extra={}):\n",
        "    url = BASE_URL + endpoint\n",
        "    auth_params = get_auth()\n",
        "    params = auth_params.copy()\n",
        "    params.update(params_extra)\n",
        "\n",
        "    cache_key = f\"{endpoint}_{params_extra}\"\n",
        "\n",
        "    headers = {}\n",
        "    if cache_key in etag_cache:\n",
        "        headers[\"If-None-Match\"] = etag_cache[cache_key][\"etag\"]\n",
        "\n",
        "    response = requests.get(url, params=params, headers=headers)\n",
        "\n",
        "    if response.status_code == 304:\n",
        "      print(response.status_code)\n",
        "      return etag_cache[cache_key][\"data\"]\n",
        "    elif response.status_code == 200:\n",
        "      print(response.status_code)\n",
        "      etag = response.headers.get(\"etag\")\n",
        "      data = response.json()\n",
        "      etag_cache[cache_key] = {\"etag\": etag, \"data\": data}\n",
        "      return data\n",
        "    else:\n",
        "      print(f\"{response.status_code}: {response.text}\")\n"
      ],
      "metadata": {
        "id": "8N184LoD8-Jy"
      },
      "execution_count": null,
      "outputs": []
    },
    {
      "cell_type": "code",
      "source": [
        "data = marvel_request(\"characters\", {\"limit\": 5, \"offset\": 0})\n",
        "\n",
        "df = pd.DataFrame(data)\n",
        "df_normalizado = pd.json_normalize(df[\"data\"][\"results\"])\n",
        "df_normalizado.head()"
      ],
      "metadata": {
        "id": "mxb0Df_p6y2Y"
      },
      "execution_count": null,
      "outputs": []
    },
    {
      "cell_type": "code",
      "source": [
        "def get_all_data(endpoint, columns={}):\n",
        "    \"\"\"\n",
        "    Recupera todos os dados de um endpoint da Marvel API usando paginação.\n",
        "    Retorna um DataFrame com os resultados combinados.\n",
        "    \"\"\"\n",
        "\n",
        "    first_response = marvel_request(endpoint, {\"limit\": 100, \"offset\": 0})\n",
        "    if not first_response:\n",
        "        print(\"Erro ao obter dados iniciais.\")\n",
        "        return None\n",
        "\n",
        "    total = first_response[\"data\"][\"total\"]\n",
        "    all_results = first_response[\"data\"][\"results\"]\n",
        "\n",
        "    for offset in tqdm(range(100, total, 100), desc=f\"Baixando dados de {endpoint}\"):\n",
        "        response = marvel_request(endpoint, {\"limit\": 100, \"offset\": offset})\n",
        "        if response:\n",
        "            all_results.extend(response[\"data\"][\"results\"])\n",
        "\n",
        "    df = pd.json_normalize(all_results)\n",
        "    return df"
      ],
      "metadata": {
        "id": "kifvvK_rriab"
      },
      "execution_count": null,
      "outputs": []
    },
    {
      "cell_type": "code",
      "source": [
        "endpoints = [\"characters\", \"comics\", \"creators\", \"events\", \"series\", \"stories\"]\n",
        "\n",
        "for endpoint in endpoints:\n",
        "    print(f\"\\nProcessando dados de: {endpoint}\")\n",
        "    df = get_all_data(endpoint)\n",
        "    df.to_csv(f\"{endpoint}_raw.csv\", index=False)\n"
      ],
      "metadata": {
        "id": "4H2BD4KVnPwK"
      },
      "execution_count": null,
      "outputs": []
    }
  ]
}