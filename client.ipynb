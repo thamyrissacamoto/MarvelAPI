{
  "nbformat": 4,
  "nbformat_minor": 0,
  "metadata": {
    "colab": {
      "provenance": [],
      "authorship_tag": "ABX9TyMmoso0Xhei9Kg9TioHpXd9",
      "include_colab_link": true
    },
    "kernelspec": {
      "name": "python3",
      "display_name": "Python 3"
    },
    "language_info": {
      "name": "python"
    }
  },
  "cells": [
    {
      "cell_type": "markdown",
      "metadata": {
        "id": "view-in-github",
        "colab_type": "text"
      },
      "source": [
        "<a href=\"https://colab.research.google.com/github/thamyrissacamoto/MarvelAPI/blob/Thamyris%2FconsumindoAPI/client.ipynb\" target=\"_parent\"><img src=\"https://colab.research.google.com/assets/colab-badge.svg\" alt=\"Open In Colab\"/></a>"
      ]
    },
    {
      "cell_type": "code",
      "execution_count": null,
      "metadata": {
        "id": "OYk4vs2G2Xop"
      },
      "outputs": [],
      "source": [
        "import hashlib\n",
        "import time\n",
        "import requests\n",
        "from google.colab import userdata\n",
        "import pandas as pd\n",
        "from tqdm import tqdm"
      ]
    },
    {
      "cell_type": "code",
      "source": [
        "BASE_URL = \"https://gateway.marvel.com/v1/public/\"\n",
        "PUBLIC_KEY = userdata.get('public_key')\n",
        "PRIVATE_KEY = userdata.get('private_key')\n",
        "\n",
        "def get_auth():\n",
        "    # Gera o hash md5 de autenticação\n",
        "\n",
        "    ts = str(time.time())\n",
        "    to_hash = ts + PRIVATE_KEY + PUBLIC_KEY\n",
        "    hash_result = hashlib.md5(to_hash.encode()).hexdigest()\n",
        "    return {\n",
        "        \"ts\": ts,\n",
        "        \"apikey\": PUBLIC_KEY,\n",
        "        \"hash\": hash_result\n",
        "    }\n"
      ],
      "metadata": {
        "id": "Pe7ouZtj8wRq"
      },
      "execution_count": null,
      "outputs": []
    },
    {
      "cell_type": "code",
      "source": [
        "etag_cache = {}\n",
        "\n",
        "def marvel_request(endpoint, params_extra={}):\n",
        "    # Faz uma requisição GET com cache ETag\n",
        "\n",
        "    url = BASE_URL + endpoint\n",
        "    auth_params = get_auth()\n",
        "    params = auth_params.copy()\n",
        "    params.update(params_extra)\n",
        "\n",
        "    cache_key = f\"{endpoint}_{params_extra}\"\n",
        "    headers = {}\n",
        "    if cache_key in etag_cache:\n",
        "        headers[\"If-None-Match\"] = etag_cache[cache_key][\"etag\"]\n",
        "\n",
        "    response = requests.get(url, params=params, headers=headers)\n",
        "\n",
        "    if response.status_code == 304: # Evita refazer uma requisição\n",
        "        return etag_cache[cache_key][\"data\"]\n",
        "    elif response.status_code == 200:\n",
        "        etag = response.headers.get(\"etag\")\n",
        "        data = response.json()\n",
        "        etag_cache[cache_key] = {\"etag\": etag, \"data\": data}\n",
        "        return data\n",
        "    else:\n",
        "        print(f\"Erro {response.status_code}: {response.text}\")\n",
        "        return None"
      ],
      "metadata": {
        "id": "8N184LoD8-Jy"
      },
      "execution_count": null,
      "outputs": []
    },
    {
      "cell_type": "code",
      "source": [
        "def get_all_data(endpoint, relationships=[]):\n",
        "    # Extrai dados do endpoint principal e relacionamentos\n",
        "\n",
        "    first_response = marvel_request(endpoint, {\"limit\": 100, \"offset\": 0})\n",
        "    if not first_response:\n",
        "        print(\"Erro ao obter dados iniciais.\")\n",
        "        return None\n",
        "\n",
        "    total = first_response[\"data\"][\"total\"]\n",
        "    all_results = first_response[\"data\"][\"results\"]\n",
        "\n",
        "    # Extrai todos os dados do endpoint principal\n",
        "    for offset in tqdm(range(100, total, 100), desc=f\"Baixando dados\"):\n",
        "        response = marvel_request(endpoint, {\"limit\": 100, \"offset\": offset})\n",
        "        if response:\n",
        "            all_results.extend(response[\"data\"][\"results\"])\n",
        "        time.sleep(0.3)\n",
        "\n",
        "    # Busca relacionamentos para todos os IDs\n",
        "    for item in tqdm(all_results, desc=\"Adicionando relacionamentos\"):\n",
        "        item_id = item[\"id\"]\n",
        "        for rel in relationships:\n",
        "            rel_url = f\"{endpoint}/{item_id}/{rel}\"\n",
        "            rel_response = marvel_request(rel_url)\n",
        "            if rel_response:\n",
        "                rel_ids = [r[\"id\"] for r in rel_response[\"data\"][\"results\"]]\n",
        "                item[f\"{rel}_ids\"] = rel_ids\n",
        "            else:\n",
        "                item[f\"{rel}_ids\"] = []\n",
        "            time.sleep(0.2)\n",
        "\n",
        "    # Normaliza e salva em CSV\n",
        "    df = pd.json_normalize(all_results)\n",
        "    df.to_csv(f\"{endpoint}.csv\", index=False)\n",
        "    return df"
      ],
      "metadata": {
        "id": "kifvvK_rriab"
      },
      "execution_count": null,
      "outputs": []
    },
    {
      "cell_type": "code",
      "source": [
        "# Endpoints e relacionamentos\n",
        "endpoint_relationships = {\n",
        "    \"characters\": [\"comics\", \"events\", \"series\", \"stories\"],\n",
        "    \"comics\": [\"creators\"],\n",
        "    \"events\": []\n",
        "}\n",
        "\n",
        "# Extrai cada endpoint\n",
        "for endpoint, rels in endpoint_relationships.items():\n",
        "    print(f\"\\nExtraindo dados de: {endpoint}\")\n",
        "    get_all_data(endpoint, relationships=rels)\n"
      ],
      "metadata": {
        "id": "4H2BD4KVnPwK"
      },
      "execution_count": null,
      "outputs": []
    }
  ]
}