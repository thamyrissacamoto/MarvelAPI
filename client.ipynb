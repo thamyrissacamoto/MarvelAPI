{
  "nbformat": 4,
  "nbformat_minor": 0,
  "metadata": {
    "colab": {
      "provenance": [],
      "authorship_tag": "ABX9TyMn29g8Ge1H56yuVPFkseda",
      "include_colab_link": true
    },
    "kernelspec": {
      "name": "python3",
      "display_name": "Python 3"
    },
    "language_info": {
      "name": "python"
    }
  },
  "cells": [
    {
      "cell_type": "markdown",
      "metadata": {
        "id": "view-in-github",
        "colab_type": "text"
      },
      "source": [
        "<a href=\"https://colab.research.google.com/github/thamyrissacamoto/MarvelAPI/blob/Thamyris%2FconsumindoAPI/client.ipynb\" target=\"_parent\"><img src=\"https://colab.research.google.com/assets/colab-badge.svg\" alt=\"Open In Colab\"/></a>"
      ]
    },
    {
      "cell_type": "code",
      "source": [
        "!pip install dotenv"
      ],
      "metadata": {
        "id": "ODkbIHAdo1BY",
        "colab": {
          "base_uri": "https://localhost:8080/"
        },
        "outputId": "04caae67-fe23-4c18-ce24-5e4781f9e0de"
      },
      "execution_count": 1,
      "outputs": [
        {
          "output_type": "stream",
          "name": "stdout",
          "text": [
            "Collecting dotenv\n",
            "  Downloading dotenv-0.9.9-py2.py3-none-any.whl.metadata (279 bytes)\n",
            "Collecting python-dotenv (from dotenv)\n",
            "  Downloading python_dotenv-1.1.0-py3-none-any.whl.metadata (24 kB)\n",
            "Downloading dotenv-0.9.9-py2.py3-none-any.whl (1.9 kB)\n",
            "Downloading python_dotenv-1.1.0-py3-none-any.whl (20 kB)\n",
            "Installing collected packages: python-dotenv, dotenv\n",
            "Successfully installed dotenv-0.9.9 python-dotenv-1.1.0\n"
          ]
        }
      ]
    },
    {
      "cell_type": "code",
      "execution_count": 2,
      "metadata": {
        "id": "OYk4vs2G2Xop"
      },
      "outputs": [],
      "source": [
        "import hashlib\n",
        "import time\n",
        "import requests\n",
        "from google.colab import userdata\n",
        "import pandas as pd\n",
        "from tqdm import tqdm\n",
        "import os\n",
        "from dotenv import load_dotenv"
      ]
    },
    {
      "cell_type": "code",
      "source": [
        "BASE_URL = \"https://gateway.marvel.com/v1/public/\"\n",
        "\n",
        "# load_dotenv()\n",
        "# PUBLIC_KEY = os.getenv(\"public_key\")\n",
        "# PRIVATE_KEY = os.getenv(\"private_key\")\n",
        "\n",
        "PUBLIC_KEY = userdata.get('public_key')\n",
        "PRIVATE_KEY = userdata.get('private_key')\n",
        "\n",
        "def get_auth():\n",
        "    \"\"\"\n",
        "    Gera os parâmetros de autenticação.\n",
        "\n",
        "    Retorna:\n",
        "        dict: Um dicionário contendo os campos 'ts', 'apikey' e 'hash'.\n",
        "    \"\"\"\n",
        "    ts = str(time.time())\n",
        "    to_hash = ts + PRIVATE_KEY + PUBLIC_KEY\n",
        "    hash_result = hashlib.md5(to_hash.encode()).hexdigest()\n",
        "    return {\n",
        "        \"ts\": ts,\n",
        "        \"apikey\": PUBLIC_KEY,\n",
        "        \"hash\": hash_result\n",
        "    }\n"
      ],
      "metadata": {
        "id": "Pe7ouZtj8wRq"
      },
      "execution_count": 3,
      "outputs": []
    },
    {
      "cell_type": "code",
      "source": [
        "etag_cache = {}"
      ],
      "metadata": {
        "id": "WoVF18a-XgcO"
      },
      "execution_count": 4,
      "outputs": []
    },
    {
      "cell_type": "code",
      "source": [
        "def marvel_request(endpoint, params_extra={}):\n",
        "    \"\"\"\n",
        "    Faz uma requisição com suporte a ETag.\n",
        "\n",
        "    Parâmetros:\n",
        "        endpoint (str): Caminho para requisição.\n",
        "        params_extra (dict): Parâmetros adicionais da requisição.\n",
        "\n",
        "    Retorna:\n",
        "        dict: Dados retornados pela API ou None em caso de erro.\n",
        "    \"\"\"\n",
        "    url = BASE_URL + endpoint\n",
        "    auth_params = get_auth()\n",
        "    params = auth_params.copy()\n",
        "    params.update(params_extra)\n",
        "\n",
        "    param_tuple = tuple(sorted(params_extra.items()))\n",
        "    cache_key = f\"{endpoint}_{tuple(sorted(params_extra.items()))}\"\n",
        "\n",
        "    headers = {}\n",
        "\n",
        "    if cache_key in etag_cache:\n",
        "        headers[\"If-None-Match\"] = etag_cache[cache_key][\"etag\"]\n",
        "\n",
        "    try:\n",
        "        response = requests.get(url, params=params, headers=headers, timeout=10)\n",
        "\n",
        "        if response.status_code == 304:\n",
        "            print(f\"Dados não modificados (304)\")\n",
        "            return etag_cache[cache_key][\"data\"]\n",
        "\n",
        "        elif response.status_code == 200:\n",
        "            etag = response.headers.get(\"etag\")\n",
        "            data = response.json()\n",
        "\n",
        "            etag_cache[cache_key] = {\n",
        "                \"etag\": etag,\n",
        "                \"data\": data\n",
        "            }\n",
        "            return data\n",
        "\n",
        "        else:\n",
        "            print(f\"{response.status_code} - {response.text}\")\n",
        "            return None\n",
        "\n",
        "    except requests.exceptions.Timeout:\n",
        "        print(f\"Requisição excedeu o tempo limite: {url}\")\n",
        "        return None\n",
        "\n",
        "    except requests.exceptions.RequestException as e:\n",
        "        print(f\"Erro ao acessar {url}: {e}\")\n",
        "        return None"
      ],
      "metadata": {
        "id": "8N184LoD8-Jy"
      },
      "execution_count": 6,
      "outputs": []
    },
    {
      "cell_type": "code",
      "source": [
        "def get_all_data(endpoint):\n",
        "    \"\"\"\n",
        "    Extrai todos os dados de um endpoint da API e salva em um arquivo CSV.\n",
        "\n",
        "    Parâmetros:\n",
        "        endpoint (str): Caminho para requisição.\n",
        "\n",
        "    Retorna:\n",
        "        pd.DataFrame: DataFrame com todos os resultados extraídos.\n",
        "    \"\"\"\n",
        "    first_response = marvel_request(endpoint, {\"limit\": 100, \"offset\": 0})\n",
        "    if not first_response:\n",
        "        print(\"Erro ao obter dados iniciais\")\n",
        "        return None\n",
        "\n",
        "    total = first_response[\"data\"][\"total\"]\n",
        "    all_results = first_response[\"data\"][\"results\"]\n",
        "\n",
        "    for offset in tqdm(range(100, total, 100), desc=f\"Extraindo dados\"):\n",
        "      params = {\"limit\": 100, \"offset\": offset}\n",
        "      cache_key = f\"{endpoint}_{tuple(sorted(params.items()))}\"\n",
        "\n",
        "      if cache_key in etag_cache:\n",
        "        all_results.extend(etag_cache[cache_key][\"data\"][\"data\"][\"results\"])\n",
        "        continue\n",
        "\n",
        "      response = marvel_request(endpoint, params)\n",
        "      if response:\n",
        "        all_results.extend(response[\"data\"][\"results\"])\n",
        "\n",
        "      time.sleep(0.3)\n",
        "\n",
        "    df = pd.json_normalize(all_results)\n",
        "    df.to_csv(f\"{endpoint}.csv\", index=False)\n",
        "    return df"
      ],
      "metadata": {
        "id": "kifvvK_rriab"
      },
      "execution_count": 7,
      "outputs": []
    },
    {
      "cell_type": "code",
      "source": [
        "def get_relationships(endpoint, ids, relationships):\n",
        "    \"\"\"\n",
        "    Para cada ID do endpoint, busca os relacionamentos definidos,\n",
        "    usando ETag e salva em CSV.\n",
        "\n",
        "    Parâmetros:\n",
        "        endpoint (str): Caminho para requisição.\n",
        "        ids (list): Lista de IDs a serem pesquisados.\n",
        "        relationships (list): Lista de relacionamentos.\n",
        "\n",
        "    Retorna:\n",
        "        pd.DataFrame: DataFrame com IDs e os relacionamentos relacionados.\n",
        "    \"\"\"\n",
        "    results = []\n",
        "\n",
        "    for item_id in tqdm(ids, desc=f\"Buscando relacionamentos de {endpoint}\"):\n",
        "        item_data = {\"id\": item_id}\n",
        "\n",
        "        for rel in relationships:\n",
        "            rel_url = f\"{endpoint}/{item_id}/{rel}\"\n",
        "            all_rel_ids = []\n",
        "            offset = 0\n",
        "            limit = 100\n",
        "\n",
        "            while True:\n",
        "                params = {\"limit\": limit, \"offset\": offset}\n",
        "                cache_key = f\"{rel_url}_{tuple(sorted(params.items()))}\"\n",
        "\n",
        "                if cache_key in etag_cache:\n",
        "                    rel_response = etag_cache[cache_key][\"data\"]\n",
        "                else:\n",
        "                    try:\n",
        "                        rel_response = marvel_request(rel_url, params)\n",
        "                        time.sleep(0.2)\n",
        "                    except Exception as e:\n",
        "                        print(f\"Erro ao buscar {rel_url}: {e}\")\n",
        "                        break\n",
        "\n",
        "                if not rel_response or \"data\" not in rel_response:\n",
        "                    break\n",
        "\n",
        "                results_page = rel_response[\"data\"].get(\"results\", [])\n",
        "                total = rel_response[\"data\"].get(\"total\", 0)\n",
        "\n",
        "                all_rel_ids.extend([r[\"id\"] for r in results_page])\n",
        "                offset += limit\n",
        "\n",
        "                if offset >= total or not results_page:\n",
        "                    break\n",
        "\n",
        "            item_data[f\"{rel}_ids\"] = all_rel_ids\n",
        "\n",
        "        results.append(item_data)\n",
        "\n",
        "    df = pd.DataFrame(results)\n",
        "    df.to_csv(f\"{endpoint}_ids_relationships.csv\", index=False)\n",
        "    return df\n"
      ],
      "metadata": {
        "id": "tmBXiveNw__l"
      },
      "execution_count": 8,
      "outputs": []
    },
    {
      "cell_type": "code",
      "source": [
        "endpoints = [\"characters\"]\n",
        "\n",
        "for ep in endpoints:\n",
        "    print(f\"\\nExtraindo dados de: {ep}\")\n",
        "    get_all_data(ep)\n",
        "\n",
        "ids = [1009610, 1009726, 1009718, 1009368, 1009220, 1009165, 1009664, 1009351, 1009299, 1009262]\n",
        "df_rels = get_relationships(\"characters\", ids, relationships=[ \"series\"])\n"
      ],
      "metadata": {
        "id": "4H2BD4KVnPwK",
        "colab": {
          "base_uri": "https://localhost:8080/"
        },
        "outputId": "887cf612-dc66-4fc6-9c85-b2c632f4344f"
      },
      "execution_count": 10,
      "outputs": [
        {
          "output_type": "stream",
          "name": "stdout",
          "text": [
            "\n",
            "Extraindo dados de: characters\n",
            "Dados não modificados (304)\n"
          ]
        },
        {
          "output_type": "stream",
          "name": "stderr",
          "text": [
            "Extraindo dados: 100%|██████████| 15/15 [00:00<00:00, 14891.02it/s]\n",
            "Buscando relacionamentos de characters: 100%|██████████| 10/10 [00:00<00:00, 1705.90it/s]\n"
          ]
        }
      ]
    },
    {
      "cell_type": "code",
      "source": [],
      "metadata": {
        "id": "kSMRcouLISWH"
      },
      "execution_count": null,
      "outputs": []
    }
  ]
}